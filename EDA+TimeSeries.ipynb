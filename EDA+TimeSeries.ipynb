{
  "cells": [
    {
      "cell_type": "markdown",
      "metadata": {
        "id": "oF8sXghMx9WP"
      },
      "source": [
        "### Importing Libraries."
      ]
    },
    {
      "cell_type": "code",
      "execution_count": 1,
      "metadata": {
        "colab": {
          "base_uri": "https://localhost:8080/"
        },
        "id": "EdWhw7ZFRzpr",
        "outputId": "3b30acb8-4c38-4f98-e9f3-21666193f939"
      },
      "outputs": [
        {
          "name": "stdout",
          "output_type": "stream",
          "text": [
            "Requirement already satisfied: spotipy in /Users/smcck/miniforge3/envs/tf_m1/lib/python3.8/site-packages (2.19.0)\n",
            "Requirement already satisfied: six>=1.15.0 in /Users/smcck/miniforge3/envs/tf_m1/lib/python3.8/site-packages (from spotipy) (1.16.0)\n",
            "Requirement already satisfied: urllib3>=1.26.0 in /Users/smcck/miniforge3/envs/tf_m1/lib/python3.8/site-packages (from spotipy) (1.26.7)\n",
            "Requirement already satisfied: requests>=2.25.0 in /Users/smcck/miniforge3/envs/tf_m1/lib/python3.8/site-packages (from spotipy) (2.26.0)\n",
            "Requirement already satisfied: idna<4,>=2.5; python_version >= \"3\" in /Users/smcck/miniforge3/envs/tf_m1/lib/python3.8/site-packages (from requests>=2.25.0->spotipy) (3.1)\n",
            "Requirement already satisfied: charset-normalizer~=2.0.0; python_version >= \"3\" in /Users/smcck/miniforge3/envs/tf_m1/lib/python3.8/site-packages (from requests>=2.25.0->spotipy) (2.0.0)\n",
            "Requirement already satisfied: certifi>=2017.4.17 in /Users/smcck/miniforge3/envs/tf_m1/lib/python3.8/site-packages (from requests>=2.25.0->spotipy) (2021.5.30)\n"
          ]
        }
      ],
      "source": [
        "!pip3 install spotipy\n",
        "import pandas as pd\n",
        "import json\n",
        "import spotipy\n",
        "import pandas as pd\n",
        "from spotipy.oauth2 import SpotifyClientCredentials\n",
        "import matplotlib.pyplot as plt"
      ]
    },
    {
      "cell_type": "markdown",
      "metadata": {
        "id": "9Lk6yX6nx9WR"
      },
      "source": [
        "### Checking charts.csv for max unique songs and entries in dataset."
      ]
    },
    {
      "cell_type": "code",
      "execution_count": null,
      "metadata": {
        "id": "YHzJzKQxx9WR"
      },
      "outputs": [],
      "source": [
        "full_df = pd.read_csv(\"/content/drive/MyDrive/ML-Project/data/charts.csv\")\n",
        "#full_df = pd.read_csv(\"/content/drive/MyDrive/ML-Project/top200_9countries_plain.csv\")"
      ]
    },
    {
      "cell_type": "code",
      "execution_count": null,
      "metadata": {
        "colab": {
          "base_uri": "https://localhost:8080/"
        },
        "id": "S-IwCd2ex9WR",
        "outputId": "abb75980-eb5b-45f0-ff1f-95991a5a41d4"
      },
      "outputs": [
        {
          "name": "stdout",
          "output_type": "stream",
          "text": [
            "Unique Songs:  161080\n"
          ]
        }
      ],
      "source": [
        "print(\"Unique Songs: \", len(list(full_df['title'].unique())))"
      ]
    },
    {
      "cell_type": "code",
      "execution_count": null,
      "metadata": {
        "id": "FP82pVLPx9WS",
        "outputId": "fdcbb0f0-774b-4a28-e3ed-7808deeb9ace"
      },
      "outputs": [
        {
          "data": {
            "text/plain": [
              "Index(['title', 'rank', 'date', 'artist', 'url', 'region', 'chart', 'trend',\n",
              "       'streams'],\n",
              "      dtype='object')"
            ]
          },
          "execution_count": 58,
          "metadata": {},
          "output_type": "execute_result"
        }
      ],
      "source": [
        "full_df.columns"
      ]
    },
    {
      "cell_type": "code",
      "execution_count": null,
      "metadata": {
        "id": "43l0jS0Ax9WS",
        "outputId": "b2a080a3-9de9-4eda-b6ab-8adfa8af03af"
      },
      "outputs": [
        {
          "data": {
            "text/html": [
              "<div>\n",
              "<style scoped>\n",
              "    .dataframe tbody tr th:only-of-type {\n",
              "        vertical-align: middle;\n",
              "    }\n",
              "\n",
              "    .dataframe tbody tr th {\n",
              "        vertical-align: top;\n",
              "    }\n",
              "\n",
              "    .dataframe thead th {\n",
              "        text-align: right;\n",
              "    }\n",
              "</style>\n",
              "<table border=\"1\" class=\"dataframe\">\n",
              "  <thead>\n",
              "    <tr style=\"text-align: right;\">\n",
              "      <th></th>\n",
              "      <th>title</th>\n",
              "      <th>rank</th>\n",
              "      <th>date</th>\n",
              "      <th>artist</th>\n",
              "      <th>url</th>\n",
              "      <th>region</th>\n",
              "      <th>chart</th>\n",
              "      <th>trend</th>\n",
              "      <th>streams</th>\n",
              "    </tr>\n",
              "  </thead>\n",
              "  <tbody>\n",
              "    <tr>\n",
              "      <th>0</th>\n",
              "      <td>Despacito (Featuring Daddy Yankee)</td>\n",
              "      <td>1</td>\n",
              "      <td>2017-03-01</td>\n",
              "      <td>Luis Fonsi</td>\n",
              "      <td>https://open.spotify.com/track/4aWmUDTfIPGksMN...</td>\n",
              "      <td>Argentina</td>\n",
              "      <td>top200</td>\n",
              "      <td>SAME_POSITION</td>\n",
              "      <td>365941.0</td>\n",
              "    </tr>\n",
              "    <tr>\n",
              "      <th>1</th>\n",
              "      <td>El Amante</td>\n",
              "      <td>2</td>\n",
              "      <td>2017-03-01</td>\n",
              "      <td>Nicky Jam</td>\n",
              "      <td>https://open.spotify.com/track/3umS4y3uQDkqekN...</td>\n",
              "      <td>Argentina</td>\n",
              "      <td>top200</td>\n",
              "      <td>SAME_POSITION</td>\n",
              "      <td>179697.0</td>\n",
              "    </tr>\n",
              "    <tr>\n",
              "      <th>2</th>\n",
              "      <td>Reggaetón Lento (Bailemos)</td>\n",
              "      <td>3</td>\n",
              "      <td>2017-03-01</td>\n",
              "      <td>CNCO</td>\n",
              "      <td>https://open.spotify.com/track/3AEZUABDXNtecAO...</td>\n",
              "      <td>Argentina</td>\n",
              "      <td>top200</td>\n",
              "      <td>SAME_POSITION</td>\n",
              "      <td>169647.0</td>\n",
              "    </tr>\n",
              "    <tr>\n",
              "      <th>3</th>\n",
              "      <td>Shape of You</td>\n",
              "      <td>4</td>\n",
              "      <td>2017-03-01</td>\n",
              "      <td>Ed Sheeran</td>\n",
              "      <td>https://open.spotify.com/track/7qiZfU4dY1lWllz...</td>\n",
              "      <td>Argentina</td>\n",
              "      <td>top200</td>\n",
              "      <td>SAME_POSITION</td>\n",
              "      <td>168495.0</td>\n",
              "    </tr>\n",
              "    <tr>\n",
              "      <th>4</th>\n",
              "      <td>Chantaje (feat. Maluma)</td>\n",
              "      <td>5</td>\n",
              "      <td>2017-03-01</td>\n",
              "      <td>Shakira</td>\n",
              "      <td>https://open.spotify.com/track/6mICuAdrwEjh6Y6...</td>\n",
              "      <td>Argentina</td>\n",
              "      <td>top200</td>\n",
              "      <td>SAME_POSITION</td>\n",
              "      <td>141696.0</td>\n",
              "    </tr>\n",
              "  </tbody>\n",
              "</table>\n",
              "</div>"
            ],
            "text/plain": [
              "                                title  rank        date      artist  \\\n",
              "0  Despacito (Featuring Daddy Yankee)     1  2017-03-01  Luis Fonsi   \n",
              "1                           El Amante     2  2017-03-01   Nicky Jam   \n",
              "2          Reggaetón Lento (Bailemos)     3  2017-03-01        CNCO   \n",
              "3                        Shape of You     4  2017-03-01  Ed Sheeran   \n",
              "4             Chantaje (feat. Maluma)     5  2017-03-01     Shakira   \n",
              "\n",
              "                                                 url     region   chart  \\\n",
              "0  https://open.spotify.com/track/4aWmUDTfIPGksMN...  Argentina  top200   \n",
              "1  https://open.spotify.com/track/3umS4y3uQDkqekN...  Argentina  top200   \n",
              "2  https://open.spotify.com/track/3AEZUABDXNtecAO...  Argentina  top200   \n",
              "3  https://open.spotify.com/track/7qiZfU4dY1lWllz...  Argentina  top200   \n",
              "4  https://open.spotify.com/track/6mICuAdrwEjh6Y6...  Argentina  top200   \n",
              "\n",
              "           trend   streams  \n",
              "0  SAME_POSITION  365941.0  \n",
              "1  SAME_POSITION  179697.0  \n",
              "2  SAME_POSITION  169647.0  \n",
              "3  SAME_POSITION  168495.0  \n",
              "4  SAME_POSITION  141696.0  "
            ]
          },
          "execution_count": 59,
          "metadata": {},
          "output_type": "execute_result"
        }
      ],
      "source": [
        "full_df.head()"
      ]
    },
    {
      "cell_type": "code",
      "execution_count": null,
      "metadata": {
        "colab": {
          "base_uri": "https://localhost:8080/"
        },
        "id": "tUjHP4HHx9WS",
        "outputId": "4149172f-46e1-4214-e99e-deef5aba2192"
      },
      "outputs": [
        {
          "data": {
            "text/plain": [
              "array(['Canada', 'Belgium', 'Denmark', 'France', 'Ireland', 'Italy',\n",
              "       'Sweden', 'United Kingdom'], dtype=object)"
            ]
          },
          "execution_count": 18,
          "metadata": {},
          "output_type": "execute_result"
        }
      ],
      "source": [
        "full_df['region'].unique()"
      ]
    },
    {
      "cell_type": "code",
      "execution_count": null,
      "metadata": {
        "id": "JQnQ--PHx9WT"
      },
      "outputs": [],
      "source": [
        "#country_list = ['United States', 'Canada', 'Ireland', 'Germany', 'United Kingdom']\n",
        "country_list = list(full_df['region'].unique())\n",
        "unique_songs_count = [] \n",
        "total_entries_count = []\n",
        "\n",
        "for x in country_list:\n",
        "    #print(x)\n",
        "    total_entries = len(full_df[full_df['region'] == x])\n",
        "    #print(\"Region len: \", total_entries)\n",
        "    total_entries_count.append(total_entries)\n",
        "    unique_songs = len(full_df[full_df['region'] == x]['title'].unique())\n",
        "    unique_songs_count.append(unique_songs)\n",
        "    #print(\"Unique songs: \", unique_songs)"
      ]
    },
    {
      "cell_type": "code",
      "execution_count": null,
      "metadata": {
        "id": "7eZu8Crnx9WT"
      },
      "outputs": [],
      "source": [
        "country_entries = {'region' : country_list, 'unique_songs' : unique_songs_count, 'total_entries' : total_entries_count}\n",
        "df_dist = pd.DataFrame.from_dict(country_entries)"
      ]
    },
    {
      "cell_type": "code",
      "execution_count": null,
      "metadata": {
        "id": "QcqHY9nQx9WU"
      },
      "outputs": [],
      "source": [
        "top20_uniquesongs_regions = df_dist.sort_values(by = ['unique_songs'], ascending = False)\n",
        "top20_uniquesongs_regions = top20_uniquesongs_regions.head(20)"
      ]
    },
    {
      "cell_type": "code",
      "execution_count": null,
      "metadata": {
        "id": "orwrCW9Dx9WU"
      },
      "outputs": [],
      "source": [
        "top20_totalentries_regions = df_dist.sort_values(by = ['total_entries'], ascending = False)\n",
        "top20_totalentries_regions = top20_totalentries_regions.head(20)"
      ]
    },
    {
      "cell_type": "code",
      "execution_count": null,
      "metadata": {
        "id": "ANQjmqOhx9WU",
        "outputId": "371bb8d5-7b19-45cb-8ab6-e4d9c86d1883"
      },
      "outputs": [
        {
          "data": {
            "text/plain": [
              "10"
            ]
          },
          "execution_count": 21,
          "metadata": {},
          "output_type": "execute_result"
        }
      ],
      "source": [
        "len(list(set(list(top20_uniquesongs_regions['region'])).intersection(top20_totalentries_regions['region'])))"
      ]
    },
    {
      "cell_type": "code",
      "execution_count": null,
      "metadata": {
        "id": "tLgiPWr8x9WU"
      },
      "outputs": [],
      "source": [
        "chosen_countries = list(set(list(top20_uniquesongs_regions['region'])).intersection(top20_totalentries_regions['region']))"
      ]
    },
    {
      "cell_type": "markdown",
      "metadata": {
        "id": "1yXSsjW1x9WU"
      },
      "source": [
        "### Fetching TOP200 Data\n",
        "\n",
        "Filtered by the list of countries with the most entries & individual songs (diverse taste?)"
      ]
    },
    {
      "cell_type": "code",
      "execution_count": null,
      "metadata": {
        "id": "lmp9b1erR4_k"
      },
      "outputs": [],
      "source": [
        "top200 = full_df[full_df['chart'] == \"top200\"]"
      ]
    },
    {
      "cell_type": "code",
      "execution_count": null,
      "metadata": {
        "colab": {
          "base_uri": "https://localhost:8080/"
        },
        "id": "YX1kJfNrx9WV",
        "outputId": "2d2934b9-312f-41b0-fc56-53f30fc96362"
      },
      "outputs": [
        {
          "data": {
            "text/plain": [
              "title      7\n",
              "rank       0\n",
              "date       0\n",
              "artist     0\n",
              "url        0\n",
              "region     0\n",
              "chart      0\n",
              "trend      0\n",
              "streams    0\n",
              "dtype: int64"
            ]
          },
          "execution_count": 14,
          "metadata": {},
          "output_type": "execute_result"
        }
      ],
      "source": [
        "top200.isnull().sum()"
      ]
    },
    {
      "cell_type": "code",
      "execution_count": null,
      "metadata": {
        "id": "e6wy3FfCx9WV"
      },
      "outputs": [],
      "source": [
        "top200 = top200[top200['title'].notna()]"
      ]
    },
    {
      "cell_type": "code",
      "execution_count": null,
      "metadata": {
        "id": "SiddMk5Vx9WV",
        "outputId": "30e2df19-f271-42e1-a52e-ae9ecf451bf1"
      },
      "outputs": [
        {
          "data": {
            "text/plain": [
              "title      0\n",
              "rank       0\n",
              "date       0\n",
              "artist     0\n",
              "url        0\n",
              "region     0\n",
              "chart      0\n",
              "trend      0\n",
              "streams    0\n",
              "dtype: int64"
            ]
          },
          "execution_count": 6,
          "metadata": {},
          "output_type": "execute_result"
        }
      ],
      "source": [
        "top200.isnull().sum()"
      ]
    },
    {
      "cell_type": "code",
      "execution_count": null,
      "metadata": {
        "id": "imqcsGiKx9WV"
      },
      "outputs": [],
      "source": [
        "#country_list = ['United States', 'Canada', 'Ireland', 'Germany', 'United Kingdom']\n",
        "country_list = list(top200['region'].unique())\n",
        "unique_songs_count = [] \n",
        "total_entries_count = []\n",
        "\n",
        "for x in country_list:\n",
        "    #print(x)\n",
        "    total_entries = len(top200[top200['region'] == x])\n",
        "    #print(\"Region len: \", total_entries)\n",
        "    total_entries_count.append(total_entries)\n",
        "    unique_songs = len(top200[top200['region'] == x]['title'].unique())\n",
        "    unique_songs_count.append(unique_songs)\n",
        "    #print(\"Unique songs: \", unique_songs)"
      ]
    },
    {
      "cell_type": "code",
      "execution_count": null,
      "metadata": {
        "id": "T6QpR89px9WV"
      },
      "outputs": [],
      "source": [
        "country_entries = {'region' : country_list, 'unique_songs' : unique_songs_count, 'total_entries' : total_entries_count}\n",
        "df_dist = pd.DataFrame.from_dict(country_entries)"
      ]
    },
    {
      "cell_type": "code",
      "execution_count": null,
      "metadata": {
        "id": "PNb2Isypx9WW"
      },
      "outputs": [],
      "source": [
        "top20_uniquesongs_regions = df_dist.sort_values(by = ['unique_songs'], ascending = False)\n",
        "top20_uniquesongs_regions = top20_uniquesongs_regions.head(20)"
      ]
    },
    {
      "cell_type": "code",
      "execution_count": null,
      "metadata": {
        "id": "i2-DEN5lx9WW"
      },
      "outputs": [],
      "source": [
        "top20_totalentries_regions = df_dist.sort_values(by = ['total_entries'], ascending = False)\n",
        "top20_totalentries_regions = top20_totalentries_regions.head(20)"
      ]
    },
    {
      "cell_type": "code",
      "execution_count": null,
      "metadata": {
        "id": "wnQ394-Yx9WW"
      },
      "outputs": [],
      "source": [
        "chosen_countries = list(set(list(top20_uniquesongs_regions['region'])).intersection(top20_totalentries_regions['region']))"
      ]
    },
    {
      "cell_type": "code",
      "execution_count": null,
      "metadata": {
        "id": "XDR2jZuPx9WW",
        "outputId": "0eb3df1f-d8a3-4f7d-f9ac-24dd18439b61"
      },
      "outputs": [
        {
          "data": {
            "text/plain": [
              "['Canada',\n",
              " 'Sweden',\n",
              " 'United States',\n",
              " 'France',\n",
              " 'Ireland',\n",
              " 'Denmark',\n",
              " 'United Kingdom',\n",
              " 'Belgium',\n",
              " 'Italy']"
            ]
          },
          "execution_count": 12,
          "metadata": {},
          "output_type": "execute_result"
        }
      ],
      "source": [
        "chosen_countries"
      ]
    },
    {
      "cell_type": "code",
      "execution_count": null,
      "metadata": {
        "id": "u8HvMkZzx9WW"
      },
      "outputs": [],
      "source": [
        "top200 = top200[(top200['region'] == 'Canada')|(top200['region'] == 'Sweden')|(top200['region'] == 'Belgium')|(top200['region'] == 'Italy')|(top200['region'] == 'Unites States')|(top200['region'] == 'United Kingdom')|(top200['region'] == 'Denmark')|(top200['region'] == 'France')|(top200['region'] == 'Ireland')]\n"
      ]
    },
    {
      "cell_type": "code",
      "execution_count": null,
      "metadata": {
        "colab": {
          "base_uri": "https://localhost:8080/"
        },
        "id": "N7NyxGTVx9WW",
        "outputId": "011fec26-51f6-451e-835f-065cdfb75bd2"
      },
      "outputs": [
        {
          "data": {
            "text/plain": [
              "2819112"
            ]
          },
          "execution_count": 29,
          "metadata": {},
          "output_type": "execute_result"
        }
      ],
      "source": [
        "len(top200)"
      ]
    },
    {
      "cell_type": "code",
      "execution_count": null,
      "metadata": {
        "id": "stH1k0vjx9WW",
        "outputId": "dfe398d9-fd45-40b6-fea6-b751c14f9320"
      },
      "outputs": [
        {
          "data": {
            "text/html": [
              "<div>\n",
              "<style scoped>\n",
              "    .dataframe tbody tr th:only-of-type {\n",
              "        vertical-align: middle;\n",
              "    }\n",
              "\n",
              "    .dataframe tbody tr th {\n",
              "        vertical-align: top;\n",
              "    }\n",
              "\n",
              "    .dataframe thead th {\n",
              "        text-align: right;\n",
              "    }\n",
              "</style>\n",
              "<table border=\"1\" class=\"dataframe\">\n",
              "  <thead>\n",
              "    <tr style=\"text-align: right;\">\n",
              "      <th></th>\n",
              "      <th>title</th>\n",
              "      <th>rank</th>\n",
              "      <th>date</th>\n",
              "      <th>artist</th>\n",
              "      <th>url</th>\n",
              "      <th>region</th>\n",
              "      <th>chart</th>\n",
              "      <th>trend</th>\n",
              "      <th>streams</th>\n",
              "    </tr>\n",
              "  </thead>\n",
              "  <tbody>\n",
              "    <tr>\n",
              "      <th>203</th>\n",
              "      <td>Sorry</td>\n",
              "      <td>151</td>\n",
              "      <td>2017-03-01</td>\n",
              "      <td>Future</td>\n",
              "      <td>https://open.spotify.com/track/1gb6riq7CCP5clG...</td>\n",
              "      <td>Canada</td>\n",
              "      <td>top200</td>\n",
              "      <td>MOVE_DOWN</td>\n",
              "      <td>20827.0</td>\n",
              "    </tr>\n",
              "  </tbody>\n",
              "</table>\n",
              "</div>"
            ],
            "text/plain": [
              "     title  rank        date  artist  \\\n",
              "203  Sorry   151  2017-03-01  Future   \n",
              "\n",
              "                                                   url  region   chart  \\\n",
              "203  https://open.spotify.com/track/1gb6riq7CCP5clG...  Canada  top200   \n",
              "\n",
              "         trend  streams  \n",
              "203  MOVE_DOWN  20827.0  "
            ]
          },
          "execution_count": 16,
          "metadata": {},
          "output_type": "execute_result"
        }
      ],
      "source": [
        "top200.head(1)"
      ]
    },
    {
      "cell_type": "code",
      "execution_count": null,
      "metadata": {
        "id": "QwsxsaoWx9WW"
      },
      "outputs": [],
      "source": [
        "top200['id'] = top200['url'].apply(lambda x: x.split('/')[4])\n",
        "top200.drop('url',axis=1,inplace=True)"
      ]
    },
    {
      "cell_type": "code",
      "execution_count": null,
      "metadata": {
        "colab": {
          "base_uri": "https://localhost:8080/",
          "height": 81
        },
        "id": "-S4mODB2x9WX",
        "outputId": "7b52d2c8-817c-4348-9bb1-eeab7d12a1a1"
      },
      "outputs": [
        {
          "data": {
            "text/html": [
              "<div>\n",
              "<style scoped>\n",
              "    .dataframe tbody tr th:only-of-type {\n",
              "        vertical-align: middle;\n",
              "    }\n",
              "\n",
              "    .dataframe tbody tr th {\n",
              "        vertical-align: top;\n",
              "    }\n",
              "\n",
              "    .dataframe thead th {\n",
              "        text-align: right;\n",
              "    }\n",
              "</style>\n",
              "<table border=\"1\" class=\"dataframe\">\n",
              "  <thead>\n",
              "    <tr style=\"text-align: right;\">\n",
              "      <th></th>\n",
              "      <th>title</th>\n",
              "      <th>rank</th>\n",
              "      <th>date</th>\n",
              "      <th>artist</th>\n",
              "      <th>region</th>\n",
              "      <th>chart</th>\n",
              "      <th>trend</th>\n",
              "      <th>streams</th>\n",
              "      <th>id</th>\n",
              "    </tr>\n",
              "  </thead>\n",
              "  <tbody>\n",
              "    <tr>\n",
              "      <th>203</th>\n",
              "      <td>Sorry</td>\n",
              "      <td>151</td>\n",
              "      <td>2017-03-01</td>\n",
              "      <td>Future</td>\n",
              "      <td>Canada</td>\n",
              "      <td>top200</td>\n",
              "      <td>MOVE_DOWN</td>\n",
              "      <td>20827.0</td>\n",
              "      <td>1gb6riq7CCP5clGpSD0XPH</td>\n",
              "    </tr>\n",
              "  </tbody>\n",
              "</table>\n",
              "</div>"
            ],
            "text/plain": [
              "     title  rank        date  ...      trend  streams                      id\n",
              "203  Sorry   151  2017-03-01  ...  MOVE_DOWN  20827.0  1gb6riq7CCP5clGpSD0XPH\n",
              "\n",
              "[1 rows x 9 columns]"
            ]
          },
          "execution_count": 26,
          "metadata": {},
          "output_type": "execute_result"
        }
      ],
      "source": [
        "top200.head(1)"
      ]
    },
    {
      "cell_type": "code",
      "execution_count": null,
      "metadata": {
        "id": "BSPen6fjx9WX"
      },
      "outputs": [],
      "source": [
        "#top200.to_csv('data/top200_9countries_plain.csv')"
      ]
    },
    {
      "cell_type": "code",
      "execution_count": null,
      "metadata": {
        "id": "-SaslzC3x9WX"
      },
      "outputs": [],
      "source": [
        "client_id = '7ac5c16c450e4d59bd2e9cb28dd6f81b'\n",
        "client_secret = '3811b847b45d4b6282ecc6a8a11878ad'\n",
        "\n",
        "client_credentials_manager = SpotifyClientCredentials(client_id, client_secret)\n",
        "sp = spotipy.Spotify(client_credentials_manager=client_credentials_manager)"
      ]
    },
    {
      "cell_type": "code",
      "execution_count": null,
      "metadata": {
        "id": "sTc7CTXFx9WX"
      },
      "outputs": [],
      "source": [
        "song_meta={'id':[],'album':[], 'artist':[], 'explicit':[], 'popularity':[]}\n",
        "\n",
        "unique = top200[\"id\"].unique()\n",
        "print(len(unique))\n",
        "songs_already_used = []\n",
        "count = 0\n",
        "#for song_id in top200['id']:\n",
        "for song_id in unique:\n",
        "    count += 1\n",
        "    # get song's meta data\n",
        "     # check whether the song has already been used or not\n",
        "    if song_id in songs_already_used: # redundant now, but still keeping it LOL\n",
        "      continue\n",
        "    else:\n",
        "      meta = sp.track(song_id)\n",
        "      if not bool(meta):\n",
        "        continue\n",
        "      songs_already_used.append(song_id)\n",
        "      # Getting meta data.\n",
        "      #meta = sp.track(song_id)\n",
        "      song_meta['id'].append(song_id)\n",
        "      album = meta['album']['name']\n",
        "      song_meta['album']+=[album]\n",
        "    \n",
        "      # artists name\n",
        "      s = ', '\n",
        "      artist=s.join([singer_name['name'] for singer_name in meta['artists']])\n",
        "      song_meta['artist']+=[artist]\n",
        "    \n",
        "      # explicit: lyrics could be considered offensive or unsuitable for children\n",
        "      explicit=meta['explicit']\n",
        "      song_meta['explicit'].append(explicit)\n",
        "    \n",
        "      # song popularity\n",
        "      popularity=meta['popularity']\n",
        "      song_meta['popularity'].append(popularity)\n",
        "      if count % 5000 == 0:\n",
        "        print(\"Done : \",count)\n",
        "\n",
        "song_meta_df = pd.DataFrame.from_dict(song_meta)"
      ]
    },
    {
      "cell_type": "code",
      "execution_count": null,
      "metadata": {
        "id": "c6GuOwbHTK9Z"
      },
      "outputs": [],
      "source": [
        "song_meta_df.to_csv(\"unique_meta.csv\")\n",
        "features = []\n",
        "count = 0\n",
        "for song_id in songs_already_used:\n",
        "  count += 1\n",
        "  ftr = sp.audio_features(song_id)[0]\n",
        "  if bool(ftr):\n",
        "    features.append(ftr)\n",
        "  if count % 5000 == 0:\n",
        "    print(count)\n",
        "# change dictionary to dataframe\n",
        "features_df = pd.DataFrame.from_dict(features)\n",
        "# convert milliseconds to mins\n",
        "# duration_ms: The duration of the track in milliseconds.\n",
        "# 1 minute = 60 seconds = 60 × 1000 milliseconds = 60,000 ms\n",
        "features_df['duration_ms']=features_df['duration_ms']/60000\n",
        "\n",
        "# Merging the dataframes.\n",
        "final_df = song_meta_df.merge(features_df , on = \"id\" , how = \"inner\")\n",
        "top200 = final_df.merge(top200, on = \"id\", how = \"inner\")\n",
        "top200 = top200.drop(['uri', 'track_href', 'analysis_url'], axis=1)\n",
        "top200 = top200.sort_values([\"date\", \"rank\"], ascending = (True, True))\n",
        "top200.to_csv('data/top200_9countries_acoustic.csv')"
      ]
    },
    {
      "cell_type": "code",
      "execution_count": null,
      "metadata": {
        "id": "PI8WpkssgyoE"
      },
      "outputs": [],
      "source": [
        "features_df.to_csv(\"audio_features.csv\")\n",
        "final_df.to_csv(\"merged_unique.csv\")\n",
        "top200.to_csv('top200_merged.csv')"
      ]
    },
    {
      "cell_type": "code",
      "execution_count": null,
      "metadata": {
        "colab": {
          "base_uri": "https://localhost:8080/",
          "height": 660
        },
        "id": "xDOod_chkANG",
        "outputId": "0b477527-5777-4e92-e880-12ae9859768e"
      },
      "outputs": [
        {
          "data": {
            "text/html": [
              "<div>\n",
              "<style scoped>\n",
              "    .dataframe tbody tr th:only-of-type {\n",
              "        vertical-align: middle;\n",
              "    }\n",
              "\n",
              "    .dataframe tbody tr th {\n",
              "        vertical-align: top;\n",
              "    }\n",
              "\n",
              "    .dataframe thead th {\n",
              "        text-align: right;\n",
              "    }\n",
              "</style>\n",
              "<table border=\"1\" class=\"dataframe\">\n",
              "  <thead>\n",
              "    <tr style=\"text-align: right;\">\n",
              "      <th></th>\n",
              "      <th>id</th>\n",
              "      <th>album</th>\n",
              "      <th>artist_x</th>\n",
              "      <th>explicit</th>\n",
              "      <th>popularity</th>\n",
              "      <th>danceability</th>\n",
              "      <th>energy</th>\n",
              "      <th>key</th>\n",
              "      <th>loudness</th>\n",
              "      <th>mode</th>\n",
              "      <th>speechiness</th>\n",
              "      <th>acousticness</th>\n",
              "      <th>instrumentalness</th>\n",
              "      <th>liveness</th>\n",
              "      <th>valence</th>\n",
              "      <th>tempo</th>\n",
              "      <th>type</th>\n",
              "      <th>duration_ms</th>\n",
              "      <th>time_signature</th>\n",
              "      <th>title</th>\n",
              "      <th>rank</th>\n",
              "      <th>date</th>\n",
              "      <th>artist_y</th>\n",
              "      <th>region</th>\n",
              "      <th>chart</th>\n",
              "      <th>trend</th>\n",
              "      <th>streams</th>\n",
              "    </tr>\n",
              "  </thead>\n",
              "  <tbody>\n",
              "    <tr>\n",
              "      <th>33206</th>\n",
              "      <td>5knuzwU65gJK7IF5yJsuaW</td>\n",
              "      <td>Rockabye (feat. Sean Paul &amp; Anne-Marie)</td>\n",
              "      <td>Clean Bandit, Sean Paul, Anne-Marie</td>\n",
              "      <td>False</td>\n",
              "      <td>77</td>\n",
              "      <td>0.72</td>\n",
              "      <td>0.763</td>\n",
              "      <td>9</td>\n",
              "      <td>-4.068</td>\n",
              "      <td>0</td>\n",
              "      <td>0.0523</td>\n",
              "      <td>0.406</td>\n",
              "      <td>0.0</td>\n",
              "      <td>0.18</td>\n",
              "      <td>0.742</td>\n",
              "      <td>101.965</td>\n",
              "      <td>audio_features</td>\n",
              "      <td>4.1848</td>\n",
              "      <td>4</td>\n",
              "      <td>Rockabye (feat. Sean Paul &amp; Anne-Marie)</td>\n",
              "      <td>1</td>\n",
              "      <td>2017-01-01</td>\n",
              "      <td>Clean Bandit</td>\n",
              "      <td>Denmark</td>\n",
              "      <td>top200</td>\n",
              "      <td>SAME_POSITION</td>\n",
              "      <td>50956.0</td>\n",
              "    </tr>\n",
              "    <tr>\n",
              "      <th>33223</th>\n",
              "      <td>5knuzwU65gJK7IF5yJsuaW</td>\n",
              "      <td>Rockabye (feat. Sean Paul &amp; Anne-Marie)</td>\n",
              "      <td>Clean Bandit, Sean Paul, Anne-Marie</td>\n",
              "      <td>False</td>\n",
              "      <td>77</td>\n",
              "      <td>0.72</td>\n",
              "      <td>0.763</td>\n",
              "      <td>9</td>\n",
              "      <td>-4.068</td>\n",
              "      <td>0</td>\n",
              "      <td>0.0523</td>\n",
              "      <td>0.406</td>\n",
              "      <td>0.0</td>\n",
              "      <td>0.18</td>\n",
              "      <td>0.742</td>\n",
              "      <td>101.965</td>\n",
              "      <td>audio_features</td>\n",
              "      <td>4.1848</td>\n",
              "      <td>4</td>\n",
              "      <td>Rockabye (feat. Sean Paul &amp; Anne-Marie)</td>\n",
              "      <td>1</td>\n",
              "      <td>2017-01-01</td>\n",
              "      <td>Clean Bandit</td>\n",
              "      <td>Ireland</td>\n",
              "      <td>top200</td>\n",
              "      <td>SAME_POSITION</td>\n",
              "      <td>24914.0</td>\n",
              "    </tr>\n",
              "    <tr>\n",
              "      <th>33233</th>\n",
              "      <td>5knuzwU65gJK7IF5yJsuaW</td>\n",
              "      <td>Rockabye (feat. Sean Paul &amp; Anne-Marie)</td>\n",
              "      <td>Clean Bandit, Sean Paul, Anne-Marie</td>\n",
              "      <td>False</td>\n",
              "      <td>77</td>\n",
              "      <td>0.72</td>\n",
              "      <td>0.763</td>\n",
              "      <td>9</td>\n",
              "      <td>-4.068</td>\n",
              "      <td>0</td>\n",
              "      <td>0.0523</td>\n",
              "      <td>0.406</td>\n",
              "      <td>0.0</td>\n",
              "      <td>0.18</td>\n",
              "      <td>0.742</td>\n",
              "      <td>101.965</td>\n",
              "      <td>audio_features</td>\n",
              "      <td>4.1848</td>\n",
              "      <td>4</td>\n",
              "      <td>Rockabye (feat. Sean Paul &amp; Anne-Marie)</td>\n",
              "      <td>1</td>\n",
              "      <td>2017-01-01</td>\n",
              "      <td>Clean Bandit</td>\n",
              "      <td>Italy</td>\n",
              "      <td>top200</td>\n",
              "      <td>SAME_POSITION</td>\n",
              "      <td>71014.0</td>\n",
              "    </tr>\n",
              "    <tr>\n",
              "      <th>33243</th>\n",
              "      <td>5knuzwU65gJK7IF5yJsuaW</td>\n",
              "      <td>Rockabye (feat. Sean Paul &amp; Anne-Marie)</td>\n",
              "      <td>Clean Bandit, Sean Paul, Anne-Marie</td>\n",
              "      <td>False</td>\n",
              "      <td>77</td>\n",
              "      <td>0.72</td>\n",
              "      <td>0.763</td>\n",
              "      <td>9</td>\n",
              "      <td>-4.068</td>\n",
              "      <td>0</td>\n",
              "      <td>0.0523</td>\n",
              "      <td>0.406</td>\n",
              "      <td>0.0</td>\n",
              "      <td>0.18</td>\n",
              "      <td>0.742</td>\n",
              "      <td>101.965</td>\n",
              "      <td>audio_features</td>\n",
              "      <td>4.1848</td>\n",
              "      <td>4</td>\n",
              "      <td>Rockabye (feat. Sean Paul &amp; Anne-Marie)</td>\n",
              "      <td>1</td>\n",
              "      <td>2017-01-01</td>\n",
              "      <td>Clean Bandit</td>\n",
              "      <td>Sweden</td>\n",
              "      <td>top200</td>\n",
              "      <td>SAME_POSITION</td>\n",
              "      <td>129472.0</td>\n",
              "    </tr>\n",
              "    <tr>\n",
              "      <th>33247</th>\n",
              "      <td>5knuzwU65gJK7IF5yJsuaW</td>\n",
              "      <td>Rockabye (feat. Sean Paul &amp; Anne-Marie)</td>\n",
              "      <td>Clean Bandit, Sean Paul, Anne-Marie</td>\n",
              "      <td>False</td>\n",
              "      <td>77</td>\n",
              "      <td>0.72</td>\n",
              "      <td>0.763</td>\n",
              "      <td>9</td>\n",
              "      <td>-4.068</td>\n",
              "      <td>0</td>\n",
              "      <td>0.0523</td>\n",
              "      <td>0.406</td>\n",
              "      <td>0.0</td>\n",
              "      <td>0.18</td>\n",
              "      <td>0.742</td>\n",
              "      <td>101.965</td>\n",
              "      <td>audio_features</td>\n",
              "      <td>4.1848</td>\n",
              "      <td>4</td>\n",
              "      <td>Rockabye (feat. Sean Paul &amp; Anne-Marie)</td>\n",
              "      <td>1</td>\n",
              "      <td>2017-01-01</td>\n",
              "      <td>Clean Bandit</td>\n",
              "      <td>United Kingdom</td>\n",
              "      <td>top200</td>\n",
              "      <td>SAME_POSITION</td>\n",
              "      <td>272020.0</td>\n",
              "    </tr>\n",
              "  </tbody>\n",
              "</table>\n",
              "</div>"
            ],
            "text/plain": [
              "                           id  ...   streams\n",
              "33206  5knuzwU65gJK7IF5yJsuaW  ...   50956.0\n",
              "33223  5knuzwU65gJK7IF5yJsuaW  ...   24914.0\n",
              "33233  5knuzwU65gJK7IF5yJsuaW  ...   71014.0\n",
              "33243  5knuzwU65gJK7IF5yJsuaW  ...  129472.0\n",
              "33247  5knuzwU65gJK7IF5yJsuaW  ...  272020.0\n",
              "\n",
              "[5 rows x 27 columns]"
            ]
          },
          "execution_count": 38,
          "metadata": {},
          "output_type": "execute_result"
        }
      ],
      "source": [
        "top200.head()"
      ]
    },
    {
      "cell_type": "code",
      "execution_count": null,
      "metadata": {},
      "outputs": [],
      "source": [
        "df_ireland = df[df['region'] == 'Ireland'] # For Muvazima.\n",
        "df_ireland.head(2)"
      ]
    },
    {
      "cell_type": "code",
      "execution_count": null,
      "metadata": {},
      "outputs": [],
      "source": [
        "df_ireland.to_csv(\"/content/drive/MyDrive/ML-Project/data/ie/top200_new_ireland.csv\")"
      ]
    },
    {
      "cell_type": "markdown",
      "metadata": {
        "id": "5tIP2JJUWDSn"
      },
      "source": [
        "### EDA and Preprocessing"
      ]
    },
    {
      "cell_type": "code",
      "execution_count": 56,
      "metadata": {
        "id": "wxwjUz5Qn-er"
      },
      "outputs": [],
      "source": [
        "df = pd.read_csv(\"/Users/smcck/Documents/CS-DA/Machine Learning/spotify-top-viral/data/9countries/top200_merged.csv\")"
      ]
    },
    {
      "cell_type": "code",
      "execution_count": 3,
      "metadata": {
        "colab": {
          "base_uri": "https://localhost:8080/"
        },
        "id": "29e3rvPDn-cI",
        "outputId": "2d57beae-0462-425e-c937-a48362570ccb"
      },
      "outputs": [
        {
          "data": {
            "text/plain": [
              "Index(['Unnamed: 0', 'id', 'album', 'artist_x', 'explicit', 'popularity',\n",
              "       'danceability', 'energy', 'key', 'loudness', 'mode', 'speechiness',\n",
              "       'acousticness', 'instrumentalness', 'liveness', 'valence', 'tempo',\n",
              "       'type', 'duration_ms', 'time_signature', 'title', 'rank', 'date',\n",
              "       'artist_y', 'region', 'chart', 'trend', 'streams'],\n",
              "      dtype='object')"
            ]
          },
          "execution_count": 3,
          "metadata": {},
          "output_type": "execute_result"
        }
      ],
      "source": [
        "df.columns"
      ]
    },
    {
      "cell_type": "code",
      "execution_count": 5,
      "metadata": {
        "id": "EvGTPwvCHTUI"
      },
      "outputs": [
        {
          "data": {
            "text/plain": [
              "Unnamed: 0          0\n",
              "id                  0\n",
              "album               0\n",
              "artist_x            0\n",
              "explicit            0\n",
              "popularity          0\n",
              "danceability        0\n",
              "energy              0\n",
              "key                 0\n",
              "loudness            0\n",
              "mode                0\n",
              "speechiness         0\n",
              "acousticness        0\n",
              "instrumentalness    0\n",
              "liveness            0\n",
              "valence             0\n",
              "tempo               0\n",
              "type                0\n",
              "duration_ms         0\n",
              "time_signature      0\n",
              "title               0\n",
              "rank                0\n",
              "date                0\n",
              "artist_y            0\n",
              "region              0\n",
              "chart               0\n",
              "trend               0\n",
              "streams             0\n",
              "dtype: int64"
            ]
          },
          "execution_count": 5,
          "metadata": {},
          "output_type": "execute_result"
        }
      ],
      "source": [
        "df.isnull().sum()\n",
        "# There are no NULL values in the data."
      ]
    },
    {
      "cell_type": "code",
      "execution_count": 57,
      "metadata": {
        "id": "YIXVp2u3HTRx"
      },
      "outputs": [],
      "source": [
        "# Columns to drop for sure.\n",
        "\n",
        "df.drop( ['Unnamed: 0','artist_x', 'artist_y', 'explicit', 'type', 'chart', 'album', 'id'], axis=1, inplace=True)"
      ]
    },
    {
      "cell_type": "code",
      "execution_count": 58,
      "metadata": {
        "id": "n9n0nWMSHTMk"
      },
      "outputs": [
        {
          "data": {
            "text/plain": [
              "Index(['popularity', 'danceability', 'energy', 'key', 'loudness', 'mode',\n",
              "       'speechiness', 'acousticness', 'instrumentalness', 'liveness',\n",
              "       'valence', 'tempo', 'duration_ms', 'time_signature', 'title', 'rank',\n",
              "       'date', 'region', 'trend', 'streams'],\n",
              "      dtype='object')"
            ]
          },
          "execution_count": 58,
          "metadata": {},
          "output_type": "execute_result"
        }
      ],
      "source": [
        "df.columns"
      ]
    },
    {
      "cell_type": "code",
      "execution_count": null,
      "metadata": {},
      "outputs": [],
      "source": [
        "# Merging title+region \n",
        "df['title'] = df['title'] + \" - \" + df['region']\n",
        "df.head(5)"
      ]
    },
    {
      "cell_type": "code",
      "execution_count": 60,
      "metadata": {},
      "outputs": [],
      "source": [
        "df_init = df.copy(deep=True)    # For backup."
      ]
    },
    {
      "cell_type": "code",
      "execution_count": 48,
      "metadata": {},
      "outputs": [],
      "source": [
        "# Restore point. \n",
        "df = df_init.copy(deep=True)"
      ]
    },
    {
      "cell_type": "code",
      "execution_count": 71,
      "metadata": {},
      "outputs": [],
      "source": [
        "# Dealing with dates. \n",
        "\n",
        "#df['date'] = str(df['date']).replace(\" \", \"\")\n",
        "#df['year'] = (str(df['date']).split('-')[0])[-4:]\n",
        "#df['month'] = str(df['date']).split('-')[1]\n",
        "df['year'] = df['date'].apply(lambda x : str(x).split('-')[0][-4:])\n",
        "df['month'] = df['date'].apply(lambda x : str(x).split('-')[1])"
      ]
    },
    {
      "cell_type": "code",
      "execution_count": 72,
      "metadata": {},
      "outputs": [
        {
          "data": {
            "text/plain": [
              "array(['2017', '2018', '2019', '2020', '2021'], dtype=object)"
            ]
          },
          "execution_count": 72,
          "metadata": {},
          "output_type": "execute_result"
        }
      ],
      "source": [
        "df['year'].unique()"
      ]
    },
    {
      "cell_type": "code",
      "execution_count": 73,
      "metadata": {},
      "outputs": [
        {
          "data": {
            "text/plain": [
              "array(['01', '02', '03', '04', '05', '06', '07', '08', '09', '10', '11',\n",
              "       '12'], dtype=object)"
            ]
          },
          "execution_count": 73,
          "metadata": {},
          "output_type": "execute_result"
        }
      ],
      "source": [
        "df['month'].unique()"
      ]
    },
    {
      "cell_type": "code",
      "execution_count": 74,
      "metadata": {},
      "outputs": [],
      "source": [
        "df.drop('date', axis=1, inplace=True)"
      ]
    },
    {
      "cell_type": "code",
      "execution_count": null,
      "metadata": {},
      "outputs": [],
      "source": []
    },
    {
      "cell_type": "code",
      "execution_count": null,
      "metadata": {
        "id": "r7gffVSbMH0P"
      },
      "outputs": [],
      "source": [
        "#df[df['title'] == 'Starboy'].popularity\n",
        "\n",
        "#checking how the acousticness of the top song in top200 varied over the years\n",
        "param = input(\">Enter param:\")\n",
        "#param = \"popularity\"\n",
        "var_df = df[df[\"title\"]== \"Starboy\"]\n",
        "var_df = var_df[[param, \"date\"]]\n",
        "#var_df.date = var_df.date.str[:-3]\n",
        "\n",
        "#var_df.head()\n",
        "#var_df = var_df[[\"date\",param]]\n",
        "#var_df = var_df.drop_duplicates(subset = [\"date\"], keep = \"first\")\n",
        "#var_df.set_index(\"date\",inplace = True )\n",
        "#var_df = var_df[]\n",
        "\n",
        "#fetching the top song every week\n",
        "\"\"\"count = 0\n",
        "for index, row in var_df.iterrows():\n",
        "    count += 1\n",
        "    if count % 7 !=0:\n",
        "        var_df.drop(index, inplace=True)\n",
        "\"\"\"\n",
        "\n",
        "var_df.head()\n",
        "#var_df.plot(figsize=(20,5), color = 'green', kind = 'scatter',x='date',y='streams')\n",
        "var_df.plot(figsize=(20,5), color = 'green',x='date',y=param)\n",
        "title = param + \" vs Date [ Weely ]\"\n",
        "plt.title(title)\n",
        "plt.xlabel('Date')\n",
        "plt.ylabel(param)\n",
        "plt.legend(loc='best')\n",
        "plt.show()\n"
      ]
    },
    {
      "cell_type": "code",
      "execution_count": null,
      "metadata": {
        "colab": {
          "base_uri": "https://localhost:8080/",
          "height": 423
        },
        "id": "nr8BJcGxRIAs",
        "outputId": "d9199126-07bb-4c49-e775-8ea7e20ea726"
      },
      "outputs": [
        {
          "data": {
            "text/html": [
              "<div>\n",
              "<style scoped>\n",
              "    .dataframe tbody tr th:only-of-type {\n",
              "        vertical-align: middle;\n",
              "    }\n",
              "\n",
              "    .dataframe tbody tr th {\n",
              "        vertical-align: top;\n",
              "    }\n",
              "\n",
              "    .dataframe thead th {\n",
              "        text-align: right;\n",
              "    }\n",
              "</style>\n",
              "<table border=\"1\" class=\"dataframe\">\n",
              "  <thead>\n",
              "    <tr style=\"text-align: right;\">\n",
              "      <th></th>\n",
              "      <th>popularity</th>\n",
              "      <th>date</th>\n",
              "    </tr>\n",
              "  </thead>\n",
              "  <tbody>\n",
              "    <tr>\n",
              "      <th>2</th>\n",
              "      <td>85</td>\n",
              "      <td>2017-01-01</td>\n",
              "    </tr>\n",
              "    <tr>\n",
              "      <th>202</th>\n",
              "      <td>85</td>\n",
              "      <td>2017-01-02</td>\n",
              "    </tr>\n",
              "    <tr>\n",
              "      <th>402</th>\n",
              "      <td>85</td>\n",
              "      <td>2017-01-03</td>\n",
              "    </tr>\n",
              "    <tr>\n",
              "      <th>601</th>\n",
              "      <td>85</td>\n",
              "      <td>2017-01-04</td>\n",
              "    </tr>\n",
              "    <tr>\n",
              "      <th>802</th>\n",
              "      <td>85</td>\n",
              "      <td>2017-01-05</td>\n",
              "    </tr>\n",
              "    <tr>\n",
              "      <th>...</th>\n",
              "      <td>...</td>\n",
              "      <td>...</td>\n",
              "    </tr>\n",
              "    <tr>\n",
              "      <th>351336</th>\n",
              "      <td>85</td>\n",
              "      <td>2021-10-26</td>\n",
              "    </tr>\n",
              "    <tr>\n",
              "      <th>351530</th>\n",
              "      <td>85</td>\n",
              "      <td>2021-10-27</td>\n",
              "    </tr>\n",
              "    <tr>\n",
              "      <th>351742</th>\n",
              "      <td>85</td>\n",
              "      <td>2021-10-28</td>\n",
              "    </tr>\n",
              "    <tr>\n",
              "      <th>351972</th>\n",
              "      <td>85</td>\n",
              "      <td>2021-10-29</td>\n",
              "    </tr>\n",
              "    <tr>\n",
              "      <th>352378</th>\n",
              "      <td>85</td>\n",
              "      <td>2021-10-31</td>\n",
              "    </tr>\n",
              "  </tbody>\n",
              "</table>\n",
              "<p>1685 rows × 2 columns</p>\n",
              "</div>"
            ],
            "text/plain": [
              "        popularity        date\n",
              "2               85  2017-01-01\n",
              "202             85  2017-01-02\n",
              "402             85  2017-01-03\n",
              "601             85  2017-01-04\n",
              "802             85  2017-01-05\n",
              "...            ...         ...\n",
              "351336          85  2021-10-26\n",
              "351530          85  2021-10-27\n",
              "351742          85  2021-10-28\n",
              "351972          85  2021-10-29\n",
              "352378          85  2021-10-31\n",
              "\n",
              "[1685 rows x 2 columns]"
            ]
          },
          "execution_count": 38,
          "metadata": {},
          "output_type": "execute_result"
        }
      ],
      "source": [
        "var_df = df[df[\"title\"]== \"Say You Won't Let Go\"]\n",
        "var_df = var_df[[\"popularity\", \"date\"]]\n",
        "var_df"
      ]
    },
    {
      "cell_type": "code",
      "execution_count": null,
      "metadata": {
        "colab": {
          "base_uri": "https://localhost:8080/"
        },
        "id": "dZ2vcpSpL7lZ",
        "outputId": "bc4a8f2e-6ffd-49c9-c87f-3fb9fad4f731"
      },
      "outputs": [
        {
          "data": {
            "text/plain": [
              "array([ 76,   0,  85,  46,  65,   1,  59,  78,  72,  56,  77,  74,  67,\n",
              "        75,   2,  70,  23,  61,  42,  58,  80,  73,  71,  81,  55,  47,\n",
              "        39,  68,  51,  84,  33,  64,  79,  63,  69,  60,  66,  82,   3,\n",
              "        35,  50,  57,  24,  48,  34,  30,   6,  49,  52,  83,  29,  11,\n",
              "        62,  43,  25,  37,  53,  21,  86,  45,  40,  41,  44,  54,  32,\n",
              "        17,  26,   5,  36,  38,  18,  87,  20,   4,   7,  19,  28,  31,\n",
              "        12,  14,  16,  13,  88,   9,  27,  15,  22,  10,   8,  89,  92,\n",
              "        90,  91,  94,  93,  95,  98,  96, 100])"
            ]
          },
          "execution_count": 13,
          "metadata": {},
          "output_type": "execute_result"
        }
      ],
      "source": [
        "df['popularity'].unique()"
      ]
    },
    {
      "cell_type": "code",
      "execution_count": null,
      "metadata": {
        "id": "cG6lcLNMK_u-"
      },
      "outputs": [],
      "source": [
        "counts = df['popularity'].value_counts()\n",
        "for x in counts:\n",
        "  print(x)"
      ]
    },
    {
      "cell_type": "code",
      "execution_count": null,
      "metadata": {
        "id": "zfSuIsDVS34j"
      },
      "outputs": [],
      "source": [
        "#checking how the acousticness of the top song in top200 varied over the years\n",
        "param = input(\">Enter param:\")\n",
        "var_df = df[df[\"rank\"]==1]\n",
        "#var_df.date = var_df.date.str[:-3]\n",
        "\n",
        "#var_df.head()\n",
        "var_df = var_df[[\"date\",param]]\n",
        "var_df = var_df.drop_duplicates(subset = [\"date\"], keep = \"first\")\n",
        "var_df.set_index(\"date\",inplace = True )\n",
        "#var_df = var_df[]\n",
        "\n",
        "#fetching the top song every week\n",
        "count = 0\n",
        "for index, row in var_df.iterrows():\n",
        "    count += 1\n",
        "    if count % 7 !=0:\n",
        "        var_df.drop(index, inplace=True)\n",
        "\n",
        "\n",
        "var_df.head()\n",
        "var_df.plot(figsize=(20,5), color = 'green')\n",
        "title = param + \" vs Date [ Weely ]\"\n",
        "plt.title(title)\n",
        "plt.xlabel('Date')\n",
        "plt.ylabel('Acousticness')\n",
        "plt.legend(loc='best')\n",
        "plt.show()\n"
      ]
    },
    {
      "cell_type": "code",
      "execution_count": null,
      "metadata": {
        "colab": {
          "base_uri": "https://localhost:8080/"
        },
        "id": "YP2LHqbPaniA",
        "outputId": "c0f41c4e-b0a4-460f-dd68-9688fe696eae"
      },
      "outputs": [
        {
          "data": {
            "text/plain": [
              "streams    0\n",
              "dtype: int64"
            ]
          },
          "execution_count": 52,
          "metadata": {},
          "output_type": "execute_result"
        }
      ],
      "source": [
        "var_df.isnull().sum()"
      ]
    },
    {
      "cell_type": "code",
      "execution_count": null,
      "metadata": {
        "id": "OfZJxhv9acCm"
      },
      "outputs": [],
      "source": [
        "var_df = var_df[var_df['streams'].notna()]"
      ]
    },
    {
      "cell_type": "markdown",
      "metadata": {
        "id": "Rv0-sMUdfs1z"
      },
      "source": [
        "### ARIMA"
      ]
    },
    {
      "cell_type": "code",
      "execution_count": null,
      "metadata": {
        "id": "i-iqucRBmvHF"
      },
      "outputs": [],
      "source": [
        "!pip3 install pmdarima\n",
        "import pmdarima as pm"
      ]
    },
    {
      "cell_type": "code",
      "execution_count": null,
      "metadata": {
        "colab": {
          "base_uri": "https://localhost:8080/"
        },
        "id": "ATQavH2I9Veb",
        "outputId": "939f049f-46af-4195-cc96-d5219b075740"
      },
      "outputs": [
        {
          "name": "stdout",
          "output_type": "stream",
          "text": [
            "Performing stepwise search to minimize aic\n",
            " ARIMA(1,1,1)(0,0,0)[0] intercept   : AIC=inf, Time=0.19 sec\n",
            " ARIMA(0,1,0)(0,0,0)[0] intercept   : AIC=5759.579, Time=0.02 sec\n",
            " ARIMA(1,1,0)(0,0,0)[0] intercept   : AIC=5747.350, Time=0.04 sec\n",
            " ARIMA(0,1,1)(0,0,0)[0] intercept   : AIC=5734.601, Time=0.05 sec\n",
            " ARIMA(0,1,0)(0,0,0)[0]             : AIC=5757.586, Time=0.01 sec\n",
            " ARIMA(0,1,2)(0,0,0)[0] intercept   : AIC=5706.837, Time=0.09 sec\n",
            " ARIMA(1,1,2)(0,0,0)[0] intercept   : AIC=inf, Time=0.47 sec\n",
            " ARIMA(0,1,3)(0,0,0)[0] intercept   : AIC=5705.037, Time=0.13 sec\n",
            " ARIMA(1,1,3)(0,0,0)[0] intercept   : AIC=5705.229, Time=0.27 sec\n",
            " ARIMA(0,1,4)(0,0,0)[0] intercept   : AIC=5702.663, Time=0.23 sec\n",
            " ARIMA(1,1,4)(0,0,0)[0] intercept   : AIC=5704.594, Time=0.32 sec\n",
            " ARIMA(0,1,4)(0,0,0)[0]             : AIC=5701.198, Time=0.16 sec\n",
            " ARIMA(0,1,3)(0,0,0)[0]             : AIC=5702.234, Time=0.13 sec\n",
            " ARIMA(1,1,4)(0,0,0)[0]             : AIC=5701.999, Time=0.29 sec\n",
            " ARIMA(1,1,3)(0,0,0)[0]             : AIC=5700.588, Time=0.31 sec\n",
            " ARIMA(1,1,2)(0,0,0)[0]             : AIC=5699.439, Time=0.14 sec\n",
            " ARIMA(0,1,2)(0,0,0)[0]             : AIC=5704.377, Time=0.07 sec\n",
            " ARIMA(1,1,1)(0,0,0)[0]             : AIC=5700.602, Time=0.09 sec\n",
            " ARIMA(2,1,2)(0,0,0)[0]             : AIC=5700.830, Time=0.22 sec\n",
            " ARIMA(0,1,1)(0,0,0)[0]             : AIC=5732.615, Time=0.04 sec\n",
            " ARIMA(2,1,1)(0,0,0)[0]             : AIC=5701.710, Time=0.18 sec\n",
            " ARIMA(2,1,3)(0,0,0)[0]             : AIC=5702.333, Time=0.55 sec\n",
            "\n",
            "Best model:  ARIMA(1,1,2)(0,0,0)[0]          \n",
            "Total fit time: 4.025 seconds\n"
          ]
        },
        {
          "data": {
            "text/plain": [
              "ARIMA(order=(1, 1, 2), scoring_args={}, suppress_warnings=True,\n",
              "      with_intercept=False)"
            ]
          },
          "execution_count": 65,
          "metadata": {},
          "output_type": "execute_result"
        }
      ],
      "source": [
        "results = pm.auto_arima(var_df,information_criterion='aic', seasonal_test = 'df',\n",
        "                        start_p=1,start_q=1, max_p=4, max_q=4,stepwise=True,trace=True,\n",
        "                        error_action='ignore',suppress_warnings=True)\n",
        "results"
      ]
    },
    {
      "cell_type": "code",
      "execution_count": null,
      "metadata": {
        "colab": {
          "base_uri": "https://localhost:8080/"
        },
        "id": "etaFEsdkHJyE",
        "outputId": "4bdb24dc-c5d4-4542-db3e-1cf169a1d0af"
      },
      "outputs": [
        {
          "data": {
            "text/plain": [
              "58"
            ]
          },
          "execution_count": 27,
          "metadata": {},
          "output_type": "execute_result"
        }
      ],
      "source": [
        "len(var_df)"
      ]
    },
    {
      "cell_type": "code",
      "execution_count": null,
      "metadata": {
        "colab": {
          "base_uri": "https://localhost:8080/",
          "height": 1000
        },
        "id": "9AConHP49xlO",
        "outputId": "0bc92c75-458a-4f09-962a-10be1843b596"
      },
      "outputs": [
        {
          "name": "stdout",
          "output_type": "stream",
          "text": [
            "train              streams\n",
            "date                \n",
            "2017-01-07  128365.0\n",
            "2017-01-14  101613.0\n",
            "2017-01-21   86644.0\n",
            "2017-01-28   84322.0\n",
            "2017-02-04   76096.0\n",
            "...              ...\n",
            "2021-01-26  116738.0\n",
            "2021-02-02   89991.0\n",
            "2021-02-09   74293.0\n",
            "2021-02-16   65489.0\n",
            "2021-02-23   55399.0\n",
            "\n",
            "[216 rows x 1 columns]\n",
            "             streams\n",
            "date                \n",
            "2021-03-02   52270.0\n",
            "2021-03-09   47794.0\n",
            "2021-03-16   44353.0\n",
            "2021-03-23   46240.0\n",
            "2021-03-30   63411.0\n",
            "2021-04-06   80287.0\n",
            "2021-04-13   73604.0\n",
            "2021-04-20   63774.0\n",
            "2021-04-27   56777.0\n",
            "2021-05-04   55946.0\n",
            "2021-05-11   60312.0\n",
            "2021-05-18  100466.0\n",
            "2021-05-25  176171.0\n",
            "2021-06-01  140607.0\n",
            "2021-06-08  108869.0\n",
            "2021-06-15   92571.0\n",
            "2021-06-22   85067.0\n",
            "2021-06-29   97376.0\n",
            "2021-07-06  117574.0\n",
            "2021-07-13  116109.0\n",
            "2021-07-20  110846.0\n",
            "2021-07-27   86076.0\n",
            "2021-08-03   82554.0\n",
            "2021-08-10   82889.0\n",
            "2021-08-17   79014.0\n",
            "2021-08-24   76728.0\n",
            "2021-08-31   63144.0\n",
            "2021-09-07   60665.0\n",
            "2021-09-14   55990.0\n",
            "2021-09-21   54706.0\n",
            "2021-09-28   55373.0\n",
            "2021-10-05   51666.0\n",
            "2021-10-12   50730.0\n",
            "2021-10-19  165165.0\n",
            "2021-10-26  103259.0\n",
            "                               SARIMAX Results                                \n",
            "==============================================================================\n",
            "Dep. Variable:                streams   No. Observations:                  216\n",
            "Model:               SARIMAX(1, 1, 2)   Log Likelihood               -2437.075\n",
            "Date:                Fri, 03 Dec 2021   AIC                           4882.151\n",
            "Time:                        13:13:38   BIC                           4895.633\n",
            "Sample:                             0   HQIC                          4887.598\n",
            "                                - 216                                         \n",
            "Covariance Type:                  opg                                         \n",
            "==============================================================================\n",
            "                 coef    std err          z      P>|z|      [0.025      0.975]\n",
            "------------------------------------------------------------------------------\n",
            "ar.L1          0.3797      0.206      1.844      0.065      -0.024       0.783\n",
            "ma.L1         -0.8559      0.230     -3.715      0.000      -1.307      -0.404\n",
            "ma.L2         -0.0931      0.201     -0.462      0.644      -0.488       0.302\n",
            "sigma2       4.13e+08    4.9e-09   8.43e+16      0.000    4.13e+08    4.13e+08\n",
            "===================================================================================\n",
            "Ljung-Box (L1) (Q):                   0.02   Jarque-Bera (JB):             25673.19\n",
            "Prob(Q):                              0.89   Prob(JB):                         0.00\n",
            "Heteroskedasticity (H):               3.19   Skew:                             5.77\n",
            "Prob(H) (two-sided):                  0.00   Kurtosis:                        55.28\n",
            "===================================================================================\n",
            "\n",
            "Warnings:\n",
            "[1] Covariance matrix calculated using the outer product of gradients (complex-step).\n",
            "[2] Covariance matrix is singular or near-singular, with condition number 5.04e+31. Standard errors may be unstable.\n"
          ]
        },
        {
          "name": "stderr",
          "output_type": "stream",
          "text": [
            "/usr/local/lib/python3.7/dist-packages/statsmodels/tsa/base/tsa_model.py:595: ValueWarning: A date index has been provided, but it has no associated frequency information and so will be ignored when e.g. forecasting.\n",
            "  ' ignored when e.g. forecasting.', ValueWarning)\n",
            "/usr/local/lib/python3.7/dist-packages/statsmodels/tsa/base/tsa_model.py:595: ValueWarning: A date index has been provided, but it has no associated frequency information and so will be ignored when e.g. forecasting.\n",
            "  ' ignored when e.g. forecasting.', ValueWarning)\n"
          ]
        },
        {
          "data": {
            "image/png": "[encoded data removed]",
            "text/plain": [
              "<Figure size 792x576 with 4 Axes>"
            ]
          },
          "metadata": {
            "needs_background": "light"
          },
          "output_type": "display_data"
        }
      ],
      "source": [
        "\n",
        "import pandas as pd\n",
        "import matplotlib.pyplot as plt\n",
        "import seaborn as sns\n",
        "import numpy as np\n",
        "from sklearn.metrics import mean_squared_error as MSE\n",
        "from math import sqrt\n",
        "plt.style.use('ggplot')\n",
        "%matplotlib inline\n",
        "# The following tools aid in time series analysis:\n",
        "from pandas.plotting import autocorrelation_plot\n",
        "from statsmodels.tsa.stattools import adfuller\n",
        "from statsmodels.tsa.seasonal import seasonal_decompose\n",
        "from statsmodels.tsa.statespace.sarimax import SARIMAX\n",
        "from statsmodels.graphics.tsaplots import plot_acf, plot_pacf\n",
        "def train_test(df):\n",
        "    #Set training data before 2021\n",
        "    train = df[:'2021-03-01']\n",
        "    print(\"train\",train)\n",
        "    #Set test data starting 2021\n",
        "    test = df['2021-03-01':]\n",
        "    print(test)\n",
        "    return train, test\n",
        "def fit_model(df,pdq,pdqs):\n",
        "    # Use train_test function\n",
        "    train, test = train_test(df)\n",
        "    # Fit the model, give the summary information & diagnostics\n",
        "    model = SARIMAX(train,order=pdq,seasonal_order=pdqs)\n",
        "    results = model.fit()\n",
        "    results.summary\n",
        "    residuals = results.resid\n",
        "    print(results.summary())\n",
        "    results.plot_diagnostics(figsize=(11,8))\n",
        "    plt.show();\n",
        "    return train, test, results\n",
        "pdq = (1,1,2)\n",
        "pdqs = (0,0,0,0)\n",
        "train, test, results = fit_model(var_df,pdq=pdq,pdqs=pdqs)"
      ]
    },
    {
      "cell_type": "code",
      "execution_count": null,
      "metadata": {
        "colab": {
          "base_uri": "https://localhost:8080/",
          "height": 354
        },
        "id": "1A4o73WpJoml",
        "outputId": "c0e003ac-221b-4cba-b8bf-1b2af18d9494"
      },
      "outputs": [
        {
          "name": "stdout",
          "output_type": "stream",
          "text": [
            "22028.263397300732\n",
            "SARIMA model RMSE on train data: 22028.26340\n"
          ]
        },
        {
          "data": {
            "text/plain": [
              "<Figure size 1080x504 with 0 Axes>"
            ]
          },
          "metadata": {},
          "output_type": "display_data"
        },
        {
          "data": {
            "image/png": "[encoded data removed]",
            "text/plain": [
              "<Figure size 432x288 with 1 Axes>"
            ]
          },
          "metadata": {
            "needs_background": "light"
          },
          "output_type": "display_data"
        }
      ],
      "source": [
        "def train_RMSE(train, results, display = True):\n",
        "    # Validate Training Data on 40 Years of Data\n",
        "    train_pred = results.predict()\n",
        "    # Compare Real Training Data to Predicted Data\n",
        "    rmse = sqrt(MSE(train,train_pred))\n",
        "    print(rmse)\n",
        "    print(f'SARIMA model RMSE on train data: %.5f' % rmse)\n",
        "    if display:\n",
        "        plt.figure(figsize=(15,7))\n",
        "        train.plot(label='Actual',color='b')\n",
        "        train_pred.plot(label='Predicted',color='r')\n",
        "        plt.legend(loc='best')\n",
        "        plt.title('Actual Train Data vs. Predicted Prevalence')\n",
        "        plt.show()\n",
        "\n",
        "\n",
        "train_RMSE(train, results)"
      ]
    },
    {
      "cell_type": "code",
      "execution_count": null,
      "metadata": {
        "colab": {
          "base_uri": "https://localhost:8080/",
          "height": 354
        },
        "id": "ptNHkCv9dSxp",
        "outputId": "9a07178e-1673-4aad-da21-b3145470bf6f"
      },
      "outputs": [
        {
          "name": "stdout",
          "output_type": "stream",
          "text": [
            "42192.78748112985\n",
            "SARIMA model RMSE on train data: 42192.78748\n"
          ]
        },
        {
          "data": {
            "text/plain": [
              "<Figure size 1080x504 with 0 Axes>"
            ]
          },
          "metadata": {},
          "output_type": "display_data"
        },
        {
          "data": {
            "image/png": "[encoded data removed]",
            "text/plain": [
              "<Figure size 432x288 with 1 Axes>"
            ]
          },
          "metadata": {
            "needs_background": "light"
          },
          "output_type": "display_data"
        }
      ],
      "source": [
        "def test_RMSE(test, results, display = True):\n",
        "    # Validate Training Data on 40 Years of Data\n",
        "    test_pred = results.predict(-35)\n",
        "    # Compare Real Training Data to Predicted Data\n",
        "    rmse = sqrt(MSE(test,test_pred))\n",
        "    print(rmse)\n",
        "    print(f'SARIMA model RMSE on train data: %.5f' % rmse)\n",
        "    if display:\n",
        "        plt.figure(figsize=(15,7))\n",
        "        test.plot(label='Actual',color='b')\n",
        "        test_pred.plot(label='Predicted',color='r')\n",
        "        plt.legend(loc='best')\n",
        "        plt.title('Actual Train Data vs. Predicted Prevalence')\n",
        "        plt.show()\n",
        "\n",
        "\n",
        "test_RMSE(test, results)"
      ]
    },
    {
      "cell_type": "markdown",
      "metadata": {
        "id": "Jaf9D1acoEDe"
      },
      "source": [
        "### LSTM"
      ]
    },
    {
      "cell_type": "code",
      "execution_count": null,
      "metadata": {
        "id": "wK-OcSLDoD0q"
      },
      "outputs": [],
      "source": []
    },
    {
      "cell_type": "code",
      "execution_count": null,
      "metadata": {
        "id": "ARGdw5lFYyi-"
      },
      "outputs": [],
      "source": []
    }
  ],
  "metadata": {
    "colab": {
      "collapsed_sections": [
        "oF8sXghMx9WP",
        "9Lk6yX6nx9WR",
        "1yXSsjW1x9WU"
      ],
      "name": "EDA+TimeSeries.ipynb",
      "provenance": [],
      "toc_visible": true
    },
    "kernelspec": {
      "display_name": "Python 3",
      "name": "python3"
    },
    "language_info": {
      "codemirror_mode": {
        "name": "ipython",
        "version": 3
      },
      "file_extension": ".py",
      "mimetype": "text/x-python",
      "name": "python",
      "nbconvert_exporter": "python",
      "pygments_lexer": "ipython3",
      "version": "3.8.12"
    }
  },
  "nbformat": 4,
  "nbformat_minor": 0
}
