{
  "nbformat": 4,
  "nbformat_minor": 0,
  "metadata": {
    "colab": {
      "name": "ML Project - Top200 Data",
      "provenance": []
    },
    "kernelspec": {
      "name": "python3",
      "display_name": "Python 3"
    },
    "language_info": {
      "name": "python"
    }
  },
  "cells": [
    {
      "cell_type": "markdown",
      "metadata": {
        "id": "SwTeX69XyIJ3"
      },
      "source": [
        "Dataset: https://www.kaggle.com/dhruvildave/spotify-charts?select=charts.csv\n"
      ]
    },
    {
      "cell_type": "code",
      "metadata": {
        "colab": {
          "base_uri": "https://localhost:8080/"
        },
        "id": "YES45gxZSfwF",
        "outputId": "d419b61b-16bb-4850-c9cc-2f4da84703db"
      },
      "source": [
        "from google.colab import drive\n",
        "drive.mount('/content/drive')"
      ],
      "execution_count": null,
      "outputs": [
        {
          "output_type": "stream",
          "name": "stdout",
          "text": [
            "Drive already mounted at /content/drive; to attempt to forcibly remount, call drive.mount(\"/content/drive\", force_remount=True).\n"
          ]
        }
      ]
    },
    {
      "cell_type": "markdown",
      "metadata": {
        "id": "eaEQdww35QBD"
      },
      "source": [
        "Notes: \n",
        "\n",
        "\n",
        "\n",
        "*   70 regions.\n"
      ]
    },
    {
      "cell_type": "markdown",
      "metadata": {
        "id": "Ar3ZaD4VyMWW"
      },
      "source": [
        "### Importing necessary libraries."
      ]
    },
    {
      "cell_type": "code",
      "metadata": {
        "id": "bj0k695kTZpo",
        "colab": {
          "base_uri": "https://localhost:8080/"
        },
        "outputId": "188158f8-1997-45f4-a9af-b27b2743c350"
      },
      "source": [
        "!pip3 install spotipy\n",
        "import pandas as pd\n",
        "import json\n",
        "import spotipy\n",
        "import pandas as pd\n",
        "from spotipy.oauth2 import SpotifyClientCredentials"
      ],
      "execution_count": null,
      "outputs": [
        {
          "output_type": "stream",
          "name": "stdout",
          "text": [
            "Requirement already satisfied: spotipy in /usr/local/lib/python3.7/dist-packages (2.19.0)\n",
            "Requirement already satisfied: six>=1.15.0 in /usr/local/lib/python3.7/dist-packages (from spotipy) (1.15.0)\n",
            "Requirement already satisfied: urllib3>=1.26.0 in /usr/local/lib/python3.7/dist-packages (from spotipy) (1.26.7)\n",
            "Requirement already satisfied: requests>=2.25.0 in /usr/local/lib/python3.7/dist-packages (from spotipy) (2.26.0)\n",
            "Requirement already satisfied: charset-normalizer~=2.0.0 in /usr/local/lib/python3.7/dist-packages (from requests>=2.25.0->spotipy) (2.0.7)\n",
            "Requirement already satisfied: idna<4,>=2.5 in /usr/local/lib/python3.7/dist-packages (from requests>=2.25.0->spotipy) (2.10)\n",
            "Requirement already satisfied: certifi>=2017.4.17 in /usr/local/lib/python3.7/dist-packages (from requests>=2.25.0->spotipy) (2021.10.8)\n"
          ]
        }
      ]
    },
    {
      "cell_type": "markdown",
      "metadata": {
        "id": "De2xYPqlyVnS"
      },
      "source": [
        "### Loading data."
      ]
    },
    {
      "cell_type": "code",
      "metadata": {
        "id": "XyS4lOZwRqko",
        "colab": {
          "base_uri": "https://localhost:8080/",
          "height": 200
        },
        "outputId": "5d8192a7-eb58-4f5d-9a10-709103aa6c1b"
      },
      "source": [
        "df = pd.read_csv(\"/content/drive/MyDrive/Work/ML-Project/data/charts.csv\")\n",
        "df.head()"
      ],
      "execution_count": null,
      "outputs": [
        {
          "output_type": "execute_result",
          "data": {
            "text/html": [
              "<div>\n",
              "<style scoped>\n",
              "    .dataframe tbody tr th:only-of-type {\n",
              "        vertical-align: middle;\n",
              "    }\n",
              "\n",
              "    .dataframe tbody tr th {\n",
              "        vertical-align: top;\n",
              "    }\n",
              "\n",
              "    .dataframe thead th {\n",
              "        text-align: right;\n",
              "    }\n",
              "</style>\n",
              "<table border=\"1\" class=\"dataframe\">\n",
              "  <thead>\n",
              "    <tr style=\"text-align: right;\">\n",
              "      <th></th>\n",
              "      <th>title</th>\n",
              "      <th>rank</th>\n",
              "      <th>date</th>\n",
              "      <th>artist</th>\n",
              "      <th>url</th>\n",
              "      <th>region</th>\n",
              "      <th>chart</th>\n",
              "      <th>trend</th>\n",
              "      <th>streams</th>\n",
              "    </tr>\n",
              "  </thead>\n",
              "  <tbody>\n",
              "    <tr>\n",
              "      <th>0</th>\n",
              "      <td>Despacito (Featuring Daddy Yankee)</td>\n",
              "      <td>1</td>\n",
              "      <td>2017-03-01</td>\n",
              "      <td>Luis Fonsi</td>\n",
              "      <td>https://open.spotify.com/track/4aWmUDTfIPGksMN...</td>\n",
              "      <td>Argentina</td>\n",
              "      <td>top200</td>\n",
              "      <td>SAME_POSITION</td>\n",
              "      <td>365941.0</td>\n",
              "    </tr>\n",
              "    <tr>\n",
              "      <th>1</th>\n",
              "      <td>El Amante</td>\n",
              "      <td>2</td>\n",
              "      <td>2017-03-01</td>\n",
              "      <td>Nicky Jam</td>\n",
              "      <td>https://open.spotify.com/track/3umS4y3uQDkqekN...</td>\n",
              "      <td>Argentina</td>\n",
              "      <td>top200</td>\n",
              "      <td>SAME_POSITION</td>\n",
              "      <td>179697.0</td>\n",
              "    </tr>\n",
              "    <tr>\n",
              "      <th>2</th>\n",
              "      <td>Reggaetón Lento (Bailemos)</td>\n",
              "      <td>3</td>\n",
              "      <td>2017-03-01</td>\n",
              "      <td>CNCO</td>\n",
              "      <td>https://open.spotify.com/track/3AEZUABDXNtecAO...</td>\n",
              "      <td>Argentina</td>\n",
              "      <td>top200</td>\n",
              "      <td>SAME_POSITION</td>\n",
              "      <td>169647.0</td>\n",
              "    </tr>\n",
              "    <tr>\n",
              "      <th>3</th>\n",
              "      <td>Shape of You</td>\n",
              "      <td>4</td>\n",
              "      <td>2017-03-01</td>\n",
              "      <td>Ed Sheeran</td>\n",
              "      <td>https://open.spotify.com/track/7qiZfU4dY1lWllz...</td>\n",
              "      <td>Argentina</td>\n",
              "      <td>top200</td>\n",
              "      <td>SAME_POSITION</td>\n",
              "      <td>168495.0</td>\n",
              "    </tr>\n",
              "    <tr>\n",
              "      <th>4</th>\n",
              "      <td>Chantaje (feat. Maluma)</td>\n",
              "      <td>5</td>\n",
              "      <td>2017-03-01</td>\n",
              "      <td>Shakira</td>\n",
              "      <td>https://open.spotify.com/track/6mICuAdrwEjh6Y6...</td>\n",
              "      <td>Argentina</td>\n",
              "      <td>top200</td>\n",
              "      <td>SAME_POSITION</td>\n",
              "      <td>141696.0</td>\n",
              "    </tr>\n",
              "  </tbody>\n",
              "</table>\n",
              "</div>"
            ],
            "text/plain": [
              "                                title  rank  ...          trend   streams\n",
              "0  Despacito (Featuring Daddy Yankee)     1  ...  SAME_POSITION  365941.0\n",
              "1                           El Amante     2  ...  SAME_POSITION  179697.0\n",
              "2          Reggaetón Lento (Bailemos)     3  ...  SAME_POSITION  169647.0\n",
              "3                        Shape of You     4  ...  SAME_POSITION  168495.0\n",
              "4             Chantaje (feat. Maluma)     5  ...  SAME_POSITION  141696.0\n",
              "\n",
              "[5 rows x 9 columns]"
            ]
          },
          "metadata": {},
          "execution_count": 4
        }
      ]
    },
    {
      "cell_type": "code",
      "metadata": {
        "colab": {
          "base_uri": "https://localhost:8080/"
        },
        "id": "8zH8eDUWxXWi",
        "outputId": "d1f67ee3-6d2b-4a27-e5e4-1694007e3671"
      },
      "source": [
        "len(pd.unique(df['region']))"
      ],
      "execution_count": null,
      "outputs": [
        {
          "output_type": "execute_result",
          "data": {
            "text/plain": [
              "70"
            ]
          },
          "metadata": {},
          "execution_count": 58
        }
      ]
    },
    {
      "cell_type": "code",
      "metadata": {
        "colab": {
          "base_uri": "https://localhost:8080/"
        },
        "id": "s6DCZ9C0yxq9",
        "outputId": "a77a1bd9-8c9f-418c-f9c9-5214646a3a81"
      },
      "source": [
        "len(df)"
      ],
      "execution_count": null,
      "outputs": [
        {
          "output_type": "execute_result",
          "data": {
            "text/plain": [
              "25512202"
            ]
          },
          "metadata": {},
          "execution_count": 28
        }
      ]
    },
    {
      "cell_type": "code",
      "metadata": {
        "colab": {
          "base_uri": "https://localhost:8080/"
        },
        "id": "wzp2ZUy4165x",
        "outputId": "c6061e1b-447c-4da3-a63a-0bd2bc47d82a"
      },
      "source": [
        "len(pd.unique(top200['date'])) # Unique dates Top200."
      ],
      "execution_count": null,
      "outputs": [
        {
          "output_type": "execute_result",
          "data": {
            "text/plain": [
              "1762"
            ]
          },
          "metadata": {},
          "execution_count": 26
        }
      ]
    },
    {
      "cell_type": "code",
      "metadata": {
        "id": "Rlt_7WGPZQAi"
      },
      "source": [
        "top200 = df[df['chart'] == \"top200\"]\n",
        "viral50 = df[df['chart'] == 'viral50']"
      ],
      "execution_count": null,
      "outputs": []
    },
    {
      "cell_type": "code",
      "metadata": {
        "colab": {
          "base_uri": "https://localhost:8080/"
        },
        "id": "lZt9OUHu0-1Q",
        "outputId": "199be1d3-8ebc-447a-8307-c1ef76c57b6f"
      },
      "source": [
        "len(pd.unique(viral50['date'])) # Unique dates Viral50."
      ],
      "execution_count": null,
      "outputs": [
        {
          "output_type": "execute_result",
          "data": {
            "text/plain": [
              "1758"
            ]
          },
          "metadata": {},
          "execution_count": 19
        }
      ]
    },
    {
      "cell_type": "code",
      "metadata": {
        "colab": {
          "base_uri": "https://localhost:8080/"
        },
        "id": "jV4t-4f7UJ0k",
        "outputId": "0a535d25-3b1e-4e49-a6aa-63644d5d0146"
      },
      "source": [
        "print(\"Length Top 200:\", len(top200))\n",
        "print(\"Length Viral 50\", len(viral50))"
      ],
      "execution_count": null,
      "outputs": [
        {
          "output_type": "stream",
          "name": "stdout",
          "text": [
            "Length Top 200: 19873410\n",
            "Length Viral 50 5638792\n"
          ]
        }
      ]
    },
    {
      "cell_type": "markdown",
      "metadata": {
        "id": "1NrqLQbE4tTt"
      },
      "source": [
        "### Cleaning Top200 data"
      ]
    },
    {
      "cell_type": "code",
      "metadata": {
        "colab": {
          "base_uri": "https://localhost:8080/"
        },
        "id": "WEjcwAemUceo",
        "outputId": "e1af49f9-b0e6-4254-d545-9cd46a082898"
      },
      "source": [
        "top200.isnull().sum()"
      ],
      "execution_count": null,
      "outputs": [
        {
          "output_type": "execute_result",
          "data": {
            "text/plain": [
              "title      7\n",
              "rank       0\n",
              "date       0\n",
              "artist     0\n",
              "url        0\n",
              "region     0\n",
              "chart      0\n",
              "trend      0\n",
              "streams    0\n",
              "dtype: int64"
            ]
          },
          "metadata": {},
          "execution_count": 33
        }
      ]
    },
    {
      "cell_type": "code",
      "metadata": {
        "colab": {
          "base_uri": "https://localhost:8080/"
        },
        "id": "6b0cqjP1UPLR",
        "outputId": "ea6cb2ee-e67a-46fa-b116-a301541754d0"
      },
      "source": [
        "top200.columns.to_list()"
      ],
      "execution_count": null,
      "outputs": [
        {
          "output_type": "execute_result",
          "data": {
            "text/plain": [
              "['title',\n",
              " 'rank',\n",
              " 'date',\n",
              " 'artist',\n",
              " 'url',\n",
              " 'region',\n",
              " 'chart',\n",
              " 'trend',\n",
              " 'streams']"
            ]
          },
          "metadata": {},
          "execution_count": 32
        }
      ]
    },
    {
      "cell_type": "code",
      "metadata": {
        "id": "SFmhH9mAUhrf"
      },
      "source": [
        "top200 = top200[top200['title'].notna()]"
      ],
      "execution_count": null,
      "outputs": []
    },
    {
      "cell_type": "code",
      "metadata": {
        "colab": {
          "base_uri": "https://localhost:8080/"
        },
        "id": "2x_r4kSbV1S2",
        "outputId": "6f3ee6a5-dbc7-4350-b83e-62ef0408763e"
      },
      "source": [
        "top200.isnull().sum()"
      ],
      "execution_count": null,
      "outputs": [
        {
          "output_type": "execute_result",
          "data": {
            "text/plain": [
              "title      0\n",
              "rank       0\n",
              "date       0\n",
              "artist     0\n",
              "url        0\n",
              "region     0\n",
              "chart      0\n",
              "trend      0\n",
              "streams    0\n",
              "dtype: int64"
            ]
          },
          "metadata": {},
          "execution_count": 35
        }
      ]
    },
    {
      "cell_type": "code",
      "metadata": {
        "id": "EfHbGOLiDHCf"
      },
      "source": [
        ""
      ],
      "execution_count": null,
      "outputs": []
    },
    {
      "cell_type": "markdown",
      "metadata": {
        "id": "XJKxmDVtV89h"
      },
      "source": [
        "### Adding acoustic parameters, popularity, etc to Top200."
      ]
    },
    {
      "cell_type": "code",
      "metadata": {
        "id": "loc5pYFOV4xn"
      },
      "source": [
        "top200['id'] = top200['url'].apply(lambda x: x.split('/')[4])\n",
        "top200.drop('url',axis=1,inplace=True)"
      ],
      "execution_count": null,
      "outputs": []
    },
    {
      "cell_type": "code",
      "metadata": {
        "id": "WGClUZOEbyK-"
      },
      "source": [
        "client_id = '7ac5c16c450e4d59bd2e9cb28dd6f81b'\n",
        "client_secret = '3811b847b45d4b6282ecc6a8a11878ad'\n",
        "\n",
        "client_credentials_manager = SpotifyClientCredentials(client_id, client_secret)\n",
        "sp = spotipy.Spotify(client_credentials_manager=client_credentials_manager)"
      ],
      "execution_count": null,
      "outputs": []
    },
    {
      "cell_type": "code",
      "metadata": {
        "id": "lvyXH4C1fR5b"
      },
      "source": [
        "song_meta={'id':[],'album':[], 'artist':[], 'explicit':[], 'popularity':[]}\n",
        "\n",
        "for song_id in top200['id']:\n",
        "    # get song's meta data\n",
        "    meta = sp.track(song_id)\n",
        "    song_meta['id'].append(song_id)\n",
        "    album = meta['album']['name']\n",
        "    song_meta['album']+=[album]\n",
        "    # song name\n",
        "    #song=meta['name']\n",
        "    #song_meta['name']+=[song]\n",
        "    \n",
        "    # artists name\n",
        "    s = ', '\n",
        "    artist=s.join([singer_name['name'] for singer_name in meta['artists']])\n",
        "    song_meta['artist']+=[artist]\n",
        "    \n",
        "    # explicit: lyrics could be considered offensive or unsuitable for children\n",
        "    explicit=meta['explicit']\n",
        "    song_meta['explicit'].append(explicit)\n",
        "    \n",
        "    # song popularity\n",
        "    popularity=meta['popularity']\n",
        "    song_meta['popularity'].append(popularity)\n",
        "\n",
        "# check the song feature\n",
        "features = sp.audio_features(song_meta['id'])\n",
        "# change dictionary to dataframe\n",
        "features_df = pd.DataFrame.from_dict(features)\n",
        "\n",
        "# convert milliseconds to mins\n",
        "# duration_ms: The duration of the track in milliseconds.\n",
        "# 1 minute = 60 seconds = 60 × 1000 milliseconds = 60,000 ms\n",
        "features_df['duration_ms']=features_df['duration_ms']/60000\n",
        "song_meta_df = pd.DataFrame.from_dict(song_meta)\n",
        "\n",
        "# combine two dataframe\n",
        "final_df = song_meta_df.merge(features_df)\n",
        "top200_df = final_df.merge(top200)\n",
        "top200_df = top200_df.drop(['uri', 'track_href', 'analysis_url'], axis=1)\n",
        "top200_df = top200_df.sort_values([\"date\", \"rank\"], ascending = (True, True))"
      ],
      "execution_count": null,
      "outputs": []
    },
    {
      "cell_type": "code",
      "metadata": {
        "id": "2JfMiUX-fpES"
      },
      "source": [
        "top200_df.head()"
      ],
      "execution_count": null,
      "outputs": []
    },
    {
      "cell_type": "code",
      "metadata": {
        "colab": {
          "base_uri": "https://localhost:8080/"
        },
        "id": "QB0WubPuqGhg",
        "outputId": "aae4f6d1-3c6b-4798-dc28-7cdd3373b121"
      },
      "source": [
        "top200_df.columns.to_list()"
      ],
      "execution_count": null,
      "outputs": [
        {
          "output_type": "execute_result",
          "data": {
            "text/plain": [
              "['id',\n",
              " 'album',\n",
              " 'artist',\n",
              " 'explicit',\n",
              " 'popularity',\n",
              " 'danceability',\n",
              " 'energy',\n",
              " 'key',\n",
              " 'loudness',\n",
              " 'mode',\n",
              " 'speechiness',\n",
              " 'acousticness',\n",
              " 'instrumentalness',\n",
              " 'liveness',\n",
              " 'valence',\n",
              " 'tempo',\n",
              " 'type',\n",
              " 'uri',\n",
              " 'track_href',\n",
              " 'analysis_url',\n",
              " 'duration_ms',\n",
              " 'time_signature',\n",
              " 'title',\n",
              " 'rank',\n",
              " 'date',\n",
              " 'region',\n",
              " 'chart',\n",
              " 'trend',\n",
              " 'streams']"
            ]
          },
          "metadata": {},
          "execution_count": 47
        }
      ]
    },
    {
      "cell_type": "markdown",
      "metadata": {
        "id": "CSUbB3qhY8S4"
      },
      "source": [
        "Write to .csv file."
      ]
    },
    {
      "cell_type": "code",
      "metadata": {
        "id": "-Pi4ZhVQY9sK"
      },
      "source": [
        "top200_df.to_csv('/content/top200.csv')"
      ],
      "execution_count": null,
      "outputs": []
    }
  ]
}