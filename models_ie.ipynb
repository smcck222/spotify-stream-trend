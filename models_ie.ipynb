{
 "cells": [
  {
   "cell_type": "code",
   "execution_count": 1,
   "metadata": {},
   "outputs": [],
   "source": [
    "import pandas as pd\n",
    "from sklearn.model_selection import train_test_split, GridSearchCV, cross_val_score\n",
    "from sklearn import metrics\n",
    "from sklearn.tree import DecisionTreeClassifier\n",
    "from sklearn.metrics import roc_curve, auc"
   ]
  },
  {
   "cell_type": "code",
   "execution_count": 2,
   "metadata": {},
   "outputs": [
    {
     "name": "stderr",
     "output_type": "stream",
     "text": [
      "/opt/homebrew/Caskroom/miniforge/base/envs/condaenv/lib/python3.8/site-packages/statsmodels/tools/_testing.py:19: FutureWarning: pandas.util.testing is deprecated. Use the functions in the public API at pandas.testing instead.\n",
      "  import pandas.util.testing as tm\n"
     ]
    }
   ],
   "source": [
    "import pandas as pd\n",
    "import matplotlib.pyplot as plt\n",
    "import numpy as np\n",
    "from sklearn.metrics import mean_squared_error as MSE\n",
    "from math import sqrt\n",
    "plt.style.use('ggplot')\n",
    "%matplotlib inline\n",
    "from pandas.plotting import autocorrelation_plot\n",
    "from statsmodels.tsa.stattools import adfuller\n",
    "from statsmodels.tsa.seasonal import seasonal_decompose\n",
    "from statsmodels.tsa.statespace.sarimax import SARIMAX\n",
    "from statsmodels.graphics.tsaplots import plot_acf, plot_pacf\n",
    "import itertools\n",
    "from matplotlib.pylab import rcParams\n",
    "plt.style.use('ggplot')\n",
    "import statsmodels.api as sm\n",
    "import matplotlib as mpl\n",
    "import seaborn as sns\n",
    "from sklearn.linear_model import LogisticRegression\n",
    "from sklearn import tree\n",
    "from sklearn import metrics\n",
    "from sklearn.tree import DecisionTreeClassifier\n",
    "from sklearn.metrics import roc_curve, auc\n",
    "from scipy.spatial.distance import euclidean\n",
    "from sklearn.preprocessing import StandardScaler, MinMaxScaler\n",
    "from sklearn.neighbors import KNeighborsClassifier\n",
    "from sklearn.metrics import precision_score, recall_score, accuracy_score, f1_score, make_scorer\n",
    "from sklearn.tree import export_graphviz\n",
    "from IPython.display import Image\n",
    "from sklearn.model_selection import train_test_split, GridSearchCV, cross_val_score\n",
    "from sklearn.ensemble import RandomForestClassifier, AdaBoostClassifier\n",
    "from sklearn.pipeline import Pipeline\n",
    "from sklearn.metrics import confusion_matrix, classification_report\n",
    "from sklearn.ensemble import BaggingClassifier, RandomForestClassifier\n",
    "import warnings\n",
    "warnings.filterwarnings('ignore')"
   ]
  },
  {
   "cell_type": "code",
   "execution_count": 3,
   "metadata": {},
   "outputs": [
    {
     "data": {
      "text/html": [
       "<div>\n",
       "<style scoped>\n",
       "    .dataframe tbody tr th:only-of-type {\n",
       "        vertical-align: middle;\n",
       "    }\n",
       "\n",
       "    .dataframe tbody tr th {\n",
       "        vertical-align: top;\n",
       "    }\n",
       "\n",
       "    .dataframe thead th {\n",
       "        text-align: right;\n",
       "    }\n",
       "</style>\n",
       "<table border=\"1\" class=\"dataframe\">\n",
       "  <thead>\n",
       "    <tr style=\"text-align: right;\">\n",
       "      <th></th>\n",
       "      <th>Unnamed: 0</th>\n",
       "      <th>Unnamed: 0.1</th>\n",
       "      <th>id</th>\n",
       "      <th>album</th>\n",
       "      <th>artist_x</th>\n",
       "      <th>explicit</th>\n",
       "      <th>popularity</th>\n",
       "      <th>danceability</th>\n",
       "      <th>energy</th>\n",
       "      <th>key</th>\n",
       "      <th>...</th>\n",
       "      <th>duration_ms</th>\n",
       "      <th>time_signature</th>\n",
       "      <th>title</th>\n",
       "      <th>rank</th>\n",
       "      <th>date</th>\n",
       "      <th>artist_y</th>\n",
       "      <th>region</th>\n",
       "      <th>chart</th>\n",
       "      <th>trend</th>\n",
       "      <th>streams</th>\n",
       "    </tr>\n",
       "  </thead>\n",
       "  <tbody>\n",
       "    <tr>\n",
       "      <th>0</th>\n",
       "      <td>1</td>\n",
       "      <td>33223</td>\n",
       "      <td>5knuzwU65gJK7IF5yJsuaW</td>\n",
       "      <td>Rockabye (feat. Sean Paul &amp; Anne-Marie)</td>\n",
       "      <td>Clean Bandit, Sean Paul, Anne-Marie</td>\n",
       "      <td>False</td>\n",
       "      <td>77</td>\n",
       "      <td>0.720</td>\n",
       "      <td>0.763</td>\n",
       "      <td>9</td>\n",
       "      <td>...</td>\n",
       "      <td>4.184800</td>\n",
       "      <td>4</td>\n",
       "      <td>Rockabye (feat. Sean Paul &amp; Anne-Marie)</td>\n",
       "      <td>1</td>\n",
       "      <td>2017-01-01</td>\n",
       "      <td>Clean Bandit</td>\n",
       "      <td>Ireland</td>\n",
       "      <td>top200</td>\n",
       "      <td>SAME_POSITION</td>\n",
       "      <td>24914.0</td>\n",
       "    </tr>\n",
       "    <tr>\n",
       "      <th>1</th>\n",
       "      <td>11</td>\n",
       "      <td>68700</td>\n",
       "      <td>5aAx2yezTd8zXrkmtKl66Z</td>\n",
       "      <td>Starboy</td>\n",
       "      <td>The Weeknd, Daft Punk</td>\n",
       "      <td>True</td>\n",
       "      <td>4</td>\n",
       "      <td>0.681</td>\n",
       "      <td>0.594</td>\n",
       "      <td>7</td>\n",
       "      <td>...</td>\n",
       "      <td>3.840883</td>\n",
       "      <td>4</td>\n",
       "      <td>Starboy</td>\n",
       "      <td>2</td>\n",
       "      <td>2017-01-01</td>\n",
       "      <td>The Weeknd, Daft Punk</td>\n",
       "      <td>Ireland</td>\n",
       "      <td>top200</td>\n",
       "      <td>SAME_POSITION</td>\n",
       "      <td>20407.0</td>\n",
       "    </tr>\n",
       "    <tr>\n",
       "      <th>2</th>\n",
       "      <td>17</td>\n",
       "      <td>40120</td>\n",
       "      <td>5uCax9HTNlzGybIStD3vDh</td>\n",
       "      <td>Back from the Edge</td>\n",
       "      <td>James Arthur</td>\n",
       "      <td>False</td>\n",
       "      <td>86</td>\n",
       "      <td>0.358</td>\n",
       "      <td>0.557</td>\n",
       "      <td>10</td>\n",
       "      <td>...</td>\n",
       "      <td>3.524450</td>\n",
       "      <td>4</td>\n",
       "      <td>Say You Won't Let Go</td>\n",
       "      <td>3</td>\n",
       "      <td>2017-01-01</td>\n",
       "      <td>James Arthur</td>\n",
       "      <td>Ireland</td>\n",
       "      <td>top200</td>\n",
       "      <td>MOVE_UP</td>\n",
       "      <td>18749.0</td>\n",
       "    </tr>\n",
       "    <tr>\n",
       "      <th>3</th>\n",
       "      <td>26</td>\n",
       "      <td>85171</td>\n",
       "      <td>3AsAuGTaDQzavZZThyYlop</td>\n",
       "      <td>Sexual</td>\n",
       "      <td>NEIKED, Dyo</td>\n",
       "      <td>False</td>\n",
       "      <td>0</td>\n",
       "      <td>0.803</td>\n",
       "      <td>0.569</td>\n",
       "      <td>2</td>\n",
       "      <td>...</td>\n",
       "      <td>3.148150</td>\n",
       "      <td>4</td>\n",
       "      <td>Sexual</td>\n",
       "      <td>4</td>\n",
       "      <td>2017-01-01</td>\n",
       "      <td>NEIKED, Dyo</td>\n",
       "      <td>Ireland</td>\n",
       "      <td>top200</td>\n",
       "      <td>MOVE_DOWN</td>\n",
       "      <td>18662.0</td>\n",
       "    </tr>\n",
       "    <tr>\n",
       "      <th>4</th>\n",
       "      <td>39</td>\n",
       "      <td>751025</td>\n",
       "      <td>4b4KcovePX8Ke2cLIQTLM0</td>\n",
       "      <td>Night &amp; Day (Night Edition)</td>\n",
       "      <td>The Vamps, Matoma</td>\n",
       "      <td>False</td>\n",
       "      <td>0</td>\n",
       "      <td>0.544</td>\n",
       "      <td>0.809</td>\n",
       "      <td>8</td>\n",
       "      <td>...</td>\n",
       "      <td>3.294000</td>\n",
       "      <td>4</td>\n",
       "      <td>All Night</td>\n",
       "      <td>5</td>\n",
       "      <td>2017-01-01</td>\n",
       "      <td>The Vamps, Matoma</td>\n",
       "      <td>Ireland</td>\n",
       "      <td>top200</td>\n",
       "      <td>MOVE_DOWN</td>\n",
       "      <td>16781.0</td>\n",
       "    </tr>\n",
       "  </tbody>\n",
       "</table>\n",
       "<p>5 rows × 29 columns</p>\n",
       "</div>"
      ],
      "text/plain": [
       "   Unnamed: 0  Unnamed: 0.1                      id  \\\n",
       "0           1         33223  5knuzwU65gJK7IF5yJsuaW   \n",
       "1          11         68700  5aAx2yezTd8zXrkmtKl66Z   \n",
       "2          17         40120  5uCax9HTNlzGybIStD3vDh   \n",
       "3          26         85171  3AsAuGTaDQzavZZThyYlop   \n",
       "4          39        751025  4b4KcovePX8Ke2cLIQTLM0   \n",
       "\n",
       "                                     album  \\\n",
       "0  Rockabye (feat. Sean Paul & Anne-Marie)   \n",
       "1                                  Starboy   \n",
       "2                       Back from the Edge   \n",
       "3                                   Sexual   \n",
       "4              Night & Day (Night Edition)   \n",
       "\n",
       "                              artist_x  explicit  popularity  danceability  \\\n",
       "0  Clean Bandit, Sean Paul, Anne-Marie     False          77         0.720   \n",
       "1                The Weeknd, Daft Punk      True           4         0.681   \n",
       "2                         James Arthur     False          86         0.358   \n",
       "3                          NEIKED, Dyo     False           0         0.803   \n",
       "4                    The Vamps, Matoma     False           0         0.544   \n",
       "\n",
       "   energy  key  ...  duration_ms  time_signature  \\\n",
       "0   0.763    9  ...     4.184800               4   \n",
       "1   0.594    7  ...     3.840883               4   \n",
       "2   0.557   10  ...     3.524450               4   \n",
       "3   0.569    2  ...     3.148150               4   \n",
       "4   0.809    8  ...     3.294000               4   \n",
       "\n",
       "                                     title  rank        date  \\\n",
       "0  Rockabye (feat. Sean Paul & Anne-Marie)     1  2017-01-01   \n",
       "1                                  Starboy     2  2017-01-01   \n",
       "2                     Say You Won't Let Go     3  2017-01-01   \n",
       "3                                   Sexual     4  2017-01-01   \n",
       "4                                All Night     5  2017-01-01   \n",
       "\n",
       "                artist_y   region   chart          trend  streams  \n",
       "0           Clean Bandit  Ireland  top200  SAME_POSITION  24914.0  \n",
       "1  The Weeknd, Daft Punk  Ireland  top200  SAME_POSITION  20407.0  \n",
       "2           James Arthur  Ireland  top200        MOVE_UP  18749.0  \n",
       "3            NEIKED, Dyo  Ireland  top200      MOVE_DOWN  18662.0  \n",
       "4      The Vamps, Matoma  Ireland  top200      MOVE_DOWN  16781.0  \n",
       "\n",
       "[5 rows x 29 columns]"
      ]
     },
     "execution_count": 3,
     "metadata": {},
     "output_type": "execute_result"
    }
   ],
   "source": [
    "df=pd.read_csv('data/ie/top200_new_ireland.csv')\n",
    "df.head()"
   ]
  },
  {
   "cell_type": "code",
   "execution_count": 4,
   "metadata": {},
   "outputs": [
    {
     "data": {
      "text/plain": [
       "array(['SAME_POSITION', 'MOVE_UP', 'MOVE_DOWN', 'NEW_ENTRY'], dtype=object)"
      ]
     },
     "execution_count": 4,
     "metadata": {},
     "output_type": "execute_result"
    }
   ],
   "source": [
    "df['trend'].unique()"
   ]
  },
  {
   "cell_type": "code",
   "execution_count": 6,
   "metadata": {},
   "outputs": [],
   "source": [
    "def label_trend (row):\n",
    "    if(row['trend'] == 'SAME_POSITION'):\n",
    "        return 0\n",
    "    if(row['trend'] == 'MOVE_UP'):\n",
    "        return 1\n",
    "    if(row['trend'] == 'MOVE_DOWN'):\n",
    "        return -1\n",
    "    if(row['trend'] == 'NEW_ENTRY'):\n",
    "        return 1"
   ]
  },
  {
   "cell_type": "code",
   "execution_count": 7,
   "metadata": {},
   "outputs": [],
   "source": [
    "df['trend_score']=df.apply (lambda row: label_trend(row), axis=1)"
   ]
  },
  {
   "cell_type": "code",
   "execution_count": 8,
   "metadata": {},
   "outputs": [
    {
     "data": {
      "text/html": [
       "<div>\n",
       "<style scoped>\n",
       "    .dataframe tbody tr th:only-of-type {\n",
       "        vertical-align: middle;\n",
       "    }\n",
       "\n",
       "    .dataframe tbody tr th {\n",
       "        vertical-align: top;\n",
       "    }\n",
       "\n",
       "    .dataframe thead th {\n",
       "        text-align: right;\n",
       "    }\n",
       "</style>\n",
       "<table border=\"1\" class=\"dataframe\">\n",
       "  <thead>\n",
       "    <tr style=\"text-align: right;\">\n",
       "      <th></th>\n",
       "      <th>Unnamed: 0.1</th>\n",
       "      <th>popularity</th>\n",
       "      <th>danceability</th>\n",
       "      <th>energy</th>\n",
       "      <th>key</th>\n",
       "      <th>loudness</th>\n",
       "      <th>mode</th>\n",
       "      <th>speechiness</th>\n",
       "      <th>acousticness</th>\n",
       "      <th>instrumentalness</th>\n",
       "      <th>liveness</th>\n",
       "      <th>valence</th>\n",
       "      <th>tempo</th>\n",
       "      <th>duration_ms</th>\n",
       "      <th>title</th>\n",
       "      <th>rank</th>\n",
       "      <th>date</th>\n",
       "      <th>trend</th>\n",
       "      <th>streams</th>\n",
       "      <th>trend_score</th>\n",
       "    </tr>\n",
       "  </thead>\n",
       "  <tbody>\n",
       "    <tr>\n",
       "      <th>0</th>\n",
       "      <td>33223</td>\n",
       "      <td>77</td>\n",
       "      <td>0.720</td>\n",
       "      <td>0.763</td>\n",
       "      <td>9</td>\n",
       "      <td>-4.068</td>\n",
       "      <td>0</td>\n",
       "      <td>0.0523</td>\n",
       "      <td>0.4060</td>\n",
       "      <td>0.000000</td>\n",
       "      <td>0.1800</td>\n",
       "      <td>0.742</td>\n",
       "      <td>101.965</td>\n",
       "      <td>4.184800</td>\n",
       "      <td>Rockabye (feat. Sean Paul &amp; Anne-Marie)</td>\n",
       "      <td>1</td>\n",
       "      <td>2017-01-01</td>\n",
       "      <td>SAME_POSITION</td>\n",
       "      <td>24914.0</td>\n",
       "      <td>0</td>\n",
       "    </tr>\n",
       "    <tr>\n",
       "      <th>1</th>\n",
       "      <td>68700</td>\n",
       "      <td>4</td>\n",
       "      <td>0.681</td>\n",
       "      <td>0.594</td>\n",
       "      <td>7</td>\n",
       "      <td>-7.028</td>\n",
       "      <td>1</td>\n",
       "      <td>0.2820</td>\n",
       "      <td>0.1650</td>\n",
       "      <td>0.000003</td>\n",
       "      <td>0.1340</td>\n",
       "      <td>0.535</td>\n",
       "      <td>186.054</td>\n",
       "      <td>3.840883</td>\n",
       "      <td>Starboy</td>\n",
       "      <td>2</td>\n",
       "      <td>2017-01-01</td>\n",
       "      <td>SAME_POSITION</td>\n",
       "      <td>20407.0</td>\n",
       "      <td>0</td>\n",
       "    </tr>\n",
       "    <tr>\n",
       "      <th>2</th>\n",
       "      <td>40120</td>\n",
       "      <td>86</td>\n",
       "      <td>0.358</td>\n",
       "      <td>0.557</td>\n",
       "      <td>10</td>\n",
       "      <td>-7.398</td>\n",
       "      <td>1</td>\n",
       "      <td>0.0590</td>\n",
       "      <td>0.6950</td>\n",
       "      <td>0.000000</td>\n",
       "      <td>0.0902</td>\n",
       "      <td>0.494</td>\n",
       "      <td>85.043</td>\n",
       "      <td>3.524450</td>\n",
       "      <td>Say You Won't Let Go</td>\n",
       "      <td>3</td>\n",
       "      <td>2017-01-01</td>\n",
       "      <td>MOVE_UP</td>\n",
       "      <td>18749.0</td>\n",
       "      <td>1</td>\n",
       "    </tr>\n",
       "    <tr>\n",
       "      <th>3</th>\n",
       "      <td>85171</td>\n",
       "      <td>0</td>\n",
       "      <td>0.803</td>\n",
       "      <td>0.569</td>\n",
       "      <td>2</td>\n",
       "      <td>-7.392</td>\n",
       "      <td>1</td>\n",
       "      <td>0.0739</td>\n",
       "      <td>0.0623</td>\n",
       "      <td>0.000000</td>\n",
       "      <td>0.0830</td>\n",
       "      <td>0.809</td>\n",
       "      <td>107.986</td>\n",
       "      <td>3.148150</td>\n",
       "      <td>Sexual</td>\n",
       "      <td>4</td>\n",
       "      <td>2017-01-01</td>\n",
       "      <td>MOVE_DOWN</td>\n",
       "      <td>18662.0</td>\n",
       "      <td>-1</td>\n",
       "    </tr>\n",
       "    <tr>\n",
       "      <th>4</th>\n",
       "      <td>751025</td>\n",
       "      <td>0</td>\n",
       "      <td>0.544</td>\n",
       "      <td>0.809</td>\n",
       "      <td>8</td>\n",
       "      <td>-5.098</td>\n",
       "      <td>1</td>\n",
       "      <td>0.0363</td>\n",
       "      <td>0.0038</td>\n",
       "      <td>0.000000</td>\n",
       "      <td>0.3230</td>\n",
       "      <td>0.448</td>\n",
       "      <td>145.017</td>\n",
       "      <td>3.294000</td>\n",
       "      <td>All Night</td>\n",
       "      <td>5</td>\n",
       "      <td>2017-01-01</td>\n",
       "      <td>MOVE_DOWN</td>\n",
       "      <td>16781.0</td>\n",
       "      <td>-1</td>\n",
       "    </tr>\n",
       "  </tbody>\n",
       "</table>\n",
       "</div>"
      ],
      "text/plain": [
       "   Unnamed: 0.1  popularity  danceability  energy  key  loudness  mode  \\\n",
       "0         33223          77         0.720   0.763    9    -4.068     0   \n",
       "1         68700           4         0.681   0.594    7    -7.028     1   \n",
       "2         40120          86         0.358   0.557   10    -7.398     1   \n",
       "3         85171           0         0.803   0.569    2    -7.392     1   \n",
       "4        751025           0         0.544   0.809    8    -5.098     1   \n",
       "\n",
       "   speechiness  acousticness  instrumentalness  liveness  valence    tempo  \\\n",
       "0       0.0523        0.4060          0.000000    0.1800    0.742  101.965   \n",
       "1       0.2820        0.1650          0.000003    0.1340    0.535  186.054   \n",
       "2       0.0590        0.6950          0.000000    0.0902    0.494   85.043   \n",
       "3       0.0739        0.0623          0.000000    0.0830    0.809  107.986   \n",
       "4       0.0363        0.0038          0.000000    0.3230    0.448  145.017   \n",
       "\n",
       "   duration_ms                                    title  rank        date  \\\n",
       "0     4.184800  Rockabye (feat. Sean Paul & Anne-Marie)     1  2017-01-01   \n",
       "1     3.840883                                  Starboy     2  2017-01-01   \n",
       "2     3.524450                     Say You Won't Let Go     3  2017-01-01   \n",
       "3     3.148150                                   Sexual     4  2017-01-01   \n",
       "4     3.294000                                All Night     5  2017-01-01   \n",
       "\n",
       "           trend  streams  trend_score  \n",
       "0  SAME_POSITION  24914.0            0  \n",
       "1  SAME_POSITION  20407.0            0  \n",
       "2        MOVE_UP  18749.0            1  \n",
       "3      MOVE_DOWN  18662.0           -1  \n",
       "4      MOVE_DOWN  16781.0           -1  "
      ]
     },
     "execution_count": 8,
     "metadata": {},
     "output_type": "execute_result"
    }
   ],
   "source": [
    "df=df.drop(['Unnamed: 0','id','album','artist_x','explicit','type','time_signature','artist_y','region','chart'],axis=1)\n",
    "df.head()"
   ]
  },
  {
   "cell_type": "code",
   "execution_count": 9,
   "metadata": {},
   "outputs": [],
   "source": [
    "df=df.drop(['Unnamed: 0.1'],axis=1)"
   ]
  },
  {
   "cell_type": "code",
   "execution_count": 79,
   "metadata": {},
   "outputs": [
    {
     "data": {
      "text/plain": [
       "count    352390.000000\n",
       "mean      11129.063359\n",
       "std       10180.724263\n",
       "min        2003.000000\n",
       "25%        5634.000000\n",
       "50%        7357.000000\n",
       "75%       12671.000000\n",
       "max      319678.000000\n",
       "Name: streams, dtype: float64"
      ]
     },
     "execution_count": 79,
     "metadata": {},
     "output_type": "execute_result"
    }
   ],
   "source": [
    "df['streams'].describe()"
   ]
  },
  {
   "cell_type": "code",
   "execution_count": 10,
   "metadata": {},
   "outputs": [],
   "source": [
    "#df['stream_bins'] = pd.cut(x=df['streams'], bins=[2003, 5634,7357,12671, 319678])\n",
    "df['score'] = pd.cut(x=df['streams'], bins=[2002, 5634,7357,12671, 319678], labels=[0,1,2,3])\n"
   ]
  },
  {
   "cell_type": "code",
   "execution_count": 11,
   "metadata": {},
   "outputs": [
    {
     "data": {
      "text/plain": [
       "0    88139\n",
       "2    88097\n",
       "3    88092\n",
       "1    88061\n",
       "Name: score, dtype: int64"
      ]
     },
     "execution_count": 11,
     "metadata": {},
     "output_type": "execute_result"
    }
   ],
   "source": [
    "df['score'].value_counts()"
   ]
  },
  {
   "cell_type": "code",
   "execution_count": 12,
   "metadata": {},
   "outputs": [
    {
     "data": {
      "text/plain": [
       "popularity          0\n",
       "danceability        0\n",
       "energy              0\n",
       "key                 0\n",
       "loudness            0\n",
       "mode                0\n",
       "speechiness         0\n",
       "acousticness        0\n",
       "instrumentalness    0\n",
       "liveness            0\n",
       "valence             0\n",
       "tempo               0\n",
       "duration_ms         0\n",
       "title               0\n",
       "rank                0\n",
       "date                0\n",
       "trend               0\n",
       "streams             0\n",
       "trend_score         0\n",
       "score               0\n",
       "dtype: int64"
      ]
     },
     "execution_count": 12,
     "metadata": {},
     "output_type": "execute_result"
    }
   ],
   "source": [
    "df.isna().sum()"
   ]
  },
  {
   "cell_type": "code",
   "execution_count": 13,
   "metadata": {},
   "outputs": [],
   "source": [
    "df=df.dropna()"
   ]
  },
  {
   "cell_type": "code",
   "execution_count": 14,
   "metadata": {},
   "outputs": [
    {
     "data": {
      "text/plain": [
       "popularity          0\n",
       "danceability        0\n",
       "energy              0\n",
       "key                 0\n",
       "loudness            0\n",
       "mode                0\n",
       "speechiness         0\n",
       "acousticness        0\n",
       "instrumentalness    0\n",
       "liveness            0\n",
       "valence             0\n",
       "tempo               0\n",
       "duration_ms         0\n",
       "title               0\n",
       "rank                0\n",
       "date                0\n",
       "trend               0\n",
       "streams             0\n",
       "trend_score         0\n",
       "score               0\n",
       "dtype: int64"
      ]
     },
     "execution_count": 14,
     "metadata": {},
     "output_type": "execute_result"
    }
   ],
   "source": [
    "df.isna().sum()"
   ]
  },
  {
   "cell_type": "code",
   "execution_count": 15,
   "metadata": {},
   "outputs": [],
   "source": [
    "df=df[df['date'] ==df.groupby('title')['date'].transform('max')]"
   ]
  },
  {
   "cell_type": "code",
   "execution_count": 16,
   "metadata": {},
   "outputs": [],
   "source": [
    "df.reset_index(inplace=True)"
   ]
  },
  {
   "cell_type": "code",
   "execution_count": 17,
   "metadata": {},
   "outputs": [],
   "source": [
    "df=df.drop(['title','date','streams','trend','index'],axis=1)"
   ]
  },
  {
   "cell_type": "code",
   "execution_count": 18,
   "metadata": {},
   "outputs": [],
   "source": [
    "y = df['score']\n",
    "X = df.drop('score', axis=1)\n",
    "X_train, X_test, y_train, y_test = train_test_split(X,y, random_state=42, test_size=0.2)"
   ]
  },
  {
   "cell_type": "code",
   "execution_count": 19,
   "metadata": {},
   "outputs": [
    {
     "name": "stdout",
     "output_type": "stream",
     "text": [
      "[[439 178  30   1]\n",
      " [150 144  37   5]\n",
      " [ 19  28  53   6]\n",
      " [  1   4   7  13]]\n"
     ]
    }
   ],
   "source": [
    "#Decision tree\n",
    "dt = DecisionTreeClassifier(criterion='entropy', random_state=42)\n",
    "dt.fit(X_train, y_train)\n",
    "# Make predictions using test set \n",
    "y_pred = dt.predict(X_test)\n",
    "# Check the AUC of predictions\n",
    "print(metrics.confusion_matrix(y_test, y_pred))"
   ]
  },
  {
   "cell_type": "code",
   "execution_count": 20,
   "metadata": {},
   "outputs": [
    {
     "name": "stdout",
     "output_type": "stream",
     "text": [
      "              precision    recall  f1-score   support\n",
      "\n",
      "           0       0.72      0.68      0.70       648\n",
      "           1       0.41      0.43      0.42       336\n",
      "           2       0.42      0.50      0.45       106\n",
      "           3       0.52      0.52      0.52        25\n",
      "\n",
      "    accuracy                           0.58      1115\n",
      "   macro avg       0.52      0.53      0.52      1115\n",
      "weighted avg       0.59      0.58      0.59      1115\n",
      "\n"
     ]
    }
   ],
   "source": [
    "print(metrics.classification_report(y_test, y_pred))"
   ]
  },
  {
   "cell_type": "code",
   "execution_count": 21,
   "metadata": {},
   "outputs": [
    {
     "data": {
      "image/png": "[encoded data removed]",
      "text/plain": [
       "<Figure size 864x432 with 1 Axes>"
      ]
     },
     "metadata": {},
     "output_type": "display_data"
    }
   ],
   "source": [
    "max_depths = np.linspace(1,32,32,endpoint=True)\n",
    "# As review, linspace returns evenly spaced numbers over a specified interval.\n",
    "train_results=[]\n",
    "test_results=[]\n",
    "for max_depth in max_depths:\n",
    "    dt = DecisionTreeClassifier(criterion='entropy', max_depth=max_depth, random_state=42)\n",
    "    dt.fit(X_train, y_train)\n",
    "    train_pred = dt.predict(X_train)\n",
    "    #false_positive_rate, true_positive_rate, thresholds = metrics.auc(y_train, train_pred)\n",
    "    auc = metrics.accuracy_score(y_train, train_pred)\n",
    "    # add auc score to the previous train results\n",
    "    train_results.append(auc)\n",
    "    y_pred = dt.predict(X_test)\n",
    "    #false_positive_rate, true_positive_rate, thresholds=roc_curve(y_test, y_pred)\n",
    "    auc = metrics.accuracy_score(y_test, y_pred)\n",
    "    # add score to previous test results\n",
    "    test_results.append(auc)\n",
    "plt.figure(figsize=(12,6))\n",
    "plt.plot(max_depths, train_results, 'b', label='Train AUC')\n",
    "plt.plot(max_depths, test_results, 'r', label='Test AUC')\n",
    "plt.ylabel('Accuracy Score')\n",
    "plt.xlabel('Tree Depth')\n",
    "plt.legend\n",
    "plt.show()"
   ]
  },
  {
   "cell_type": "code",
   "execution_count": 22,
   "metadata": {},
   "outputs": [
    {
     "data": {
      "image/png": "[encoded data removed]",
      "text/plain": [
       "<Figure size 864x432 with 1 Axes>"
      ]
     },
     "metadata": {},
     "output_type": "display_data"
    }
   ],
   "source": [
    "min_samples_splits = np.linspace(0.1,1.0,10, endpoint=True)\n",
    "train_results = []\n",
    "test_results = []\n",
    "for min_samples_split in min_samples_splits:\n",
    "    dt = DecisionTreeClassifier (criterion = 'entropy', min_samples_split = min_samples_split, random_state=42)\n",
    "    dt.fit(X_train, y_train)\n",
    "    train_pred = dt.predict(X_train)\n",
    "    #false_positive_rate, true_positive_rate, thresholds = roc_curve(y_train, train_pred)\n",
    "    acc = metrics.accuracy_score(y_train, train_pred)\n",
    "    train_results.append(acc)\n",
    "    y_pred = dt.predict(X_test)\n",
    "    #false_positive_rate, true_positive_rate, thresholds = roc_curve(y_test, y_pred)\n",
    "    acc = metrics.accuracy_score(y_test, y_pred)\n",
    "    test_results.append(acc)\n",
    "plt.figure(figsize=(12,6))\n",
    "plt.plot(min_samples_splits, train_results, 'b', label = 'Train Acc')\n",
    "plt.plot(min_samples_splits, test_results, 'r',label = 'Test Acc')\n",
    "plt.xlabel('Min. Sample Splits')\n",
    "plt.legend()\n",
    "plt.show()"
   ]
  },
  {
   "cell_type": "code",
   "execution_count": 23,
   "metadata": {},
   "outputs": [
    {
     "data": {
      "image/png": "[encoded data removed]",
      "text/plain": [
       "<Figure size 864x432 with 1 Axes>"
      ]
     },
     "metadata": {},
     "output_type": "display_data"
    }
   ],
   "source": [
    "# Calculate the optimal value for minimum sample leafs\n",
    "min_samples_leafs=np.linspace(0.1,0.5,5, endpoint = True)\n",
    "train_results=[]\n",
    "test_results=[]\n",
    "for min_samples_leaf in min_samples_leafs:\n",
    "    dt = DecisionTreeClassifier(criterion='entropy', min_samples_leaf = min_samples_leaf, random_state=42)\n",
    "    dt.fit(X_train, y_train)\n",
    "    train_pred = dt.predict(X_train)\n",
    "    #false_positive_rate, true_positive_rate, thresholds = roc_curve(y_train, train_pred)\n",
    "    acc = metrics.accuracy_score(y_train, train_pred)\n",
    "    train_results.append(acc)\n",
    "    y_pred = dt.predict(X_test)\n",
    "    #false_positive_rate, true_positive_rate, thresholds = roc_curve (y_test, y_pred)\n",
    "    acc = metrics.accuracy_score(y_test, y_pred)\n",
    "    test_results.append(acc)\n",
    "plt.figure(figsize=(12,6))\n",
    "plt.plot(min_samples_leafs, train_results, 'b', label='Train Acc')\n",
    "plt.plot(min_samples_leafs, test_results, 'r', label='Test Acc')\n",
    "plt.ylabel('Acc')\n",
    "plt.xlabel('Min. Sample Leafs')\n",
    "plt.legend()\n",
    "plt.show()"
   ]
  },
  {
   "cell_type": "code",
   "execution_count": 24,
   "metadata": {},
   "outputs": [
    {
     "data": {
      "image/png": "[encoded data removed]",
      "text/plain": [
       "<Figure size 864x432 with 1 Axes>"
      ]
     },
     "metadata": {},
     "output_type": "display_data"
    }
   ],
   "source": [
    "max_features = list(range(1, X_train.shape[1]))\n",
    "train_results = []\n",
    "test_results = []\n",
    "for max_feature in max_features:\n",
    "    dt = DecisionTreeClassifier(criterion = 'entropy', max_features = max_feature, random_state=42)\n",
    "    dt.fit(X_train, y_train)\n",
    "    train_pred = dt.predict(X_train)\n",
    "    #false_positive_rate, true_positive_rate, thresholds = roc_curve(y_train, train_pred)\n",
    "    acc = metrics.accuracy_score(y_train, train_pred)\n",
    "    train_results.append(acc)\n",
    "    y_pred = dt.predict(X_test)\n",
    "    #false_positive_rate, true_positive_rate, thresholds = roc_curve(y_test, y_pred)\n",
    "    acc = metrics.accuracy_score(y_test, y_pred)\n",
    "    test_results.append(acc)\n",
    "plt.figure(figsize=(12,6))\n",
    "plt.plot(max_features, train_results, 'b', label = 'Train Acc')\n",
    "plt.plot(max_features, test_results, 'r', label = 'Test Acc')\n",
    "plt.ylabel('Acc Score')\n",
    "plt.xlabel('max features')\n",
    "plt.legend()\n",
    "plt.show()"
   ]
  },
  {
   "cell_type": "code",
   "execution_count": 25,
   "metadata": {},
   "outputs": [
    {
     "data": {
      "text/plain": [
       "DecisionTreeClassifier(criterion='entropy', max_depth=6, max_features=9,\n",
       "                       min_samples_leaf=0.1, min_samples_split=0.1,\n",
       "                       random_state=42)"
      ]
     },
     "execution_count": 25,
     "metadata": {},
     "output_type": "execute_result"
    }
   ],
   "source": [
    "dt2 = DecisionTreeClassifier(criterion='entropy',\n",
    "                           max_features=9,\n",
    "                           max_depth = 6,\n",
    "                           min_samples_split = 0.1,\n",
    "                           min_samples_leaf = 0.1,\n",
    "                           random_state = 42)\n",
    "\n",
    "dt2.fit(X_train, y_train)"
   ]
  },
  {
   "cell_type": "code",
   "execution_count": 26,
   "metadata": {},
   "outputs": [
    {
     "name": "stdout",
     "output_type": "stream",
     "text": [
      "Accuracy is: 65.47085201793722\n",
      "\n",
      "Confusion Matrix\n",
      "----------------\n"
     ]
    },
    {
     "data": {
      "text/html": [
       "<div>\n",
       "<style scoped>\n",
       "    .dataframe tbody tr th:only-of-type {\n",
       "        vertical-align: middle;\n",
       "    }\n",
       "\n",
       "    .dataframe tbody tr th {\n",
       "        vertical-align: top;\n",
       "    }\n",
       "\n",
       "    .dataframe thead th {\n",
       "        text-align: right;\n",
       "    }\n",
       "</style>\n",
       "<table border=\"1\" class=\"dataframe\">\n",
       "  <thead>\n",
       "    <tr style=\"text-align: right;\">\n",
       "      <th>Predicted</th>\n",
       "      <th>0</th>\n",
       "      <th>1</th>\n",
       "      <th>2</th>\n",
       "      <th>All</th>\n",
       "    </tr>\n",
       "    <tr>\n",
       "      <th>True</th>\n",
       "      <th></th>\n",
       "      <th></th>\n",
       "      <th></th>\n",
       "      <th></th>\n",
       "    </tr>\n",
       "  </thead>\n",
       "  <tbody>\n",
       "    <tr>\n",
       "      <th>0</th>\n",
       "      <td>579</td>\n",
       "      <td>52</td>\n",
       "      <td>17</td>\n",
       "      <td>648</td>\n",
       "    </tr>\n",
       "    <tr>\n",
       "      <th>1</th>\n",
       "      <td>235</td>\n",
       "      <td>77</td>\n",
       "      <td>24</td>\n",
       "      <td>336</td>\n",
       "    </tr>\n",
       "    <tr>\n",
       "      <th>2</th>\n",
       "      <td>22</td>\n",
       "      <td>10</td>\n",
       "      <td>74</td>\n",
       "      <td>106</td>\n",
       "    </tr>\n",
       "    <tr>\n",
       "      <th>3</th>\n",
       "      <td>2</td>\n",
       "      <td>5</td>\n",
       "      <td>18</td>\n",
       "      <td>25</td>\n",
       "    </tr>\n",
       "    <tr>\n",
       "      <th>All</th>\n",
       "      <td>838</td>\n",
       "      <td>144</td>\n",
       "      <td>133</td>\n",
       "      <td>1115</td>\n",
       "    </tr>\n",
       "  </tbody>\n",
       "</table>\n",
       "</div>"
      ],
      "text/plain": [
       "Predicted    0    1    2   All\n",
       "True                          \n",
       "0          579   52   17   648\n",
       "1          235   77   24   336\n",
       "2           22   10   74   106\n",
       "3            2    5   18    25\n",
       "All        838  144  133  1115"
      ]
     },
     "execution_count": 26,
     "metadata": {},
     "output_type": "execute_result"
    }
   ],
   "source": [
    "y_pred = dt2.predict(X_test)\n",
    "# Calculate accuracy \n",
    "acc = accuracy_score(y_test, y_pred) * 100\n",
    "print('Accuracy is: {0}'.format(acc))\n",
    "# Create and print a confusion matrix \n",
    "print('\\nConfusion Matrix')\n",
    "print('----------------')\n",
    "pd.crosstab(y_test,y_pred,rownames=['True'], colnames=['Predicted'], margins=True)"
   ]
  },
  {
   "cell_type": "code",
   "execution_count": 27,
   "metadata": {},
   "outputs": [
    {
     "name": "stdout",
     "output_type": "stream",
     "text": [
      "[[579  52  17   0]\n",
      " [235  77  24   0]\n",
      " [ 22  10  74   0]\n",
      " [  2   5  18   0]]\n",
      "              precision    recall  f1-score   support\n",
      "\n",
      "           0       0.69      0.89      0.78       648\n",
      "           1       0.53      0.23      0.32       336\n",
      "           2       0.56      0.70      0.62       106\n",
      "           3       0.00      0.00      0.00        25\n",
      "\n",
      "    accuracy                           0.65      1115\n",
      "   macro avg       0.45      0.46      0.43      1115\n",
      "weighted avg       0.62      0.65      0.61      1115\n",
      "\n"
     ]
    }
   ],
   "source": [
    "# Confusion matrix and classification report\n",
    "print(confusion_matrix(y_test, y_pred))\n",
    "print(classification_report(y_test, y_pred))"
   ]
  },
  {
   "cell_type": "code",
   "execution_count": 28,
   "metadata": {},
   "outputs": [],
   "source": [
    "import graphviz\n",
    "def plot_feature_importances(model):\n",
    "    n_features = X_train.shape[1]\n",
    "    plt.figure(figsize=(8,8))\n",
    "    plt.barh(range(n_features), model.feature_importances_, align='center') \n",
    "    plt.yticks(np.arange(n_features), X_train.columns.values) \n",
    "    plt.xlabel('Feature importance')\n",
    "    plt.ylabel('Feature')\n"
   ]
  },
  {
   "cell_type": "code",
   "execution_count": 29,
   "metadata": {},
   "outputs": [
    {
     "data": {
      "image/png": "[encoded data removed]",
      "text/plain": [
       "<Figure size 576x576 with 1 Axes>"
      ]
     },
     "metadata": {},
     "output_type": "display_data"
    }
   ],
   "source": [
    "plot_feature_importances(dt2)"
   ]
  },
  {
   "cell_type": "code",
   "execution_count": 30,
   "metadata": {},
   "outputs": [
    {
     "data": {
      "text/html": [
       "<div>\n",
       "<style scoped>\n",
       "    .dataframe tbody tr th:only-of-type {\n",
       "        vertical-align: middle;\n",
       "    }\n",
       "\n",
       "    .dataframe tbody tr th {\n",
       "        vertical-align: top;\n",
       "    }\n",
       "\n",
       "    .dataframe thead th {\n",
       "        text-align: right;\n",
       "    }\n",
       "</style>\n",
       "<table border=\"1\" class=\"dataframe\">\n",
       "  <thead>\n",
       "    <tr style=\"text-align: right;\">\n",
       "      <th></th>\n",
       "      <th>popularity</th>\n",
       "      <th>danceability</th>\n",
       "      <th>energy</th>\n",
       "      <th>key</th>\n",
       "      <th>loudness</th>\n",
       "      <th>mode</th>\n",
       "      <th>speechiness</th>\n",
       "      <th>acousticness</th>\n",
       "      <th>instrumentalness</th>\n",
       "      <th>liveness</th>\n",
       "      <th>valence</th>\n",
       "      <th>tempo</th>\n",
       "      <th>duration_ms</th>\n",
       "      <th>rank</th>\n",
       "      <th>trend_score</th>\n",
       "    </tr>\n",
       "  </thead>\n",
       "  <tbody>\n",
       "    <tr>\n",
       "      <th>0</th>\n",
       "      <td>0.544879</td>\n",
       "      <td>0.568096</td>\n",
       "      <td>-1.192063</td>\n",
       "      <td>0.774792</td>\n",
       "      <td>-0.010010</td>\n",
       "      <td>0.783985</td>\n",
       "      <td>-0.426770</td>\n",
       "      <td>0.648014</td>\n",
       "      <td>-0.204253</td>\n",
       "      <td>-0.849556</td>\n",
       "      <td>-0.144873</td>\n",
       "      <td>-0.242546</td>\n",
       "      <td>-0.654334</td>\n",
       "      <td>0.822404</td>\n",
       "      <td>-1.325206</td>\n",
       "    </tr>\n",
       "    <tr>\n",
       "      <th>1</th>\n",
       "      <td>1.147944</td>\n",
       "      <td>0.110859</td>\n",
       "      <td>0.189419</td>\n",
       "      <td>-0.867504</td>\n",
       "      <td>-1.910414</td>\n",
       "      <td>0.783985</td>\n",
       "      <td>-0.661679</td>\n",
       "      <td>-0.529934</td>\n",
       "      <td>-0.195877</td>\n",
       "      <td>-0.475651</td>\n",
       "      <td>-1.404162</td>\n",
       "      <td>-0.711682</td>\n",
       "      <td>-0.190262</td>\n",
       "      <td>0.199136</td>\n",
       "      <td>0.762345</td>\n",
       "    </tr>\n",
       "    <tr>\n",
       "      <th>2</th>\n",
       "      <td>0.243346</td>\n",
       "      <td>0.594224</td>\n",
       "      <td>-1.078738</td>\n",
       "      <td>-1.141220</td>\n",
       "      <td>-0.207570</td>\n",
       "      <td>-1.275535</td>\n",
       "      <td>0.025173</td>\n",
       "      <td>1.444286</td>\n",
       "      <td>-0.204253</td>\n",
       "      <td>-0.524664</td>\n",
       "      <td>-0.057725</td>\n",
       "      <td>-0.929323</td>\n",
       "      <td>-0.869453</td>\n",
       "      <td>0.470122</td>\n",
       "      <td>-1.325206</td>\n",
       "    </tr>\n",
       "    <tr>\n",
       "      <th>3</th>\n",
       "      <td>0.167963</td>\n",
       "      <td>-0.588061</td>\n",
       "      <td>-0.172141</td>\n",
       "      <td>-0.867504</td>\n",
       "      <td>-0.221402</td>\n",
       "      <td>0.783985</td>\n",
       "      <td>-0.601250</td>\n",
       "      <td>-0.761925</td>\n",
       "      <td>-0.204253</td>\n",
       "      <td>-0.695512</td>\n",
       "      <td>-1.343159</td>\n",
       "      <td>-1.582105</td>\n",
       "      <td>0.171300</td>\n",
       "      <td>0.388827</td>\n",
       "      <td>-1.325206</td>\n",
       "    </tr>\n",
       "    <tr>\n",
       "      <th>4</th>\n",
       "      <td>0.544879</td>\n",
       "      <td>-0.320250</td>\n",
       "      <td>-1.219045</td>\n",
       "      <td>-1.414936</td>\n",
       "      <td>-1.987026</td>\n",
       "      <td>0.783985</td>\n",
       "      <td>-0.632741</td>\n",
       "      <td>2.179307</td>\n",
       "      <td>-0.204128</td>\n",
       "      <td>-0.650700</td>\n",
       "      <td>-0.314811</td>\n",
       "      <td>1.102245</td>\n",
       "      <td>0.755904</td>\n",
       "      <td>-0.830610</td>\n",
       "      <td>0.762345</td>\n",
       "    </tr>\n",
       "  </tbody>\n",
       "</table>\n",
       "</div>"
      ],
      "text/plain": [
       "   popularity  danceability    energy       key  loudness      mode  \\\n",
       "0    0.544879      0.568096 -1.192063  0.774792 -0.010010  0.783985   \n",
       "1    1.147944      0.110859  0.189419 -0.867504 -1.910414  0.783985   \n",
       "2    0.243346      0.594224 -1.078738 -1.141220 -0.207570 -1.275535   \n",
       "3    0.167963     -0.588061 -0.172141 -0.867504 -0.221402  0.783985   \n",
       "4    0.544879     -0.320250 -1.219045 -1.414936 -1.987026  0.783985   \n",
       "\n",
       "   speechiness  acousticness  instrumentalness  liveness   valence     tempo  \\\n",
       "0    -0.426770      0.648014         -0.204253 -0.849556 -0.144873 -0.242546   \n",
       "1    -0.661679     -0.529934         -0.195877 -0.475651 -1.404162 -0.711682   \n",
       "2     0.025173      1.444286         -0.204253 -0.524664 -0.057725 -0.929323   \n",
       "3    -0.601250     -0.761925         -0.204253 -0.695512 -1.343159 -1.582105   \n",
       "4    -0.632741      2.179307         -0.204128 -0.650700 -0.314811  1.102245   \n",
       "\n",
       "   duration_ms      rank  trend_score  \n",
       "0    -0.654334  0.822404    -1.325206  \n",
       "1    -0.190262  0.199136     0.762345  \n",
       "2    -0.869453  0.470122    -1.325206  \n",
       "3     0.171300  0.388827    -1.325206  \n",
       "4     0.755904 -0.830610     0.762345  "
      ]
     },
     "execution_count": 30,
     "metadata": {},
     "output_type": "execute_result"
    }
   ],
   "source": [
    "# Instantiate StandardScaler\n",
    "scaler = StandardScaler()\n",
    "\n",
    "# Transform the training and test sets\n",
    "scaled_data_train = scaler.fit_transform(X_train)\n",
    "scaled_data_test = scaler.fit_transform(X_test)\n",
    "\n",
    "# Convert into a DataFrame\n",
    "scaled_df_train = pd.DataFrame(scaled_data_train, columns=X.columns)\n",
    "scaled_df_train.head()"
   ]
  },
  {
   "cell_type": "code",
   "execution_count": 31,
   "metadata": {},
   "outputs": [],
   "source": [
    "# Instantiate KNeighborsClassifier\n",
    "clf = KNeighborsClassifier()\n",
    "\n",
    "# Fit the classifier\n",
    "clf.fit(scaled_data_train, y_train)\n",
    "\n",
    "# Predict on the test set\n",
    "test_preds = clf.predict(scaled_data_test)"
   ]
  },
  {
   "cell_type": "code",
   "execution_count": 32,
   "metadata": {},
   "outputs": [
    {
     "name": "stdout",
     "output_type": "stream",
     "text": [
      "[[510 132   6   0]\n",
      " [231  95   9   1]\n",
      " [ 27  41  32   6]\n",
      " [  5   4   7   9]]\n",
      "              precision    recall  f1-score   support\n",
      "\n",
      "           0       0.66      0.79      0.72       648\n",
      "           1       0.35      0.28      0.31       336\n",
      "           2       0.59      0.30      0.40       106\n",
      "           3       0.56      0.36      0.44        25\n",
      "\n",
      "    accuracy                           0.58      1115\n",
      "   macro avg       0.54      0.43      0.47      1115\n",
      "weighted avg       0.56      0.58      0.56      1115\n",
      "\n"
     ]
    }
   ],
   "source": [
    "print(confusion_matrix(y_test, test_preds))\n",
    "print(classification_report(y_test, test_preds))"
   ]
  },
  {
   "cell_type": "code",
   "execution_count": 33,
   "metadata": {},
   "outputs": [],
   "source": [
    "def find_best_k(X_train, y_train, X_test, y_test, min_k=1, max_k=34):\n",
    "    best_k = 0\n",
    "    best_score = 0.0\n",
    "    for k in range (min_k, max_k+1, 2):\n",
    "        knn = KNeighborsClassifier(n_neighbors = k)\n",
    "        knn.fit(X_train, y_train)\n",
    "        preds = knn.predict(X_test)\n",
    "        f1 = f1_score (y_test, preds, average='micro')\n",
    "        if f1 > best_score:\n",
    "            best_k = k\n",
    "            best_score = f1\n",
    "    print (\"Best value for k: {}\".format(best_k))\n",
    "    print (\"F1-Score: {}\".format(best_score))"
   ]
  },
  {
   "cell_type": "code",
   "execution_count": 34,
   "metadata": {},
   "outputs": [
    {
     "name": "stdout",
     "output_type": "stream",
     "text": [
      "Best value for k: 33\n",
      "F1-Score: 0.6385650224215247\n"
     ]
    }
   ],
   "source": [
    "find_best_k(scaled_data_train, y_train, scaled_data_test, y_test)"
   ]
  },
  {
   "cell_type": "code",
   "execution_count": 35,
   "metadata": {},
   "outputs": [],
   "source": [
    "# Instantiate KNeighborsClassifier\n",
    "clf2 = KNeighborsClassifier(n_neighbors=33)\n",
    "\n",
    "# Fit the classifier\n",
    "clf2.fit(scaled_data_train, y_train)\n",
    "\n",
    "# Predict on the test set\n",
    "test_preds = clf2.predict(scaled_data_test)"
   ]
  },
  {
   "cell_type": "code",
   "execution_count": 36,
   "metadata": {},
   "outputs": [
    {
     "name": "stdout",
     "output_type": "stream",
     "text": [
      "[[603  45   0   0]\n",
      " [271  62   3   0]\n",
      " [ 41  26  36   3]\n",
      " [  6   2   6  11]]\n",
      "              precision    recall  f1-score   support\n",
      "\n",
      "           0       0.65      0.93      0.77       648\n",
      "           1       0.46      0.18      0.26       336\n",
      "           2       0.80      0.34      0.48       106\n",
      "           3       0.79      0.44      0.56        25\n",
      "\n",
      "    accuracy                           0.64      1115\n",
      "   macro avg       0.67      0.47      0.52      1115\n",
      "weighted avg       0.61      0.64      0.58      1115\n",
      "\n"
     ]
    }
   ],
   "source": [
    "print(confusion_matrix(y_test, test_preds))\n",
    "print(classification_report(y_test, test_preds))"
   ]
  },
  {
   "cell_type": "code",
   "execution_count": 37,
   "metadata": {},
   "outputs": [],
   "source": [
    "#Random forest\n",
    "# Instantiate a BaggingClassifier\n",
    "bagged_tree = BaggingClassifier(DecisionTreeClassifier(criterion='entropy', max_depth=5), \n",
    "                                 n_estimators=20)"
   ]
  },
  {
   "cell_type": "code",
   "execution_count": 38,
   "metadata": {},
   "outputs": [
    {
     "data": {
      "text/plain": [
       "BaggingClassifier(base_estimator=DecisionTreeClassifier(criterion='entropy',\n",
       "                                                        max_depth=5),\n",
       "                  n_estimators=20)"
      ]
     },
     "execution_count": 38,
     "metadata": {},
     "output_type": "execute_result"
    }
   ],
   "source": [
    "# Fit to the training data\n",
    "bagged_tree.fit(X_train, y_train)"
   ]
  },
  {
   "cell_type": "code",
   "execution_count": 39,
   "metadata": {},
   "outputs": [
    {
     "data": {
      "text/plain": [
       "0.6848362494392104"
      ]
     },
     "execution_count": 39,
     "metadata": {},
     "output_type": "execute_result"
    }
   ],
   "source": [
    "# Training accuracy score\n",
    "bagged_tree.score(X_train, y_train)"
   ]
  },
  {
   "cell_type": "code",
   "execution_count": 40,
   "metadata": {},
   "outputs": [
    {
     "data": {
      "text/plain": [
       "0.6887892376681615"
      ]
     },
     "execution_count": 40,
     "metadata": {},
     "output_type": "execute_result"
    }
   ],
   "source": [
    "# Test accuracy score\n",
    "bagged_tree.score(X_test, y_test)"
   ]
  },
  {
   "cell_type": "code",
   "execution_count": 41,
   "metadata": {},
   "outputs": [
    {
     "name": "stdout",
     "output_type": "stream",
     "text": [
      "[[572  62  14   0]\n",
      " [204 112  20   0]\n",
      " [ 12  21  72   1]\n",
      " [  1   6   6  12]]\n",
      "              precision    recall  f1-score   support\n",
      "\n",
      "           0       0.72      0.88      0.80       648\n",
      "           1       0.56      0.33      0.42       336\n",
      "           2       0.64      0.68      0.66       106\n",
      "           3       0.92      0.48      0.63        25\n",
      "\n",
      "    accuracy                           0.69      1115\n",
      "   macro avg       0.71      0.59      0.63      1115\n",
      "weighted avg       0.67      0.69      0.67      1115\n",
      "\n"
     ]
    }
   ],
   "source": [
    "# Test set predictions\n",
    "pred = bagged_tree.predict(X_test)\n",
    "\n",
    "# Confusion matrix and classification report\n",
    "print(confusion_matrix(y_test, pred))\n",
    "print(classification_report(y_test, pred))"
   ]
  },
  {
   "cell_type": "code",
   "execution_count": 42,
   "metadata": {},
   "outputs": [
    {
     "data": {
      "text/plain": [
       "RandomForestClassifier(max_depth=6)"
      ]
     },
     "execution_count": 42,
     "metadata": {},
     "output_type": "execute_result"
    }
   ],
   "source": [
    "# Instantiate and fit a RandomForestClassifier\n",
    "forest = RandomForestClassifier(n_estimators=100, max_depth=6)\n",
    "forest.fit(X_train, y_train)"
   ]
  },
  {
   "cell_type": "code",
   "execution_count": 43,
   "metadata": {},
   "outputs": [
    {
     "data": {
      "text/plain": [
       "0.6763122476446837"
      ]
     },
     "execution_count": 43,
     "metadata": {},
     "output_type": "execute_result"
    }
   ],
   "source": [
    "# Training accuracy score\n",
    "forest.score(X_train, y_train)"
   ]
  },
  {
   "cell_type": "code",
   "execution_count": 44,
   "metadata": {},
   "outputs": [
    {
     "data": {
      "text/plain": [
       "0.6717488789237668"
      ]
     },
     "execution_count": 44,
     "metadata": {},
     "output_type": "execute_result"
    }
   ],
   "source": [
    "# Test accuracy score\n",
    "forest.score(X_test, y_test)"
   ]
  },
  {
   "cell_type": "code",
   "execution_count": 45,
   "metadata": {},
   "outputs": [
    {
     "data": {
      "image/png": "[encoded data removed]",
      "text/plain": [
       "<Figure size 576x576 with 1 Axes>"
      ]
     },
     "metadata": {},
     "output_type": "display_data"
    }
   ],
   "source": [
    "plot_feature_importances(forest)"
   ]
  },
  {
   "cell_type": "code",
   "execution_count": 46,
   "metadata": {},
   "outputs": [
    {
     "name": "stdout",
     "output_type": "stream",
     "text": [
      "[[631  10   7   0]\n",
      " [279  42  15   0]\n",
      " [ 31   7  68   0]\n",
      " [  8   2   7   8]]\n",
      "              precision    recall  f1-score   support\n",
      "\n",
      "           0       0.66      0.97      0.79       648\n",
      "           1       0.69      0.12      0.21       336\n",
      "           2       0.70      0.64      0.67       106\n",
      "           3       1.00      0.32      0.48        25\n",
      "\n",
      "    accuracy                           0.67      1115\n",
      "   macro avg       0.76      0.52      0.54      1115\n",
      "weighted avg       0.68      0.67      0.60      1115\n",
      "\n"
     ]
    }
   ],
   "source": [
    "# Test set predictions for forest:\n",
    "pred = forest.predict(X_test)\n",
    "\n",
    "# Confusion matrix and classification report\n",
    "print(confusion_matrix(y_test, pred))\n",
    "print(classification_report(y_test, pred))"
   ]
  },
  {
   "cell_type": "code",
   "execution_count": 47,
   "metadata": {},
   "outputs": [
    {
     "name": "stdout",
     "output_type": "stream",
     "text": [
      "Mean Cross Val Score for Random Forest Classifier: 66.24%\n"
     ]
    }
   ],
   "source": [
    "#GridSearch random forest\n",
    "rf_clf = RandomForestClassifier()\n",
    "mean_rf_cv_score = np.mean(cross_val_score(rf_clf, X_train, y_train, cv=3))\n",
    "\n",
    "print(f\"Mean Cross Val Score for Random Forest Classifier: {mean_rf_cv_score :.2%}\")"
   ]
  },
  {
   "cell_type": "code",
   "execution_count": 48,
   "metadata": {},
   "outputs": [],
   "source": [
    "rf_param_grid = {\n",
    "    'n_estimators' : [10,30,100],\n",
    "    'criterion' : ['gini', 'entropy'],\n",
    "    'max_depth' : [None, 2,6,10],\n",
    "    'min_samples_split' : [5,10],\n",
    "    'min_samples_leaf' : [3,6]\n",
    "    \n",
    "}"
   ]
  },
  {
   "cell_type": "code",
   "execution_count": 49,
   "metadata": {},
   "outputs": [
    {
     "name": "stdout",
     "output_type": "stream",
     "text": [
      "Testing Accuracy: 66.80%\n",
      "\n",
      "Optimal Parameters: {'criterion': 'gini', 'max_depth': None, 'min_samples_leaf': 3, 'min_samples_split': 10, 'n_estimators': 100}\n"
     ]
    }
   ],
   "source": [
    "rf_grid_search = GridSearchCV(rf_clf, rf_param_grid, cv=3)\n",
    "rf_grid_search.fit(X_train, y_train)\n",
    "\n",
    "\n",
    "print(f\"Testing Accuracy: {rf_grid_search.best_score_ :.2%}\")\n",
    "print(\"\")\n",
    "print(f\"Optimal Parameters: {rf_grid_search.best_params_}\")"
   ]
  },
  {
   "cell_type": "code",
   "execution_count": 50,
   "metadata": {},
   "outputs": [
    {
     "data": {
      "text/plain": [
       "RandomForestClassifier(min_samples_leaf=3, min_samples_split=10)"
      ]
     },
     "execution_count": 50,
     "metadata": {},
     "output_type": "execute_result"
    }
   ],
   "source": [
    "forest2 = RandomForestClassifier(n_estimators=100, max_depth=None, \n",
    "                                criterion = 'gini', min_samples_leaf=3,\n",
    "                                min_samples_split=10)\n",
    "forest2.fit(X_train, y_train)"
   ]
  },
  {
   "cell_type": "code",
   "execution_count": 51,
   "metadata": {},
   "outputs": [
    {
     "data": {
      "text/plain": [
       "0.9147599820547331"
      ]
     },
     "execution_count": 51,
     "metadata": {},
     "output_type": "execute_result"
    }
   ],
   "source": [
    "# Training accuracy score\n",
    "forest2.score(X_train, y_train)"
   ]
  },
  {
   "cell_type": "code",
   "execution_count": 52,
   "metadata": {},
   "outputs": [
    {
     "data": {
      "text/plain": [
       "0.6816143497757847"
      ]
     },
     "execution_count": 52,
     "metadata": {},
     "output_type": "execute_result"
    }
   ],
   "source": [
    "# Test accuracy score\n",
    "forest2.score(X_test, y_test)"
   ]
  },
  {
   "cell_type": "code",
   "execution_count": 53,
   "metadata": {},
   "outputs": [
    {
     "name": "stdout",
     "output_type": "stream",
     "text": [
      "[[574  64  10   0]\n",
      " [217 101  18   0]\n",
      " [ 20  15  70   1]\n",
      " [  2   5   3  15]]\n",
      "              precision    recall  f1-score   support\n",
      "\n",
      "           0       0.71      0.89      0.79       648\n",
      "           1       0.55      0.30      0.39       336\n",
      "           2       0.69      0.66      0.68       106\n",
      "           3       0.94      0.60      0.73        25\n",
      "\n",
      "    accuracy                           0.68      1115\n",
      "   macro avg       0.72      0.61      0.65      1115\n",
      "weighted avg       0.66      0.68      0.65      1115\n",
      "\n"
     ]
    }
   ],
   "source": [
    "# Test set predictions for final forest:\n",
    "pred = forest2.predict(X_test)\n",
    "\n",
    "# Confusion matrix and classification report\n",
    "print(confusion_matrix(y_test, pred))\n",
    "print(classification_report(y_test, pred))"
   ]
  },
  {
   "cell_type": "code",
   "execution_count": 54,
   "metadata": {},
   "outputs": [
    {
     "data": {
      "image/png": "[encoded data removed]",
      "text/plain": [
       "<Figure size 576x576 with 1 Axes>"
      ]
     },
     "metadata": {},
     "output_type": "display_data"
    }
   ],
   "source": [
    "plot_feature_importances(forest2)"
   ]
  },
  {
   "cell_type": "code",
   "execution_count": 55,
   "metadata": {},
   "outputs": [],
   "source": [
    "#using the more importantfeatures - remove mode, trend_score,key, instrumentalness\n",
    "X = df[['rank','popularity', 'duration_ms','valence',\n",
    "        'danceability','tempo', 'liveness', 'acousticness', 'speechiness','loudness','energy']]"
   ]
  },
  {
   "cell_type": "code",
   "execution_count": 56,
   "metadata": {},
   "outputs": [],
   "source": [
    "X_train, X_test, y_train, y_test = train_test_split(X,y,random_state=42, test_size=0.2)"
   ]
  },
  {
   "cell_type": "code",
   "execution_count": 57,
   "metadata": {},
   "outputs": [
    {
     "data": {
      "text/plain": [
       "DecisionTreeClassifier(criterion='entropy', random_state=42)"
      ]
     },
     "execution_count": 57,
     "metadata": {},
     "output_type": "execute_result"
    }
   ],
   "source": [
    "#untuned decision tree\n",
    "dt4 = DecisionTreeClassifier(criterion='entropy', random_state=42)\n",
    "dt4.fit(X_train, y_train)"
   ]
  },
  {
   "cell_type": "code",
   "execution_count": 60,
   "metadata": {},
   "outputs": [
    {
     "name": "stdout",
     "output_type": "stream",
     "text": [
      "0.5730941704035875\n"
     ]
    }
   ],
   "source": [
    "# Make predictions using test set \n",
    "y_pred = dt4.predict(X_test)\n",
    "\n",
    "# Check the AUC of predictions\n",
    "print(metrics.accuracy_score(y_test, y_pred))"
   ]
  },
  {
   "cell_type": "code",
   "execution_count": 61,
   "metadata": {},
   "outputs": [
    {
     "name": "stdout",
     "output_type": "stream",
     "text": [
      "[[445 178  25   0]\n",
      " [166 132  37   1]\n",
      " [ 18  28  49  11]\n",
      " [  2   3   7  13]]\n",
      "              precision    recall  f1-score   support\n",
      "\n",
      "           0       0.71      0.69      0.70       648\n",
      "           1       0.39      0.39      0.39       336\n",
      "           2       0.42      0.46      0.44       106\n",
      "           3       0.52      0.52      0.52        25\n",
      "\n",
      "    accuracy                           0.57      1115\n",
      "   macro avg       0.51      0.52      0.51      1115\n",
      "weighted avg       0.58      0.57      0.58      1115\n",
      "\n"
     ]
    }
   ],
   "source": [
    "# Confusion matrix and classification report\n",
    "print(confusion_matrix(y_test, y_pred))\n",
    "print(classification_report(y_test, y_pred))"
   ]
  },
  {
   "cell_type": "code",
   "execution_count": 62,
   "metadata": {},
   "outputs": [
    {
     "data": {
      "image/png": "[encoded data removed]",
      "text/plain": [
       "<Figure size 576x576 with 1 Axes>"
      ]
     },
     "metadata": {},
     "output_type": "display_data"
    }
   ],
   "source": [
    "plot_feature_importances(dt4)"
   ]
  },
  {
   "cell_type": "code",
   "execution_count": 63,
   "metadata": {},
   "outputs": [],
   "source": [
    "# Instantiate a BaggingClassifier\n",
    "bagged_tree2 = BaggingClassifier(DecisionTreeClassifier(criterion='entropy', max_depth=5), \n",
    "                                 n_estimators=20)"
   ]
  },
  {
   "cell_type": "code",
   "execution_count": 64,
   "metadata": {},
   "outputs": [
    {
     "data": {
      "text/plain": [
       "BaggingClassifier(base_estimator=DecisionTreeClassifier(criterion='entropy',\n",
       "                                                        max_depth=5),\n",
       "                  n_estimators=20)"
      ]
     },
     "execution_count": 64,
     "metadata": {},
     "output_type": "execute_result"
    }
   ],
   "source": [
    "# Fit to the training data\n",
    "bagged_tree2.fit(X_train, y_train)"
   ]
  },
  {
   "cell_type": "code",
   "execution_count": 65,
   "metadata": {},
   "outputs": [
    {
     "data": {
      "text/plain": [
       "0.6796769851951547"
      ]
     },
     "execution_count": 65,
     "metadata": {},
     "output_type": "execute_result"
    }
   ],
   "source": [
    "# Training accuracy score\n",
    "bagged_tree2.score(X_train, y_train)"
   ]
  },
  {
   "cell_type": "code",
   "execution_count": 66,
   "metadata": {},
   "outputs": [
    {
     "data": {
      "text/plain": [
       "0.6977578475336322"
      ]
     },
     "execution_count": 66,
     "metadata": {},
     "output_type": "execute_result"
    }
   ],
   "source": [
    "# Test accuracy score\n",
    "bagged_tree2.score(X_test, y_test)"
   ]
  },
  {
   "cell_type": "code",
   "execution_count": 67,
   "metadata": {},
   "outputs": [
    {
     "name": "stdout",
     "output_type": "stream",
     "text": [
      "[[564  71  13   0]\n",
      " [187 129  20   0]\n",
      " [ 11  21  73   1]\n",
      " [  1   6   6  12]]\n",
      "              precision    recall  f1-score   support\n",
      "\n",
      "           0       0.74      0.87      0.80       648\n",
      "           1       0.57      0.38      0.46       336\n",
      "           2       0.65      0.69      0.67       106\n",
      "           3       0.92      0.48      0.63        25\n",
      "\n",
      "    accuracy                           0.70      1115\n",
      "   macro avg       0.72      0.61      0.64      1115\n",
      "weighted avg       0.68      0.70      0.68      1115\n",
      "\n"
     ]
    }
   ],
   "source": [
    "# Test set predictions\n",
    "pred = bagged_tree2.predict(X_test)\n",
    "\n",
    "# Confusion matrix and classification report\n",
    "print(confusion_matrix(y_test, pred))\n",
    "print(classification_report(y_test, pred))"
   ]
  },
  {
   "cell_type": "code",
   "execution_count": 68,
   "metadata": {},
   "outputs": [
    {
     "data": {
      "text/plain": [
       "RandomForestClassifier(max_depth=6)"
      ]
     },
     "execution_count": 68,
     "metadata": {},
     "output_type": "execute_result"
    }
   ],
   "source": [
    "#untuned random forest\n",
    "# Instantiate and fit an Untuned RandomForestClassifier\n",
    "forest3 = RandomForestClassifier(n_estimators=100, max_depth=6)\n",
    "forest3.fit(X_train, y_train)"
   ]
  },
  {
   "cell_type": "code",
   "execution_count": 69,
   "metadata": {},
   "outputs": [
    {
     "data": {
      "text/plain": [
       "0.6843876177658142"
      ]
     },
     "execution_count": 69,
     "metadata": {},
     "output_type": "execute_result"
    }
   ],
   "source": [
    "forest3.score(X_train, y_train)"
   ]
  },
  {
   "cell_type": "code",
   "execution_count": 70,
   "metadata": {},
   "outputs": [
    {
     "data": {
      "text/plain": [
       "0.6825112107623318"
      ]
     },
     "execution_count": 70,
     "metadata": {},
     "output_type": "execute_result"
    }
   ],
   "source": [
    "forest3.score(X_test, y_test)"
   ]
  },
  {
   "cell_type": "code",
   "execution_count": 71,
   "metadata": {},
   "outputs": [
    {
     "name": "stdout",
     "output_type": "stream",
     "text": [
      "[[619  21   8   0]\n",
      " [258  58  20   0]\n",
      " [ 23  10  72   1]\n",
      " [  2   5   6  12]]\n",
      "              precision    recall  f1-score   support\n",
      "\n",
      "           0       0.69      0.96      0.80       648\n",
      "           1       0.62      0.17      0.27       336\n",
      "           2       0.68      0.68      0.68       106\n",
      "           3       0.92      0.48      0.63        25\n",
      "\n",
      "    accuracy                           0.68      1115\n",
      "   macro avg       0.73      0.57      0.59      1115\n",
      "weighted avg       0.67      0.68      0.62      1115\n",
      "\n"
     ]
    }
   ],
   "source": [
    "# Test set predictions\n",
    "pred = forest3.predict(X_test)\n",
    "\n",
    "# Confusion matrix and classification report\n",
    "print(confusion_matrix(y_test, pred))\n",
    "print(classification_report(y_test, pred))"
   ]
  },
  {
   "cell_type": "code",
   "execution_count": 72,
   "metadata": {},
   "outputs": [
    {
     "data": {
      "image/png": "[encoded data removed]",
      "text/plain": [
       "<Figure size 576x576 with 1 Axes>"
      ]
     },
     "metadata": {},
     "output_type": "display_data"
    }
   ],
   "source": [
    "plot_feature_importances(forest3)"
   ]
  },
  {
   "cell_type": "code",
   "execution_count": 73,
   "metadata": {},
   "outputs": [
    {
     "name": "stdout",
     "output_type": "stream",
     "text": [
      "Mean Cross Validation Score: 55.25%\n"
     ]
    }
   ],
   "source": [
    "dt_clf2 = DecisionTreeClassifier()\n",
    "dt_cv_score = cross_val_score(dt_clf2, X_train, y_train, cv=3) \n",
    "mean_dt_cv_score = np.mean(dt_cv_score)\n",
    "\n",
    "print(f\"Mean Cross Validation Score: {mean_dt_cv_score :.2%}\")"
   ]
  },
  {
   "cell_type": "code",
   "execution_count": 74,
   "metadata": {},
   "outputs": [],
   "source": [
    "dt_param_grid = {\n",
    "    'criterion': ['gini', 'entropy'],\n",
    "    'max_depth': [None, 2, 3, 4, 5, 6],\n",
    "    'min_samples_split': [2, 5, 10],\n",
    "    'min_samples_leaf': [1, 2, 3, 4, 5, 6]\n",
    "}"
   ]
  },
  {
   "cell_type": "code",
   "execution_count": 75,
   "metadata": {},
   "outputs": [
    {
     "data": {
      "text/plain": [
       "GridSearchCV(cv=3, estimator=DecisionTreeClassifier(),\n",
       "             param_grid={'criterion': ['gini', 'entropy'],\n",
       "                         'max_depth': [None, 2, 3, 4, 5, 6],\n",
       "                         'min_samples_leaf': [1, 2, 3, 4, 5, 6],\n",
       "                         'min_samples_split': [2, 5, 10]},\n",
       "             return_train_score=True)"
      ]
     },
     "execution_count": 75,
     "metadata": {},
     "output_type": "execute_result"
    }
   ],
   "source": [
    "# Instantiate GridSearchCV\n",
    "dt_grid_search = GridSearchCV(dt_clf2, dt_param_grid, cv=3, return_train_score=True)\n",
    "\n",
    "# Fit to the data\n",
    "dt_grid_search.fit(X_train, y_train)"
   ]
  },
  {
   "cell_type": "code",
   "execution_count": 76,
   "metadata": {},
   "outputs": [
    {
     "name": "stdout",
     "output_type": "stream",
     "text": [
      "Mean Training Score: 69.79%\n",
      "Mean Test Score: 69.78%\n",
      "Best Parameter Combination Found During Grid Search:\n"
     ]
    },
    {
     "data": {
      "text/plain": [
       "{'criterion': 'gini',\n",
       " 'max_depth': 5,\n",
       " 'min_samples_leaf': 3,\n",
       " 'min_samples_split': 2}"
      ]
     },
     "execution_count": 76,
     "metadata": {},
     "output_type": "execute_result"
    }
   ],
   "source": [
    "# Mean training score\n",
    "dt_gs_training_score = np.mean(dt_grid_search.cv_results_['mean_train_score'])\n",
    "\n",
    "# Mean test score\n",
    "dt_gs_testing_score = dt_grid_search.score(X_test, y_test)\n",
    "\n",
    "print(f\"Mean Training Score: {dt_gs_training_score :.2%}\")\n",
    "print(f\"Mean Test Score: {dt_gs_testing_score :.2%}\")\n",
    "print(\"Best Parameter Combination Found During Grid Search:\")\n",
    "dt_grid_search.best_params_"
   ]
  },
  {
   "cell_type": "code",
   "execution_count": 77,
   "metadata": {},
   "outputs": [
    {
     "data": {
      "text/plain": [
       "DecisionTreeClassifier(max_depth=5, min_samples_leaf=3)"
      ]
     },
     "execution_count": 77,
     "metadata": {},
     "output_type": "execute_result"
    }
   ],
   "source": [
    "tree_clf3 = DecisionTreeClassifier(criterion='gini', max_depth=5, min_samples_leaf = 3,\n",
    "                                  min_samples_split = 2)\n",
    "tree_clf3.fit(X_train, y_train)"
   ]
  },
  {
   "cell_type": "code",
   "execution_count": 78,
   "metadata": {},
   "outputs": [
    {
     "name": "stdout",
     "output_type": "stream",
     "text": [
      "[[560  80   8   0]\n",
      " [179 139  17   1]\n",
      " [ 16  20  64   6]\n",
      " [  0   7   3  15]]\n",
      "              precision    recall  f1-score   support\n",
      "\n",
      "           0       0.74      0.86      0.80       648\n",
      "           1       0.57      0.41      0.48       336\n",
      "           2       0.70      0.60      0.65       106\n",
      "           3       0.68      0.60      0.64        25\n",
      "\n",
      "    accuracy                           0.70      1115\n",
      "   macro avg       0.67      0.62      0.64      1115\n",
      "weighted avg       0.68      0.70      0.68      1115\n",
      "\n"
     ]
    }
   ],
   "source": [
    "# Test set predictions for tree:\n",
    "pred = tree_clf3.predict(X_test)\n",
    "\n",
    "# Confusion matrix and classification report\n",
    "print(confusion_matrix(y_test, pred))\n",
    "print(classification_report(y_test, pred))"
   ]
  },
  {
   "cell_type": "code",
   "execution_count": 79,
   "metadata": {},
   "outputs": [
    {
     "data": {
      "image/png": "[encoded data removed]",
      "text/plain": [
       "<Figure size 576x576 with 1 Axes>"
      ]
     },
     "metadata": {},
     "output_type": "display_data"
    }
   ],
   "source": [
    "plot_feature_importances(tree_clf3)"
   ]
  },
  {
   "cell_type": "code",
   "execution_count": 80,
   "metadata": {},
   "outputs": [
    {
     "name": "stdout",
     "output_type": "stream",
     "text": [
      "Mean Cross Val Score for Random Forest Classifier: 66.29%\n"
     ]
    }
   ],
   "source": [
    "forest4 = RandomForestClassifier()\n",
    "mean_rf_cv_score = np.mean(cross_val_score(forest4, X_train, y_train, cv=3))\n",
    "\n",
    "print(f\"Mean Cross Val Score for Random Forest Classifier: {mean_rf_cv_score :.2%}\")"
   ]
  },
  {
   "cell_type": "code",
   "execution_count": 81,
   "metadata": {},
   "outputs": [],
   "source": [
    "rf_param_grid = {\n",
    "    'n_estimators' : [10,30,100],\n",
    "    'criterion' : ['gini', 'entropy'],\n",
    "    'max_depth' : [None, 2,6,10],\n",
    "    'min_samples_split' : [5,10],\n",
    "    'min_samples_leaf' : [3,6]\n",
    "    \n",
    "}"
   ]
  },
  {
   "cell_type": "code",
   "execution_count": 82,
   "metadata": {},
   "outputs": [
    {
     "name": "stdout",
     "output_type": "stream",
     "text": [
      "Testing Accuracy: 67.14%\n",
      "\n",
      "Optimal Parameters: {'criterion': 'gini', 'max_depth': 10, 'min_samples_leaf': 3, 'min_samples_split': 10, 'n_estimators': 100}\n"
     ]
    }
   ],
   "source": [
    "rf_grid_search = GridSearchCV(forest4, rf_param_grid, cv=3)\n",
    "rf_grid_search.fit(X_train, y_train)\n",
    "\n",
    "\n",
    "print(f\"Testing Accuracy: {rf_grid_search.best_score_ :.2%}\")\n",
    "print(\"\")\n",
    "print(f\"Optimal Parameters: {rf_grid_search.best_params_}\")"
   ]
  },
  {
   "cell_type": "code",
   "execution_count": 83,
   "metadata": {},
   "outputs": [
    {
     "data": {
      "text/plain": [
       "RandomForestClassifier(min_samples_leaf=3, min_samples_split=10)"
      ]
     },
     "execution_count": 83,
     "metadata": {},
     "output_type": "execute_result"
    }
   ],
   "source": [
    "forest4 = RandomForestClassifier(n_estimators=100, max_depth=None, \n",
    "                                criterion = 'gini', min_samples_leaf=3,\n",
    "                                min_samples_split=10)\n",
    "forest4.fit(X_train, y_train)"
   ]
  },
  {
   "cell_type": "code",
   "execution_count": 84,
   "metadata": {},
   "outputs": [
    {
     "data": {
      "text/plain": [
       "0.9102736653207717"
      ]
     },
     "execution_count": 84,
     "metadata": {},
     "output_type": "execute_result"
    }
   ],
   "source": [
    "# Training accuracy score\n",
    "forest4.score(X_train, y_train)"
   ]
  },
  {
   "cell_type": "code",
   "execution_count": 85,
   "metadata": {},
   "outputs": [
    {
     "data": {
      "text/plain": [
       "0.7076233183856502"
      ]
     },
     "execution_count": 85,
     "metadata": {},
     "output_type": "execute_result"
    }
   ],
   "source": [
    "# Testing accuracy score\n",
    "forest4.score(X_test, y_test)"
   ]
  },
  {
   "cell_type": "code",
   "execution_count": 86,
   "metadata": {},
   "outputs": [
    {
     "name": "stdout",
     "output_type": "stream",
     "text": [
      "[[571  70   7   0]\n",
      " [188 132  16   0]\n",
      " [ 13  20  72   1]\n",
      " [  2   5   4  14]]\n",
      "              precision    recall  f1-score   support\n",
      "\n",
      "           0       0.74      0.88      0.80       648\n",
      "           1       0.58      0.39      0.47       336\n",
      "           2       0.73      0.68      0.70       106\n",
      "           3       0.93      0.56      0.70        25\n",
      "\n",
      "    accuracy                           0.71      1115\n",
      "   macro avg       0.74      0.63      0.67      1115\n",
      "weighted avg       0.69      0.71      0.69      1115\n",
      "\n"
     ]
    }
   ],
   "source": [
    "# Test set predictions for final forest:\n",
    "pred = forest4.predict(X_test)\n",
    "\n",
    "# Confusion matrix and classification report\n",
    "print(confusion_matrix(y_test, pred))\n",
    "print(classification_report(y_test, pred))"
   ]
  },
  {
   "cell_type": "code",
   "execution_count": 87,
   "metadata": {},
   "outputs": [
    {
     "data": {
      "image/png": "[encoded data removed]",
      "text/plain": [
       "<Figure size 576x576 with 1 Axes>"
      ]
     },
     "metadata": {},
     "output_type": "display_data"
    }
   ],
   "source": [
    "plot_feature_importances(forest4)"
   ]
  },
  {
   "cell_type": "code",
   "execution_count": 92,
   "metadata": {},
   "outputs": [],
   "source": [
    "import xgboost as xgb\n",
    "from xgboost.sklearn import XGBClassifier"
   ]
  },
  {
   "cell_type": "code",
   "execution_count": 118,
   "metadata": {},
   "outputs": [
    {
     "name": "stdout",
     "output_type": "stream",
     "text": [
      "[18:23:14] WARNING: /Users/runner/miniforge3/conda-bld/xgboost-split_1637426411619/work/src/learner.cc:576: \n",
      "Parameters: { \"n_gpus\" } might not be used.\n",
      "\n",
      "  This could be a false alarm, with some parameters getting used by language bindings but\n",
      "  then being mistakenly passed down to XGBoost core, or some parameter actually being used\n",
      "  but getting flagged wrongly here. Please open an issue if you find any such cases.\n",
      "\n",
      "\n",
      "[18:23:14] WARNING: /Users/runner/miniforge3/conda-bld/xgboost-split_1637426411619/work/src/learner.cc:1115: Starting in XGBoost 1.3.0, the default evaluation metric used with the objective 'multi:softmax' was changed from 'merror' to 'mlogloss'. Explicitly set eval_metric if you'd like to restore the old behavior.\n",
      "[[580  61   7   0]\n",
      " [191 126  18   1]\n",
      " [ 13  22  71   0]\n",
      " [  0   6   5  14]]\n",
      "              precision    recall  f1-score   support\n",
      "\n",
      "           0       0.74      0.90      0.81       648\n",
      "           1       0.59      0.38      0.46       336\n",
      "           2       0.70      0.67      0.69       106\n",
      "           3       0.93      0.56      0.70        25\n",
      "\n",
      "    accuracy                           0.71      1115\n",
      "   macro avg       0.74      0.62      0.66      1115\n",
      "weighted avg       0.69      0.71      0.69      1115\n",
      "\n"
     ]
    }
   ],
   "source": [
    "dtrain = xgb.DMatrix(data=X_train, label=y_train)\n",
    "dtest = xgb.DMatrix(data=X_test)\n",
    "params = {\n",
    "    'max_depth': 6,\n",
    "    'objective': 'multi:softmax',  # error evaluation for multiclass training\n",
    "    'num_class': 4,\n",
    "    # Set number of GPUs if available   \n",
    "    'n_gpus': 0\n",
    "}\n",
    "bst = xgb.train(params, dtrain)\n",
    "pred = bst.predict(dtest)\n",
    "# Confusion matrix and classification report\n",
    "print(confusion_matrix(y_test, pred))\n",
    "print(classification_report(y_test, pred))"
   ]
  },
  {
   "cell_type": "code",
   "execution_count": null,
   "metadata": {},
   "outputs": [],
   "source": [
    "model = xgb.XGBClassifier()\n",
    "param_dist = {\"max_depth\": [1,2,3,4,5,6,7,10,30,50],\n",
    "              \"min_child_weight\" : [1,3,6],\n",
    "              \"n_estimators\": [10,20,50,200],\n",
    "              \"learning_rate\": [#0.01,0.02,0.03,0.05 \n",
    "                  0.1,0.16,0.20,0.50],}\n",
    "grid_search = GridSearchCV(model, param_grid=param_dist, cv = 5, \n",
    "                                   verbose=10, n_jobs=-1)\n",
    "grid_search.fit(X_train, y_train)\n",
    "\n",
    "grid_search.best_estimator_\n",
    "\n",
    "model = xgb.XGBClassifier(max_depth=1, min_child_weight=1,  n_estimators=50,\\\n",
    "                          n_jobs=-1 , verbose=1,learning_rate=0.5)\n",
    "model.fit(X_train,y_train)"
   ]
  },
  {
   "cell_type": "code",
   "execution_count": 130,
   "metadata": {},
   "outputs": [
    {
     "data": {
      "text/plain": [
       "{'learning_rate': 0.1,\n",
       " 'max_depth': 5,\n",
       " 'min_child_weight': 6,\n",
       " 'n_estimators': 20}"
      ]
     },
     "execution_count": 130,
     "metadata": {},
     "output_type": "execute_result"
    }
   ],
   "source": [
    "grid_search.best_params_"
   ]
  },
  {
   "cell_type": "code",
   "execution_count": 131,
   "metadata": {},
   "outputs": [
    {
     "data": {
      "text/plain": [
       "XGBClassifier(base_score=0.5, booster='gbtree', colsample_bylevel=1,\n",
       "              colsample_bynode=1, colsample_bytree=1, enable_categorical=False,\n",
       "              gamma=0, gpu_id=-1, importance_type=None,\n",
       "              interaction_constraints='', learning_rate=0.1, max_delta_step=0,\n",
       "              max_depth=5, min_child_weight=6, missing=nan,\n",
       "              monotone_constraints='()', n_estimators=20, n_jobs=8,\n",
       "              num_parallel_tree=1, objective='multi:softprob', predictor='auto',\n",
       "              random_state=0, reg_alpha=0, reg_lambda=1, scale_pos_weight=None,\n",
       "              subsample=1, tree_method='exact', validate_parameters=1,\n",
       "              verbosity=None)"
      ]
     },
     "execution_count": 131,
     "metadata": {},
     "output_type": "execute_result"
    }
   ],
   "source": [
    "grid_search.best_estimator_"
   ]
  },
  {
   "cell_type": "code",
   "execution_count": 137,
   "metadata": {},
   "outputs": [
    {
     "name": "stdout",
     "output_type": "stream",
     "text": [
      "[23:08:03] WARNING: /Users/runner/miniforge3/conda-bld/xgboost-split_1637426411619/work/src/learner.cc:1115: Starting in XGBoost 1.3.0, the default evaluation metric used with the objective 'multi:softprob' was changed from 'merror' to 'mlogloss'. Explicitly set eval_metric if you'd like to restore the old behavior.\n",
      "[[583  55  10   0]\n",
      " [201 116  19   0]\n",
      " [ 13  21  72   0]\n",
      " [  1   6   6  12]]\n",
      "              precision    recall  f1-score   support\n",
      "\n",
      "           0       0.73      0.90      0.81       648\n",
      "           1       0.59      0.35      0.43       336\n",
      "           2       0.67      0.68      0.68       106\n",
      "           3       1.00      0.48      0.65        25\n",
      "\n",
      "    accuracy                           0.70      1115\n",
      "   macro avg       0.75      0.60      0.64      1115\n",
      "weighted avg       0.69      0.70      0.68      1115\n",
      "\n"
     ]
    }
   ],
   "source": [
    "dtrain = xgb.DMatrix(data=X_train, label=y_train)\n",
    "dtest = xgb.DMatrix(data=X_test)\n",
    "params = {\n",
    "    'max_depth': 5,\n",
    "    'objective': 'multi:softmax',  # error evaluation for multiclass training\n",
    "    'num_class': 4,\n",
    "    'learning_rate':0.1,\n",
    "}\n",
    "model=xgb.XGBClassifier(base_score=0.5, booster='gbtree', colsample_bylevel=1,\n",
    "              colsample_bynode=1, colsample_bytree=1, enable_categorical=False,\n",
    "              gamma=0, gpu_id=-1, importance_type=None,\n",
    "              interaction_constraints='', learning_rate=0.1, max_delta_step=0,\n",
    "              max_depth=5, min_child_weight=6,\n",
    "              monotone_constraints='()', n_estimators=20, n_jobs=8,\n",
    "              num_parallel_tree=1, objective='multi:softprob', predictor='auto',\n",
    "              random_state=0, reg_alpha=0, reg_lambda=1, scale_pos_weight=None,\n",
    "              subsample=1, tree_method='exact', validate_parameters=1,\n",
    "              verbosity=None)\n",
    "model.fit(X_train,y_train)\n",
    "pred=model.predict(X_test)\n",
    "# Confusion matrix and classification report\n",
    "print(confusion_matrix(y_test, pred))\n",
    "print(classification_report(y_test, pred))"
   ]
  }
 ],
 "metadata": {
  "interpreter": {
   "hash": "0226b76503bb80e73f0b2107715eb10b6ed0527b24ee5cb786cd257168a241ab"
  },
  "kernelspec": {
   "display_name": "Python 3.8.6 64-bit ('condaenv': conda)",
   "language": "python",
   "name": "python3"
  },
  "language_info": {
   "codemirror_mode": {
    "name": "ipython",
    "version": 3
   },
   "file_extension": ".py",
   "mimetype": "text/x-python",
   "name": "python",
   "nbconvert_exporter": "python",
   "pygments_lexer": "ipython3",
   "version": "3.8.6"
  },
  "orig_nbformat": 4
 },
 "nbformat": 4,
 "nbformat_minor": 2
}
