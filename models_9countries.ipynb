{
  "nbformat": 4,
  "nbformat_minor": 0,
  "metadata": {
    "interpreter": {
      "hash": "0226b76503bb80e73f0b2107715eb10b6ed0527b24ee5cb786cd257168a241ab"
    },
    "kernelspec": {
      "display_name": "Python 3.8.6 64-bit ('condaenv': conda)",
      "language": "python",
      "name": "python3"
    },
    "language_info": {
      "codemirror_mode": {
        "name": "ipython",
        "version": 3
      },
      "file_extension": ".py",
      "mimetype": "text/x-python",
      "name": "python",
      "nbconvert_exporter": "python",
      "pygments_lexer": "ipython3",
      "version": "3.8.6"
    },
    "orig_nbformat": 4,
    "colab": {
      "name": "models_9countries.ipynb",
      "provenance": []
    }
  },
  "cells": [
    {
      "cell_type": "code",
      "metadata": {
        "colab": {
          "base_uri": "https://localhost:8080/"
        },
        "id": "AI7_fAz1c1OP",
        "outputId": "6c0755b7-8d0a-473b-b9f1-696e4a64b64c"
      },
      "source": [
        "from google.colab import drive\n",
        "drive.mount('/content/drive')\n",
        "\n",
        "import pandas as pd\n",
        "from sklearn.model_selection import train_test_split, GridSearchCV, cross_val_score\n",
        "from sklearn import metrics\n",
        "from sklearn.tree import DecisionTreeClassifier\n",
        "from sklearn.metrics import roc_curve, auc"
      ],
      "execution_count": 1,
      "outputs": [
        {
          "output_type": "stream",
          "name": "stdout",
          "text": [
            "Mounted at /content/drive\n"
          ]
        }
      ]
    },
    {
      "cell_type": "code",
      "metadata": {
        "colab": {
          "base_uri": "https://localhost:8080/"
        },
        "id": "RgTHHqTJc1OQ",
        "outputId": "62c96cfe-f414-4311-faff-c4a7d1e9e4f6"
      },
      "source": [
        "import pandas as pd\n",
        "import matplotlib.pyplot as plt\n",
        "import numpy as np\n",
        "from sklearn.metrics import mean_squared_error as MSE\n",
        "from math import sqrt\n",
        "plt.style.use('ggplot')\n",
        "%matplotlib inline\n",
        "from pandas.plotting import autocorrelation_plot\n",
        "from statsmodels.tsa.stattools import adfuller\n",
        "from statsmodels.tsa.seasonal import seasonal_decompose\n",
        "from statsmodels.tsa.statespace.sarimax import SARIMAX\n",
        "from statsmodels.graphics.tsaplots import plot_acf, plot_pacf\n",
        "import itertools\n",
        "from matplotlib.pylab import rcParams\n",
        "plt.style.use('ggplot')\n",
        "import statsmodels.api as sm\n",
        "import matplotlib as mpl\n",
        "import seaborn as sns\n",
        "from sklearn.linear_model import LogisticRegression\n",
        "from sklearn import tree\n",
        "from sklearn import metrics\n",
        "from sklearn.tree import DecisionTreeClassifier\n",
        "from sklearn.metrics import roc_curve, auc\n",
        "from scipy.spatial.distance import euclidean\n",
        "from sklearn.preprocessing import StandardScaler, MinMaxScaler\n",
        "from sklearn.neighbors import KNeighborsClassifier\n",
        "from sklearn.metrics import precision_score, recall_score, accuracy_score, f1_score, make_scorer\n",
        "from sklearn.tree import export_graphviz\n",
        "from IPython.display import Image\n",
        "from sklearn.model_selection import train_test_split, GridSearchCV, cross_val_score\n",
        "from sklearn.ensemble import RandomForestClassifier, AdaBoostClassifier\n",
        "from sklearn.pipeline import Pipeline\n",
        "from sklearn.metrics import confusion_matrix, classification_report\n",
        "from sklearn.ensemble import BaggingClassifier, RandomForestClassifier\n",
        "import warnings\n",
        "warnings.filterwarnings('ignore')"
      ],
      "execution_count": 2,
      "outputs": [
        {
          "output_type": "stream",
          "name": "stderr",
          "text": [
            "/usr/local/lib/python3.7/dist-packages/statsmodels/tools/_testing.py:19: FutureWarning: pandas.util.testing is deprecated. Use the functions in the public API at pandas.testing instead.\n",
            "  import pandas.util.testing as tm\n"
          ]
        }
      ]
    },
    {
      "cell_type": "code",
      "metadata": {
        "colab": {
          "base_uri": "https://localhost:8080/",
          "height": 556
        },
        "id": "QD2D6XEyc1OS",
        "outputId": "b4a90867-683f-4ebb-821f-6f0c52254a08"
      },
      "source": [
        "#df=pd.read_csv('data/8countries/top200_processed2.csv')\n",
        "df=pd.read_csv('/content/drive/MyDrive/ML-Project/data/9countries/top200_9countries_processed.csv')\n",
        "df.head()"
      ],
      "execution_count": 3,
      "outputs": [
        {
          "output_type": "execute_result",
          "data": {
            "text/html": [
              "<div>\n",
              "<style scoped>\n",
              "    .dataframe tbody tr th:only-of-type {\n",
              "        vertical-align: middle;\n",
              "    }\n",
              "\n",
              "    .dataframe tbody tr th {\n",
              "        vertical-align: top;\n",
              "    }\n",
              "\n",
              "    .dataframe thead th {\n",
              "        text-align: right;\n",
              "    }\n",
              "</style>\n",
              "<table border=\"1\" class=\"dataframe\">\n",
              "  <thead>\n",
              "    <tr style=\"text-align: right;\">\n",
              "      <th></th>\n",
              "      <th>Unnamed: 0</th>\n",
              "      <th>popularity</th>\n",
              "      <th>danceability</th>\n",
              "      <th>energy</th>\n",
              "      <th>key</th>\n",
              "      <th>loudness</th>\n",
              "      <th>mode</th>\n",
              "      <th>speechiness</th>\n",
              "      <th>acousticness</th>\n",
              "      <th>instrumentalness</th>\n",
              "      <th>liveness</th>\n",
              "      <th>valence</th>\n",
              "      <th>tempo</th>\n",
              "      <th>duration_ms</th>\n",
              "      <th>time_signature</th>\n",
              "      <th>title</th>\n",
              "      <th>rank</th>\n",
              "      <th>date</th>\n",
              "      <th>region</th>\n",
              "      <th>trend</th>\n",
              "      <th>streams</th>\n",
              "      <th>year</th>\n",
              "      <th>month</th>\n",
              "      <th>top200_count</th>\n",
              "      <th>trend_rank_score</th>\n",
              "      <th>stream_bins</th>\n",
              "    </tr>\n",
              "  </thead>\n",
              "  <tbody>\n",
              "    <tr>\n",
              "      <th>0</th>\n",
              "      <td>0</td>\n",
              "      <td>76</td>\n",
              "      <td>0.620</td>\n",
              "      <td>0.936</td>\n",
              "      <td>7</td>\n",
              "      <td>-4.593</td>\n",
              "      <td>1</td>\n",
              "      <td>0.0308</td>\n",
              "      <td>0.0261</td>\n",
              "      <td>0.00000</td>\n",
              "      <td>0.0679</td>\n",
              "      <td>0.763</td>\n",
              "      <td>97.527</td>\n",
              "      <td>2.929117</td>\n",
              "      <td>4</td>\n",
              "      <td>You Can't Hurry Love - 2016 Remaster - United ...</td>\n",
              "      <td>199</td>\n",
              "      <td>2017-01-01</td>\n",
              "      <td>United States</td>\n",
              "      <td>NEW_ENTRY</td>\n",
              "      <td>143813.0</td>\n",
              "      <td>2017</td>\n",
              "      <td>1</td>\n",
              "      <td>1</td>\n",
              "      <td>0.010</td>\n",
              "      <td>1</td>\n",
              "    </tr>\n",
              "    <tr>\n",
              "      <th>1</th>\n",
              "      <td>1</td>\n",
              "      <td>0</td>\n",
              "      <td>0.725</td>\n",
              "      <td>0.853</td>\n",
              "      <td>2</td>\n",
              "      <td>-7.842</td>\n",
              "      <td>1</td>\n",
              "      <td>0.0353</td>\n",
              "      <td>0.0348</td>\n",
              "      <td>0.12700</td>\n",
              "      <td>0.1960</td>\n",
              "      <td>0.904</td>\n",
              "      <td>136.282</td>\n",
              "      <td>3.713550</td>\n",
              "      <td>4</td>\n",
              "      <td>(I Can't Get No) Satisfaction - Mono Version /...</td>\n",
              "      <td>193</td>\n",
              "      <td>2017-01-01</td>\n",
              "      <td>United States</td>\n",
              "      <td>NEW_ENTRY</td>\n",
              "      <td>144843.0</td>\n",
              "      <td>2017</td>\n",
              "      <td>1</td>\n",
              "      <td>1</td>\n",
              "      <td>0.040</td>\n",
              "      <td>1</td>\n",
              "    </tr>\n",
              "    <tr>\n",
              "      <th>2</th>\n",
              "      <td>7</td>\n",
              "      <td>0</td>\n",
              "      <td>0.572</td>\n",
              "      <td>0.786</td>\n",
              "      <td>8</td>\n",
              "      <td>-8.469</td>\n",
              "      <td>1</td>\n",
              "      <td>0.0642</td>\n",
              "      <td>0.5190</td>\n",
              "      <td>0.00093</td>\n",
              "      <td>0.1100</td>\n",
              "      <td>0.952</td>\n",
              "      <td>188.115</td>\n",
              "      <td>2.914450</td>\n",
              "      <td>4</td>\n",
              "      <td>ABC - United States</td>\n",
              "      <td>186</td>\n",
              "      <td>2017-01-01</td>\n",
              "      <td>United States</td>\n",
              "      <td>NEW_ENTRY</td>\n",
              "      <td>148305.0</td>\n",
              "      <td>2017</td>\n",
              "      <td>1</td>\n",
              "      <td>1</td>\n",
              "      <td>0.075</td>\n",
              "      <td>1</td>\n",
              "    </tr>\n",
              "    <tr>\n",
              "      <th>3</th>\n",
              "      <td>12</td>\n",
              "      <td>3</td>\n",
              "      <td>0.647</td>\n",
              "      <td>0.822</td>\n",
              "      <td>5</td>\n",
              "      <td>-4.662</td>\n",
              "      <td>0</td>\n",
              "      <td>0.1830</td>\n",
              "      <td>0.2190</td>\n",
              "      <td>0.00000</td>\n",
              "      <td>0.0908</td>\n",
              "      <td>0.962</td>\n",
              "      <td>160.019</td>\n",
              "      <td>3.878667</td>\n",
              "      <td>4</td>\n",
              "      <td>Happy - From \"Despicable Me 2\" - United States</td>\n",
              "      <td>80</td>\n",
              "      <td>2017-01-01</td>\n",
              "      <td>United States</td>\n",
              "      <td>MOVE_UP</td>\n",
              "      <td>233169.0</td>\n",
              "      <td>2017</td>\n",
              "      <td>1</td>\n",
              "      <td>1</td>\n",
              "      <td>0.605</td>\n",
              "      <td>3</td>\n",
              "    </tr>\n",
              "    <tr>\n",
              "      <th>4</th>\n",
              "      <td>13</td>\n",
              "      <td>76</td>\n",
              "      <td>0.776</td>\n",
              "      <td>0.763</td>\n",
              "      <td>5</td>\n",
              "      <td>-8.124</td>\n",
              "      <td>1</td>\n",
              "      <td>0.0534</td>\n",
              "      <td>0.1820</td>\n",
              "      <td>0.00647</td>\n",
              "      <td>0.0770</td>\n",
              "      <td>0.820</td>\n",
              "      <td>128.433</td>\n",
              "      <td>4.666667</td>\n",
              "      <td>4</td>\n",
              "      <td>You Can Call Me Al - United States</td>\n",
              "      <td>125</td>\n",
              "      <td>2017-01-01</td>\n",
              "      <td>United States</td>\n",
              "      <td>NEW_ENTRY</td>\n",
              "      <td>183669.0</td>\n",
              "      <td>2017</td>\n",
              "      <td>1</td>\n",
              "      <td>1</td>\n",
              "      <td>0.380</td>\n",
              "      <td>1</td>\n",
              "    </tr>\n",
              "  </tbody>\n",
              "</table>\n",
              "</div>"
            ],
            "text/plain": [
              "   Unnamed: 0  popularity  ...  trend_rank_score  stream_bins\n",
              "0           0          76  ...             0.010            1\n",
              "1           1           0  ...             0.040            1\n",
              "2           7           0  ...             0.075            1\n",
              "3          12           3  ...             0.605            3\n",
              "4          13          76  ...             0.380            1\n",
              "\n",
              "[5 rows x 26 columns]"
            ]
          },
          "metadata": {},
          "execution_count": 3
        }
      ]
    },
    {
      "cell_type": "code",
      "metadata": {
        "colab": {
          "base_uri": "https://localhost:8080/"
        },
        "id": "CO1XN1Luc1OS",
        "outputId": "c1e01884-ac03-4cc0-8162-5117a8d61bdc"
      },
      "source": [
        "df.columns"
      ],
      "execution_count": 4,
      "outputs": [
        {
          "output_type": "execute_result",
          "data": {
            "text/plain": [
              "Index(['Unnamed: 0', 'popularity', 'danceability', 'energy', 'key', 'loudness',\n",
              "       'mode', 'speechiness', 'acousticness', 'instrumentalness', 'liveness',\n",
              "       'valence', 'tempo', 'duration_ms', 'time_signature', 'title', 'rank',\n",
              "       'date', 'region', 'trend', 'streams', 'year', 'month', 'top200_count',\n",
              "       'trend_rank_score', 'stream_bins'],\n",
              "      dtype='object')"
            ]
          },
          "metadata": {},
          "execution_count": 4
        }
      ]
    },
    {
      "cell_type": "code",
      "metadata": {
        "id": "vacOxQs2c1OS"
      },
      "source": [
        "df=df.drop(['Unnamed: 0','time_signature','title','trend','date','streams'],axis=1)"
      ],
      "execution_count": 5,
      "outputs": []
    },
    {
      "cell_type": "code",
      "metadata": {
        "colab": {
          "base_uri": "https://localhost:8080/",
          "height": 313
        },
        "id": "u6WxFTi-c1OS",
        "outputId": "6602c9ff-30e1-40a5-8e66-d0be6e8be447"
      },
      "source": [
        "df.head(5)"
      ],
      "execution_count": 6,
      "outputs": [
        {
          "output_type": "execute_result",
          "data": {
            "text/html": [
              "<div>\n",
              "<style scoped>\n",
              "    .dataframe tbody tr th:only-of-type {\n",
              "        vertical-align: middle;\n",
              "    }\n",
              "\n",
              "    .dataframe tbody tr th {\n",
              "        vertical-align: top;\n",
              "    }\n",
              "\n",
              "    .dataframe thead th {\n",
              "        text-align: right;\n",
              "    }\n",
              "</style>\n",
              "<table border=\"1\" class=\"dataframe\">\n",
              "  <thead>\n",
              "    <tr style=\"text-align: right;\">\n",
              "      <th></th>\n",
              "      <th>popularity</th>\n",
              "      <th>danceability</th>\n",
              "      <th>energy</th>\n",
              "      <th>key</th>\n",
              "      <th>loudness</th>\n",
              "      <th>mode</th>\n",
              "      <th>speechiness</th>\n",
              "      <th>acousticness</th>\n",
              "      <th>instrumentalness</th>\n",
              "      <th>liveness</th>\n",
              "      <th>valence</th>\n",
              "      <th>tempo</th>\n",
              "      <th>duration_ms</th>\n",
              "      <th>rank</th>\n",
              "      <th>region</th>\n",
              "      <th>year</th>\n",
              "      <th>month</th>\n",
              "      <th>top200_count</th>\n",
              "      <th>trend_rank_score</th>\n",
              "      <th>stream_bins</th>\n",
              "    </tr>\n",
              "  </thead>\n",
              "  <tbody>\n",
              "    <tr>\n",
              "      <th>0</th>\n",
              "      <td>76</td>\n",
              "      <td>0.620</td>\n",
              "      <td>0.936</td>\n",
              "      <td>7</td>\n",
              "      <td>-4.593</td>\n",
              "      <td>1</td>\n",
              "      <td>0.0308</td>\n",
              "      <td>0.0261</td>\n",
              "      <td>0.00000</td>\n",
              "      <td>0.0679</td>\n",
              "      <td>0.763</td>\n",
              "      <td>97.527</td>\n",
              "      <td>2.929117</td>\n",
              "      <td>199</td>\n",
              "      <td>United States</td>\n",
              "      <td>2017</td>\n",
              "      <td>1</td>\n",
              "      <td>1</td>\n",
              "      <td>0.010</td>\n",
              "      <td>1</td>\n",
              "    </tr>\n",
              "    <tr>\n",
              "      <th>1</th>\n",
              "      <td>0</td>\n",
              "      <td>0.725</td>\n",
              "      <td>0.853</td>\n",
              "      <td>2</td>\n",
              "      <td>-7.842</td>\n",
              "      <td>1</td>\n",
              "      <td>0.0353</td>\n",
              "      <td>0.0348</td>\n",
              "      <td>0.12700</td>\n",
              "      <td>0.1960</td>\n",
              "      <td>0.904</td>\n",
              "      <td>136.282</td>\n",
              "      <td>3.713550</td>\n",
              "      <td>193</td>\n",
              "      <td>United States</td>\n",
              "      <td>2017</td>\n",
              "      <td>1</td>\n",
              "      <td>1</td>\n",
              "      <td>0.040</td>\n",
              "      <td>1</td>\n",
              "    </tr>\n",
              "    <tr>\n",
              "      <th>2</th>\n",
              "      <td>0</td>\n",
              "      <td>0.572</td>\n",
              "      <td>0.786</td>\n",
              "      <td>8</td>\n",
              "      <td>-8.469</td>\n",
              "      <td>1</td>\n",
              "      <td>0.0642</td>\n",
              "      <td>0.5190</td>\n",
              "      <td>0.00093</td>\n",
              "      <td>0.1100</td>\n",
              "      <td>0.952</td>\n",
              "      <td>188.115</td>\n",
              "      <td>2.914450</td>\n",
              "      <td>186</td>\n",
              "      <td>United States</td>\n",
              "      <td>2017</td>\n",
              "      <td>1</td>\n",
              "      <td>1</td>\n",
              "      <td>0.075</td>\n",
              "      <td>1</td>\n",
              "    </tr>\n",
              "    <tr>\n",
              "      <th>3</th>\n",
              "      <td>3</td>\n",
              "      <td>0.647</td>\n",
              "      <td>0.822</td>\n",
              "      <td>5</td>\n",
              "      <td>-4.662</td>\n",
              "      <td>0</td>\n",
              "      <td>0.1830</td>\n",
              "      <td>0.2190</td>\n",
              "      <td>0.00000</td>\n",
              "      <td>0.0908</td>\n",
              "      <td>0.962</td>\n",
              "      <td>160.019</td>\n",
              "      <td>3.878667</td>\n",
              "      <td>80</td>\n",
              "      <td>United States</td>\n",
              "      <td>2017</td>\n",
              "      <td>1</td>\n",
              "      <td>1</td>\n",
              "      <td>0.605</td>\n",
              "      <td>3</td>\n",
              "    </tr>\n",
              "    <tr>\n",
              "      <th>4</th>\n",
              "      <td>76</td>\n",
              "      <td>0.776</td>\n",
              "      <td>0.763</td>\n",
              "      <td>5</td>\n",
              "      <td>-8.124</td>\n",
              "      <td>1</td>\n",
              "      <td>0.0534</td>\n",
              "      <td>0.1820</td>\n",
              "      <td>0.00647</td>\n",
              "      <td>0.0770</td>\n",
              "      <td>0.820</td>\n",
              "      <td>128.433</td>\n",
              "      <td>4.666667</td>\n",
              "      <td>125</td>\n",
              "      <td>United States</td>\n",
              "      <td>2017</td>\n",
              "      <td>1</td>\n",
              "      <td>1</td>\n",
              "      <td>0.380</td>\n",
              "      <td>1</td>\n",
              "    </tr>\n",
              "  </tbody>\n",
              "</table>\n",
              "</div>"
            ],
            "text/plain": [
              "   popularity  danceability  ...  trend_rank_score  stream_bins\n",
              "0          76         0.620  ...             0.010            1\n",
              "1           0         0.725  ...             0.040            1\n",
              "2           0         0.572  ...             0.075            1\n",
              "3           3         0.647  ...             0.605            3\n",
              "4          76         0.776  ...             0.380            1\n",
              "\n",
              "[5 rows x 20 columns]"
            ]
          },
          "metadata": {},
          "execution_count": 6
        }
      ]
    },
    {
      "cell_type": "code",
      "metadata": {
        "id": "Zps20eZjc1OS"
      },
      "source": [
        "#encoding region and years\n",
        "regions=list(df['region'].unique())\n",
        "years=list(df['year'].unique())\n",
        "df['enc_region']=df['region'].apply(lambda x:regions.index(x))\n",
        "df['enc_year']=df['year'].apply(lambda x:years.index(x))\n"
      ],
      "execution_count": 7,
      "outputs": []
    },
    {
      "cell_type": "code",
      "metadata": {
        "id": "8rkdL6Gmc1OS"
      },
      "source": [
        "df=df.drop(['region','year'],axis=1)"
      ],
      "execution_count": 8,
      "outputs": []
    },
    {
      "cell_type": "code",
      "metadata": {
        "colab": {
          "base_uri": "https://localhost:8080/",
          "height": 69
        },
        "id": "bLk7Azodc1OT",
        "outputId": "1bb7b282-95fe-4ee7-841a-f07d9296be9d"
      },
      "source": [
        "df[df.isna().any(axis=1)]"
      ],
      "execution_count": 9,
      "outputs": [
        {
          "output_type": "execute_result",
          "data": {
            "text/html": [
              "<div>\n",
              "<style scoped>\n",
              "    .dataframe tbody tr th:only-of-type {\n",
              "        vertical-align: middle;\n",
              "    }\n",
              "\n",
              "    .dataframe tbody tr th {\n",
              "        vertical-align: top;\n",
              "    }\n",
              "\n",
              "    .dataframe thead th {\n",
              "        text-align: right;\n",
              "    }\n",
              "</style>\n",
              "<table border=\"1\" class=\"dataframe\">\n",
              "  <thead>\n",
              "    <tr style=\"text-align: right;\">\n",
              "      <th></th>\n",
              "      <th>popularity</th>\n",
              "      <th>danceability</th>\n",
              "      <th>energy</th>\n",
              "      <th>key</th>\n",
              "      <th>loudness</th>\n",
              "      <th>mode</th>\n",
              "      <th>speechiness</th>\n",
              "      <th>acousticness</th>\n",
              "      <th>instrumentalness</th>\n",
              "      <th>liveness</th>\n",
              "      <th>valence</th>\n",
              "      <th>tempo</th>\n",
              "      <th>duration_ms</th>\n",
              "      <th>rank</th>\n",
              "      <th>month</th>\n",
              "      <th>top200_count</th>\n",
              "      <th>trend_rank_score</th>\n",
              "      <th>stream_bins</th>\n",
              "      <th>enc_region</th>\n",
              "      <th>enc_year</th>\n",
              "    </tr>\n",
              "  </thead>\n",
              "  <tbody>\n",
              "  </tbody>\n",
              "</table>\n",
              "</div>"
            ],
            "text/plain": [
              "Empty DataFrame\n",
              "Columns: [popularity, danceability, energy, key, loudness, mode, speechiness, acousticness, instrumentalness, liveness, valence, tempo, duration_ms, rank, month, top200_count, trend_rank_score, stream_bins, enc_region, enc_year]\n",
              "Index: []"
            ]
          },
          "metadata": {},
          "execution_count": 9
        }
      ]
    },
    {
      "cell_type": "code",
      "metadata": {
        "id": "coH9p6s9c1OT"
      },
      "source": [
        "df.dropna(inplace=True)"
      ],
      "execution_count": 10,
      "outputs": []
    },
    {
      "cell_type": "code",
      "metadata": {
        "id": "bcfB8Cozc1OT"
      },
      "source": [
        "y = df['stream_bins']\n",
        "X = df.drop('stream_bins', axis=1)\n",
        "X_train, X_test, y_train, y_test = train_test_split(X,y, random_state=42, test_size=0.2)"
      ],
      "execution_count": 11,
      "outputs": []
    },
    {
      "cell_type": "code",
      "metadata": {
        "colab": {
          "base_uri": "https://localhost:8080/"
        },
        "id": "wlLLCK8Rc1OT",
        "outputId": "5a892d47-a190-4838-e48e-9b142c902b04"
      },
      "source": [
        "#Decision tree\n",
        "dt = DecisionTreeClassifier(criterion='entropy', random_state=42)\n",
        "dt.fit(X_train, y_train)\n",
        "# Make predictions using test set \n",
        "y_pred = dt.predict(X_test)\n",
        "# Check the AUC of predictions\n",
        "print(metrics.confusion_matrix(y_test, y_pred))"
      ],
      "execution_count": 12,
      "outputs": [
        {
          "output_type": "stream",
          "name": "stdout",
          "text": [
            "[[2270  521  179   25]\n",
            " [ 454 1563  754  133]\n",
            " [ 141  727 1486  562]\n",
            " [  20  139  559 2149]]\n"
          ]
        }
      ]
    },
    {
      "cell_type": "code",
      "metadata": {
        "colab": {
          "base_uri": "https://localhost:8080/"
        },
        "id": "zcHc0Es4c1OU",
        "outputId": "9253887d-88fb-412f-aab2-998b48fc1d8e"
      },
      "source": [
        "print(metrics.classification_report(y_test, y_pred))"
      ],
      "execution_count": 13,
      "outputs": [
        {
          "output_type": "stream",
          "name": "stdout",
          "text": [
            "              precision    recall  f1-score   support\n",
            "\n",
            "           1       0.79      0.76      0.77      2995\n",
            "           2       0.53      0.54      0.53      2904\n",
            "           3       0.50      0.51      0.50      2916\n",
            "           4       0.75      0.75      0.75      2867\n",
            "\n",
            "    accuracy                           0.64     11682\n",
            "   macro avg       0.64      0.64      0.64     11682\n",
            "weighted avg       0.64      0.64      0.64     11682\n",
            "\n"
          ]
        }
      ]
    },
    {
      "cell_type": "code",
      "metadata": {
        "colab": {
          "base_uri": "https://localhost:8080/",
          "height": 391
        },
        "id": "xE5heKuZc1OU",
        "outputId": "8877ffc5-fcb8-4de3-d944-22019df633d2"
      },
      "source": [
        "max_depths = np.linspace(1,32,32,endpoint=True)\n",
        "# As review, linspace returns evenly spaced numbers over a specified interval.\n",
        "train_results=[]\n",
        "test_results=[]\n",
        "for max_depth in max_depths:\n",
        "    dt = DecisionTreeClassifier(criterion='entropy', max_depth=max_depth, random_state=42)\n",
        "    dt.fit(X_train, y_train)\n",
        "    train_pred = dt.predict(X_train)\n",
        "    #false_positive_rate, true_positive_rate, thresholds = metrics.auc(y_train, train_pred)\n",
        "    auc = metrics.accuracy_score(y_train, train_pred)\n",
        "    # add auc score to the previous train results\n",
        "    train_results.append(auc)\n",
        "    y_pred = dt.predict(X_test)\n",
        "    #false_positive_rate, true_positive_rate, thresholds=roc_curve(y_test, y_pred)\n",
        "    auc = metrics.accuracy_score(y_test, y_pred)\n",
        "    # add score to previous test results\n",
        "    test_results.append(auc)\n",
        "plt.figure(figsize=(12,6))\n",
        "plt.plot(max_depths, train_results, 'b', label='Train AUC')\n",
        "plt.plot(max_depths, test_results, 'r', label='Test AUC')\n",
        "plt.ylabel('Accuracy Score')\n",
        "plt.xlabel('Tree Depth')\n",
        "plt.legend\n",
        "plt.show()"
      ],
      "execution_count": 14,
      "outputs": [
        {
          "output_type": "display_data",
          "data": {
            "image/png": "[encoded data removed]",
            "text/plain": [
              "<Figure size 864x432 with 1 Axes>"
            ]
          },
          "metadata": {}
        }
      ]
    },
    {
      "cell_type": "code",
      "metadata": {
        "colab": {
          "base_uri": "https://localhost:8080/",
          "height": 391
        },
        "id": "sN8WyKnsc1OU",
        "outputId": "d4d763f4-183c-431e-9071-2afa25feaa3e"
      },
      "source": [
        "min_samples_splits = np.linspace(0.1,1.0,10, endpoint=True)\n",
        "train_results = []\n",
        "test_results = []\n",
        "for min_samples_split in min_samples_splits:\n",
        "    dt = DecisionTreeClassifier (criterion = 'entropy', min_samples_split = min_samples_split, random_state=42)\n",
        "    dt.fit(X_train, y_train)\n",
        "    train_pred = dt.predict(X_train)\n",
        "    #false_positive_rate, true_positive_rate, thresholds = roc_curve(y_train, train_pred)\n",
        "    acc = metrics.accuracy_score(y_train, train_pred)\n",
        "    train_results.append(acc)\n",
        "    y_pred = dt.predict(X_test)\n",
        "    #false_positive_rate, true_positive_rate, thresholds = roc_curve(y_test, y_pred)\n",
        "    acc = metrics.accuracy_score(y_test, y_pred)\n",
        "    test_results.append(acc)\n",
        "plt.figure(figsize=(12,6))\n",
        "plt.plot(min_samples_splits, train_results, 'b', label = 'Train Acc')\n",
        "plt.plot(min_samples_splits, test_results, 'r',label = 'Test Acc')\n",
        "plt.xlabel('Min. Sample Splits')\n",
        "plt.legend()\n",
        "plt.show()"
      ],
      "execution_count": 15,
      "outputs": [
        {
          "output_type": "display_data",
          "data": {
            "image/png": "[encoded data removed]",
            "text/plain": [
              "<Figure size 864x432 with 1 Axes>"
            ]
          },
          "metadata": {}
        }
      ]
    },
    {
      "cell_type": "code",
      "metadata": {
        "colab": {
          "base_uri": "https://localhost:8080/",
          "height": 391
        },
        "id": "lz8613HWc1OV",
        "outputId": "6e4867ce-e243-4bfd-e972-665df3c3d3cd"
      },
      "source": [
        "# Calculate the optimal value for minimum sample leafs\n",
        "min_samples_leafs=np.linspace(0.1,0.5,5, endpoint = True)\n",
        "train_results=[]\n",
        "test_results=[]\n",
        "for min_samples_leaf in min_samples_leafs:\n",
        "    dt = DecisionTreeClassifier(criterion='entropy', min_samples_leaf = min_samples_leaf, random_state=42)\n",
        "    dt.fit(X_train, y_train)\n",
        "    train_pred = dt.predict(X_train)\n",
        "    #false_positive_rate, true_positive_rate, thresholds = roc_curve(y_train, train_pred)\n",
        "    acc = metrics.accuracy_score(y_train, train_pred)\n",
        "    train_results.append(acc)\n",
        "    y_pred = dt.predict(X_test)\n",
        "    #false_positive_rate, true_positive_rate, thresholds = roc_curve (y_test, y_pred)\n",
        "    acc = metrics.accuracy_score(y_test, y_pred)\n",
        "    test_results.append(acc)\n",
        "plt.figure(figsize=(12,6))\n",
        "plt.plot(min_samples_leafs, train_results, 'b', label='Train Acc')\n",
        "plt.plot(min_samples_leafs, test_results, 'r', label='Test Acc')\n",
        "plt.ylabel('Acc')\n",
        "plt.xlabel('Min. Sample Leafs')\n",
        "plt.legend()\n",
        "plt.show()"
      ],
      "execution_count": 16,
      "outputs": [
        {
          "output_type": "display_data",
          "data": {
            "image/png": "[encoded data removed]",
            "text/plain": [
              "<Figure size 864x432 with 1 Axes>"
            ]
          },
          "metadata": {}
        }
      ]
    },
    {
      "cell_type": "code",
      "metadata": {
        "colab": {
          "base_uri": "https://localhost:8080/",
          "height": 391
        },
        "id": "O9Wai9q0c1OV",
        "outputId": "9278a835-9220-4024-c6c2-f0694b48110d"
      },
      "source": [
        "max_features = list(range(1, X_train.shape[1]))\n",
        "train_results = []\n",
        "test_results = []\n",
        "for max_feature in max_features:\n",
        "    dt = DecisionTreeClassifier(criterion = 'entropy', max_features = max_feature, random_state=42)\n",
        "    dt.fit(X_train, y_train)\n",
        "    train_pred = dt.predict(X_train)\n",
        "    #false_positive_rate, true_positive_rate, thresholds = roc_curve(y_train, train_pred)\n",
        "    acc = metrics.accuracy_score(y_train, train_pred)\n",
        "    train_results.append(acc)\n",
        "    y_pred = dt.predict(X_test)\n",
        "    #false_positive_rate, true_positive_rate, thresholds = roc_curve(y_test, y_pred)\n",
        "    acc = metrics.accuracy_score(y_test, y_pred)\n",
        "    test_results.append(acc)\n",
        "plt.figure(figsize=(12,6))\n",
        "plt.plot(max_features, train_results, 'b', label = 'Train Acc')\n",
        "plt.plot(max_features, test_results, 'r', label = 'Test Acc')\n",
        "plt.ylabel('Acc Score')\n",
        "plt.xlabel('max features')\n",
        "plt.legend()\n",
        "plt.show()"
      ],
      "execution_count": 17,
      "outputs": [
        {
          "output_type": "display_data",
          "data": {
            "image/png": "[encoded data removed]",
            "text/plain": [
              "<Figure size 864x432 with 1 Axes>"
            ]
          },
          "metadata": {}
        }
      ]
    },
    {
      "cell_type": "code",
      "metadata": {
        "colab": {
          "base_uri": "https://localhost:8080/"
        },
        "id": "NFhEDSNvc1OW",
        "outputId": "aca0cb54-81d8-4d0e-97af-9de016e08342"
      },
      "source": [
        "dt2 = DecisionTreeClassifier(criterion='entropy',\n",
        "                           max_features=15,\n",
        "                           max_depth = 8,\n",
        "                           min_samples_split = 0.1,\n",
        "                           min_samples_leaf = 0.1,\n",
        "                           random_state = 42)\n",
        "\n",
        "dt2.fit(X_train, y_train)"
      ],
      "execution_count": 18,
      "outputs": [
        {
          "output_type": "execute_result",
          "data": {
            "text/plain": [
              "DecisionTreeClassifier(criterion='entropy', max_depth=8, max_features=15,\n",
              "                       min_samples_leaf=0.1, min_samples_split=0.1,\n",
              "                       random_state=42)"
            ]
          },
          "metadata": {},
          "execution_count": 18
        }
      ]
    },
    {
      "cell_type": "code",
      "metadata": {
        "colab": {
          "base_uri": "https://localhost:8080/",
          "height": 307
        },
        "id": "XFUew4Dhc1OW",
        "outputId": "1918cb71-7ebe-4c8b-937b-c1cd94fe8e71"
      },
      "source": [
        "y_pred = dt2.predict(X_test)\n",
        "# Calculate accuracy \n",
        "acc = accuracy_score(y_test, y_pred) * 100\n",
        "print('Accuracy is: {0}'.format(acc))\n",
        "# Create and print a confusion matrix \n",
        "print('\\nConfusion Matrix')\n",
        "print('----------------')\n",
        "pd.crosstab(y_test,y_pred,rownames=['True'], colnames=['Predicted'], margins=True)"
      ],
      "execution_count": 19,
      "outputs": [
        {
          "output_type": "stream",
          "name": "stdout",
          "text": [
            "Accuracy is: 55.52987502140044\n",
            "\n",
            "Confusion Matrix\n",
            "----------------\n"
          ]
        },
        {
          "output_type": "execute_result",
          "data": {
            "text/html": [
              "<div>\n",
              "<style scoped>\n",
              "    .dataframe tbody tr th:only-of-type {\n",
              "        vertical-align: middle;\n",
              "    }\n",
              "\n",
              "    .dataframe tbody tr th {\n",
              "        vertical-align: top;\n",
              "    }\n",
              "\n",
              "    .dataframe thead th {\n",
              "        text-align: right;\n",
              "    }\n",
              "</style>\n",
              "<table border=\"1\" class=\"dataframe\">\n",
              "  <thead>\n",
              "    <tr style=\"text-align: right;\">\n",
              "      <th>Predicted</th>\n",
              "      <th>1</th>\n",
              "      <th>2</th>\n",
              "      <th>3</th>\n",
              "      <th>4</th>\n",
              "      <th>All</th>\n",
              "    </tr>\n",
              "    <tr>\n",
              "      <th>True</th>\n",
              "      <th></th>\n",
              "      <th></th>\n",
              "      <th></th>\n",
              "      <th></th>\n",
              "      <th></th>\n",
              "    </tr>\n",
              "  </thead>\n",
              "  <tbody>\n",
              "    <tr>\n",
              "      <th>1</th>\n",
              "      <td>2072</td>\n",
              "      <td>385</td>\n",
              "      <td>246</td>\n",
              "      <td>292</td>\n",
              "      <td>2995</td>\n",
              "    </tr>\n",
              "    <tr>\n",
              "      <th>2</th>\n",
              "      <td>722</td>\n",
              "      <td>969</td>\n",
              "      <td>877</td>\n",
              "      <td>336</td>\n",
              "      <td>2904</td>\n",
              "    </tr>\n",
              "    <tr>\n",
              "      <th>3</th>\n",
              "      <td>263</td>\n",
              "      <td>617</td>\n",
              "      <td>1321</td>\n",
              "      <td>715</td>\n",
              "      <td>2916</td>\n",
              "    </tr>\n",
              "    <tr>\n",
              "      <th>4</th>\n",
              "      <td>79</td>\n",
              "      <td>94</td>\n",
              "      <td>569</td>\n",
              "      <td>2125</td>\n",
              "      <td>2867</td>\n",
              "    </tr>\n",
              "    <tr>\n",
              "      <th>All</th>\n",
              "      <td>3136</td>\n",
              "      <td>2065</td>\n",
              "      <td>3013</td>\n",
              "      <td>3468</td>\n",
              "      <td>11682</td>\n",
              "    </tr>\n",
              "  </tbody>\n",
              "</table>\n",
              "</div>"
            ],
            "text/plain": [
              "Predicted     1     2     3     4    All\n",
              "True                                    \n",
              "1          2072   385   246   292   2995\n",
              "2           722   969   877   336   2904\n",
              "3           263   617  1321   715   2916\n",
              "4            79    94   569  2125   2867\n",
              "All        3136  2065  3013  3468  11682"
            ]
          },
          "metadata": {},
          "execution_count": 19
        }
      ]
    },
    {
      "cell_type": "code",
      "metadata": {
        "colab": {
          "base_uri": "https://localhost:8080/"
        },
        "id": "8MgZo8WOc1OW",
        "outputId": "0b8db172-83ef-43b2-fedf-0ddf1516aaf8"
      },
      "source": [
        "# Confusion matrix and classification report\n",
        "print(confusion_matrix(y_test, y_pred))\n",
        "print(classification_report(y_test, y_pred))"
      ],
      "execution_count": 20,
      "outputs": [
        {
          "output_type": "stream",
          "name": "stdout",
          "text": [
            "[[2072  385  246  292]\n",
            " [ 722  969  877  336]\n",
            " [ 263  617 1321  715]\n",
            " [  79   94  569 2125]]\n",
            "              precision    recall  f1-score   support\n",
            "\n",
            "           1       0.66      0.69      0.68      2995\n",
            "           2       0.47      0.33      0.39      2904\n",
            "           3       0.44      0.45      0.45      2916\n",
            "           4       0.61      0.74      0.67      2867\n",
            "\n",
            "    accuracy                           0.56     11682\n",
            "   macro avg       0.55      0.55      0.55     11682\n",
            "weighted avg       0.55      0.56      0.55     11682\n",
            "\n"
          ]
        }
      ]
    },
    {
      "cell_type": "code",
      "metadata": {
        "id": "3bqY0NI3c1OW"
      },
      "source": [
        "import graphviz\n",
        "def plot_feature_importances(model):\n",
        "    n_features = X_train.shape[1]\n",
        "    plt.figure(figsize=(8,8))\n",
        "    plt.barh(range(n_features), model.feature_importances_, align='center') \n",
        "    plt.yticks(np.arange(n_features), X_train.columns.values) \n",
        "    plt.xlabel('Feature importance')\n",
        "    plt.ylabel('Feature')\n"
      ],
      "execution_count": 21,
      "outputs": []
    },
    {
      "cell_type": "code",
      "metadata": {
        "colab": {
          "base_uri": "https://localhost:8080/",
          "height": 500
        },
        "id": "dmmqmhFrc1OX",
        "outputId": "93586dd4-5679-470c-f654-d98b6fd3f43b"
      },
      "source": [
        "plot_feature_importances(dt2)"
      ],
      "execution_count": 22,
      "outputs": [
        {
          "output_type": "display_data",
          "data": {
            "image/png": "[encoded data removed]",
            "text/plain": [
              "<Figure size 576x576 with 1 Axes>"
            ]
          },
          "metadata": {}
        }
      ]
    },
    {
      "cell_type": "code",
      "metadata": {
        "colab": {
          "base_uri": "https://localhost:8080/",
          "height": 226
        },
        "id": "UvtTDt6Dc1OX",
        "outputId": "1cb64478-4941-44f4-9a02-72ca8716169c"
      },
      "source": [
        "# Instantiate StandardScaler\n",
        "scaler = StandardScaler()\n",
        "\n",
        "# Transform the training and test sets\n",
        "scaled_data_train = scaler.fit_transform(X_train)\n",
        "scaled_data_test = scaler.fit_transform(X_test)\n",
        "\n",
        "# Convert into a DataFrame\n",
        "scaled_df_train = pd.DataFrame(scaled_data_train, columns=X.columns)\n",
        "scaled_df_train.head()"
      ],
      "execution_count": 23,
      "outputs": [
        {
          "output_type": "execute_result",
          "data": {
            "text/html": [
              "<div>\n",
              "<style scoped>\n",
              "    .dataframe tbody tr th:only-of-type {\n",
              "        vertical-align: middle;\n",
              "    }\n",
              "\n",
              "    .dataframe tbody tr th {\n",
              "        vertical-align: top;\n",
              "    }\n",
              "\n",
              "    .dataframe thead th {\n",
              "        text-align: right;\n",
              "    }\n",
              "</style>\n",
              "<table border=\"1\" class=\"dataframe\">\n",
              "  <thead>\n",
              "    <tr style=\"text-align: right;\">\n",
              "      <th></th>\n",
              "      <th>popularity</th>\n",
              "      <th>danceability</th>\n",
              "      <th>energy</th>\n",
              "      <th>key</th>\n",
              "      <th>loudness</th>\n",
              "      <th>mode</th>\n",
              "      <th>speechiness</th>\n",
              "      <th>acousticness</th>\n",
              "      <th>instrumentalness</th>\n",
              "      <th>liveness</th>\n",
              "      <th>valence</th>\n",
              "      <th>tempo</th>\n",
              "      <th>duration_ms</th>\n",
              "      <th>rank</th>\n",
              "      <th>month</th>\n",
              "      <th>top200_count</th>\n",
              "      <th>trend_rank_score</th>\n",
              "      <th>enc_region</th>\n",
              "      <th>enc_year</th>\n",
              "    </tr>\n",
              "  </thead>\n",
              "  <tbody>\n",
              "    <tr>\n",
              "      <th>0</th>\n",
              "      <td>-0.317119</td>\n",
              "      <td>0.287068</td>\n",
              "      <td>0.355382</td>\n",
              "      <td>0.753186</td>\n",
              "      <td>-0.019221</td>\n",
              "      <td>0.895642</td>\n",
              "      <td>-0.681441</td>\n",
              "      <td>-0.843922</td>\n",
              "      <td>-0.169105</td>\n",
              "      <td>-0.502691</td>\n",
              "      <td>0.738320</td>\n",
              "      <td>0.978734</td>\n",
              "      <td>-0.316170</td>\n",
              "      <td>0.725143</td>\n",
              "      <td>0.984164</td>\n",
              "      <td>1.153201</td>\n",
              "      <td>1.206157</td>\n",
              "      <td>1.131677</td>\n",
              "      <td>0.621995</td>\n",
              "    </tr>\n",
              "    <tr>\n",
              "      <th>1</th>\n",
              "      <td>0.109340</td>\n",
              "      <td>0.165838</td>\n",
              "      <td>-0.231909</td>\n",
              "      <td>-0.344422</td>\n",
              "      <td>-0.332413</td>\n",
              "      <td>0.895642</td>\n",
              "      <td>0.854639</td>\n",
              "      <td>0.960837</td>\n",
              "      <td>-0.169105</td>\n",
              "      <td>-0.322704</td>\n",
              "      <td>-1.000373</td>\n",
              "      <td>-1.611655</td>\n",
              "      <td>-0.785781</td>\n",
              "      <td>-0.042074</td>\n",
              "      <td>-0.476616</td>\n",
              "      <td>-0.441743</td>\n",
              "      <td>-0.407225</td>\n",
              "      <td>-1.532335</td>\n",
              "      <td>-0.795008</td>\n",
              "    </tr>\n",
              "    <tr>\n",
              "      <th>2</th>\n",
              "      <td>0.574567</td>\n",
              "      <td>-1.625674</td>\n",
              "      <td>1.148226</td>\n",
              "      <td>0.753186</td>\n",
              "      <td>0.642341</td>\n",
              "      <td>0.895642</td>\n",
              "      <td>-0.714441</td>\n",
              "      <td>-0.648356</td>\n",
              "      <td>-0.169105</td>\n",
              "      <td>1.019697</td>\n",
              "      <td>-0.622594</td>\n",
              "      <td>1.692174</td>\n",
              "      <td>-0.349139</td>\n",
              "      <td>0.497819</td>\n",
              "      <td>0.984164</td>\n",
              "      <td>-0.450137</td>\n",
              "      <td>-0.417744</td>\n",
              "      <td>-1.151762</td>\n",
              "      <td>0.621995</td>\n",
              "    </tr>\n",
              "    <tr>\n",
              "      <th>3</th>\n",
              "      <td>1.233638</td>\n",
              "      <td>-0.622158</td>\n",
              "      <td>-1.206813</td>\n",
              "      <td>-0.070020</td>\n",
              "      <td>0.254255</td>\n",
              "      <td>-1.116517</td>\n",
              "      <td>-0.846442</td>\n",
              "      <td>0.365287</td>\n",
              "      <td>-0.169105</td>\n",
              "      <td>-0.679678</td>\n",
              "      <td>-0.895687</td>\n",
              "      <td>-1.504122</td>\n",
              "      <td>1.855578</td>\n",
              "      <td>-0.752461</td>\n",
              "      <td>0.984164</td>\n",
              "      <td>0.414491</td>\n",
              "      <td>0.127240</td>\n",
              "      <td>-0.771189</td>\n",
              "      <td>1.330497</td>\n",
              "    </tr>\n",
              "    <tr>\n",
              "      <th>4</th>\n",
              "      <td>-0.510963</td>\n",
              "      <td>-0.319083</td>\n",
              "      <td>1.729645</td>\n",
              "      <td>-0.070020</td>\n",
              "      <td>0.575390</td>\n",
              "      <td>0.895642</td>\n",
              "      <td>-0.831513</td>\n",
              "      <td>-0.905891</td>\n",
              "      <td>-0.169088</td>\n",
              "      <td>-0.285207</td>\n",
              "      <td>-0.900239</td>\n",
              "      <td>-0.026958</td>\n",
              "      <td>0.063863</td>\n",
              "      <td>0.355742</td>\n",
              "      <td>0.107696</td>\n",
              "      <td>-0.416559</td>\n",
              "      <td>-0.388475</td>\n",
              "      <td>1.131677</td>\n",
              "      <td>-1.503509</td>\n",
              "    </tr>\n",
              "  </tbody>\n",
              "</table>\n",
              "</div>"
            ],
            "text/plain": [
              "   popularity  danceability    energy  ...  trend_rank_score  enc_region  enc_year\n",
              "0   -0.317119      0.287068  0.355382  ...          1.206157    1.131677  0.621995\n",
              "1    0.109340      0.165838 -0.231909  ...         -0.407225   -1.532335 -0.795008\n",
              "2    0.574567     -1.625674  1.148226  ...         -0.417744   -1.151762  0.621995\n",
              "3    1.233638     -0.622158 -1.206813  ...          0.127240   -0.771189  1.330497\n",
              "4   -0.510963     -0.319083  1.729645  ...         -0.388475    1.131677 -1.503509\n",
              "\n",
              "[5 rows x 19 columns]"
            ]
          },
          "metadata": {},
          "execution_count": 23
        }
      ]
    },
    {
      "cell_type": "code",
      "metadata": {
        "id": "j3PUKQ0Kc1OX"
      },
      "source": [
        "# Instantiate KNeighborsClassifier\n",
        "clf = KNeighborsClassifier()\n",
        "\n",
        "# Fit the classifier\n",
        "clf.fit(scaled_data_train, y_train)\n",
        "\n",
        "# Predict on the test set\n",
        "test_preds = clf.predict(scaled_data_test)"
      ],
      "execution_count": 24,
      "outputs": []
    },
    {
      "cell_type": "code",
      "metadata": {
        "colab": {
          "base_uri": "https://localhost:8080/"
        },
        "id": "FFSFWNDIc1OX",
        "outputId": "82a19b51-e86c-45fc-b834-f3a659e8694e"
      },
      "source": [
        "print(confusion_matrix(y_test, test_preds))\n",
        "print(classification_report(y_test, test_preds))"
      ],
      "execution_count": 25,
      "outputs": [
        {
          "output_type": "stream",
          "name": "stdout",
          "text": [
            "[[2001  629  311   54]\n",
            " [ 782 1242  722  158]\n",
            " [ 473 1035 1054  354]\n",
            " [ 151  464  641 1611]]\n",
            "              precision    recall  f1-score   support\n",
            "\n",
            "           1       0.59      0.67      0.63      2995\n",
            "           2       0.37      0.43      0.40      2904\n",
            "           3       0.39      0.36      0.37      2916\n",
            "           4       0.74      0.56      0.64      2867\n",
            "\n",
            "    accuracy                           0.51     11682\n",
            "   macro avg       0.52      0.50      0.51     11682\n",
            "weighted avg       0.52      0.51      0.51     11682\n",
            "\n"
          ]
        }
      ]
    },
    {
      "cell_type": "code",
      "metadata": {
        "id": "b96c-nT9c1OX"
      },
      "source": [
        "def find_best_k(X_train, y_train, X_test, y_test, min_k=1, max_k=34):\n",
        "    best_k = 0\n",
        "    best_score = 0.0\n",
        "    for k in range (min_k, max_k+1, 2):\n",
        "        knn = KNeighborsClassifier(n_neighbors = k)\n",
        "        knn.fit(X_train, y_train)\n",
        "        preds = knn.predict(X_test)\n",
        "        f1 = f1_score (y_test, preds, average='micro')\n",
        "        if f1 > best_score:\n",
        "            best_k = k\n",
        "            best_score = f1\n",
        "    print (\"Best value for k: {}\".format(best_k))\n",
        "    print (\"F1-Score: {}\".format(best_score))"
      ],
      "execution_count": 26,
      "outputs": []
    },
    {
      "cell_type": "code",
      "metadata": {
        "colab": {
          "base_uri": "https://localhost:8080/"
        },
        "id": "iayD6Jqpc1OX",
        "outputId": "e43596e0-d82c-46ae-826f-f7bcc7306078"
      },
      "source": [
        "find_best_k(scaled_data_train, y_train, scaled_data_test, y_test)"
      ],
      "execution_count": 27,
      "outputs": [
        {
          "output_type": "stream",
          "name": "stdout",
          "text": [
            "Best value for k: 31\n",
            "F1-Score: 0.5600068481424414\n"
          ]
        }
      ]
    },
    {
      "cell_type": "code",
      "metadata": {
        "id": "MbWiePKyc1OX"
      },
      "source": [
        "# Instantiate KNeighborsClassifier\n",
        "clf2 = KNeighborsClassifier(n_neighbors=33)\n",
        "\n",
        "# Fit the classifier\n",
        "clf2.fit(scaled_data_train, y_train)\n",
        "\n",
        "# Predict on the test set\n",
        "test_preds = clf2.predict(scaled_data_test)"
      ],
      "execution_count": 28,
      "outputs": []
    },
    {
      "cell_type": "code",
      "metadata": {
        "colab": {
          "base_uri": "https://localhost:8080/"
        },
        "id": "2XgE_D0yc1OY",
        "outputId": "0903e9ab-87ef-4c30-a9e5-473cb4f0c07f"
      },
      "source": [
        "print(confusion_matrix(y_test, test_preds))\n",
        "print(classification_report(y_test, test_preds))"
      ],
      "execution_count": 29,
      "outputs": [
        {
          "output_type": "stream",
          "name": "stdout",
          "text": [
            "[[2101  524  323   47]\n",
            " [ 647 1297  826  134]\n",
            " [ 334  875 1336  371]\n",
            " [ 107  294  668 1798]]\n",
            "              precision    recall  f1-score   support\n",
            "\n",
            "           1       0.66      0.70      0.68      2995\n",
            "           2       0.43      0.45      0.44      2904\n",
            "           3       0.42      0.46      0.44      2916\n",
            "           4       0.77      0.63      0.69      2867\n",
            "\n",
            "    accuracy                           0.56     11682\n",
            "   macro avg       0.57      0.56      0.56     11682\n",
            "weighted avg       0.57      0.56      0.56     11682\n",
            "\n"
          ]
        }
      ]
    },
    {
      "cell_type": "code",
      "metadata": {
        "id": "NHmi10Nyc1OY"
      },
      "source": [
        "#Random forest\n",
        "# Instantiate a BaggingClassifier\n",
        "bagged_tree = BaggingClassifier(DecisionTreeClassifier(criterion='entropy', max_depth=5), \n",
        "                                 n_estimators=20)"
      ],
      "execution_count": 30,
      "outputs": []
    },
    {
      "cell_type": "code",
      "metadata": {
        "colab": {
          "base_uri": "https://localhost:8080/"
        },
        "id": "NNXmrCF3c1OY",
        "outputId": "8648210e-ba16-464e-8b45-efa291b76779"
      },
      "source": [
        "# Fit to the training data\n",
        "bagged_tree.fit(X_train, y_train)"
      ],
      "execution_count": 31,
      "outputs": [
        {
          "output_type": "execute_result",
          "data": {
            "text/plain": [
              "BaggingClassifier(base_estimator=DecisionTreeClassifier(criterion='entropy',\n",
              "                                                        max_depth=5),\n",
              "                  n_estimators=20)"
            ]
          },
          "metadata": {},
          "execution_count": 31
        }
      ]
    },
    {
      "cell_type": "code",
      "metadata": {
        "colab": {
          "base_uri": "https://localhost:8080/"
        },
        "id": "DHVST9WMc1OY",
        "outputId": "8f7996df-3f41-4ba3-d42f-d273f53ffe4e"
      },
      "source": [
        "# Training accuracy score\n",
        "bagged_tree.score(X_train, y_train)"
      ],
      "execution_count": 32,
      "outputs": [
        {
          "output_type": "execute_result",
          "data": {
            "text/plain": [
              "0.6258747993579454"
            ]
          },
          "metadata": {},
          "execution_count": 32
        }
      ]
    },
    {
      "cell_type": "code",
      "metadata": {
        "colab": {
          "base_uri": "https://localhost:8080/"
        },
        "id": "rBwJ6Wjhc1OY",
        "outputId": "d393faf0-c044-4431-caec-49fcdba6683b"
      },
      "source": [
        "# Test accuracy score\n",
        "bagged_tree.score(X_test, y_test)"
      ],
      "execution_count": 33,
      "outputs": [
        {
          "output_type": "execute_result",
          "data": {
            "text/plain": [
              "0.6223249443588427"
            ]
          },
          "metadata": {},
          "execution_count": 33
        }
      ]
    },
    {
      "cell_type": "code",
      "metadata": {
        "colab": {
          "base_uri": "https://localhost:8080/"
        },
        "id": "sCF5DDJsc1OY",
        "outputId": "fb0f4635-a97a-4109-bbf7-b65ea8be57b6"
      },
      "source": [
        "# Test set predictions\n",
        "pred = bagged_tree.predict(X_test)\n",
        "\n",
        "# Confusion matrix and classification report\n",
        "print(confusion_matrix(y_test, pred))\n",
        "print(classification_report(y_test, pred))"
      ],
      "execution_count": 34,
      "outputs": [
        {
          "output_type": "stream",
          "name": "stdout",
          "text": [
            "[[2164  623  166   42]\n",
            " [ 454 1659  652  139]\n",
            " [ 188  966 1275  487]\n",
            " [  58  170  467 2172]]\n",
            "              precision    recall  f1-score   support\n",
            "\n",
            "           1       0.76      0.72      0.74      2995\n",
            "           2       0.49      0.57      0.52      2904\n",
            "           3       0.50      0.44      0.47      2916\n",
            "           4       0.76      0.76      0.76      2867\n",
            "\n",
            "    accuracy                           0.62     11682\n",
            "   macro avg       0.63      0.62      0.62     11682\n",
            "weighted avg       0.63      0.62      0.62     11682\n",
            "\n"
          ]
        }
      ]
    },
    {
      "cell_type": "code",
      "metadata": {
        "colab": {
          "base_uri": "https://localhost:8080/"
        },
        "id": "5ZcFynATc1OY",
        "outputId": "63e8e88b-0042-424f-925f-34467f2e2188"
      },
      "source": [
        "# Instantiate and fit a RandomForestClassifier\n",
        "forest = RandomForestClassifier(n_estimators=100, max_depth=6)\n",
        "forest.fit(X_train, y_train)"
      ],
      "execution_count": 35,
      "outputs": [
        {
          "output_type": "execute_result",
          "data": {
            "text/plain": [
              "RandomForestClassifier(max_depth=6)"
            ]
          },
          "metadata": {},
          "execution_count": 35
        }
      ]
    },
    {
      "cell_type": "code",
      "metadata": {
        "colab": {
          "base_uri": "https://localhost:8080/"
        },
        "id": "Oxs_PCVmc1OY",
        "outputId": "8d977958-69b0-49e3-c2b3-046d45e24799"
      },
      "source": [
        "# Training accuracy score\n",
        "forest.score(X_train, y_train)"
      ],
      "execution_count": 36,
      "outputs": [
        {
          "output_type": "execute_result",
          "data": {
            "text/plain": [
              "0.6215516318887105"
            ]
          },
          "metadata": {},
          "execution_count": 36
        }
      ]
    },
    {
      "cell_type": "code",
      "metadata": {
        "colab": {
          "base_uri": "https://localhost:8080/"
        },
        "id": "jwenEmNKc1OZ",
        "outputId": "6ac82743-0d35-40a3-e371-1a7837150065"
      },
      "source": [
        "# Test accuracy score\n",
        "forest.score(X_test, y_test)"
      ],
      "execution_count": 37,
      "outputs": [
        {
          "output_type": "execute_result",
          "data": {
            "text/plain": [
              "0.6111967128916281"
            ]
          },
          "metadata": {},
          "execution_count": 37
        }
      ]
    },
    {
      "cell_type": "code",
      "metadata": {
        "colab": {
          "base_uri": "https://localhost:8080/",
          "height": 500
        },
        "id": "5cCDuWnxc1OZ",
        "outputId": "8427a671-0467-480f-d978-8a887e683bb8"
      },
      "source": [
        "plot_feature_importances(forest)"
      ],
      "execution_count": 38,
      "outputs": [
        {
          "output_type": "display_data",
          "data": {
            "image/png": "[encoded data removed]",
            "text/plain": [
              "<Figure size 576x576 with 1 Axes>"
            ]
          },
          "metadata": {}
        }
      ]
    },
    {
      "cell_type": "code",
      "metadata": {
        "colab": {
          "base_uri": "https://localhost:8080/"
        },
        "id": "avf9W9zBc1OZ",
        "outputId": "fdaf575b-dc01-4d7a-cdb6-c62ad521fa86"
      },
      "source": [
        "# Test set predictions for forest:\n",
        "pred = forest.predict(X_test)\n",
        "\n",
        "# Confusion matrix and classification report\n",
        "print(confusion_matrix(y_test, pred))\n",
        "print(classification_report(y_test, pred))"
      ],
      "execution_count": 39,
      "outputs": [
        {
          "output_type": "stream",
          "name": "stdout",
          "text": [
            "[[2271  506  146   72]\n",
            " [ 699 1408  590  207]\n",
            " [ 262  881 1250  523]\n",
            " [  59  132  465 2211]]\n",
            "              precision    recall  f1-score   support\n",
            "\n",
            "           1       0.69      0.76      0.72      2995\n",
            "           2       0.48      0.48      0.48      2904\n",
            "           3       0.51      0.43      0.47      2916\n",
            "           4       0.73      0.77      0.75      2867\n",
            "\n",
            "    accuracy                           0.61     11682\n",
            "   macro avg       0.60      0.61      0.61     11682\n",
            "weighted avg       0.60      0.61      0.61     11682\n",
            "\n"
          ]
        }
      ]
    },
    {
      "cell_type": "code",
      "metadata": {
        "colab": {
          "base_uri": "https://localhost:8080/"
        },
        "id": "etdhi__ec1OZ",
        "outputId": "1382511a-0c1a-4d87-e19a-6d811247dab8"
      },
      "source": [
        "#GridSearch random forest\n",
        "rf_clf = RandomForestClassifier()\n",
        "mean_rf_cv_score = np.mean(cross_val_score(rf_clf, X_train, y_train, cv=3))\n",
        "\n",
        "print(f\"Mean Cross Val Score for Random Forest Classifier: {mean_rf_cv_score :.2%}\")"
      ],
      "execution_count": 40,
      "outputs": [
        {
          "output_type": "stream",
          "name": "stdout",
          "text": [
            "Mean Cross Val Score for Random Forest Classifier: 66.90%\n"
          ]
        }
      ]
    },
    {
      "cell_type": "code",
      "metadata": {
        "id": "IRQLf8xgc1OZ"
      },
      "source": [
        "rf_param_grid = {\n",
        "    'n_estimators' : [10,30,100],\n",
        "    'criterion' : ['gini', 'entropy'],\n",
        "    'max_depth' : [None, 2,6,10],\n",
        "    'min_samples_split' : [5,10],\n",
        "    'min_samples_leaf' : [3,6]\n",
        "    \n",
        "}"
      ],
      "execution_count": 41,
      "outputs": []
    },
    {
      "cell_type": "code",
      "metadata": {
        "colab": {
          "base_uri": "https://localhost:8080/"
        },
        "id": "NRidwD9zc1OZ",
        "outputId": "1bf22d2e-8112-4a64-ca76-0a8b57562c7e"
      },
      "source": [
        "rf_grid_search = GridSearchCV(rf_clf, rf_param_grid, cv=3)\n",
        "rf_grid_search.fit(X_train, y_train)\n",
        "\n",
        "\n",
        "print(f\"Testing Accuracy: {rf_grid_search.best_score_ :.2%}\")\n",
        "print(\"\")\n",
        "print(f\"Optimal Parameters: {rf_grid_search.best_params_}\")"
      ],
      "execution_count": 42,
      "outputs": [
        {
          "output_type": "stream",
          "name": "stdout",
          "text": [
            "Testing Accuracy: 67.67%\n",
            "\n",
            "Optimal Parameters: {'criterion': 'entropy', 'max_depth': None, 'min_samples_leaf': 3, 'min_samples_split': 5, 'n_estimators': 100}\n"
          ]
        }
      ]
    },
    {
      "cell_type": "code",
      "metadata": {
        "colab": {
          "base_uri": "https://localhost:8080/"
        },
        "id": "1mgidbsmc1OZ",
        "outputId": "e2dd32a6-fc45-4cf3-fe03-18c866676cfb"
      },
      "source": [
        "forest2 = RandomForestClassifier(n_estimators=100, max_depth=None, \n",
        "                                criterion = 'entropy', min_samples_leaf=3,\n",
        "                                min_samples_split=5)\n",
        "forest2.fit(X_train, y_train)"
      ],
      "execution_count": 43,
      "outputs": [
        {
          "output_type": "execute_result",
          "data": {
            "text/plain": [
              "RandomForestClassifier(criterion='entropy', min_samples_leaf=3,\n",
              "                       min_samples_split=5)"
            ]
          },
          "metadata": {},
          "execution_count": 43
        }
      ]
    },
    {
      "cell_type": "code",
      "metadata": {
        "colab": {
          "base_uri": "https://localhost:8080/"
        },
        "id": "T4tr-glqc1OZ",
        "outputId": "c2c7ea0a-9c5a-4da7-c0e1-4cfab4c0ab73"
      },
      "source": [
        "# Training accuracy score\n",
        "forest2.score(X_train, y_train)"
      ],
      "execution_count": 44,
      "outputs": [
        {
          "output_type": "execute_result",
          "data": {
            "text/plain": [
              "0.9779347244515784"
            ]
          },
          "metadata": {},
          "execution_count": 44
        }
      ]
    },
    {
      "cell_type": "code",
      "metadata": {
        "colab": {
          "base_uri": "https://localhost:8080/"
        },
        "id": "MpOqcc6Ac1OZ",
        "outputId": "5f6ae488-f932-459d-fb51-12a264fef058"
      },
      "source": [
        "# Test accuracy score\n",
        "forest2.score(X_test, y_test)"
      ],
      "execution_count": 45,
      "outputs": [
        {
          "output_type": "execute_result",
          "data": {
            "text/plain": [
              "0.6878959082348913"
            ]
          },
          "metadata": {},
          "execution_count": 45
        }
      ]
    },
    {
      "cell_type": "code",
      "metadata": {
        "colab": {
          "base_uri": "https://localhost:8080/"
        },
        "id": "EbnaBCVoc1OZ",
        "outputId": "6de73760-7c4c-42cb-d24c-af2fd7cf26f9"
      },
      "source": [
        "# Test set predictions for final forest:\n",
        "pred = forest2.predict(X_test)\n",
        "\n",
        "# Confusion matrix and classification report\n",
        "print(confusion_matrix(y_test, pred))\n",
        "print(classification_report(y_test, pred))"
      ],
      "execution_count": 46,
      "outputs": [
        {
          "output_type": "stream",
          "name": "stdout",
          "text": [
            "[[2312  521  128   34]\n",
            " [ 412 1757  624  111]\n",
            " [ 137  636 1713  430]\n",
            " [  22   64  527 2254]]\n",
            "              precision    recall  f1-score   support\n",
            "\n",
            "           1       0.80      0.77      0.79      2995\n",
            "           2       0.59      0.61      0.60      2904\n",
            "           3       0.57      0.59      0.58      2916\n",
            "           4       0.80      0.79      0.79      2867\n",
            "\n",
            "    accuracy                           0.69     11682\n",
            "   macro avg       0.69      0.69      0.69     11682\n",
            "weighted avg       0.69      0.69      0.69     11682\n",
            "\n"
          ]
        }
      ]
    },
    {
      "cell_type": "code",
      "metadata": {
        "colab": {
          "base_uri": "https://localhost:8080/",
          "height": 500
        },
        "id": "A5M596WDc1Oa",
        "outputId": "cfef4a51-508d-479b-d5b2-cd1c9869f1c0"
      },
      "source": [
        "plot_feature_importances(forest2)"
      ],
      "execution_count": 47,
      "outputs": [
        {
          "output_type": "display_data",
          "data": {
            "image/png": "[encoded data removed]",
            "text/plain": [
              "<Figure size 576x576 with 1 Axes>"
            ]
          },
          "metadata": {}
        }
      ]
    },
    {
      "cell_type": "code",
      "metadata": {
        "id": "eNYlXtglc1Oa"
      },
      "source": [
        "#using the more importantfeatures - remove mode, key, instrumentalness\n",
        "X = df[['enc_year','enc_region','trend_rank_score','top200_count','month','rank','popularity', 'duration_ms','valence',\n",
        "        'danceability','tempo', 'liveness', 'acousticness', 'speechiness','loudness','energy']]"
      ],
      "execution_count": 48,
      "outputs": []
    },
    {
      "cell_type": "code",
      "metadata": {
        "id": "iEWDSk5qc1Oa"
      },
      "source": [
        "X_train, X_test, y_train, y_test = train_test_split(X,y,random_state=42, test_size=0.2)"
      ],
      "execution_count": 49,
      "outputs": []
    },
    {
      "cell_type": "code",
      "metadata": {
        "colab": {
          "base_uri": "https://localhost:8080/"
        },
        "id": "eJ7ho5F6c1Oa",
        "outputId": "8adb647b-7cc9-4881-8d1a-fd53bb32a829"
      },
      "source": [
        "#untuned decision tree\n",
        "dt4 = DecisionTreeClassifier(criterion='entropy', random_state=42)\n",
        "dt4.fit(X_train, y_train)"
      ],
      "execution_count": 50,
      "outputs": [
        {
          "output_type": "execute_result",
          "data": {
            "text/plain": [
              "DecisionTreeClassifier(criterion='entropy', random_state=42)"
            ]
          },
          "metadata": {},
          "execution_count": 50
        }
      ]
    },
    {
      "cell_type": "code",
      "metadata": {
        "colab": {
          "base_uri": "https://localhost:8080/"
        },
        "id": "o-7g9CbKc1Oa",
        "outputId": "f92010e1-9e15-4405-fd78-c4bd99aa79ff"
      },
      "source": [
        "# Make predictions using test set \n",
        "y_pred = dt4.predict(X_test)\n",
        "\n",
        "# Check the AUC of predictions\n",
        "print(metrics.accuracy_score(y_test, y_pred))"
      ],
      "execution_count": 51,
      "outputs": [
        {
          "output_type": "stream",
          "name": "stdout",
          "text": [
            "0.6387604862181133\n"
          ]
        }
      ]
    },
    {
      "cell_type": "code",
      "metadata": {
        "colab": {
          "base_uri": "https://localhost:8080/"
        },
        "id": "mfvOnbyic1Oa",
        "outputId": "a5a5e66b-fa5b-40a8-cd9d-ce4868d505c7"
      },
      "source": [
        "# Confusion matrix and classification report\n",
        "print(confusion_matrix(y_test, y_pred))\n",
        "print(classification_report(y_test, y_pred))"
      ],
      "execution_count": 52,
      "outputs": [
        {
          "output_type": "stream",
          "name": "stdout",
          "text": [
            "[[2246  566  156   27]\n",
            " [ 453 1578  746  127]\n",
            " [ 145  717 1498  556]\n",
            " [  17  128  582 2140]]\n",
            "              precision    recall  f1-score   support\n",
            "\n",
            "           1       0.79      0.75      0.77      2995\n",
            "           2       0.53      0.54      0.54      2904\n",
            "           3       0.50      0.51      0.51      2916\n",
            "           4       0.75      0.75      0.75      2867\n",
            "\n",
            "    accuracy                           0.64     11682\n",
            "   macro avg       0.64      0.64      0.64     11682\n",
            "weighted avg       0.64      0.64      0.64     11682\n",
            "\n"
          ]
        }
      ]
    },
    {
      "cell_type": "code",
      "metadata": {
        "colab": {
          "base_uri": "https://localhost:8080/",
          "height": 500
        },
        "id": "FVjSevrwc1Oa",
        "outputId": "02908dd1-969d-402e-d777-af9bd512ab62"
      },
      "source": [
        "plot_feature_importances(dt4)"
      ],
      "execution_count": 53,
      "outputs": [
        {
          "output_type": "display_data",
          "data": {
            "image/png": "[encoded data removed]",
            "text/plain": [
              "<Figure size 576x576 with 1 Axes>"
            ]
          },
          "metadata": {}
        }
      ]
    },
    {
      "cell_type": "code",
      "metadata": {
        "id": "OpV-QPFjc1Oa"
      },
      "source": [
        "# Instantiate a BaggingClassifier\n",
        "bagged_tree2 = BaggingClassifier(DecisionTreeClassifier(criterion='entropy', max_depth=5), \n",
        "                                 n_estimators=20)"
      ],
      "execution_count": 54,
      "outputs": []
    },
    {
      "cell_type": "code",
      "metadata": {
        "colab": {
          "base_uri": "https://localhost:8080/"
        },
        "id": "Lmz6HUSbc1Oa",
        "outputId": "a0fd662d-de23-4103-b06d-9b0b10931d77"
      },
      "source": [
        "# Fit to the training data\n",
        "bagged_tree2.fit(X_train, y_train)"
      ],
      "execution_count": 55,
      "outputs": [
        {
          "output_type": "execute_result",
          "data": {
            "text/plain": [
              "BaggingClassifier(base_estimator=DecisionTreeClassifier(criterion='entropy',\n",
              "                                                        max_depth=5),\n",
              "                  n_estimators=20)"
            ]
          },
          "metadata": {},
          "execution_count": 55
        }
      ]
    },
    {
      "cell_type": "code",
      "metadata": {
        "colab": {
          "base_uri": "https://localhost:8080/"
        },
        "id": "wiY6mKiYc1Oa",
        "outputId": "9322051c-e7e0-4b51-e727-f3d8c1dbcdb9"
      },
      "source": [
        "# Training accuracy score\n",
        "bagged_tree2.score(X_train, y_train)"
      ],
      "execution_count": 56,
      "outputs": [
        {
          "output_type": "execute_result",
          "data": {
            "text/plain": [
              "0.6252541466024613"
            ]
          },
          "metadata": {},
          "execution_count": 56
        }
      ]
    },
    {
      "cell_type": "code",
      "metadata": {
        "colab": {
          "base_uri": "https://localhost:8080/"
        },
        "id": "IF7H0V95c1Oa",
        "outputId": "2fe1b89a-5c79-41d4-e2be-358994fc140d"
      },
      "source": [
        "# Test accuracy score\n",
        "bagged_tree2.score(X_test, y_test)"
      ],
      "execution_count": 57,
      "outputs": [
        {
          "output_type": "execute_result",
          "data": {
            "text/plain": [
              "0.6228385550419449"
            ]
          },
          "metadata": {},
          "execution_count": 57
        }
      ]
    },
    {
      "cell_type": "code",
      "metadata": {
        "colab": {
          "base_uri": "https://localhost:8080/"
        },
        "id": "2laGV9wVc1Ob",
        "outputId": "f5698486-b103-4c8a-91dc-9684979a573e"
      },
      "source": [
        "# Test set predictions\n",
        "pred = bagged_tree2.predict(X_test)\n",
        "\n",
        "# Confusion matrix and classification report\n",
        "print(confusion_matrix(y_test, pred))\n",
        "print(classification_report(y_test, pred))"
      ],
      "execution_count": 58,
      "outputs": [
        {
          "output_type": "stream",
          "name": "stdout",
          "text": [
            "[[2168  607  157   63]\n",
            " [ 471 1624  623  186]\n",
            " [ 184  947 1276  509]\n",
            " [  37  140  482 2208]]\n",
            "              precision    recall  f1-score   support\n",
            "\n",
            "           1       0.76      0.72      0.74      2995\n",
            "           2       0.49      0.56      0.52      2904\n",
            "           3       0.50      0.44      0.47      2916\n",
            "           4       0.74      0.77      0.76      2867\n",
            "\n",
            "    accuracy                           0.62     11682\n",
            "   macro avg       0.62      0.62      0.62     11682\n",
            "weighted avg       0.62      0.62      0.62     11682\n",
            "\n"
          ]
        }
      ]
    },
    {
      "cell_type": "code",
      "metadata": {
        "colab": {
          "base_uri": "https://localhost:8080/"
        },
        "id": "rP70Zbsac1Ob",
        "outputId": "81f4d9db-bf90-4ec9-eee9-9edecbde7979"
      },
      "source": [
        "#untuned random forest\n",
        "# Instantiate and fit an Untuned RandomForestClassifier\n",
        "forest3 = RandomForestClassifier(n_estimators=100, max_depth=6)\n",
        "forest3.fit(X_train, y_train)"
      ],
      "execution_count": 59,
      "outputs": [
        {
          "output_type": "execute_result",
          "data": {
            "text/plain": [
              "RandomForestClassifier(max_depth=6)"
            ]
          },
          "metadata": {},
          "execution_count": 59
        }
      ]
    },
    {
      "cell_type": "code",
      "metadata": {
        "colab": {
          "base_uri": "https://localhost:8080/"
        },
        "id": "KLz-mmPIc1Ob",
        "outputId": "1adea540-053c-4822-fb03-f141dff911f4"
      },
      "source": [
        "forest3.score(X_train, y_train)"
      ],
      "execution_count": 60,
      "outputs": [
        {
          "output_type": "execute_result",
          "data": {
            "text/plain": [
              "0.6273729266987694"
            ]
          },
          "metadata": {},
          "execution_count": 60
        }
      ]
    },
    {
      "cell_type": "code",
      "metadata": {
        "colab": {
          "base_uri": "https://localhost:8080/"
        },
        "id": "M__tIHSSc1Ob",
        "outputId": "844969fc-8daa-40f3-fcb2-c4edaa5f8b1e"
      },
      "source": [
        "forest3.score(X_test, y_test)"
      ],
      "execution_count": 61,
      "outputs": [
        {
          "output_type": "execute_result",
          "data": {
            "text/plain": [
              "0.620612908748502"
            ]
          },
          "metadata": {},
          "execution_count": 61
        }
      ]
    },
    {
      "cell_type": "code",
      "metadata": {
        "colab": {
          "base_uri": "https://localhost:8080/"
        },
        "id": "TmhUQ5WHc1Ob",
        "outputId": "e92a6efb-8595-471d-fa70-fe7592e4b272"
      },
      "source": [
        "# Test set predictions\n",
        "pred = forest3.predict(X_test)\n",
        "\n",
        "# Confusion matrix and classification report\n",
        "print(confusion_matrix(y_test, pred))\n",
        "print(classification_report(y_test, pred))"
      ],
      "execution_count": 62,
      "outputs": [
        {
          "output_type": "stream",
          "name": "stdout",
          "text": [
            "[[2272  524  133   66]\n",
            " [ 683 1477  547  197]\n",
            " [ 252  865 1280  519]\n",
            " [  47  128  471 2221]]\n",
            "              precision    recall  f1-score   support\n",
            "\n",
            "           1       0.70      0.76      0.73      2995\n",
            "           2       0.49      0.51      0.50      2904\n",
            "           3       0.53      0.44      0.48      2916\n",
            "           4       0.74      0.77      0.76      2867\n",
            "\n",
            "    accuracy                           0.62     11682\n",
            "   macro avg       0.61      0.62      0.62     11682\n",
            "weighted avg       0.61      0.62      0.62     11682\n",
            "\n"
          ]
        }
      ]
    },
    {
      "cell_type": "code",
      "metadata": {
        "colab": {
          "base_uri": "https://localhost:8080/",
          "height": 500
        },
        "id": "WMGblQpgc1Ob",
        "outputId": "302238ce-a104-4aa9-a11a-2ed0d4c01a09"
      },
      "source": [
        "plot_feature_importances(forest3)"
      ],
      "execution_count": 63,
      "outputs": [
        {
          "output_type": "display_data",
          "data": {
            "image/png": "[encoded data removed]",
            "text/plain": [
              "<Figure size 576x576 with 1 Axes>"
            ]
          },
          "metadata": {}
        }
      ]
    },
    {
      "cell_type": "code",
      "metadata": {
        "colab": {
          "base_uri": "https://localhost:8080/"
        },
        "id": "55LT97cbc1Ob",
        "outputId": "39ff1502-e08b-4164-b681-2d405e97d166"
      },
      "source": [
        "dt_clf2 = DecisionTreeClassifier()\n",
        "dt_cv_score = cross_val_score(dt_clf2, X_train, y_train, cv=3) \n",
        "mean_dt_cv_score = np.mean(dt_cv_score)\n",
        "\n",
        "print(f\"Mean Cross Validation Score: {mean_dt_cv_score :.2%}\")"
      ],
      "execution_count": 64,
      "outputs": [
        {
          "output_type": "stream",
          "name": "stdout",
          "text": [
            "Mean Cross Validation Score: 63.26%\n"
          ]
        }
      ]
    },
    {
      "cell_type": "code",
      "metadata": {
        "id": "mIr2sAr7c1Ob"
      },
      "source": [
        "dt_param_grid = {\n",
        "    'criterion': ['gini', 'entropy'],\n",
        "    'max_depth': [None, 2, 3, 4, 5, 6],\n",
        "    'min_samples_split': [2, 5, 10],\n",
        "    'min_samples_leaf': [1, 2, 3, 4, 5, 6]\n",
        "}"
      ],
      "execution_count": 65,
      "outputs": []
    },
    {
      "cell_type": "code",
      "metadata": {
        "colab": {
          "base_uri": "https://localhost:8080/"
        },
        "id": "5jwvM5eNc1Ob",
        "outputId": "79cb8032-b5b9-4753-8de0-f7df217f1cd2"
      },
      "source": [
        "# Instantiate GridSearchCV\n",
        "dt_grid_search = GridSearchCV(dt_clf2, dt_param_grid, cv=3, return_train_score=True)\n",
        "\n",
        "# Fit to the data\n",
        "dt_grid_search.fit(X_train, y_train)"
      ],
      "execution_count": 66,
      "outputs": [
        {
          "output_type": "execute_result",
          "data": {
            "text/plain": [
              "GridSearchCV(cv=3, estimator=DecisionTreeClassifier(),\n",
              "             param_grid={'criterion': ['gini', 'entropy'],\n",
              "                         'max_depth': [None, 2, 3, 4, 5, 6],\n",
              "                         'min_samples_leaf': [1, 2, 3, 4, 5, 6],\n",
              "                         'min_samples_split': [2, 5, 10]},\n",
              "             return_train_score=True)"
            ]
          },
          "metadata": {},
          "execution_count": 66
        }
      ]
    },
    {
      "cell_type": "code",
      "metadata": {
        "colab": {
          "base_uri": "https://localhost:8080/"
        },
        "id": "YODuq08kc1Ob",
        "outputId": "cf0fe345-d916-4155-b0ea-e96df814ee15"
      },
      "source": [
        "# Mean training score\n",
        "dt_gs_training_score = np.mean(dt_grid_search.cv_results_['mean_train_score'])\n",
        "\n",
        "# Mean test score\n",
        "dt_gs_testing_score = dt_grid_search.score(X_test, y_test)\n",
        "\n",
        "print(f\"Mean Training Score: {dt_gs_training_score :.2%}\")\n",
        "print(f\"Mean Test Score: {dt_gs_testing_score :.2%}\")\n",
        "print(\"Best Parameter Combination Found During Grid Search:\")\n",
        "dt_grid_search.best_params_"
      ],
      "execution_count": 67,
      "outputs": [
        {
          "output_type": "stream",
          "name": "stdout",
          "text": [
            "Mean Training Score: 63.95%\n",
            "Mean Test Score: 66.38%\n",
            "Best Parameter Combination Found During Grid Search:\n"
          ]
        },
        {
          "output_type": "execute_result",
          "data": {
            "text/plain": [
              "{'criterion': 'gini',\n",
              " 'max_depth': None,\n",
              " 'min_samples_leaf': 6,\n",
              " 'min_samples_split': 2}"
            ]
          },
          "metadata": {},
          "execution_count": 67
        }
      ]
    },
    {
      "cell_type": "code",
      "metadata": {
        "colab": {
          "base_uri": "https://localhost:8080/"
        },
        "id": "qyE7vmpvc1Ob",
        "outputId": "b6df2fcb-a2ce-4b4e-ca84-6641acee1223"
      },
      "source": [
        "tree_clf3 = DecisionTreeClassifier(criterion='gini', max_depth=None, min_samples_leaf = 6,\n",
        "                                  min_samples_split = 5)\n",
        "tree_clf3.fit(X_train, y_train)"
      ],
      "execution_count": 68,
      "outputs": [
        {
          "output_type": "execute_result",
          "data": {
            "text/plain": [
              "DecisionTreeClassifier(min_samples_leaf=6, min_samples_split=5)"
            ]
          },
          "metadata": {},
          "execution_count": 68
        }
      ]
    },
    {
      "cell_type": "code",
      "metadata": {
        "colab": {
          "base_uri": "https://localhost:8080/"
        },
        "id": "UsPTPmehc1Ob",
        "outputId": "b5feab47-9274-4472-90b5-68c4a7e58403"
      },
      "source": [
        "# Test set predictions for tree:\n",
        "pred = tree_clf3.predict(X_test)\n",
        "\n",
        "# Confusion matrix and classification report\n",
        "print(confusion_matrix(y_test, pred))\n",
        "print(classification_report(y_test, pred))"
      ],
      "execution_count": 69,
      "outputs": [
        {
          "output_type": "stream",
          "name": "stdout",
          "text": [
            "[[2354  477  146   18]\n",
            " [ 456 1677  661  110]\n",
            " [ 120  722 1608  466]\n",
            " [  17  125  602 2123]]\n",
            "              precision    recall  f1-score   support\n",
            "\n",
            "           1       0.80      0.79      0.79      2995\n",
            "           2       0.56      0.58      0.57      2904\n",
            "           3       0.53      0.55      0.54      2916\n",
            "           4       0.78      0.74      0.76      2867\n",
            "\n",
            "    accuracy                           0.66     11682\n",
            "   macro avg       0.67      0.66      0.67     11682\n",
            "weighted avg       0.67      0.66      0.67     11682\n",
            "\n"
          ]
        }
      ]
    },
    {
      "cell_type": "code",
      "metadata": {
        "colab": {
          "base_uri": "https://localhost:8080/",
          "height": 500
        },
        "id": "Qdu32RHic1Ob",
        "outputId": "12088123-7bd7-4f10-e033-4f9ef5e9b360"
      },
      "source": [
        "plot_feature_importances(tree_clf3)"
      ],
      "execution_count": 70,
      "outputs": [
        {
          "output_type": "display_data",
          "data": {
            "image/png": "[encoded data removed]",
            "text/plain": [
              "<Figure size 576x576 with 1 Axes>"
            ]
          },
          "metadata": {}
        }
      ]
    },
    {
      "cell_type": "code",
      "metadata": {
        "colab": {
          "base_uri": "https://localhost:8080/"
        },
        "id": "PXJ2prxOc1Oc",
        "outputId": "c407b7a9-a51f-4a18-da7d-249d8302e252"
      },
      "source": [
        "forest4 = RandomForestClassifier()\n",
        "mean_rf_cv_score = np.mean(cross_val_score(forest4, X_train, y_train, cv=3))\n",
        "\n",
        "print(f\"Mean Cross Val Score for Random Forest Classifier: {mean_rf_cv_score :.2%}\")"
      ],
      "execution_count": 71,
      "outputs": [
        {
          "output_type": "stream",
          "name": "stdout",
          "text": [
            "Mean Cross Val Score for Random Forest Classifier: 68.06%\n"
          ]
        }
      ]
    },
    {
      "cell_type": "code",
      "metadata": {
        "id": "JoDuAxPFc1Oc"
      },
      "source": [
        "rf_param_grid = {\n",
        "    'n_estimators' : [10,30,100],\n",
        "    'criterion' : ['gini', 'entropy'],\n",
        "    'max_depth' : [None, 2,6,10],\n",
        "    'min_samples_split' : [5,10],\n",
        "    'min_samples_leaf' : [3,6]\n",
        "    \n",
        "}"
      ],
      "execution_count": 72,
      "outputs": []
    },
    {
      "cell_type": "code",
      "metadata": {
        "colab": {
          "base_uri": "https://localhost:8080/"
        },
        "id": "Dy4ZTsVjc1Oc",
        "outputId": "c71a8a9a-f1d7-4dc7-a652-da07558a7d63"
      },
      "source": [
        "rf_grid_search = GridSearchCV(forest4, rf_param_grid, cv=3)\n",
        "rf_grid_search.fit(X_train, y_train)\n",
        "\n",
        "\n",
        "print(f\"Testing Accuracy: {rf_grid_search.best_score_ :.2%}\")\n",
        "print(\"\")\n",
        "print(f\"Optimal Parameters: {rf_grid_search.best_params_}\")"
      ],
      "execution_count": 73,
      "outputs": [
        {
          "output_type": "stream",
          "name": "stdout",
          "text": [
            "Testing Accuracy: 68.80%\n",
            "\n",
            "Optimal Parameters: {'criterion': 'entropy', 'max_depth': None, 'min_samples_leaf': 3, 'min_samples_split': 10, 'n_estimators': 100}\n"
          ]
        }
      ]
    },
    {
      "cell_type": "code",
      "metadata": {
        "colab": {
          "base_uri": "https://localhost:8080/"
        },
        "id": "saqgBWWXc1Oc",
        "outputId": "f010130a-c7b0-4c24-9dc2-0e0a3977d09f"
      },
      "source": [
        "forest4 = RandomForestClassifier(n_estimators=100, max_depth=None, \n",
        "                                criterion = 'entropy', min_samples_leaf=3,\n",
        "                                min_samples_split=5)\n",
        "forest4.fit(X_train, y_train)"
      ],
      "execution_count": 75,
      "outputs": [
        {
          "output_type": "execute_result",
          "data": {
            "text/plain": [
              "RandomForestClassifier(criterion='entropy', min_samples_leaf=3,\n",
              "                       min_samples_split=5)"
            ]
          },
          "metadata": {},
          "execution_count": 75
        }
      ]
    },
    {
      "cell_type": "code",
      "metadata": {
        "colab": {
          "base_uri": "https://localhost:8080/"
        },
        "id": "tSItYnMXc1Oc",
        "outputId": "afdadd42-f532-45b0-fc98-6c6eaf058bc3"
      },
      "source": [
        "# Training accuracy score\n",
        "forest4.score(X_train, y_train)"
      ],
      "execution_count": 76,
      "outputs": [
        {
          "output_type": "execute_result",
          "data": {
            "text/plain": [
              "0.9777421080791867"
            ]
          },
          "metadata": {},
          "execution_count": 76
        }
      ]
    },
    {
      "cell_type": "code",
      "metadata": {
        "colab": {
          "base_uri": "https://localhost:8080/"
        },
        "id": "ddcHNcRRc1Oc",
        "outputId": "eae0bcd1-a9dc-459d-d01d-e96c688f2ac8"
      },
      "source": [
        "# Testing accuracy score\n",
        "forest4.score(X_test, y_test)"
      ],
      "execution_count": 77,
      "outputs": [
        {
          "output_type": "execute_result",
          "data": {
            "text/plain": [
              "0.704417051874679"
            ]
          },
          "metadata": {},
          "execution_count": 77
        }
      ]
    },
    {
      "cell_type": "code",
      "metadata": {
        "colab": {
          "base_uri": "https://localhost:8080/"
        },
        "id": "lgvlwqlRc1Oc",
        "outputId": "5c14a601-48b3-4457-d4d1-10542f034a16"
      },
      "source": [
        "# Test set predictions for final forest:\n",
        "pred = forest4.predict(X_test)\n",
        "\n",
        "# Confusion matrix and classification report\n",
        "print(confusion_matrix(y_test, pred))\n",
        "print(classification_report(y_test, pred))"
      ],
      "execution_count": 78,
      "outputs": [
        {
          "output_type": "stream",
          "name": "stdout",
          "text": [
            "[[2386  485   96   28]\n",
            " [ 374 1825  603  102]\n",
            " [ 132  624 1760  400]\n",
            " [  19   54  536 2258]]\n",
            "              precision    recall  f1-score   support\n",
            "\n",
            "           1       0.82      0.80      0.81      2995\n",
            "           2       0.61      0.63      0.62      2904\n",
            "           3       0.59      0.60      0.60      2916\n",
            "           4       0.81      0.79      0.80      2867\n",
            "\n",
            "    accuracy                           0.70     11682\n",
            "   macro avg       0.71      0.70      0.71     11682\n",
            "weighted avg       0.71      0.70      0.71     11682\n",
            "\n"
          ]
        }
      ]
    },
    {
      "cell_type": "code",
      "metadata": {
        "colab": {
          "base_uri": "https://localhost:8080/",
          "height": 500
        },
        "id": "hpO7RYMec1Oc",
        "outputId": "df593507-7180-47df-fc10-5e2c05f572b0"
      },
      "source": [
        "plot_feature_importances(forest4)"
      ],
      "execution_count": 79,
      "outputs": [
        {
          "output_type": "display_data",
          "data": {
            "image/png": "[encoded data removed]",
            "text/plain": [
              "<Figure size 576x576 with 1 Axes>"
            ]
          },
          "metadata": {}
        }
      ]
    },
    {
      "cell_type": "code",
      "metadata": {
        "id": "KhoQjM_xc1Oc"
      },
      "source": [
        "import xgboost as xgb\n",
        "from xgboost.sklearn import XGBClassifier"
      ],
      "execution_count": 80,
      "outputs": []
    },
    {
      "cell_type": "code",
      "metadata": {
        "colab": {
          "base_uri": "https://localhost:8080/",
          "height": 766
        },
        "id": "SYVKBsL5c1Oc",
        "outputId": "a512e8a1-3669-420b-e075-e8091c52b6e1"
      },
      "source": [
        "dtrain = xgb.DMatrix(data=X_train, label=y_train)\n",
        "dtest = xgb.DMatrix(data=X_test)\n",
        "params = {\n",
        "    'max_depth': 6,\n",
        "    'objective': 'multi:softprob',  # error evaluation for multiclass training\n",
        "    'num_class': 4,\n",
        "    # Set number of GPUs if available   \n",
        "    'n_gpus': 0\n",
        "}\n",
        "bst = xgb.train(params, dtrain)\n",
        "pred = bst.predict(dtest)\n",
        "# Confusion matrix and classification report\n",
        "print(confusion_matrix(y_test, pred))\n",
        "print(classification_report(y_test, pred))"
      ],
      "execution_count": 82,
      "outputs": [
        {
          "output_type": "error",
          "ename": "XGBoostError",
          "evalue": "ignored",
          "traceback": [
            "\u001b[0;31m---------------------------------------------------------------------------\u001b[0m",
            "\u001b[0;31mXGBoostError\u001b[0m                              Traceback (most recent call last)",
            "\u001b[0;32m<ipython-input-82-d5094b5550f4>\u001b[0m in \u001b[0;36m<module>\u001b[0;34m()\u001b[0m\n\u001b[1;32m      8\u001b[0m     \u001b[0;34m'n_gpus'\u001b[0m\u001b[0;34m:\u001b[0m \u001b[0;36m0\u001b[0m\u001b[0;34m\u001b[0m\u001b[0;34m\u001b[0m\u001b[0m\n\u001b[1;32m      9\u001b[0m }\n\u001b[0;32m---> 10\u001b[0;31m \u001b[0mbst\u001b[0m \u001b[0;34m=\u001b[0m \u001b[0mxgb\u001b[0m\u001b[0;34m.\u001b[0m\u001b[0mtrain\u001b[0m\u001b[0;34m(\u001b[0m\u001b[0mparams\u001b[0m\u001b[0;34m,\u001b[0m \u001b[0mdtrain\u001b[0m\u001b[0;34m)\u001b[0m\u001b[0;34m\u001b[0m\u001b[0;34m\u001b[0m\u001b[0m\n\u001b[0m\u001b[1;32m     11\u001b[0m \u001b[0mpred\u001b[0m \u001b[0;34m=\u001b[0m \u001b[0mbst\u001b[0m\u001b[0;34m.\u001b[0m\u001b[0mpredict\u001b[0m\u001b[0;34m(\u001b[0m\u001b[0mdtest\u001b[0m\u001b[0;34m)\u001b[0m\u001b[0;34m\u001b[0m\u001b[0;34m\u001b[0m\u001b[0m\n\u001b[1;32m     12\u001b[0m \u001b[0;31m# Confusion matrix and classification report\u001b[0m\u001b[0;34m\u001b[0m\u001b[0;34m\u001b[0m\u001b[0;34m\u001b[0m\u001b[0m\n",
            "\u001b[0;32m/usr/local/lib/python3.7/dist-packages/xgboost/training.py\u001b[0m in \u001b[0;36mtrain\u001b[0;34m(params, dtrain, num_boost_round, evals, obj, feval, maximize, early_stopping_rounds, evals_result, verbose_eval, xgb_model, callbacks, learning_rates)\u001b[0m\n\u001b[1;32m    214\u001b[0m                            \u001b[0mevals\u001b[0m\u001b[0;34m=\u001b[0m\u001b[0mevals\u001b[0m\u001b[0;34m,\u001b[0m\u001b[0;34m\u001b[0m\u001b[0;34m\u001b[0m\u001b[0m\n\u001b[1;32m    215\u001b[0m                            \u001b[0mobj\u001b[0m\u001b[0;34m=\u001b[0m\u001b[0mobj\u001b[0m\u001b[0;34m,\u001b[0m \u001b[0mfeval\u001b[0m\u001b[0;34m=\u001b[0m\u001b[0mfeval\u001b[0m\u001b[0;34m,\u001b[0m\u001b[0;34m\u001b[0m\u001b[0;34m\u001b[0m\u001b[0m\n\u001b[0;32m--> 216\u001b[0;31m                            xgb_model=xgb_model, callbacks=callbacks)\n\u001b[0m\u001b[1;32m    217\u001b[0m \u001b[0;34m\u001b[0m\u001b[0m\n\u001b[1;32m    218\u001b[0m \u001b[0;34m\u001b[0m\u001b[0m\n",
            "\u001b[0;32m/usr/local/lib/python3.7/dist-packages/xgboost/training.py\u001b[0m in \u001b[0;36m_train_internal\u001b[0;34m(params, dtrain, num_boost_round, evals, obj, feval, xgb_model, callbacks)\u001b[0m\n\u001b[1;32m     72\u001b[0m         \u001b[0;31m# Skip the first update if it is a recovery step.\u001b[0m\u001b[0;34m\u001b[0m\u001b[0;34m\u001b[0m\u001b[0;34m\u001b[0m\u001b[0m\n\u001b[1;32m     73\u001b[0m         \u001b[0;32mif\u001b[0m \u001b[0mversion\u001b[0m \u001b[0;34m%\u001b[0m \u001b[0;36m2\u001b[0m \u001b[0;34m==\u001b[0m \u001b[0;36m0\u001b[0m\u001b[0;34m:\u001b[0m\u001b[0;34m\u001b[0m\u001b[0;34m\u001b[0m\u001b[0m\n\u001b[0;32m---> 74\u001b[0;31m             \u001b[0mbst\u001b[0m\u001b[0;34m.\u001b[0m\u001b[0mupdate\u001b[0m\u001b[0;34m(\u001b[0m\u001b[0mdtrain\u001b[0m\u001b[0;34m,\u001b[0m \u001b[0mi\u001b[0m\u001b[0;34m,\u001b[0m \u001b[0mobj\u001b[0m\u001b[0;34m)\u001b[0m\u001b[0;34m\u001b[0m\u001b[0;34m\u001b[0m\u001b[0m\n\u001b[0m\u001b[1;32m     75\u001b[0m             \u001b[0mbst\u001b[0m\u001b[0;34m.\u001b[0m\u001b[0msave_rabit_checkpoint\u001b[0m\u001b[0;34m(\u001b[0m\u001b[0;34m)\u001b[0m\u001b[0;34m\u001b[0m\u001b[0;34m\u001b[0m\u001b[0m\n\u001b[1;32m     76\u001b[0m             \u001b[0mversion\u001b[0m \u001b[0;34m+=\u001b[0m \u001b[0;36m1\u001b[0m\u001b[0;34m\u001b[0m\u001b[0;34m\u001b[0m\u001b[0m\n",
            "\u001b[0;32m/usr/local/lib/python3.7/dist-packages/xgboost/core.py\u001b[0m in \u001b[0;36mupdate\u001b[0;34m(self, dtrain, iteration, fobj)\u001b[0m\n\u001b[1;32m   1107\u001b[0m         \u001b[0;32mif\u001b[0m \u001b[0mfobj\u001b[0m \u001b[0;32mis\u001b[0m \u001b[0;32mNone\u001b[0m\u001b[0;34m:\u001b[0m\u001b[0;34m\u001b[0m\u001b[0;34m\u001b[0m\u001b[0m\n\u001b[1;32m   1108\u001b[0m             _check_call(_LIB.XGBoosterUpdateOneIter(self.handle, ctypes.c_int(iteration),\n\u001b[0;32m-> 1109\u001b[0;31m                                                     dtrain.handle))\n\u001b[0m\u001b[1;32m   1110\u001b[0m         \u001b[0;32melse\u001b[0m\u001b[0;34m:\u001b[0m\u001b[0;34m\u001b[0m\u001b[0;34m\u001b[0m\u001b[0m\n\u001b[1;32m   1111\u001b[0m             \u001b[0mpred\u001b[0m \u001b[0;34m=\u001b[0m \u001b[0mself\u001b[0m\u001b[0;34m.\u001b[0m\u001b[0mpredict\u001b[0m\u001b[0;34m(\u001b[0m\u001b[0mdtrain\u001b[0m\u001b[0;34m)\u001b[0m\u001b[0;34m\u001b[0m\u001b[0;34m\u001b[0m\u001b[0m\n",
            "\u001b[0;32m/usr/local/lib/python3.7/dist-packages/xgboost/core.py\u001b[0m in \u001b[0;36m_check_call\u001b[0;34m(ret)\u001b[0m\n\u001b[1;32m    174\u001b[0m     \"\"\"\n\u001b[1;32m    175\u001b[0m     \u001b[0;32mif\u001b[0m \u001b[0mret\u001b[0m \u001b[0;34m!=\u001b[0m \u001b[0;36m0\u001b[0m\u001b[0;34m:\u001b[0m\u001b[0;34m\u001b[0m\u001b[0;34m\u001b[0m\u001b[0m\n\u001b[0;32m--> 176\u001b[0;31m         \u001b[0;32mraise\u001b[0m \u001b[0mXGBoostError\u001b[0m\u001b[0;34m(\u001b[0m\u001b[0mpy_str\u001b[0m\u001b[0;34m(\u001b[0m\u001b[0m_LIB\u001b[0m\u001b[0;34m.\u001b[0m\u001b[0mXGBGetLastError\u001b[0m\u001b[0;34m(\u001b[0m\u001b[0;34m)\u001b[0m\u001b[0;34m)\u001b[0m\u001b[0;34m)\u001b[0m\u001b[0;34m\u001b[0m\u001b[0;34m\u001b[0m\u001b[0m\n\u001b[0m\u001b[1;32m    177\u001b[0m \u001b[0;34m\u001b[0m\u001b[0m\n\u001b[1;32m    178\u001b[0m \u001b[0;34m\u001b[0m\u001b[0m\n",
            "\u001b[0;31mXGBoostError\u001b[0m: [04:01:11] /workspace/src/objective/multiclass_obj.cu:110: SoftmaxMultiClassObj: label must be in [0, num_class).\nStack trace:\n  [bt] (0) /usr/local/lib/python3.7/dist-packages/xgboost/./lib/libxgboost.so(dmlc::LogMessageFatal::~LogMessageFatal()+0x24) [0x7fae7c622cb4]\n  [bt] (1) /usr/local/lib/python3.7/dist-packages/xgboost/./lib/libxgboost.so(xgboost::obj::SoftmaxMultiClassObj::GetGradient(xgboost::HostDeviceVector<float> const&, xgboost::MetaInfo const&, int, xgboost::HostDeviceVector<xgboost::detail::GradientPairInternal<float> >*)+0xa26) [0x7fae7c81c846]\n  [bt] (2) /usr/local/lib/python3.7/dist-packages/xgboost/./lib/libxgboost.so(xgboost::LearnerImpl::UpdateOneIter(int, xgboost::DMatrix*)+0x345) [0x7fae7c6bc505]\n  [bt] (3) /usr/local/lib/python3.7/dist-packages/xgboost/./lib/libxgboost.so(XGBoosterUpdateOneIter+0x35) [0x7fae7c61faa5]\n  [bt] (4) /usr/lib/x86_64-linux-gnu/libffi.so.6(ffi_call_unix64+0x4c) [0x7faed6ef8dae]\n  [bt] (5) /usr/lib/x86_64-linux-gnu/libffi.so.6(ffi_call+0x22f) [0x7faed6ef871f]\n  [bt] (6) /usr/lib/python3.7/lib-dynload/_ctypes.cpython-37m-x86_64-linux-gnu.so(_ctypes_callproc+0x28c) [0x7faed710c5bc]\n  [bt] (7) /usr/lib/python3.7/lib-dynload/_ctypes.cpython-37m-x86_64-linux-gnu.so(+0x109e3) [0x7faed710b9e3]\n  [bt] (8) /usr/bin/python3(_PyObject_FastCallKeywords+0x92) [0x55ee7e28bc52]\n\n"
          ]
        }
      ]
    },
    {
      "cell_type": "code",
      "metadata": {
        "colab": {
          "base_uri": "https://localhost:8080/",
          "height": 398
        },
        "id": "Mi3d_XxJc1Og",
        "outputId": "c855dd31-7010-461f-d365-f3ecfe78431e"
      },
      "source": [
        "model = xgb.XGBClassifier()\n",
        "param_dist = {\"max_depth\": [1,2,3,4,5,6,7,10,30,50],\n",
        "              \"min_child_weight\" : [1,3,6],\n",
        "              \"n_estimators\": [10,20,50,200],\n",
        "              \"learning_rate\": [#0.01,0.02,0.03,0.05 \n",
        "                  0.1,0.16,0.20,0.50],}\n",
        "grid_search = GridSearchCV(model, param_grid=param_dist, cv = 5, \n",
        "                                   verbose=10, n_jobs=-1)\n",
        "grid_search.fit(X_train, y_train)\n",
        "\n",
        "grid_search.best_estimator_\n",
        "\n",
        "model = xgb.XGBClassifier(max_depth=1, min_child_weight=1,  n_estimators=50,\\\n",
        "                          n_jobs=-1 , verbose=1,learning_rate=0.5)\n",
        "model.fit(X_train,y_train)"
      ],
      "execution_count": 83,
      "outputs": [
        {
          "output_type": "stream",
          "name": "stdout",
          "text": [
            "Fitting 5 folds for each of 480 candidates, totalling 2400 fits\n"
          ]
        },
        {
          "output_type": "error",
          "ename": "KeyboardInterrupt",
          "evalue": "ignored",
          "traceback": [
            "\u001b[0;31m---------------------------------------------------------------------------\u001b[0m",
            "\u001b[0;31mKeyboardInterrupt\u001b[0m                         Traceback (most recent call last)",
            "\u001b[0;32m<ipython-input-83-1f196d8fa78f>\u001b[0m in \u001b[0;36m<module>\u001b[0;34m()\u001b[0m\n\u001b[1;32m      7\u001b[0m grid_search = GridSearchCV(model, param_grid=param_dist, cv = 5, \n\u001b[1;32m      8\u001b[0m                                    verbose=10, n_jobs=-1)\n\u001b[0;32m----> 9\u001b[0;31m \u001b[0mgrid_search\u001b[0m\u001b[0;34m.\u001b[0m\u001b[0mfit\u001b[0m\u001b[0;34m(\u001b[0m\u001b[0mX_train\u001b[0m\u001b[0;34m,\u001b[0m \u001b[0my_train\u001b[0m\u001b[0;34m)\u001b[0m\u001b[0;34m\u001b[0m\u001b[0;34m\u001b[0m\u001b[0m\n\u001b[0m\u001b[1;32m     10\u001b[0m \u001b[0;34m\u001b[0m\u001b[0m\n\u001b[1;32m     11\u001b[0m \u001b[0mgrid_search\u001b[0m\u001b[0;34m.\u001b[0m\u001b[0mbest_estimator_\u001b[0m\u001b[0;34m\u001b[0m\u001b[0;34m\u001b[0m\u001b[0m\n",
            "\u001b[0;32m/usr/local/lib/python3.7/dist-packages/sklearn/model_selection/_search.py\u001b[0m in \u001b[0;36mfit\u001b[0;34m(self, X, y, groups, **fit_params)\u001b[0m\n\u001b[1;32m    889\u001b[0m                 \u001b[0;32mreturn\u001b[0m \u001b[0mresults\u001b[0m\u001b[0;34m\u001b[0m\u001b[0;34m\u001b[0m\u001b[0m\n\u001b[1;32m    890\u001b[0m \u001b[0;34m\u001b[0m\u001b[0m\n\u001b[0;32m--> 891\u001b[0;31m             \u001b[0mself\u001b[0m\u001b[0;34m.\u001b[0m\u001b[0m_run_search\u001b[0m\u001b[0;34m(\u001b[0m\u001b[0mevaluate_candidates\u001b[0m\u001b[0;34m)\u001b[0m\u001b[0;34m\u001b[0m\u001b[0;34m\u001b[0m\u001b[0m\n\u001b[0m\u001b[1;32m    892\u001b[0m \u001b[0;34m\u001b[0m\u001b[0m\n\u001b[1;32m    893\u001b[0m             \u001b[0;31m# multimetric is determined here because in the case of a callable\u001b[0m\u001b[0;34m\u001b[0m\u001b[0;34m\u001b[0m\u001b[0;34m\u001b[0m\u001b[0m\n",
            "\u001b[0;32m/usr/local/lib/python3.7/dist-packages/sklearn/model_selection/_search.py\u001b[0m in \u001b[0;36m_run_search\u001b[0;34m(self, evaluate_candidates)\u001b[0m\n\u001b[1;32m   1390\u001b[0m     \u001b[0;32mdef\u001b[0m \u001b[0m_run_search\u001b[0m\u001b[0;34m(\u001b[0m\u001b[0mself\u001b[0m\u001b[0;34m,\u001b[0m \u001b[0mevaluate_candidates\u001b[0m\u001b[0;34m)\u001b[0m\u001b[0;34m:\u001b[0m\u001b[0;34m\u001b[0m\u001b[0;34m\u001b[0m\u001b[0m\n\u001b[1;32m   1391\u001b[0m         \u001b[0;34m\"\"\"Search all candidates in param_grid\"\"\"\u001b[0m\u001b[0;34m\u001b[0m\u001b[0;34m\u001b[0m\u001b[0m\n\u001b[0;32m-> 1392\u001b[0;31m         \u001b[0mevaluate_candidates\u001b[0m\u001b[0;34m(\u001b[0m\u001b[0mParameterGrid\u001b[0m\u001b[0;34m(\u001b[0m\u001b[0mself\u001b[0m\u001b[0;34m.\u001b[0m\u001b[0mparam_grid\u001b[0m\u001b[0;34m)\u001b[0m\u001b[0;34m)\u001b[0m\u001b[0;34m\u001b[0m\u001b[0;34m\u001b[0m\u001b[0m\n\u001b[0m\u001b[1;32m   1393\u001b[0m \u001b[0;34m\u001b[0m\u001b[0m\n\u001b[1;32m   1394\u001b[0m \u001b[0;34m\u001b[0m\u001b[0m\n",
            "\u001b[0;32m/usr/local/lib/python3.7/dist-packages/sklearn/model_selection/_search.py\u001b[0m in \u001b[0;36mevaluate_candidates\u001b[0;34m(candidate_params, cv, more_results)\u001b[0m\n\u001b[1;32m    849\u001b[0m                     )\n\u001b[1;32m    850\u001b[0m                     for (cand_idx, parameters), (split_idx, (train, test)) in product(\n\u001b[0;32m--> 851\u001b[0;31m                         \u001b[0menumerate\u001b[0m\u001b[0;34m(\u001b[0m\u001b[0mcandidate_params\u001b[0m\u001b[0;34m)\u001b[0m\u001b[0;34m,\u001b[0m \u001b[0menumerate\u001b[0m\u001b[0;34m(\u001b[0m\u001b[0mcv\u001b[0m\u001b[0;34m.\u001b[0m\u001b[0msplit\u001b[0m\u001b[0;34m(\u001b[0m\u001b[0mX\u001b[0m\u001b[0;34m,\u001b[0m \u001b[0my\u001b[0m\u001b[0;34m,\u001b[0m \u001b[0mgroups\u001b[0m\u001b[0;34m)\u001b[0m\u001b[0;34m)\u001b[0m\u001b[0;34m\u001b[0m\u001b[0;34m\u001b[0m\u001b[0m\n\u001b[0m\u001b[1;32m    852\u001b[0m                     )\n\u001b[1;32m    853\u001b[0m                 )\n",
            "\u001b[0;32m/usr/local/lib/python3.7/dist-packages/joblib/parallel.py\u001b[0m in \u001b[0;36m__call__\u001b[0;34m(self, iterable)\u001b[0m\n\u001b[1;32m   1054\u001b[0m \u001b[0;34m\u001b[0m\u001b[0m\n\u001b[1;32m   1055\u001b[0m             \u001b[0;32mwith\u001b[0m \u001b[0mself\u001b[0m\u001b[0;34m.\u001b[0m\u001b[0m_backend\u001b[0m\u001b[0;34m.\u001b[0m\u001b[0mretrieval_context\u001b[0m\u001b[0;34m(\u001b[0m\u001b[0;34m)\u001b[0m\u001b[0;34m:\u001b[0m\u001b[0;34m\u001b[0m\u001b[0;34m\u001b[0m\u001b[0m\n\u001b[0;32m-> 1056\u001b[0;31m                 \u001b[0mself\u001b[0m\u001b[0;34m.\u001b[0m\u001b[0mretrieve\u001b[0m\u001b[0;34m(\u001b[0m\u001b[0;34m)\u001b[0m\u001b[0;34m\u001b[0m\u001b[0;34m\u001b[0m\u001b[0m\n\u001b[0m\u001b[1;32m   1057\u001b[0m             \u001b[0;31m# Make sure that we get a last message telling us we are done\u001b[0m\u001b[0;34m\u001b[0m\u001b[0;34m\u001b[0m\u001b[0;34m\u001b[0m\u001b[0m\n\u001b[1;32m   1058\u001b[0m             \u001b[0melapsed_time\u001b[0m \u001b[0;34m=\u001b[0m \u001b[0mtime\u001b[0m\u001b[0;34m.\u001b[0m\u001b[0mtime\u001b[0m\u001b[0;34m(\u001b[0m\u001b[0;34m)\u001b[0m \u001b[0;34m-\u001b[0m \u001b[0mself\u001b[0m\u001b[0;34m.\u001b[0m\u001b[0m_start_time\u001b[0m\u001b[0;34m\u001b[0m\u001b[0;34m\u001b[0m\u001b[0m\n",
            "\u001b[0;32m/usr/local/lib/python3.7/dist-packages/joblib/parallel.py\u001b[0m in \u001b[0;36mretrieve\u001b[0;34m(self)\u001b[0m\n\u001b[1;32m    933\u001b[0m             \u001b[0;32mtry\u001b[0m\u001b[0;34m:\u001b[0m\u001b[0;34m\u001b[0m\u001b[0;34m\u001b[0m\u001b[0m\n\u001b[1;32m    934\u001b[0m                 \u001b[0;32mif\u001b[0m \u001b[0mgetattr\u001b[0m\u001b[0;34m(\u001b[0m\u001b[0mself\u001b[0m\u001b[0;34m.\u001b[0m\u001b[0m_backend\u001b[0m\u001b[0;34m,\u001b[0m \u001b[0;34m'supports_timeout'\u001b[0m\u001b[0;34m,\u001b[0m \u001b[0;32mFalse\u001b[0m\u001b[0;34m)\u001b[0m\u001b[0;34m:\u001b[0m\u001b[0;34m\u001b[0m\u001b[0;34m\u001b[0m\u001b[0m\n\u001b[0;32m--> 935\u001b[0;31m                     \u001b[0mself\u001b[0m\u001b[0;34m.\u001b[0m\u001b[0m_output\u001b[0m\u001b[0;34m.\u001b[0m\u001b[0mextend\u001b[0m\u001b[0;34m(\u001b[0m\u001b[0mjob\u001b[0m\u001b[0;34m.\u001b[0m\u001b[0mget\u001b[0m\u001b[0;34m(\u001b[0m\u001b[0mtimeout\u001b[0m\u001b[0;34m=\u001b[0m\u001b[0mself\u001b[0m\u001b[0;34m.\u001b[0m\u001b[0mtimeout\u001b[0m\u001b[0;34m)\u001b[0m\u001b[0;34m)\u001b[0m\u001b[0;34m\u001b[0m\u001b[0;34m\u001b[0m\u001b[0m\n\u001b[0m\u001b[1;32m    936\u001b[0m                 \u001b[0;32melse\u001b[0m\u001b[0;34m:\u001b[0m\u001b[0;34m\u001b[0m\u001b[0;34m\u001b[0m\u001b[0m\n\u001b[1;32m    937\u001b[0m                     \u001b[0mself\u001b[0m\u001b[0;34m.\u001b[0m\u001b[0m_output\u001b[0m\u001b[0;34m.\u001b[0m\u001b[0mextend\u001b[0m\u001b[0;34m(\u001b[0m\u001b[0mjob\u001b[0m\u001b[0;34m.\u001b[0m\u001b[0mget\u001b[0m\u001b[0;34m(\u001b[0m\u001b[0;34m)\u001b[0m\u001b[0;34m)\u001b[0m\u001b[0;34m\u001b[0m\u001b[0;34m\u001b[0m\u001b[0m\n",
            "\u001b[0;32m/usr/local/lib/python3.7/dist-packages/joblib/_parallel_backends.py\u001b[0m in \u001b[0;36mwrap_future_result\u001b[0;34m(future, timeout)\u001b[0m\n\u001b[1;32m    540\u001b[0m         AsyncResults.get from multiprocessing.\"\"\"\n\u001b[1;32m    541\u001b[0m         \u001b[0;32mtry\u001b[0m\u001b[0;34m:\u001b[0m\u001b[0;34m\u001b[0m\u001b[0;34m\u001b[0m\u001b[0m\n\u001b[0;32m--> 542\u001b[0;31m             \u001b[0;32mreturn\u001b[0m \u001b[0mfuture\u001b[0m\u001b[0;34m.\u001b[0m\u001b[0mresult\u001b[0m\u001b[0;34m(\u001b[0m\u001b[0mtimeout\u001b[0m\u001b[0;34m=\u001b[0m\u001b[0mtimeout\u001b[0m\u001b[0;34m)\u001b[0m\u001b[0;34m\u001b[0m\u001b[0;34m\u001b[0m\u001b[0m\n\u001b[0m\u001b[1;32m    543\u001b[0m         \u001b[0;32mexcept\u001b[0m \u001b[0mCfTimeoutError\u001b[0m \u001b[0;32mas\u001b[0m \u001b[0me\u001b[0m\u001b[0;34m:\u001b[0m\u001b[0;34m\u001b[0m\u001b[0;34m\u001b[0m\u001b[0m\n\u001b[1;32m    544\u001b[0m             \u001b[0;32mraise\u001b[0m \u001b[0mTimeoutError\u001b[0m \u001b[0;32mfrom\u001b[0m \u001b[0me\u001b[0m\u001b[0;34m\u001b[0m\u001b[0;34m\u001b[0m\u001b[0m\n",
            "\u001b[0;32m/usr/lib/python3.7/concurrent/futures/_base.py\u001b[0m in \u001b[0;36mresult\u001b[0;34m(self, timeout)\u001b[0m\n\u001b[1;32m    428\u001b[0m                 \u001b[0;32mreturn\u001b[0m \u001b[0mself\u001b[0m\u001b[0;34m.\u001b[0m\u001b[0m__get_result\u001b[0m\u001b[0;34m(\u001b[0m\u001b[0;34m)\u001b[0m\u001b[0;34m\u001b[0m\u001b[0;34m\u001b[0m\u001b[0m\n\u001b[1;32m    429\u001b[0m \u001b[0;34m\u001b[0m\u001b[0m\n\u001b[0;32m--> 430\u001b[0;31m             \u001b[0mself\u001b[0m\u001b[0;34m.\u001b[0m\u001b[0m_condition\u001b[0m\u001b[0;34m.\u001b[0m\u001b[0mwait\u001b[0m\u001b[0;34m(\u001b[0m\u001b[0mtimeout\u001b[0m\u001b[0;34m)\u001b[0m\u001b[0;34m\u001b[0m\u001b[0;34m\u001b[0m\u001b[0m\n\u001b[0m\u001b[1;32m    431\u001b[0m \u001b[0;34m\u001b[0m\u001b[0m\n\u001b[1;32m    432\u001b[0m             \u001b[0;32mif\u001b[0m \u001b[0mself\u001b[0m\u001b[0;34m.\u001b[0m\u001b[0m_state\u001b[0m \u001b[0;32min\u001b[0m \u001b[0;34m[\u001b[0m\u001b[0mCANCELLED\u001b[0m\u001b[0;34m,\u001b[0m \u001b[0mCANCELLED_AND_NOTIFIED\u001b[0m\u001b[0;34m]\u001b[0m\u001b[0;34m:\u001b[0m\u001b[0;34m\u001b[0m\u001b[0;34m\u001b[0m\u001b[0m\n",
            "\u001b[0;32m/usr/lib/python3.7/threading.py\u001b[0m in \u001b[0;36mwait\u001b[0;34m(self, timeout)\u001b[0m\n\u001b[1;32m    294\u001b[0m         \u001b[0;32mtry\u001b[0m\u001b[0;34m:\u001b[0m    \u001b[0;31m# restore state no matter what (e.g., KeyboardInterrupt)\u001b[0m\u001b[0;34m\u001b[0m\u001b[0;34m\u001b[0m\u001b[0m\n\u001b[1;32m    295\u001b[0m             \u001b[0;32mif\u001b[0m \u001b[0mtimeout\u001b[0m \u001b[0;32mis\u001b[0m \u001b[0;32mNone\u001b[0m\u001b[0;34m:\u001b[0m\u001b[0;34m\u001b[0m\u001b[0;34m\u001b[0m\u001b[0m\n\u001b[0;32m--> 296\u001b[0;31m                 \u001b[0mwaiter\u001b[0m\u001b[0;34m.\u001b[0m\u001b[0macquire\u001b[0m\u001b[0;34m(\u001b[0m\u001b[0;34m)\u001b[0m\u001b[0;34m\u001b[0m\u001b[0;34m\u001b[0m\u001b[0m\n\u001b[0m\u001b[1;32m    297\u001b[0m                 \u001b[0mgotit\u001b[0m \u001b[0;34m=\u001b[0m \u001b[0;32mTrue\u001b[0m\u001b[0;34m\u001b[0m\u001b[0;34m\u001b[0m\u001b[0m\n\u001b[1;32m    298\u001b[0m             \u001b[0;32melse\u001b[0m\u001b[0;34m:\u001b[0m\u001b[0;34m\u001b[0m\u001b[0;34m\u001b[0m\u001b[0m\n",
            "\u001b[0;31mKeyboardInterrupt\u001b[0m: "
          ]
        }
      ]
    },
    {
      "cell_type": "code",
      "metadata": {
        "id": "dAcWqPvgc1Og",
        "outputId": "37a996ee-dfbe-4477-8d5b-2edcea542cd3"
      },
      "source": [
        "grid_search.best_params_"
      ],
      "execution_count": null,
      "outputs": [
        {
          "data": {
            "text/plain": [
              "{'learning_rate': 0.1,\n",
              " 'max_depth': 5,\n",
              " 'min_child_weight': 6,\n",
              " 'n_estimators': 20}"
            ]
          },
          "execution_count": 130,
          "metadata": {},
          "output_type": "execute_result"
        }
      ]
    },
    {
      "cell_type": "code",
      "metadata": {
        "id": "2BJDK4ZDc1Og",
        "outputId": "93cb837f-85e4-4350-b7ea-9b922aec144a"
      },
      "source": [
        "grid_search.best_estimator_"
      ],
      "execution_count": null,
      "outputs": [
        {
          "data": {
            "text/plain": [
              "XGBClassifier(base_score=0.5, booster='gbtree', colsample_bylevel=1,\n",
              "              colsample_bynode=1, colsample_bytree=1, enable_categorical=False,\n",
              "              gamma=0, gpu_id=-1, importance_type=None,\n",
              "              interaction_constraints='', learning_rate=0.1, max_delta_step=0,\n",
              "              max_depth=5, min_child_weight=6, missing=nan,\n",
              "              monotone_constraints='()', n_estimators=20, n_jobs=8,\n",
              "              num_parallel_tree=1, objective='multi:softprob', predictor='auto',\n",
              "              random_state=0, reg_alpha=0, reg_lambda=1, scale_pos_weight=None,\n",
              "              subsample=1, tree_method='exact', validate_parameters=1,\n",
              "              verbosity=None)"
            ]
          },
          "execution_count": 131,
          "metadata": {},
          "output_type": "execute_result"
        }
      ]
    },
    {
      "cell_type": "code",
      "metadata": {
        "id": "EVh3PFBrc1Og",
        "outputId": "4355bf64-8e18-4037-9c0c-bf8ea682417d"
      },
      "source": [
        "dtrain = xgb.DMatrix(data=X_train, label=y_train)\n",
        "dtest = xgb.DMatrix(data=X_test)\n",
        "params = {\n",
        "    'max_depth': 5,\n",
        "    'objective': 'multi:softmax',  # error evaluation for multiclass training\n",
        "    'num_class': 4,\n",
        "    'learning_rate':0.1,\n",
        "}\n",
        "model=xgb.XGBClassifier(base_score=0.5, booster='gbtree', colsample_bylevel=1,\n",
        "              colsample_bynode=1, colsample_bytree=1, enable_categorical=False,\n",
        "              gamma=0, gpu_id=-1, importance_type=None,\n",
        "              interaction_constraints='', learning_rate=0.1, max_delta_step=0,\n",
        "              max_depth=5, min_child_weight=6,\n",
        "              monotone_constraints='()', n_estimators=20, n_jobs=8,\n",
        "              num_parallel_tree=1, objective='multi:softprob', predictor='auto',\n",
        "              random_state=0, reg_alpha=0, reg_lambda=1, scale_pos_weight=None,\n",
        "              subsample=1, tree_method='exact', validate_parameters=1,\n",
        "              verbosity=None)\n",
        "model.fit(X_train,y_train)\n",
        "pred=model.predict(X_test)\n",
        "# Confusion matrix and classification report\n",
        "print(confusion_matrix(y_test, pred))\n",
        "print(classification_report(y_test, pred))"
      ],
      "execution_count": null,
      "outputs": [
        {
          "name": "stdout",
          "output_type": "stream",
          "text": [
            "[23:08:03] WARNING: /Users/runner/miniforge3/conda-bld/xgboost-split_1637426411619/work/src/learner.cc:1115: Starting in XGBoost 1.3.0, the default evaluation metric used with the objective 'multi:softprob' was changed from 'merror' to 'mlogloss'. Explicitly set eval_metric if you'd like to restore the old behavior.\n",
            "[[583  55  10   0]\n",
            " [201 116  19   0]\n",
            " [ 13  21  72   0]\n",
            " [  1   6   6  12]]\n",
            "              precision    recall  f1-score   support\n",
            "\n",
            "           0       0.73      0.90      0.81       648\n",
            "           1       0.59      0.35      0.43       336\n",
            "           2       0.67      0.68      0.68       106\n",
            "           3       1.00      0.48      0.65        25\n",
            "\n",
            "    accuracy                           0.70      1115\n",
            "   macro avg       0.75      0.60      0.64      1115\n",
            "weighted avg       0.69      0.70      0.68      1115\n",
            "\n"
          ]
        }
      ]
    }
  ]
}