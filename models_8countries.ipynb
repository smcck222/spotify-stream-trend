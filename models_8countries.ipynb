{
 "cells": [
  {
   "cell_type": "code",
   "execution_count": 1,
   "metadata": {},
   "outputs": [],
   "source": [
    "import pandas as pd\n",
    "from sklearn.model_selection import train_test_split, GridSearchCV, cross_val_score\n",
    "from sklearn import metrics\n",
    "from sklearn.tree import DecisionTreeClassifier\n",
    "from sklearn.metrics import roc_curve, auc"
   ]
  },
  {
   "cell_type": "code",
   "execution_count": 2,
   "metadata": {},
   "outputs": [
    {
     "name": "stderr",
     "output_type": "stream",
     "text": [
      "/opt/homebrew/Caskroom/miniforge/base/envs/condaenv/lib/python3.8/site-packages/statsmodels/tools/_testing.py:19: FutureWarning: pandas.util.testing is deprecated. Use the functions in the public API at pandas.testing instead.\n",
      "  import pandas.util.testing as tm\n"
     ]
    }
   ],
   "source": [
    "import pandas as pd\n",
    "import matplotlib.pyplot as plt\n",
    "import numpy as np\n",
    "from sklearn.metrics import mean_squared_error as MSE\n",
    "from math import sqrt\n",
    "plt.style.use('ggplot')\n",
    "%matplotlib inline\n",
    "from pandas.plotting import autocorrelation_plot\n",
    "from statsmodels.tsa.stattools import adfuller\n",
    "from statsmodels.tsa.seasonal import seasonal_decompose\n",
    "from statsmodels.tsa.statespace.sarimax import SARIMAX\n",
    "from statsmodels.graphics.tsaplots import plot_acf, plot_pacf\n",
    "import itertools\n",
    "from matplotlib.pylab import rcParams\n",
    "plt.style.use('ggplot')\n",
    "import statsmodels.api as sm\n",
    "import matplotlib as mpl\n",
    "import seaborn as sns\n",
    "from sklearn.linear_model import LogisticRegression\n",
    "from sklearn import tree\n",
    "from sklearn import metrics\n",
    "from sklearn.tree import DecisionTreeClassifier\n",
    "from sklearn.metrics import roc_curve, auc\n",
    "from scipy.spatial.distance import euclidean\n",
    "from sklearn.preprocessing import StandardScaler, MinMaxScaler\n",
    "from sklearn.neighbors import KNeighborsClassifier\n",
    "from sklearn.metrics import precision_score, recall_score, accuracy_score, f1_score, make_scorer\n",
    "from sklearn.tree import export_graphviz\n",
    "from IPython.display import Image\n",
    "from sklearn.model_selection import train_test_split, GridSearchCV, cross_val_score\n",
    "from sklearn.ensemble import RandomForestClassifier, AdaBoostClassifier\n",
    "from sklearn.pipeline import Pipeline\n",
    "from sklearn.metrics import confusion_matrix, classification_report\n",
    "from sklearn.ensemble import BaggingClassifier, RandomForestClassifier\n",
    "import warnings\n",
    "warnings.filterwarnings('ignore')"
   ]
  },
  {
   "cell_type": "code",
   "execution_count": 3,
   "metadata": {},
   "outputs": [
    {
     "data": {
      "text/html": [
       "<div>\n",
       "<style scoped>\n",
       "    .dataframe tbody tr th:only-of-type {\n",
       "        vertical-align: middle;\n",
       "    }\n",
       "\n",
       "    .dataframe tbody tr th {\n",
       "        vertical-align: top;\n",
       "    }\n",
       "\n",
       "    .dataframe thead th {\n",
       "        text-align: right;\n",
       "    }\n",
       "</style>\n",
       "<table border=\"1\" class=\"dataframe\">\n",
       "  <thead>\n",
       "    <tr style=\"text-align: right;\">\n",
       "      <th></th>\n",
       "      <th>Unnamed: 0</th>\n",
       "      <th>popularity</th>\n",
       "      <th>danceability</th>\n",
       "      <th>energy</th>\n",
       "      <th>key</th>\n",
       "      <th>loudness</th>\n",
       "      <th>mode</th>\n",
       "      <th>speechiness</th>\n",
       "      <th>acousticness</th>\n",
       "      <th>instrumentalness</th>\n",
       "      <th>...</th>\n",
       "      <th>rank</th>\n",
       "      <th>date</th>\n",
       "      <th>region</th>\n",
       "      <th>trend</th>\n",
       "      <th>streams</th>\n",
       "      <th>year</th>\n",
       "      <th>month</th>\n",
       "      <th>top200_count</th>\n",
       "      <th>trend_rank_score</th>\n",
       "      <th>stream_bins</th>\n",
       "    </tr>\n",
       "  </thead>\n",
       "  <tbody>\n",
       "    <tr>\n",
       "      <th>0</th>\n",
       "      <td>0</td>\n",
       "      <td>0</td>\n",
       "      <td>0.733</td>\n",
       "      <td>0.818</td>\n",
       "      <td>10</td>\n",
       "      <td>-7.222</td>\n",
       "      <td>0</td>\n",
       "      <td>0.0859</td>\n",
       "      <td>0.0241</td>\n",
       "      <td>0.0000</td>\n",
       "      <td>...</td>\n",
       "      <td>194</td>\n",
       "      <td>2017-01-01</td>\n",
       "      <td>France</td>\n",
       "      <td>MOVE_DOWN</td>\n",
       "      <td>14587.0</td>\n",
       "      <td>2017</td>\n",
       "      <td>1</td>\n",
       "      <td>1</td>\n",
       "      <td>-0.035</td>\n",
       "      <td>1.0</td>\n",
       "    </tr>\n",
       "    <tr>\n",
       "      <th>1</th>\n",
       "      <td>6</td>\n",
       "      <td>57</td>\n",
       "      <td>0.773</td>\n",
       "      <td>0.849</td>\n",
       "      <td>8</td>\n",
       "      <td>-8.345</td>\n",
       "      <td>0</td>\n",
       "      <td>0.0587</td>\n",
       "      <td>0.0570</td>\n",
       "      <td>0.0103</td>\n",
       "      <td>...</td>\n",
       "      <td>184</td>\n",
       "      <td>2017-01-01</td>\n",
       "      <td>France</td>\n",
       "      <td>MOVE_UP</td>\n",
       "      <td>15033.0</td>\n",
       "      <td>2017</td>\n",
       "      <td>1</td>\n",
       "      <td>1</td>\n",
       "      <td>0.085</td>\n",
       "      <td>1.0</td>\n",
       "    </tr>\n",
       "    <tr>\n",
       "      <th>2</th>\n",
       "      <td>7</td>\n",
       "      <td>64</td>\n",
       "      <td>0.654</td>\n",
       "      <td>0.796</td>\n",
       "      <td>2</td>\n",
       "      <td>-4.761</td>\n",
       "      <td>0</td>\n",
       "      <td>0.1220</td>\n",
       "      <td>0.0188</td>\n",
       "      <td>0.0000</td>\n",
       "      <td>...</td>\n",
       "      <td>190</td>\n",
       "      <td>2017-01-01</td>\n",
       "      <td>France</td>\n",
       "      <td>MOVE_DOWN</td>\n",
       "      <td>14886.0</td>\n",
       "      <td>2017</td>\n",
       "      <td>1</td>\n",
       "      <td>1</td>\n",
       "      <td>-0.055</td>\n",
       "      <td>1.0</td>\n",
       "    </tr>\n",
       "    <tr>\n",
       "      <th>3</th>\n",
       "      <td>11</td>\n",
       "      <td>26</td>\n",
       "      <td>0.660</td>\n",
       "      <td>0.598</td>\n",
       "      <td>11</td>\n",
       "      <td>-9.707</td>\n",
       "      <td>0</td>\n",
       "      <td>0.0491</td>\n",
       "      <td>0.0420</td>\n",
       "      <td>0.0444</td>\n",
       "      <td>...</td>\n",
       "      <td>126</td>\n",
       "      <td>2017-01-01</td>\n",
       "      <td>France</td>\n",
       "      <td>MOVE_DOWN</td>\n",
       "      <td>19789.0</td>\n",
       "      <td>2017</td>\n",
       "      <td>1</td>\n",
       "      <td>1</td>\n",
       "      <td>-0.375</td>\n",
       "      <td>1.0</td>\n",
       "    </tr>\n",
       "    <tr>\n",
       "      <th>4</th>\n",
       "      <td>14</td>\n",
       "      <td>0</td>\n",
       "      <td>0.754</td>\n",
       "      <td>0.731</td>\n",
       "      <td>9</td>\n",
       "      <td>-7.480</td>\n",
       "      <td>0</td>\n",
       "      <td>0.0316</td>\n",
       "      <td>0.2010</td>\n",
       "      <td>0.0000</td>\n",
       "      <td>...</td>\n",
       "      <td>148</td>\n",
       "      <td>2017-01-01</td>\n",
       "      <td>France</td>\n",
       "      <td>MOVE_UP</td>\n",
       "      <td>17573.0</td>\n",
       "      <td>2017</td>\n",
       "      <td>1</td>\n",
       "      <td>1</td>\n",
       "      <td>0.265</td>\n",
       "      <td>1.0</td>\n",
       "    </tr>\n",
       "  </tbody>\n",
       "</table>\n",
       "<p>5 rows × 26 columns</p>\n",
       "</div>"
      ],
      "text/plain": [
       "   Unnamed: 0  popularity  danceability  energy  key  loudness  mode  \\\n",
       "0           0           0         0.733   0.818   10    -7.222     0   \n",
       "1           6          57         0.773   0.849    8    -8.345     0   \n",
       "2           7          64         0.654   0.796    2    -4.761     0   \n",
       "3          11          26         0.660   0.598   11    -9.707     0   \n",
       "4          14           0         0.754   0.731    9    -7.480     0   \n",
       "\n",
       "   speechiness  acousticness  instrumentalness  ...  rank        date  region  \\\n",
       "0       0.0859        0.0241            0.0000  ...   194  2017-01-01  France   \n",
       "1       0.0587        0.0570            0.0103  ...   184  2017-01-01  France   \n",
       "2       0.1220        0.0188            0.0000  ...   190  2017-01-01  France   \n",
       "3       0.0491        0.0420            0.0444  ...   126  2017-01-01  France   \n",
       "4       0.0316        0.2010            0.0000  ...   148  2017-01-01  France   \n",
       "\n",
       "       trend  streams  year  month top200_count trend_rank_score stream_bins  \n",
       "0  MOVE_DOWN  14587.0  2017      1            1           -0.035         1.0  \n",
       "1    MOVE_UP  15033.0  2017      1            1            0.085         1.0  \n",
       "2  MOVE_DOWN  14886.0  2017      1            1           -0.055         1.0  \n",
       "3  MOVE_DOWN  19789.0  2017      1            1           -0.375         1.0  \n",
       "4    MOVE_UP  17573.0  2017      1            1            0.265         1.0  \n",
       "\n",
       "[5 rows x 26 columns]"
      ]
     },
     "execution_count": 3,
     "metadata": {},
     "output_type": "execute_result"
    }
   ],
   "source": [
    "df=pd.read_csv('data/8countries/top200_processed2.csv')\n",
    "df.head()"
   ]
  },
  {
   "cell_type": "code",
   "execution_count": 6,
   "metadata": {},
   "outputs": [
    {
     "data": {
      "text/plain": [
       "Index(['Unnamed: 0', 'popularity', 'danceability', 'energy', 'key', 'loudness',\n",
       "       'mode', 'speechiness', 'acousticness', 'instrumentalness', 'liveness',\n",
       "       'valence', 'tempo', 'duration_ms', 'time_signature', 'title', 'rank',\n",
       "       'date', 'region', 'trend', 'streams', 'year', 'month', 'top200_count',\n",
       "       'trend_rank_score', 'stream_bins'],\n",
       "      dtype='object')"
      ]
     },
     "execution_count": 6,
     "metadata": {},
     "output_type": "execute_result"
    }
   ],
   "source": [
    "df.columns"
   ]
  },
  {
   "cell_type": "code",
   "execution_count": null,
   "metadata": {},
   "outputs": [],
   "source": [
    "df=df.drop(['Unnamed: 0','time_signature','title','trend','date','streams'],axis=1)"
   ]
  },
  {
   "cell_type": "code",
   "execution_count": 10,
   "metadata": {},
   "outputs": [
    {
     "data": {
      "text/html": [
       "<div>\n",
       "<style scoped>\n",
       "    .dataframe tbody tr th:only-of-type {\n",
       "        vertical-align: middle;\n",
       "    }\n",
       "\n",
       "    .dataframe tbody tr th {\n",
       "        vertical-align: top;\n",
       "    }\n",
       "\n",
       "    .dataframe thead th {\n",
       "        text-align: right;\n",
       "    }\n",
       "</style>\n",
       "<table border=\"1\" class=\"dataframe\">\n",
       "  <thead>\n",
       "    <tr style=\"text-align: right;\">\n",
       "      <th></th>\n",
       "      <th>popularity</th>\n",
       "      <th>danceability</th>\n",
       "      <th>energy</th>\n",
       "      <th>key</th>\n",
       "      <th>loudness</th>\n",
       "      <th>mode</th>\n",
       "      <th>speechiness</th>\n",
       "      <th>acousticness</th>\n",
       "      <th>instrumentalness</th>\n",
       "      <th>liveness</th>\n",
       "      <th>...</th>\n",
       "      <th>tempo</th>\n",
       "      <th>duration_ms</th>\n",
       "      <th>rank</th>\n",
       "      <th>region</th>\n",
       "      <th>streams</th>\n",
       "      <th>year</th>\n",
       "      <th>month</th>\n",
       "      <th>top200_count</th>\n",
       "      <th>trend_rank_score</th>\n",
       "      <th>stream_bins</th>\n",
       "    </tr>\n",
       "  </thead>\n",
       "  <tbody>\n",
       "    <tr>\n",
       "      <th>0</th>\n",
       "      <td>0</td>\n",
       "      <td>0.733</td>\n",
       "      <td>0.818</td>\n",
       "      <td>10</td>\n",
       "      <td>-7.222</td>\n",
       "      <td>0</td>\n",
       "      <td>0.0859</td>\n",
       "      <td>0.0241</td>\n",
       "      <td>0.0000</td>\n",
       "      <td>0.0636</td>\n",
       "      <td>...</td>\n",
       "      <td>116.019</td>\n",
       "      <td>3.869117</td>\n",
       "      <td>194</td>\n",
       "      <td>France</td>\n",
       "      <td>14587.0</td>\n",
       "      <td>2017</td>\n",
       "      <td>1</td>\n",
       "      <td>1</td>\n",
       "      <td>-0.035</td>\n",
       "      <td>1.0</td>\n",
       "    </tr>\n",
       "    <tr>\n",
       "      <th>1</th>\n",
       "      <td>57</td>\n",
       "      <td>0.773</td>\n",
       "      <td>0.849</td>\n",
       "      <td>8</td>\n",
       "      <td>-8.345</td>\n",
       "      <td>0</td>\n",
       "      <td>0.0587</td>\n",
       "      <td>0.0570</td>\n",
       "      <td>0.0103</td>\n",
       "      <td>0.3970</td>\n",
       "      <td>...</td>\n",
       "      <td>119.981</td>\n",
       "      <td>3.203783</td>\n",
       "      <td>184</td>\n",
       "      <td>France</td>\n",
       "      <td>15033.0</td>\n",
       "      <td>2017</td>\n",
       "      <td>1</td>\n",
       "      <td>1</td>\n",
       "      <td>0.085</td>\n",
       "      <td>1.0</td>\n",
       "    </tr>\n",
       "    <tr>\n",
       "      <th>2</th>\n",
       "      <td>64</td>\n",
       "      <td>0.654</td>\n",
       "      <td>0.796</td>\n",
       "      <td>2</td>\n",
       "      <td>-4.761</td>\n",
       "      <td>0</td>\n",
       "      <td>0.1220</td>\n",
       "      <td>0.0188</td>\n",
       "      <td>0.0000</td>\n",
       "      <td>0.0948</td>\n",
       "      <td>...</td>\n",
       "      <td>108.854</td>\n",
       "      <td>2.976383</td>\n",
       "      <td>190</td>\n",
       "      <td>France</td>\n",
       "      <td>14886.0</td>\n",
       "      <td>2017</td>\n",
       "      <td>1</td>\n",
       "      <td>1</td>\n",
       "      <td>-0.055</td>\n",
       "      <td>1.0</td>\n",
       "    </tr>\n",
       "    <tr>\n",
       "      <th>3</th>\n",
       "      <td>26</td>\n",
       "      <td>0.660</td>\n",
       "      <td>0.598</td>\n",
       "      <td>11</td>\n",
       "      <td>-9.707</td>\n",
       "      <td>0</td>\n",
       "      <td>0.0491</td>\n",
       "      <td>0.0420</td>\n",
       "      <td>0.0444</td>\n",
       "      <td>0.1160</td>\n",
       "      <td>...</td>\n",
       "      <td>120.003</td>\n",
       "      <td>3.233333</td>\n",
       "      <td>126</td>\n",
       "      <td>France</td>\n",
       "      <td>19789.0</td>\n",
       "      <td>2017</td>\n",
       "      <td>1</td>\n",
       "      <td>1</td>\n",
       "      <td>-0.375</td>\n",
       "      <td>1.0</td>\n",
       "    </tr>\n",
       "    <tr>\n",
       "      <th>4</th>\n",
       "      <td>0</td>\n",
       "      <td>0.754</td>\n",
       "      <td>0.731</td>\n",
       "      <td>9</td>\n",
       "      <td>-7.480</td>\n",
       "      <td>0</td>\n",
       "      <td>0.0316</td>\n",
       "      <td>0.2010</td>\n",
       "      <td>0.0000</td>\n",
       "      <td>0.0563</td>\n",
       "      <td>...</td>\n",
       "      <td>131.407</td>\n",
       "      <td>4.065033</td>\n",
       "      <td>148</td>\n",
       "      <td>France</td>\n",
       "      <td>17573.0</td>\n",
       "      <td>2017</td>\n",
       "      <td>1</td>\n",
       "      <td>1</td>\n",
       "      <td>0.265</td>\n",
       "      <td>1.0</td>\n",
       "    </tr>\n",
       "  </tbody>\n",
       "</table>\n",
       "<p>5 rows × 21 columns</p>\n",
       "</div>"
      ],
      "text/plain": [
       "   popularity  danceability  energy  key  loudness  mode  speechiness  \\\n",
       "0           0         0.733   0.818   10    -7.222     0       0.0859   \n",
       "1          57         0.773   0.849    8    -8.345     0       0.0587   \n",
       "2          64         0.654   0.796    2    -4.761     0       0.1220   \n",
       "3          26         0.660   0.598   11    -9.707     0       0.0491   \n",
       "4           0         0.754   0.731    9    -7.480     0       0.0316   \n",
       "\n",
       "   acousticness  instrumentalness  liveness  ...    tempo  duration_ms  rank  \\\n",
       "0        0.0241            0.0000    0.0636  ...  116.019     3.869117   194   \n",
       "1        0.0570            0.0103    0.3970  ...  119.981     3.203783   184   \n",
       "2        0.0188            0.0000    0.0948  ...  108.854     2.976383   190   \n",
       "3        0.0420            0.0444    0.1160  ...  120.003     3.233333   126   \n",
       "4        0.2010            0.0000    0.0563  ...  131.407     4.065033   148   \n",
       "\n",
       "   region  streams  year  month  top200_count  trend_rank_score  stream_bins  \n",
       "0  France  14587.0  2017      1             1            -0.035          1.0  \n",
       "1  France  15033.0  2017      1             1             0.085          1.0  \n",
       "2  France  14886.0  2017      1             1            -0.055          1.0  \n",
       "3  France  19789.0  2017      1             1            -0.375          1.0  \n",
       "4  France  17573.0  2017      1             1             0.265          1.0  \n",
       "\n",
       "[5 rows x 21 columns]"
      ]
     },
     "execution_count": 10,
     "metadata": {},
     "output_type": "execute_result"
    }
   ],
   "source": [
    "df.head(5)"
   ]
  },
  {
   "cell_type": "code",
   "execution_count": 23,
   "metadata": {},
   "outputs": [],
   "source": [
    "#encoding region and years\n",
    "regions=list(df['region'].unique())\n",
    "years=list(df['year'].unique())\n",
    "df['enc_region']=df['region'].apply(lambda x:regions.index(x))\n",
    "df['enc_year']=df['year'].apply(lambda x:years.index(x))\n"
   ]
  },
  {
   "cell_type": "code",
   "execution_count": 25,
   "metadata": {},
   "outputs": [],
   "source": [
    "df=df.drop(['region','year'],axis=1)"
   ]
  },
  {
   "cell_type": "code",
   "execution_count": 35,
   "metadata": {},
   "outputs": [
    {
     "data": {
      "text/html": [
       "<div>\n",
       "<style scoped>\n",
       "    .dataframe tbody tr th:only-of-type {\n",
       "        vertical-align: middle;\n",
       "    }\n",
       "\n",
       "    .dataframe tbody tr th {\n",
       "        vertical-align: top;\n",
       "    }\n",
       "\n",
       "    .dataframe thead th {\n",
       "        text-align: right;\n",
       "    }\n",
       "</style>\n",
       "<table border=\"1\" class=\"dataframe\">\n",
       "  <thead>\n",
       "    <tr style=\"text-align: right;\">\n",
       "      <th></th>\n",
       "      <th>popularity</th>\n",
       "      <th>danceability</th>\n",
       "      <th>energy</th>\n",
       "      <th>key</th>\n",
       "      <th>loudness</th>\n",
       "      <th>mode</th>\n",
       "      <th>speechiness</th>\n",
       "      <th>acousticness</th>\n",
       "      <th>instrumentalness</th>\n",
       "      <th>liveness</th>\n",
       "      <th>...</th>\n",
       "      <th>tempo</th>\n",
       "      <th>duration_ms</th>\n",
       "      <th>rank</th>\n",
       "      <th>streams</th>\n",
       "      <th>month</th>\n",
       "      <th>top200_count</th>\n",
       "      <th>trend_rank_score</th>\n",
       "      <th>stream_bins</th>\n",
       "      <th>enc_region</th>\n",
       "      <th>enc_year</th>\n",
       "    </tr>\n",
       "  </thead>\n",
       "  <tbody>\n",
       "    <tr>\n",
       "      <th>49</th>\n",
       "      <td>73</td>\n",
       "      <td>0.573</td>\n",
       "      <td>0.6300</td>\n",
       "      <td>1</td>\n",
       "      <td>-8.389</td>\n",
       "      <td>1</td>\n",
       "      <td>0.1050</td>\n",
       "      <td>0.18900</td>\n",
       "      <td>0.000023</td>\n",
       "      <td>0.2590</td>\n",
       "      <td>...</td>\n",
       "      <td>77.525</td>\n",
       "      <td>4.153550</td>\n",
       "      <td>196</td>\n",
       "      <td>13478.0</td>\n",
       "      <td>1</td>\n",
       "      <td>2</td>\n",
       "      <td>0.040</td>\n",
       "      <td>NaN</td>\n",
       "      <td>0</td>\n",
       "      <td>0</td>\n",
       "    </tr>\n",
       "    <tr>\n",
       "      <th>7056</th>\n",
       "      <td>73</td>\n",
       "      <td>0.589</td>\n",
       "      <td>0.2270</td>\n",
       "      <td>2</td>\n",
       "      <td>-16.670</td>\n",
       "      <td>1</td>\n",
       "      <td>0.0498</td>\n",
       "      <td>0.64000</td>\n",
       "      <td>0.004690</td>\n",
       "      <td>0.0248</td>\n",
       "      <td>...</td>\n",
       "      <td>74.993</td>\n",
       "      <td>4.680883</td>\n",
       "      <td>196</td>\n",
       "      <td>13859.0</td>\n",
       "      <td>1</td>\n",
       "      <td>2</td>\n",
       "      <td>0.035</td>\n",
       "      <td>NaN</td>\n",
       "      <td>1</td>\n",
       "      <td>0</td>\n",
       "    </tr>\n",
       "    <tr>\n",
       "      <th>13190</th>\n",
       "      <td>66</td>\n",
       "      <td>0.532</td>\n",
       "      <td>0.8680</td>\n",
       "      <td>3</td>\n",
       "      <td>-4.230</td>\n",
       "      <td>0</td>\n",
       "      <td>0.0908</td>\n",
       "      <td>0.01100</td>\n",
       "      <td>0.000000</td>\n",
       "      <td>0.0584</td>\n",
       "      <td>...</td>\n",
       "      <td>110.127</td>\n",
       "      <td>3.132633</td>\n",
       "      <td>191</td>\n",
       "      <td>26117.0</td>\n",
       "      <td>1</td>\n",
       "      <td>1</td>\n",
       "      <td>-0.050</td>\n",
       "      <td>NaN</td>\n",
       "      <td>2</td>\n",
       "      <td>0</td>\n",
       "    </tr>\n",
       "    <tr>\n",
       "      <th>20007</th>\n",
       "      <td>0</td>\n",
       "      <td>0.697</td>\n",
       "      <td>0.0543</td>\n",
       "      <td>7</td>\n",
       "      <td>-22.353</td>\n",
       "      <td>1</td>\n",
       "      <td>0.0543</td>\n",
       "      <td>0.94900</td>\n",
       "      <td>0.010800</td>\n",
       "      <td>0.0522</td>\n",
       "      <td>...</td>\n",
       "      <td>113.107</td>\n",
       "      <td>3.833550</td>\n",
       "      <td>190</td>\n",
       "      <td>12483.0</td>\n",
       "      <td>1</td>\n",
       "      <td>1</td>\n",
       "      <td>0.055</td>\n",
       "      <td>NaN</td>\n",
       "      <td>3</td>\n",
       "      <td>0</td>\n",
       "    </tr>\n",
       "    <tr>\n",
       "      <th>27550</th>\n",
       "      <td>73</td>\n",
       "      <td>0.757</td>\n",
       "      <td>0.6780</td>\n",
       "      <td>8</td>\n",
       "      <td>-5.529</td>\n",
       "      <td>0</td>\n",
       "      <td>0.2330</td>\n",
       "      <td>0.04720</td>\n",
       "      <td>0.000009</td>\n",
       "      <td>0.0654</td>\n",
       "      <td>...</td>\n",
       "      <td>120.075</td>\n",
       "      <td>3.637250</td>\n",
       "      <td>197</td>\n",
       "      <td>5351.0</td>\n",
       "      <td>1</td>\n",
       "      <td>1</td>\n",
       "      <td>-0.020</td>\n",
       "      <td>NaN</td>\n",
       "      <td>4</td>\n",
       "      <td>0</td>\n",
       "    </tr>\n",
       "    <tr>\n",
       "      <th>33408</th>\n",
       "      <td>8</td>\n",
       "      <td>0.719</td>\n",
       "      <td>0.5570</td>\n",
       "      <td>2</td>\n",
       "      <td>-6.187</td>\n",
       "      <td>0</td>\n",
       "      <td>0.0355</td>\n",
       "      <td>0.00806</td>\n",
       "      <td>0.008770</td>\n",
       "      <td>0.0965</td>\n",
       "      <td>...</td>\n",
       "      <td>121.997</td>\n",
       "      <td>4.394250</td>\n",
       "      <td>200</td>\n",
       "      <td>5677.0</td>\n",
       "      <td>1</td>\n",
       "      <td>1</td>\n",
       "      <td>-0.005</td>\n",
       "      <td>NaN</td>\n",
       "      <td>5</td>\n",
       "      <td>0</td>\n",
       "    </tr>\n",
       "    <tr>\n",
       "      <th>39189</th>\n",
       "      <td>0</td>\n",
       "      <td>0.556</td>\n",
       "      <td>0.8240</td>\n",
       "      <td>11</td>\n",
       "      <td>-6.354</td>\n",
       "      <td>1</td>\n",
       "      <td>0.0373</td>\n",
       "      <td>0.11900</td>\n",
       "      <td>0.000006</td>\n",
       "      <td>0.1240</td>\n",
       "      <td>...</td>\n",
       "      <td>106.034</td>\n",
       "      <td>4.111400</td>\n",
       "      <td>192</td>\n",
       "      <td>2106.0</td>\n",
       "      <td>1</td>\n",
       "      <td>1</td>\n",
       "      <td>0.045</td>\n",
       "      <td>NaN</td>\n",
       "      <td>6</td>\n",
       "      <td>0</td>\n",
       "    </tr>\n",
       "    <tr>\n",
       "      <th>44775</th>\n",
       "      <td>0</td>\n",
       "      <td>0.611</td>\n",
       "      <td>0.7000</td>\n",
       "      <td>9</td>\n",
       "      <td>-5.331</td>\n",
       "      <td>1</td>\n",
       "      <td>0.0436</td>\n",
       "      <td>0.01990</td>\n",
       "      <td>0.000000</td>\n",
       "      <td>0.0549</td>\n",
       "      <td>...</td>\n",
       "      <td>104.981</td>\n",
       "      <td>3.676217</td>\n",
       "      <td>198</td>\n",
       "      <td>2019.0</td>\n",
       "      <td>1</td>\n",
       "      <td>6</td>\n",
       "      <td>0.085</td>\n",
       "      <td>NaN</td>\n",
       "      <td>7</td>\n",
       "      <td>0</td>\n",
       "    </tr>\n",
       "  </tbody>\n",
       "</table>\n",
       "<p>8 rows × 21 columns</p>\n",
       "</div>"
      ],
      "text/plain": [
       "       popularity  danceability  energy  key  loudness  mode  speechiness  \\\n",
       "49             73         0.573  0.6300    1    -8.389     1       0.1050   \n",
       "7056           73         0.589  0.2270    2   -16.670     1       0.0498   \n",
       "13190          66         0.532  0.8680    3    -4.230     0       0.0908   \n",
       "20007           0         0.697  0.0543    7   -22.353     1       0.0543   \n",
       "27550          73         0.757  0.6780    8    -5.529     0       0.2330   \n",
       "33408           8         0.719  0.5570    2    -6.187     0       0.0355   \n",
       "39189           0         0.556  0.8240   11    -6.354     1       0.0373   \n",
       "44775           0         0.611  0.7000    9    -5.331     1       0.0436   \n",
       "\n",
       "       acousticness  instrumentalness  liveness  ...    tempo  duration_ms  \\\n",
       "49          0.18900          0.000023    0.2590  ...   77.525     4.153550   \n",
       "7056        0.64000          0.004690    0.0248  ...   74.993     4.680883   \n",
       "13190       0.01100          0.000000    0.0584  ...  110.127     3.132633   \n",
       "20007       0.94900          0.010800    0.0522  ...  113.107     3.833550   \n",
       "27550       0.04720          0.000009    0.0654  ...  120.075     3.637250   \n",
       "33408       0.00806          0.008770    0.0965  ...  121.997     4.394250   \n",
       "39189       0.11900          0.000006    0.1240  ...  106.034     4.111400   \n",
       "44775       0.01990          0.000000    0.0549  ...  104.981     3.676217   \n",
       "\n",
       "       rank  streams  month  top200_count  trend_rank_score  stream_bins  \\\n",
       "49      196  13478.0      1             2             0.040          NaN   \n",
       "7056    196  13859.0      1             2             0.035          NaN   \n",
       "13190   191  26117.0      1             1            -0.050          NaN   \n",
       "20007   190  12483.0      1             1             0.055          NaN   \n",
       "27550   197   5351.0      1             1            -0.020          NaN   \n",
       "33408   200   5677.0      1             1            -0.005          NaN   \n",
       "39189   192   2106.0      1             1             0.045          NaN   \n",
       "44775   198   2019.0      1             6             0.085          NaN   \n",
       "\n",
       "       enc_region  enc_year  \n",
       "49              0         0  \n",
       "7056            1         0  \n",
       "13190           2         0  \n",
       "20007           3         0  \n",
       "27550           4         0  \n",
       "33408           5         0  \n",
       "39189           6         0  \n",
       "44775           7         0  \n",
       "\n",
       "[8 rows x 21 columns]"
      ]
     },
     "execution_count": 35,
     "metadata": {},
     "output_type": "execute_result"
    }
   ],
   "source": [
    "df[df.isna().any(axis=1)]"
   ]
  },
  {
   "cell_type": "code",
   "execution_count": 36,
   "metadata": {},
   "outputs": [],
   "source": [
    "df.dropna(inplace=True)"
   ]
  },
  {
   "cell_type": "code",
   "execution_count": 48,
   "metadata": {},
   "outputs": [],
   "source": [
    "y = df['stream_bins']\n",
    "X = df.drop('stream_bins', axis=1)\n",
    "X_train, X_test, y_train, y_test = train_test_split(X,y, random_state=42, test_size=0.2)"
   ]
  },
  {
   "cell_type": "code",
   "execution_count": 49,
   "metadata": {},
   "outputs": [
    {
     "name": "stdout",
     "output_type": "stream",
     "text": [
      "[[2081  411  104   22]\n",
      " [ 383 1400  648  114]\n",
      " [ 115  648 1241  520]\n",
      " [  22  120  454 1938]]\n"
     ]
    }
   ],
   "source": [
    "#Decision tree\n",
    "dt = DecisionTreeClassifier(criterion='entropy', random_state=42)\n",
    "dt.fit(X_train, y_train)\n",
    "# Make predictions using test set \n",
    "y_pred = dt.predict(X_test)\n",
    "# Check the AUC of predictions\n",
    "print(metrics.confusion_matrix(y_test, y_pred))"
   ]
  },
  {
   "cell_type": "code",
   "execution_count": 50,
   "metadata": {},
   "outputs": [
    {
     "name": "stdout",
     "output_type": "stream",
     "text": [
      "              precision    recall  f1-score   support\n",
      "\n",
      "         1.0       0.80      0.79      0.80      2618\n",
      "         2.0       0.54      0.55      0.55      2545\n",
      "         3.0       0.51      0.49      0.50      2524\n",
      "         4.0       0.75      0.76      0.76      2534\n",
      "\n",
      "    accuracy                           0.65     10221\n",
      "   macro avg       0.65      0.65      0.65     10221\n",
      "weighted avg       0.65      0.65      0.65     10221\n",
      "\n"
     ]
    }
   ],
   "source": [
    "print(metrics.classification_report(y_test, y_pred))"
   ]
  },
  {
   "cell_type": "code",
   "execution_count": 51,
   "metadata": {},
   "outputs": [
    {
     "data": {
      "image/png": "[encoded data removed]",
      "text/plain": [
       "<Figure size 864x432 with 1 Axes>"
      ]
     },
     "metadata": {},
     "output_type": "display_data"
    }
   ],
   "source": [
    "max_depths = np.linspace(1,32,32,endpoint=True)\n",
    "# As review, linspace returns evenly spaced numbers over a specified interval.\n",
    "train_results=[]\n",
    "test_results=[]\n",
    "for max_depth in max_depths:\n",
    "    dt = DecisionTreeClassifier(criterion='entropy', max_depth=max_depth, random_state=42)\n",
    "    dt.fit(X_train, y_train)\n",
    "    train_pred = dt.predict(X_train)\n",
    "    #false_positive_rate, true_positive_rate, thresholds = metrics.auc(y_train, train_pred)\n",
    "    auc = metrics.accuracy_score(y_train, train_pred)\n",
    "    # add auc score to the previous train results\n",
    "    train_results.append(auc)\n",
    "    y_pred = dt.predict(X_test)\n",
    "    #false_positive_rate, true_positive_rate, thresholds=roc_curve(y_test, y_pred)\n",
    "    auc = metrics.accuracy_score(y_test, y_pred)\n",
    "    # add score to previous test results\n",
    "    test_results.append(auc)\n",
    "plt.figure(figsize=(12,6))\n",
    "plt.plot(max_depths, train_results, 'b', label='Train AUC')\n",
    "plt.plot(max_depths, test_results, 'r', label='Test AUC')\n",
    "plt.ylabel('Accuracy Score')\n",
    "plt.xlabel('Tree Depth')\n",
    "plt.legend\n",
    "plt.show()"
   ]
  },
  {
   "cell_type": "code",
   "execution_count": 52,
   "metadata": {},
   "outputs": [
    {
     "data": {
      "image/png": "[encoded data removed]",
      "text/plain": [
       "<Figure size 864x432 with 1 Axes>"
      ]
     },
     "metadata": {},
     "output_type": "display_data"
    }
   ],
   "source": [
    "min_samples_splits = np.linspace(0.1,1.0,10, endpoint=True)\n",
    "train_results = []\n",
    "test_results = []\n",
    "for min_samples_split in min_samples_splits:\n",
    "    dt = DecisionTreeClassifier (criterion = 'entropy', min_samples_split = min_samples_split, random_state=42)\n",
    "    dt.fit(X_train, y_train)\n",
    "    train_pred = dt.predict(X_train)\n",
    "    #false_positive_rate, true_positive_rate, thresholds = roc_curve(y_train, train_pred)\n",
    "    acc = metrics.accuracy_score(y_train, train_pred)\n",
    "    train_results.append(acc)\n",
    "    y_pred = dt.predict(X_test)\n",
    "    #false_positive_rate, true_positive_rate, thresholds = roc_curve(y_test, y_pred)\n",
    "    acc = metrics.accuracy_score(y_test, y_pred)\n",
    "    test_results.append(acc)\n",
    "plt.figure(figsize=(12,6))\n",
    "plt.plot(min_samples_splits, train_results, 'b', label = 'Train Acc')\n",
    "plt.plot(min_samples_splits, test_results, 'r',label = 'Test Acc')\n",
    "plt.xlabel('Min. Sample Splits')\n",
    "plt.legend()\n",
    "plt.show()"
   ]
  },
  {
   "cell_type": "code",
   "execution_count": 53,
   "metadata": {},
   "outputs": [
    {
     "data": {
      "image/png": "[encoded data removed]",
      "text/plain": [
       "<Figure size 864x432 with 1 Axes>"
      ]
     },
     "metadata": {},
     "output_type": "display_data"
    }
   ],
   "source": [
    "# Calculate the optimal value for minimum sample leafs\n",
    "min_samples_leafs=np.linspace(0.1,0.5,5, endpoint = True)\n",
    "train_results=[]\n",
    "test_results=[]\n",
    "for min_samples_leaf in min_samples_leafs:\n",
    "    dt = DecisionTreeClassifier(criterion='entropy', min_samples_leaf = min_samples_leaf, random_state=42)\n",
    "    dt.fit(X_train, y_train)\n",
    "    train_pred = dt.predict(X_train)\n",
    "    #false_positive_rate, true_positive_rate, thresholds = roc_curve(y_train, train_pred)\n",
    "    acc = metrics.accuracy_score(y_train, train_pred)\n",
    "    train_results.append(acc)\n",
    "    y_pred = dt.predict(X_test)\n",
    "    #false_positive_rate, true_positive_rate, thresholds = roc_curve (y_test, y_pred)\n",
    "    acc = metrics.accuracy_score(y_test, y_pred)\n",
    "    test_results.append(acc)\n",
    "plt.figure(figsize=(12,6))\n",
    "plt.plot(min_samples_leafs, train_results, 'b', label='Train Acc')\n",
    "plt.plot(min_samples_leafs, test_results, 'r', label='Test Acc')\n",
    "plt.ylabel('Acc')\n",
    "plt.xlabel('Min. Sample Leafs')\n",
    "plt.legend()\n",
    "plt.show()"
   ]
  },
  {
   "cell_type": "code",
   "execution_count": 54,
   "metadata": {},
   "outputs": [
    {
     "data": {
      "image/png": "[encoded data removed]",
      "text/plain": [
       "<Figure size 864x432 with 1 Axes>"
      ]
     },
     "metadata": {},
     "output_type": "display_data"
    }
   ],
   "source": [
    "max_features = list(range(1, X_train.shape[1]))\n",
    "train_results = []\n",
    "test_results = []\n",
    "for max_feature in max_features:\n",
    "    dt = DecisionTreeClassifier(criterion = 'entropy', max_features = max_feature, random_state=42)\n",
    "    dt.fit(X_train, y_train)\n",
    "    train_pred = dt.predict(X_train)\n",
    "    #false_positive_rate, true_positive_rate, thresholds = roc_curve(y_train, train_pred)\n",
    "    acc = metrics.accuracy_score(y_train, train_pred)\n",
    "    train_results.append(acc)\n",
    "    y_pred = dt.predict(X_test)\n",
    "    #false_positive_rate, true_positive_rate, thresholds = roc_curve(y_test, y_pred)\n",
    "    acc = metrics.accuracy_score(y_test, y_pred)\n",
    "    test_results.append(acc)\n",
    "plt.figure(figsize=(12,6))\n",
    "plt.plot(max_features, train_results, 'b', label = 'Train Acc')\n",
    "plt.plot(max_features, test_results, 'r', label = 'Test Acc')\n",
    "plt.ylabel('Acc Score')\n",
    "plt.xlabel('max features')\n",
    "plt.legend()\n",
    "plt.show()"
   ]
  },
  {
   "cell_type": "code",
   "execution_count": 60,
   "metadata": {},
   "outputs": [
    {
     "data": {
      "text/plain": [
       "DecisionTreeClassifier(criterion='entropy', max_depth=8, max_features=15,\n",
       "                       min_samples_leaf=0.1, min_samples_split=0.1,\n",
       "                       random_state=42)"
      ]
     },
     "execution_count": 60,
     "metadata": {},
     "output_type": "execute_result"
    }
   ],
   "source": [
    "dt2 = DecisionTreeClassifier(criterion='entropy',\n",
    "                           max_features=15,\n",
    "                           max_depth = 8,\n",
    "                           min_samples_split = 0.1,\n",
    "                           min_samples_leaf = 0.1,\n",
    "                           random_state = 42)\n",
    "\n",
    "dt2.fit(X_train, y_train)"
   ]
  },
  {
   "cell_type": "code",
   "execution_count": 61,
   "metadata": {},
   "outputs": [
    {
     "name": "stdout",
     "output_type": "stream",
     "text": [
      "Accuracy is: 57.10791507680266\n",
      "\n",
      "Confusion Matrix\n",
      "----------------\n"
     ]
    },
    {
     "data": {
      "text/html": [
       "<div>\n",
       "<style scoped>\n",
       "    .dataframe tbody tr th:only-of-type {\n",
       "        vertical-align: middle;\n",
       "    }\n",
       "\n",
       "    .dataframe tbody tr th {\n",
       "        vertical-align: top;\n",
       "    }\n",
       "\n",
       "    .dataframe thead th {\n",
       "        text-align: right;\n",
       "    }\n",
       "</style>\n",
       "<table border=\"1\" class=\"dataframe\">\n",
       "  <thead>\n",
       "    <tr style=\"text-align: right;\">\n",
       "      <th>Predicted</th>\n",
       "      <th>1.0</th>\n",
       "      <th>2.0</th>\n",
       "      <th>3.0</th>\n",
       "      <th>4.0</th>\n",
       "      <th>All</th>\n",
       "    </tr>\n",
       "    <tr>\n",
       "      <th>True</th>\n",
       "      <th></th>\n",
       "      <th></th>\n",
       "      <th></th>\n",
       "      <th></th>\n",
       "      <th></th>\n",
       "    </tr>\n",
       "  </thead>\n",
       "  <tbody>\n",
       "    <tr>\n",
       "      <th>1.0</th>\n",
       "      <td>1948</td>\n",
       "      <td>275</td>\n",
       "      <td>193</td>\n",
       "      <td>202</td>\n",
       "      <td>2618</td>\n",
       "    </tr>\n",
       "    <tr>\n",
       "      <th>2.0</th>\n",
       "      <td>689</td>\n",
       "      <td>884</td>\n",
       "      <td>728</td>\n",
       "      <td>244</td>\n",
       "      <td>2545</td>\n",
       "    </tr>\n",
       "    <tr>\n",
       "      <th>3.0</th>\n",
       "      <td>250</td>\n",
       "      <td>545</td>\n",
       "      <td>1279</td>\n",
       "      <td>450</td>\n",
       "      <td>2524</td>\n",
       "    </tr>\n",
       "    <tr>\n",
       "      <th>4.0</th>\n",
       "      <td>77</td>\n",
       "      <td>104</td>\n",
       "      <td>627</td>\n",
       "      <td>1726</td>\n",
       "      <td>2534</td>\n",
       "    </tr>\n",
       "    <tr>\n",
       "      <th>All</th>\n",
       "      <td>2964</td>\n",
       "      <td>1808</td>\n",
       "      <td>2827</td>\n",
       "      <td>2622</td>\n",
       "      <td>10221</td>\n",
       "    </tr>\n",
       "  </tbody>\n",
       "</table>\n",
       "</div>"
      ],
      "text/plain": [
       "Predicted   1.0   2.0   3.0   4.0    All\n",
       "True                                    \n",
       "1.0        1948   275   193   202   2618\n",
       "2.0         689   884   728   244   2545\n",
       "3.0         250   545  1279   450   2524\n",
       "4.0          77   104   627  1726   2534\n",
       "All        2964  1808  2827  2622  10221"
      ]
     },
     "execution_count": 61,
     "metadata": {},
     "output_type": "execute_result"
    }
   ],
   "source": [
    "y_pred = dt2.predict(X_test)\n",
    "# Calculate accuracy \n",
    "acc = accuracy_score(y_test, y_pred) * 100\n",
    "print('Accuracy is: {0}'.format(acc))\n",
    "# Create and print a confusion matrix \n",
    "print('\\nConfusion Matrix')\n",
    "print('----------------')\n",
    "pd.crosstab(y_test,y_pred,rownames=['True'], colnames=['Predicted'], margins=True)"
   ]
  },
  {
   "cell_type": "code",
   "execution_count": 57,
   "metadata": {},
   "outputs": [
    {
     "name": "stdout",
     "output_type": "stream",
     "text": [
      "[[1948  275  193  202]\n",
      " [ 689  884  728  244]\n",
      " [ 250  545 1279  450]\n",
      " [  77  104  627 1726]]\n",
      "              precision    recall  f1-score   support\n",
      "\n",
      "         1.0       0.66      0.74      0.70      2618\n",
      "         2.0       0.49      0.35      0.41      2545\n",
      "         3.0       0.45      0.51      0.48      2524\n",
      "         4.0       0.66      0.68      0.67      2534\n",
      "\n",
      "    accuracy                           0.57     10221\n",
      "   macro avg       0.56      0.57      0.56     10221\n",
      "weighted avg       0.57      0.57      0.56     10221\n",
      "\n"
     ]
    }
   ],
   "source": [
    "# Confusion matrix and classification report\n",
    "print(confusion_matrix(y_test, y_pred))\n",
    "print(classification_report(y_test, y_pred))"
   ]
  },
  {
   "cell_type": "code",
   "execution_count": 62,
   "metadata": {},
   "outputs": [],
   "source": [
    "import graphviz\n",
    "def plot_feature_importances(model):\n",
    "    n_features = X_train.shape[1]\n",
    "    plt.figure(figsize=(8,8))\n",
    "    plt.barh(range(n_features), model.feature_importances_, align='center') \n",
    "    plt.yticks(np.arange(n_features), X_train.columns.values) \n",
    "    plt.xlabel('Feature importance')\n",
    "    plt.ylabel('Feature')\n"
   ]
  },
  {
   "cell_type": "code",
   "execution_count": 63,
   "metadata": {},
   "outputs": [
    {
     "data": {
      "image/png": "[encoded data removed]",
      "text/plain": [
       "<Figure size 576x576 with 1 Axes>"
      ]
     },
     "metadata": {},
     "output_type": "display_data"
    }
   ],
   "source": [
    "plot_feature_importances(dt2)"
   ]
  },
  {
   "cell_type": "code",
   "execution_count": 64,
   "metadata": {},
   "outputs": [
    {
     "data": {
      "text/html": [
       "<div>\n",
       "<style scoped>\n",
       "    .dataframe tbody tr th:only-of-type {\n",
       "        vertical-align: middle;\n",
       "    }\n",
       "\n",
       "    .dataframe tbody tr th {\n",
       "        vertical-align: top;\n",
       "    }\n",
       "\n",
       "    .dataframe thead th {\n",
       "        text-align: right;\n",
       "    }\n",
       "</style>\n",
       "<table border=\"1\" class=\"dataframe\">\n",
       "  <thead>\n",
       "    <tr style=\"text-align: right;\">\n",
       "      <th></th>\n",
       "      <th>popularity</th>\n",
       "      <th>danceability</th>\n",
       "      <th>energy</th>\n",
       "      <th>key</th>\n",
       "      <th>loudness</th>\n",
       "      <th>mode</th>\n",
       "      <th>speechiness</th>\n",
       "      <th>acousticness</th>\n",
       "      <th>instrumentalness</th>\n",
       "      <th>liveness</th>\n",
       "      <th>valence</th>\n",
       "      <th>tempo</th>\n",
       "      <th>duration_ms</th>\n",
       "      <th>rank</th>\n",
       "      <th>month</th>\n",
       "      <th>top200_count</th>\n",
       "      <th>trend_rank_score</th>\n",
       "      <th>enc_region</th>\n",
       "      <th>enc_year</th>\n",
       "    </tr>\n",
       "  </thead>\n",
       "  <tbody>\n",
       "    <tr>\n",
       "      <th>0</th>\n",
       "      <td>0.567170</td>\n",
       "      <td>-1.572932</td>\n",
       "      <td>0.971917</td>\n",
       "      <td>-0.895538</td>\n",
       "      <td>0.157927</td>\n",
       "      <td>0.904315</td>\n",
       "      <td>1.334018</td>\n",
       "      <td>-0.821226</td>\n",
       "      <td>-0.169823</td>\n",
       "      <td>3.857944</td>\n",
       "      <td>-0.375389</td>\n",
       "      <td>-1.313070</td>\n",
       "      <td>1.743655</td>\n",
       "      <td>-0.678233</td>\n",
       "      <td>-0.759902</td>\n",
       "      <td>-0.451022</td>\n",
       "      <td>-0.024153</td>\n",
       "      <td>-1.039244</td>\n",
       "      <td>-0.083086</td>\n",
       "    </tr>\n",
       "    <tr>\n",
       "      <th>1</th>\n",
       "      <td>0.797992</td>\n",
       "      <td>0.132577</td>\n",
       "      <td>-0.605683</td>\n",
       "      <td>0.202815</td>\n",
       "      <td>-2.775103</td>\n",
       "      <td>0.904315</td>\n",
       "      <td>-0.647096</td>\n",
       "      <td>0.312693</td>\n",
       "      <td>-0.169035</td>\n",
       "      <td>-0.597606</td>\n",
       "      <td>1.867030</td>\n",
       "      <td>-0.789825</td>\n",
       "      <td>-0.628652</td>\n",
       "      <td>0.554202</td>\n",
       "      <td>-1.633173</td>\n",
       "      <td>-0.459501</td>\n",
       "      <td>-0.026412</td>\n",
       "      <td>-0.602186</td>\n",
       "      <td>-1.498972</td>\n",
       "    </tr>\n",
       "    <tr>\n",
       "      <th>2</th>\n",
       "      <td>-1.856461</td>\n",
       "      <td>-0.462997</td>\n",
       "      <td>-1.476285</td>\n",
       "      <td>-0.620950</td>\n",
       "      <td>-2.224854</td>\n",
       "      <td>0.904315</td>\n",
       "      <td>-0.708759</td>\n",
       "      <td>2.845408</td>\n",
       "      <td>-0.169541</td>\n",
       "      <td>-0.034592</td>\n",
       "      <td>1.420369</td>\n",
       "      <td>0.809477</td>\n",
       "      <td>0.058355</td>\n",
       "      <td>-1.767361</td>\n",
       "      <td>1.568820</td>\n",
       "      <td>-0.417107</td>\n",
       "      <td>0.245502</td>\n",
       "      <td>-1.039244</td>\n",
       "      <td>-0.791029</td>\n",
       "    </tr>\n",
       "    <tr>\n",
       "      <th>3</th>\n",
       "      <td>0.797992</td>\n",
       "      <td>-3.217531</td>\n",
       "      <td>-1.990466</td>\n",
       "      <td>-0.620950</td>\n",
       "      <td>-1.353940</td>\n",
       "      <td>0.904315</td>\n",
       "      <td>-0.822598</td>\n",
       "      <td>1.993167</td>\n",
       "      <td>-0.169522</td>\n",
       "      <td>-0.670449</td>\n",
       "      <td>-1.674351</td>\n",
       "      <td>-1.052989</td>\n",
       "      <td>1.420636</td>\n",
       "      <td>0.840814</td>\n",
       "      <td>1.568820</td>\n",
       "      <td>-0.459501</td>\n",
       "      <td>-0.033944</td>\n",
       "      <td>1.146044</td>\n",
       "      <td>0.624858</td>\n",
       "    </tr>\n",
       "    <tr>\n",
       "      <th>4</th>\n",
       "      <td>0.836462</td>\n",
       "      <td>-0.442694</td>\n",
       "      <td>0.691455</td>\n",
       "      <td>-1.444715</td>\n",
       "      <td>-1.478894</td>\n",
       "      <td>0.904315</td>\n",
       "      <td>-0.810740</td>\n",
       "      <td>-0.970477</td>\n",
       "      <td>8.575977</td>\n",
       "      <td>-0.850279</td>\n",
       "      <td>-0.461986</td>\n",
       "      <td>0.598300</td>\n",
       "      <td>0.815865</td>\n",
       "      <td>-1.194135</td>\n",
       "      <td>-0.468812</td>\n",
       "      <td>-0.459501</td>\n",
       "      <td>0.019535</td>\n",
       "      <td>-0.602186</td>\n",
       "      <td>-1.498972</td>\n",
       "    </tr>\n",
       "  </tbody>\n",
       "</table>\n",
       "</div>"
      ],
      "text/plain": [
       "   popularity  danceability    energy       key  loudness      mode  \\\n",
       "0    0.567170     -1.572932  0.971917 -0.895538  0.157927  0.904315   \n",
       "1    0.797992      0.132577 -0.605683  0.202815 -2.775103  0.904315   \n",
       "2   -1.856461     -0.462997 -1.476285 -0.620950 -2.224854  0.904315   \n",
       "3    0.797992     -3.217531 -1.990466 -0.620950 -1.353940  0.904315   \n",
       "4    0.836462     -0.442694  0.691455 -1.444715 -1.478894  0.904315   \n",
       "\n",
       "   speechiness  acousticness  instrumentalness  liveness   valence     tempo  \\\n",
       "0     1.334018     -0.821226         -0.169823  3.857944 -0.375389 -1.313070   \n",
       "1    -0.647096      0.312693         -0.169035 -0.597606  1.867030 -0.789825   \n",
       "2    -0.708759      2.845408         -0.169541 -0.034592  1.420369  0.809477   \n",
       "3    -0.822598      1.993167         -0.169522 -0.670449 -1.674351 -1.052989   \n",
       "4    -0.810740     -0.970477          8.575977 -0.850279 -0.461986  0.598300   \n",
       "\n",
       "   duration_ms      rank     month  top200_count  trend_rank_score  \\\n",
       "0     1.743655 -0.678233 -0.759902     -0.451022         -0.024153   \n",
       "1    -0.628652  0.554202 -1.633173     -0.459501         -0.026412   \n",
       "2     0.058355 -1.767361  1.568820     -0.417107          0.245502   \n",
       "3     1.420636  0.840814  1.568820     -0.459501         -0.033944   \n",
       "4     0.815865 -1.194135 -0.468812     -0.459501          0.019535   \n",
       "\n",
       "   enc_region  enc_year  \n",
       "0   -1.039244 -0.083086  \n",
       "1   -0.602186 -1.498972  \n",
       "2   -1.039244 -0.791029  \n",
       "3    1.146044  0.624858  \n",
       "4   -0.602186 -1.498972  "
      ]
     },
     "execution_count": 64,
     "metadata": {},
     "output_type": "execute_result"
    }
   ],
   "source": [
    "# Instantiate StandardScaler\n",
    "scaler = StandardScaler()\n",
    "\n",
    "# Transform the training and test sets\n",
    "scaled_data_train = scaler.fit_transform(X_train)\n",
    "scaled_data_test = scaler.fit_transform(X_test)\n",
    "\n",
    "# Convert into a DataFrame\n",
    "scaled_df_train = pd.DataFrame(scaled_data_train, columns=X.columns)\n",
    "scaled_df_train.head()"
   ]
  },
  {
   "cell_type": "code",
   "execution_count": 65,
   "metadata": {},
   "outputs": [],
   "source": [
    "# Instantiate KNeighborsClassifier\n",
    "clf = KNeighborsClassifier()\n",
    "\n",
    "# Fit the classifier\n",
    "clf.fit(scaled_data_train, y_train)\n",
    "\n",
    "# Predict on the test set\n",
    "test_preds = clf.predict(scaled_data_test)"
   ]
  },
  {
   "cell_type": "code",
   "execution_count": 66,
   "metadata": {},
   "outputs": [
    {
     "name": "stdout",
     "output_type": "stream",
     "text": [
      "[[1809  542  227   40]\n",
      " [ 696 1118  600  131]\n",
      " [ 405  868  937  314]\n",
      " [ 116  392  619 1407]]\n",
      "              precision    recall  f1-score   support\n",
      "\n",
      "         1.0       0.60      0.69      0.64      2618\n",
      "         2.0       0.38      0.44      0.41      2545\n",
      "         3.0       0.39      0.37      0.38      2524\n",
      "         4.0       0.74      0.56      0.64      2534\n",
      "\n",
      "    accuracy                           0.52     10221\n",
      "   macro avg       0.53      0.51      0.52     10221\n",
      "weighted avg       0.53      0.52      0.52     10221\n",
      "\n"
     ]
    }
   ],
   "source": [
    "print(confusion_matrix(y_test, test_preds))\n",
    "print(classification_report(y_test, test_preds))"
   ]
  },
  {
   "cell_type": "code",
   "execution_count": 68,
   "metadata": {},
   "outputs": [],
   "source": [
    "def find_best_k(X_train, y_train, X_test, y_test, min_k=1, max_k=34):\n",
    "    best_k = 0\n",
    "    best_score = 0.0\n",
    "    for k in range (min_k, max_k+1, 2):\n",
    "        knn = KNeighborsClassifier(n_neighbors = k)\n",
    "        knn.fit(X_train, y_train)\n",
    "        preds = knn.predict(X_test)\n",
    "        f1 = f1_score (y_test, preds, average='micro')\n",
    "        if f1 > best_score:\n",
    "            best_k = k\n",
    "            best_score = f1\n",
    "    print (\"Best value for k: {}\".format(best_k))\n",
    "    print (\"F1-Score: {}\".format(best_score))"
   ]
  },
  {
   "cell_type": "code",
   "execution_count": 69,
   "metadata": {},
   "outputs": [
    {
     "name": "stdout",
     "output_type": "stream",
     "text": [
      "Best value for k: 33\n",
      "F1-Score: 0.5702964484884062\n"
     ]
    }
   ],
   "source": [
    "find_best_k(scaled_data_train, y_train, scaled_data_test, y_test)"
   ]
  },
  {
   "cell_type": "code",
   "execution_count": 70,
   "metadata": {},
   "outputs": [],
   "source": [
    "# Instantiate KNeighborsClassifier\n",
    "clf2 = KNeighborsClassifier(n_neighbors=33)\n",
    "\n",
    "# Fit the classifier\n",
    "clf2.fit(scaled_data_train, y_train)\n",
    "\n",
    "# Predict on the test set\n",
    "test_preds = clf2.predict(scaled_data_test)"
   ]
  },
  {
   "cell_type": "code",
   "execution_count": 71,
   "metadata": {},
   "outputs": [
    {
     "name": "stdout",
     "output_type": "stream",
     "text": [
      "[[1912  400  267   39]\n",
      " [ 586 1078  762  119]\n",
      " [ 274  675 1256  319]\n",
      " [  85  262  604 1583]]\n",
      "              precision    recall  f1-score   support\n",
      "\n",
      "         1.0       0.67      0.73      0.70      2618\n",
      "         2.0       0.45      0.42      0.43      2545\n",
      "         3.0       0.43      0.50      0.46      2524\n",
      "         4.0       0.77      0.62      0.69      2534\n",
      "\n",
      "    accuracy                           0.57     10221\n",
      "   macro avg       0.58      0.57      0.57     10221\n",
      "weighted avg       0.58      0.57      0.57     10221\n",
      "\n"
     ]
    }
   ],
   "source": [
    "print(confusion_matrix(y_test, test_preds))\n",
    "print(classification_report(y_test, test_preds))"
   ]
  },
  {
   "cell_type": "code",
   "execution_count": 72,
   "metadata": {},
   "outputs": [],
   "source": [
    "#Random forest\n",
    "# Instantiate a BaggingClassifier\n",
    "bagged_tree = BaggingClassifier(DecisionTreeClassifier(criterion='entropy', max_depth=5), \n",
    "                                 n_estimators=20)"
   ]
  },
  {
   "cell_type": "code",
   "execution_count": 73,
   "metadata": {},
   "outputs": [
    {
     "data": {
      "text/plain": [
       "BaggingClassifier(base_estimator=DecisionTreeClassifier(criterion='entropy',\n",
       "                                                        max_depth=5),\n",
       "                  n_estimators=20)"
      ]
     },
     "execution_count": 73,
     "metadata": {},
     "output_type": "execute_result"
    }
   ],
   "source": [
    "# Fit to the training data\n",
    "bagged_tree.fit(X_train, y_train)"
   ]
  },
  {
   "cell_type": "code",
   "execution_count": 74,
   "metadata": {},
   "outputs": [
    {
     "data": {
      "text/plain": [
       "0.6210312607015313"
      ]
     },
     "execution_count": 74,
     "metadata": {},
     "output_type": "execute_result"
    }
   ],
   "source": [
    "# Training accuracy score\n",
    "bagged_tree.score(X_train, y_train)"
   ]
  },
  {
   "cell_type": "code",
   "execution_count": 75,
   "metadata": {},
   "outputs": [
    {
     "data": {
      "text/plain": [
       "0.6203893943841111"
      ]
     },
     "execution_count": 75,
     "metadata": {},
     "output_type": "execute_result"
    }
   ],
   "source": [
    "# Test accuracy score\n",
    "bagged_tree.score(X_test, y_test)"
   ]
  },
  {
   "cell_type": "code",
   "execution_count": 76,
   "metadata": {},
   "outputs": [
    {
     "name": "stdout",
     "output_type": "stream",
     "text": [
      "[[1949  531   96   42]\n",
      " [ 396 1627  394  128]\n",
      " [ 145 1063  847  469]\n",
      " [  34  252  330 1918]]\n",
      "              precision    recall  f1-score   support\n",
      "\n",
      "         1.0       0.77      0.74      0.76      2618\n",
      "         2.0       0.47      0.64      0.54      2545\n",
      "         3.0       0.51      0.34      0.40      2524\n",
      "         4.0       0.75      0.76      0.75      2534\n",
      "\n",
      "    accuracy                           0.62     10221\n",
      "   macro avg       0.62      0.62      0.61     10221\n",
      "weighted avg       0.63      0.62      0.62     10221\n",
      "\n"
     ]
    }
   ],
   "source": [
    "# Test set predictions\n",
    "pred = bagged_tree.predict(X_test)\n",
    "\n",
    "# Confusion matrix and classification report\n",
    "print(confusion_matrix(y_test, pred))\n",
    "print(classification_report(y_test, pred))"
   ]
  },
  {
   "cell_type": "code",
   "execution_count": 77,
   "metadata": {},
   "outputs": [
    {
     "data": {
      "text/plain": [
       "RandomForestClassifier(max_depth=6)"
      ]
     },
     "execution_count": 77,
     "metadata": {},
     "output_type": "execute_result"
    }
   ],
   "source": [
    "# Instantiate and fit a RandomForestClassifier\n",
    "forest = RandomForestClassifier(n_estimators=100, max_depth=6)\n",
    "forest.fit(X_train, y_train)"
   ]
  },
  {
   "cell_type": "code",
   "execution_count": 78,
   "metadata": {},
   "outputs": [
    {
     "data": {
      "text/plain": [
       "0.6224499779854215"
      ]
     },
     "execution_count": 78,
     "metadata": {},
     "output_type": "execute_result"
    }
   ],
   "source": [
    "# Training accuracy score\n",
    "forest.score(X_train, y_train)"
   ]
  },
  {
   "cell_type": "code",
   "execution_count": 79,
   "metadata": {},
   "outputs": [
    {
     "data": {
      "text/plain": [
       "0.6226396634380198"
      ]
     },
     "execution_count": 79,
     "metadata": {},
     "output_type": "execute_result"
    }
   ],
   "source": [
    "# Test accuracy score\n",
    "forest.score(X_test, y_test)"
   ]
  },
  {
   "cell_type": "code",
   "execution_count": 80,
   "metadata": {},
   "outputs": [
    {
     "data": {
      "image/png": "[encoded data removed]",
      "text/plain": [
       "<Figure size 576x576 with 1 Axes>"
      ]
     },
     "metadata": {},
     "output_type": "display_data"
    }
   ],
   "source": [
    "plot_feature_importances(forest)"
   ]
  },
  {
   "cell_type": "code",
   "execution_count": 81,
   "metadata": {},
   "outputs": [
    {
     "name": "stdout",
     "output_type": "stream",
     "text": [
      "[[2076  351  114   77]\n",
      " [ 723 1142  497  183]\n",
      " [ 253  593 1219  459]\n",
      " [  51  100  456 1927]]\n",
      "              precision    recall  f1-score   support\n",
      "\n",
      "         1.0       0.67      0.79      0.73      2618\n",
      "         2.0       0.52      0.45      0.48      2545\n",
      "         3.0       0.53      0.48      0.51      2524\n",
      "         4.0       0.73      0.76      0.74      2534\n",
      "\n",
      "    accuracy                           0.62     10221\n",
      "   macro avg       0.61      0.62      0.61     10221\n",
      "weighted avg       0.61      0.62      0.62     10221\n",
      "\n"
     ]
    }
   ],
   "source": [
    "# Test set predictions for forest:\n",
    "pred = forest.predict(X_test)\n",
    "\n",
    "# Confusion matrix and classification report\n",
    "print(confusion_matrix(y_test, pred))\n",
    "print(classification_report(y_test, pred))"
   ]
  },
  {
   "cell_type": "code",
   "execution_count": 82,
   "metadata": {},
   "outputs": [
    {
     "name": "stdout",
     "output_type": "stream",
     "text": [
      "Mean Cross Val Score for Random Forest Classifier: 67.70%\n"
     ]
    }
   ],
   "source": [
    "#GridSearch random forest\n",
    "rf_clf = RandomForestClassifier()\n",
    "mean_rf_cv_score = np.mean(cross_val_score(rf_clf, X_train, y_train, cv=3))\n",
    "\n",
    "print(f\"Mean Cross Val Score for Random Forest Classifier: {mean_rf_cv_score :.2%}\")"
   ]
  },
  {
   "cell_type": "code",
   "execution_count": 83,
   "metadata": {},
   "outputs": [],
   "source": [
    "rf_param_grid = {\n",
    "    'n_estimators' : [10,30,100],\n",
    "    'criterion' : ['gini', 'entropy'],\n",
    "    'max_depth' : [None, 2,6,10],\n",
    "    'min_samples_split' : [5,10],\n",
    "    'min_samples_leaf' : [3,6]\n",
    "    \n",
    "}"
   ]
  },
  {
   "cell_type": "code",
   "execution_count": 84,
   "metadata": {},
   "outputs": [
    {
     "name": "stdout",
     "output_type": "stream",
     "text": [
      "Testing Accuracy: 68.59%\n",
      "\n",
      "Optimal Parameters: {'criterion': 'entropy', 'max_depth': None, 'min_samples_leaf': 3, 'min_samples_split': 5, 'n_estimators': 100}\n"
     ]
    }
   ],
   "source": [
    "rf_grid_search = GridSearchCV(rf_clf, rf_param_grid, cv=3)\n",
    "rf_grid_search.fit(X_train, y_train)\n",
    "\n",
    "\n",
    "print(f\"Testing Accuracy: {rf_grid_search.best_score_ :.2%}\")\n",
    "print(\"\")\n",
    "print(f\"Optimal Parameters: {rf_grid_search.best_params_}\")"
   ]
  },
  {
   "cell_type": "code",
   "execution_count": 85,
   "metadata": {},
   "outputs": [
    {
     "data": {
      "text/plain": [
       "RandomForestClassifier(criterion='entropy', min_samples_leaf=3,\n",
       "                       min_samples_split=5)"
      ]
     },
     "execution_count": 85,
     "metadata": {},
     "output_type": "execute_result"
    }
   ],
   "source": [
    "forest2 = RandomForestClassifier(n_estimators=100, max_depth=None, \n",
    "                                criterion = 'entropy', min_samples_leaf=3,\n",
    "                                min_samples_split=5)\n",
    "forest2.fit(X_train, y_train)"
   ]
  },
  {
   "cell_type": "code",
   "execution_count": 86,
   "metadata": {},
   "outputs": [
    {
     "data": {
      "text/plain": [
       "0.9810674624529132"
      ]
     },
     "execution_count": 86,
     "metadata": {},
     "output_type": "execute_result"
    }
   ],
   "source": [
    "# Training accuracy score\n",
    "forest2.score(X_train, y_train)"
   ]
  },
  {
   "cell_type": "code",
   "execution_count": 87,
   "metadata": {},
   "outputs": [
    {
     "data": {
      "text/plain": [
       "0.6976812444966246"
      ]
     },
     "execution_count": 87,
     "metadata": {},
     "output_type": "execute_result"
    }
   ],
   "source": [
    "# Test accuracy score\n",
    "forest2.score(X_test, y_test)"
   ]
  },
  {
   "cell_type": "code",
   "execution_count": 88,
   "metadata": {},
   "outputs": [
    {
     "name": "stdout",
     "output_type": "stream",
     "text": [
      "[[2169  349   74   26]\n",
      " [ 400 1525  520  100]\n",
      " [ 145  551 1444  384]\n",
      " [  21   63  457 1993]]\n",
      "              precision    recall  f1-score   support\n",
      "\n",
      "         1.0       0.79      0.83      0.81      2618\n",
      "         2.0       0.61      0.60      0.61      2545\n",
      "         3.0       0.58      0.57      0.58      2524\n",
      "         4.0       0.80      0.79      0.79      2534\n",
      "\n",
      "    accuracy                           0.70     10221\n",
      "   macro avg       0.70      0.70      0.70     10221\n",
      "weighted avg       0.70      0.70      0.70     10221\n",
      "\n"
     ]
    }
   ],
   "source": [
    "# Test set predictions for final forest:\n",
    "pred = forest2.predict(X_test)\n",
    "\n",
    "# Confusion matrix and classification report\n",
    "print(confusion_matrix(y_test, pred))\n",
    "print(classification_report(y_test, pred))"
   ]
  },
  {
   "cell_type": "code",
   "execution_count": 89,
   "metadata": {},
   "outputs": [
    {
     "data": {
      "image/png": "[encoded data removed]",
      "text/plain": [
       "<Figure size 576x576 with 1 Axes>"
      ]
     },
     "metadata": {},
     "output_type": "display_data"
    }
   ],
   "source": [
    "plot_feature_importances(forest2)"
   ]
  },
  {
   "cell_type": "code",
   "execution_count": 90,
   "metadata": {},
   "outputs": [],
   "source": [
    "#using the more importantfeatures - remove mode, key, instrumentalness\n",
    "X = df[['enc_year','enc_region','trend_rank_score','top200_count','month','rank','popularity', 'duration_ms','valence',\n",
    "        'danceability','tempo', 'liveness', 'acousticness', 'speechiness','loudness','energy']]"
   ]
  },
  {
   "cell_type": "code",
   "execution_count": 91,
   "metadata": {},
   "outputs": [],
   "source": [
    "X_train, X_test, y_train, y_test = train_test_split(X,y,random_state=42, test_size=0.2)"
   ]
  },
  {
   "cell_type": "code",
   "execution_count": 92,
   "metadata": {},
   "outputs": [
    {
     "data": {
      "text/plain": [
       "DecisionTreeClassifier(criterion='entropy', random_state=42)"
      ]
     },
     "execution_count": 92,
     "metadata": {},
     "output_type": "execute_result"
    }
   ],
   "source": [
    "#untuned decision tree\n",
    "dt4 = DecisionTreeClassifier(criterion='entropy', random_state=42)\n",
    "dt4.fit(X_train, y_train)"
   ]
  },
  {
   "cell_type": "code",
   "execution_count": 93,
   "metadata": {},
   "outputs": [
    {
     "name": "stdout",
     "output_type": "stream",
     "text": [
      "0.6565893748165541\n"
     ]
    }
   ],
   "source": [
    "# Make predictions using test set \n",
    "y_pred = dt4.predict(X_test)\n",
    "\n",
    "# Check the AUC of predictions\n",
    "print(metrics.accuracy_score(y_test, y_pred))"
   ]
  },
  {
   "cell_type": "code",
   "execution_count": 94,
   "metadata": {},
   "outputs": [
    {
     "name": "stdout",
     "output_type": "stream",
     "text": [
      "[[2085  395  120   18]\n",
      " [ 381 1396  642  126]\n",
      " [ 123  610 1298  493]\n",
      " [  16  100  486 1932]]\n",
      "              precision    recall  f1-score   support\n",
      "\n",
      "         1.0       0.80      0.80      0.80      2618\n",
      "         2.0       0.56      0.55      0.55      2545\n",
      "         3.0       0.51      0.51      0.51      2524\n",
      "         4.0       0.75      0.76      0.76      2534\n",
      "\n",
      "    accuracy                           0.66     10221\n",
      "   macro avg       0.66      0.66      0.66     10221\n",
      "weighted avg       0.66      0.66      0.66     10221\n",
      "\n"
     ]
    }
   ],
   "source": [
    "# Confusion matrix and classification report\n",
    "print(confusion_matrix(y_test, y_pred))\n",
    "print(classification_report(y_test, y_pred))"
   ]
  },
  {
   "cell_type": "code",
   "execution_count": 95,
   "metadata": {},
   "outputs": [
    {
     "data": {
      "image/png": "[encoded data removed]",
      "text/plain": [
       "<Figure size 576x576 with 1 Axes>"
      ]
     },
     "metadata": {},
     "output_type": "display_data"
    }
   ],
   "source": [
    "plot_feature_importances(dt4)"
   ]
  },
  {
   "cell_type": "code",
   "execution_count": 96,
   "metadata": {},
   "outputs": [],
   "source": [
    "# Instantiate a BaggingClassifier\n",
    "bagged_tree2 = BaggingClassifier(DecisionTreeClassifier(criterion='entropy', max_depth=5), \n",
    "                                 n_estimators=20)"
   ]
  },
  {
   "cell_type": "code",
   "execution_count": 97,
   "metadata": {},
   "outputs": [
    {
     "data": {
      "text/plain": [
       "BaggingClassifier(base_estimator=DecisionTreeClassifier(criterion='entropy',\n",
       "                                                        max_depth=5),\n",
       "                  n_estimators=20)"
      ]
     },
     "execution_count": 97,
     "metadata": {},
     "output_type": "execute_result"
    }
   ],
   "source": [
    "# Fit to the training data\n",
    "bagged_tree2.fit(X_train, y_train)"
   ]
  },
  {
   "cell_type": "code",
   "execution_count": 98,
   "metadata": {},
   "outputs": [
    {
     "data": {
      "text/plain": [
       "0.6201995988454576"
      ]
     },
     "execution_count": 98,
     "metadata": {},
     "output_type": "execute_result"
    }
   ],
   "source": [
    "# Training accuracy score\n",
    "bagged_tree2.score(X_train, y_train)"
   ]
  },
  {
   "cell_type": "code",
   "execution_count": 99,
   "metadata": {},
   "outputs": [
    {
     "data": {
      "text/plain": [
       "0.621074258878779"
      ]
     },
     "execution_count": 99,
     "metadata": {},
     "output_type": "execute_result"
    }
   ],
   "source": [
    "# Test accuracy score\n",
    "bagged_tree2.score(X_test, y_test)"
   ]
  },
  {
   "cell_type": "code",
   "execution_count": 100,
   "metadata": {},
   "outputs": [
    {
     "name": "stdout",
     "output_type": "stream",
     "text": [
      "[[1937  543   94   44]\n",
      " [ 367 1659  383  136]\n",
      " [ 141 1082  804  497]\n",
      " [  34  249  303 1948]]\n",
      "              precision    recall  f1-score   support\n",
      "\n",
      "         1.0       0.78      0.74      0.76      2618\n",
      "         2.0       0.47      0.65      0.55      2545\n",
      "         3.0       0.51      0.32      0.39      2524\n",
      "         4.0       0.74      0.77      0.76      2534\n",
      "\n",
      "    accuracy                           0.62     10221\n",
      "   macro avg       0.63      0.62      0.61     10221\n",
      "weighted avg       0.63      0.62      0.61     10221\n",
      "\n"
     ]
    }
   ],
   "source": [
    "# Test set predictions\n",
    "pred = bagged_tree2.predict(X_test)\n",
    "\n",
    "# Confusion matrix and classification report\n",
    "print(confusion_matrix(y_test, pred))\n",
    "print(classification_report(y_test, pred))"
   ]
  },
  {
   "cell_type": "code",
   "execution_count": 101,
   "metadata": {},
   "outputs": [
    {
     "data": {
      "text/plain": [
       "RandomForestClassifier(max_depth=6)"
      ]
     },
     "execution_count": 101,
     "metadata": {},
     "output_type": "execute_result"
    }
   ],
   "source": [
    "#untuned random forest\n",
    "# Instantiate and fit an Untuned RandomForestClassifier\n",
    "forest3 = RandomForestClassifier(n_estimators=100, max_depth=6)\n",
    "forest3.fit(X_train, y_train)"
   ]
  },
  {
   "cell_type": "code",
   "execution_count": 102,
   "metadata": {},
   "outputs": [
    {
     "data": {
      "text/plain": [
       "0.6301061591898635"
      ]
     },
     "execution_count": 102,
     "metadata": {},
     "output_type": "execute_result"
    }
   ],
   "source": [
    "forest3.score(X_train, y_train)"
   ]
  },
  {
   "cell_type": "code",
   "execution_count": 103,
   "metadata": {},
   "outputs": [
    {
     "data": {
      "text/plain": [
       "0.6307601995890812"
      ]
     },
     "execution_count": 103,
     "metadata": {},
     "output_type": "execute_result"
    }
   ],
   "source": [
    "forest3.score(X_test, y_test)"
   ]
  },
  {
   "cell_type": "code",
   "execution_count": 104,
   "metadata": {},
   "outputs": [
    {
     "name": "stdout",
     "output_type": "stream",
     "text": [
      "[[2105  341  128   44]\n",
      " [ 684 1210  489  162]\n",
      " [ 236  653 1202  433]\n",
      " [  42  118  444 1930]]\n",
      "              precision    recall  f1-score   support\n",
      "\n",
      "         1.0       0.69      0.80      0.74      2618\n",
      "         2.0       0.52      0.48      0.50      2545\n",
      "         3.0       0.53      0.48      0.50      2524\n",
      "         4.0       0.75      0.76      0.76      2534\n",
      "\n",
      "    accuracy                           0.63     10221\n",
      "   macro avg       0.62      0.63      0.62     10221\n",
      "weighted avg       0.62      0.63      0.63     10221\n",
      "\n"
     ]
    }
   ],
   "source": [
    "# Test set predictions\n",
    "pred = forest3.predict(X_test)\n",
    "\n",
    "# Confusion matrix and classification report\n",
    "print(confusion_matrix(y_test, pred))\n",
    "print(classification_report(y_test, pred))"
   ]
  },
  {
   "cell_type": "code",
   "execution_count": 105,
   "metadata": {},
   "outputs": [
    {
     "data": {
      "image/png": "[encoded data removed]",
      "text/plain": [
       "<Figure size 576x576 with 1 Axes>"
      ]
     },
     "metadata": {},
     "output_type": "display_data"
    }
   ],
   "source": [
    "plot_feature_importances(forest3)"
   ]
  },
  {
   "cell_type": "code",
   "execution_count": 106,
   "metadata": {},
   "outputs": [
    {
     "name": "stdout",
     "output_type": "stream",
     "text": [
      "Mean Cross Validation Score: 63.58%\n"
     ]
    }
   ],
   "source": [
    "dt_clf2 = DecisionTreeClassifier()\n",
    "dt_cv_score = cross_val_score(dt_clf2, X_train, y_train, cv=3) \n",
    "mean_dt_cv_score = np.mean(dt_cv_score)\n",
    "\n",
    "print(f\"Mean Cross Validation Score: {mean_dt_cv_score :.2%}\")"
   ]
  },
  {
   "cell_type": "code",
   "execution_count": 107,
   "metadata": {},
   "outputs": [],
   "source": [
    "dt_param_grid = {\n",
    "    'criterion': ['gini', 'entropy'],\n",
    "    'max_depth': [None, 2, 3, 4, 5, 6],\n",
    "    'min_samples_split': [2, 5, 10],\n",
    "    'min_samples_leaf': [1, 2, 3, 4, 5, 6]\n",
    "}"
   ]
  },
  {
   "cell_type": "code",
   "execution_count": 108,
   "metadata": {},
   "outputs": [
    {
     "data": {
      "text/plain": [
       "GridSearchCV(cv=3, estimator=DecisionTreeClassifier(),\n",
       "             param_grid={'criterion': ['gini', 'entropy'],\n",
       "                         'max_depth': [None, 2, 3, 4, 5, 6],\n",
       "                         'min_samples_leaf': [1, 2, 3, 4, 5, 6],\n",
       "                         'min_samples_split': [2, 5, 10]},\n",
       "             return_train_score=True)"
      ]
     },
     "execution_count": 108,
     "metadata": {},
     "output_type": "execute_result"
    }
   ],
   "source": [
    "# Instantiate GridSearchCV\n",
    "dt_grid_search = GridSearchCV(dt_clf2, dt_param_grid, cv=3, return_train_score=True)\n",
    "\n",
    "# Fit to the data\n",
    "dt_grid_search.fit(X_train, y_train)"
   ]
  },
  {
   "cell_type": "code",
   "execution_count": 109,
   "metadata": {},
   "outputs": [
    {
     "name": "stdout",
     "output_type": "stream",
     "text": [
      "Mean Training Score: 63.98%\n",
      "Mean Test Score: 67.23%\n",
      "Best Parameter Combination Found During Grid Search:\n"
     ]
    },
    {
     "data": {
      "text/plain": [
       "{'criterion': 'gini',\n",
       " 'max_depth': None,\n",
       " 'min_samples_leaf': 6,\n",
       " 'min_samples_split': 5}"
      ]
     },
     "execution_count": 109,
     "metadata": {},
     "output_type": "execute_result"
    }
   ],
   "source": [
    "# Mean training score\n",
    "dt_gs_training_score = np.mean(dt_grid_search.cv_results_['mean_train_score'])\n",
    "\n",
    "# Mean test score\n",
    "dt_gs_testing_score = dt_grid_search.score(X_test, y_test)\n",
    "\n",
    "print(f\"Mean Training Score: {dt_gs_training_score :.2%}\")\n",
    "print(f\"Mean Test Score: {dt_gs_testing_score :.2%}\")\n",
    "print(\"Best Parameter Combination Found During Grid Search:\")\n",
    "dt_grid_search.best_params_"
   ]
  },
  {
   "cell_type": "code",
   "execution_count": 110,
   "metadata": {},
   "outputs": [
    {
     "data": {
      "text/plain": [
       "DecisionTreeClassifier(min_samples_leaf=6, min_samples_split=5)"
      ]
     },
     "execution_count": 110,
     "metadata": {},
     "output_type": "execute_result"
    }
   ],
   "source": [
    "tree_clf3 = DecisionTreeClassifier(criterion='gini', max_depth=None, min_samples_leaf = 6,\n",
    "                                  min_samples_split = 5)\n",
    "tree_clf3.fit(X_train, y_train)"
   ]
  },
  {
   "cell_type": "code",
   "execution_count": 111,
   "metadata": {},
   "outputs": [
    {
     "name": "stdout",
     "output_type": "stream",
     "text": [
      "[[2168  353   83   14]\n",
      " [ 412 1476  576   81]\n",
      " [ 110  672 1330  412]\n",
      " [  16   81  533 1904]]\n",
      "              precision    recall  f1-score   support\n",
      "\n",
      "         1.0       0.80      0.83      0.81      2618\n",
      "         2.0       0.57      0.58      0.58      2545\n",
      "         3.0       0.53      0.53      0.53      2524\n",
      "         4.0       0.79      0.75      0.77      2534\n",
      "\n",
      "    accuracy                           0.67     10221\n",
      "   macro avg       0.67      0.67      0.67     10221\n",
      "weighted avg       0.67      0.67      0.67     10221\n",
      "\n"
     ]
    }
   ],
   "source": [
    "# Test set predictions for tree:\n",
    "pred = tree_clf3.predict(X_test)\n",
    "\n",
    "# Confusion matrix and classification report\n",
    "print(confusion_matrix(y_test, pred))\n",
    "print(classification_report(y_test, pred))"
   ]
  },
  {
   "cell_type": "code",
   "execution_count": 112,
   "metadata": {},
   "outputs": [
    {
     "data": {
      "image/png": "[encoded data removed]",
      "text/plain": [
       "<Figure size 576x576 with 1 Axes>"
      ]
     },
     "metadata": {},
     "output_type": "display_data"
    }
   ],
   "source": [
    "plot_feature_importances(tree_clf3)"
   ]
  },
  {
   "cell_type": "code",
   "execution_count": 113,
   "metadata": {},
   "outputs": [
    {
     "name": "stdout",
     "output_type": "stream",
     "text": [
      "Mean Cross Val Score for Random Forest Classifier: 68.70%\n"
     ]
    }
   ],
   "source": [
    "forest4 = RandomForestClassifier()\n",
    "mean_rf_cv_score = np.mean(cross_val_score(forest4, X_train, y_train, cv=3))\n",
    "\n",
    "print(f\"Mean Cross Val Score for Random Forest Classifier: {mean_rf_cv_score :.2%}\")"
   ]
  },
  {
   "cell_type": "code",
   "execution_count": 114,
   "metadata": {},
   "outputs": [],
   "source": [
    "rf_param_grid = {\n",
    "    'n_estimators' : [10,30,100],\n",
    "    'criterion' : ['gini', 'entropy'],\n",
    "    'max_depth' : [None, 2,6,10],\n",
    "    'min_samples_split' : [5,10],\n",
    "    'min_samples_leaf' : [3,6]\n",
    "    \n",
    "}"
   ]
  },
  {
   "cell_type": "code",
   "execution_count": 115,
   "metadata": {},
   "outputs": [
    {
     "name": "stdout",
     "output_type": "stream",
     "text": [
      "Testing Accuracy: 69.47%\n",
      "\n",
      "Optimal Parameters: {'criterion': 'entropy', 'max_depth': None, 'min_samples_leaf': 3, 'min_samples_split': 5, 'n_estimators': 100}\n"
     ]
    }
   ],
   "source": [
    "rf_grid_search = GridSearchCV(forest4, rf_param_grid, cv=3)\n",
    "rf_grid_search.fit(X_train, y_train)\n",
    "\n",
    "\n",
    "print(f\"Testing Accuracy: {rf_grid_search.best_score_ :.2%}\")\n",
    "print(\"\")\n",
    "print(f\"Optimal Parameters: {rf_grid_search.best_params_}\")"
   ]
  },
  {
   "cell_type": "code",
   "execution_count": 116,
   "metadata": {},
   "outputs": [
    {
     "data": {
      "text/plain": [
       "RandomForestClassifier(criterion='entropy', min_samples_leaf=3,\n",
       "                       min_samples_split=5)"
      ]
     },
     "execution_count": 116,
     "metadata": {},
     "output_type": "execute_result"
    }
   ],
   "source": [
    "forest4 = RandomForestClassifier(n_estimators=100, max_depth=None, \n",
    "                                criterion = 'entropy', min_samples_leaf=3,\n",
    "                                min_samples_split=5)\n",
    "forest4.fit(X_train, y_train)"
   ]
  },
  {
   "cell_type": "code",
   "execution_count": 117,
   "metadata": {},
   "outputs": [
    {
     "data": {
      "text/plain": [
       "0.9806271708820508"
      ]
     },
     "execution_count": 117,
     "metadata": {},
     "output_type": "execute_result"
    }
   ],
   "source": [
    "# Training accuracy score\n",
    "forest4.score(X_train, y_train)"
   ]
  },
  {
   "cell_type": "code",
   "execution_count": 118,
   "metadata": {},
   "outputs": [
    {
     "data": {
      "text/plain": [
       "0.7110850210351237"
      ]
     },
     "execution_count": 118,
     "metadata": {},
     "output_type": "execute_result"
    }
   ],
   "source": [
    "# Testing accuracy score\n",
    "forest4.score(X_test, y_test)"
   ]
  },
  {
   "cell_type": "code",
   "execution_count": 119,
   "metadata": {},
   "outputs": [
    {
     "name": "stdout",
     "output_type": "stream",
     "text": [
      "[[2181  354   62   21]\n",
      " [ 370 1600  487   88]\n",
      " [ 147  526 1493  358]\n",
      " [  19   56  465 1994]]\n",
      "              precision    recall  f1-score   support\n",
      "\n",
      "         1.0       0.80      0.83      0.82      2618\n",
      "         2.0       0.63      0.63      0.63      2545\n",
      "         3.0       0.60      0.59      0.59      2524\n",
      "         4.0       0.81      0.79      0.80      2534\n",
      "\n",
      "    accuracy                           0.71     10221\n",
      "   macro avg       0.71      0.71      0.71     10221\n",
      "weighted avg       0.71      0.71      0.71     10221\n",
      "\n"
     ]
    }
   ],
   "source": [
    "# Test set predictions for final forest:\n",
    "pred = forest4.predict(X_test)\n",
    "\n",
    "# Confusion matrix and classification report\n",
    "print(confusion_matrix(y_test, pred))\n",
    "print(classification_report(y_test, pred))"
   ]
  },
  {
   "cell_type": "code",
   "execution_count": 120,
   "metadata": {},
   "outputs": [
    {
     "data": {
      "image/png": "[encoded data removed]",
      "text/plain": [
       "<Figure size 576x576 with 1 Axes>"
      ]
     },
     "metadata": {},
     "output_type": "display_data"
    }
   ],
   "source": [
    "plot_feature_importances(forest4)"
   ]
  },
  {
   "cell_type": "code",
   "execution_count": 121,
   "metadata": {},
   "outputs": [],
   "source": [
    "import xgboost as xgb\n",
    "from xgboost.sklearn import XGBClassifier"
   ]
  },
  {
   "cell_type": "code",
   "execution_count": 125,
   "metadata": {},
   "outputs": [
    {
     "name": "stdout",
     "output_type": "stream",
     "text": [
      "[01:49:29] WARNING: /Users/runner/miniforge3/conda-bld/xgboost-split_1637426411619/work/src/learner.cc:576: \n",
      "Parameters: { \"n_gpus\" } might not be used.\n",
      "\n",
      "  This could be a false alarm, with some parameters getting used by language bindings but\n",
      "  then being mistakenly passed down to XGBoost core, or some parameter actually being used\n",
      "  but getting flagged wrongly here. Please open an issue if you find any such cases.\n",
      "\n",
      "\n"
     ]
    },
    {
     "ename": "XGBoostError",
     "evalue": "[01:49:29] /Users/runner/miniforge3/conda-bld/xgboost-split_1637426411619/work/src/objective/multiclass_obj.cu:120: SoftmaxMultiClassObj: label must be in [0, num_class).\nStack trace:\n  [bt] (0) 1   libxgboost.dylib                    0x000000010f9e18b0 dmlc::LogMessageFatal::~LogMessageFatal() + 124\n  [bt] (1) 2   libxgboost.dylib                    0x000000010fabbb3c xgboost::obj::SoftmaxMultiClassObj::GetGradient(xgboost::HostDeviceVector<float> const&, xgboost::MetaInfo const&, int, xgboost::HostDeviceVector<xgboost::detail::GradientPairInternal<float> >*) + 844\n  [bt] (2) 3   libxgboost.dylib                    0x000000010fa79714 xgboost::LearnerImpl::UpdateOneIter(int, std::__1::shared_ptr<xgboost::DMatrix>) + 648\n  [bt] (3) 4   libxgboost.dylib                    0x000000010f9e5b58 XGBoosterUpdateOneIter + 164\n  [bt] (4) 5   libffi.7.dylib                      0x00000001053dc044 ffi_call_SYSV + 68\n  [bt] (5) 6   libffi.7.dylib                      0x00000001053d9598 ffi_call_int + 972\n  [bt] (6) 7   _ctypes.cpython-38-darwin.so        0x00000001053b0620 _ctypes_callproc + 1200\n  [bt] (7) 8   _ctypes.cpython-38-darwin.so        0x00000001053aa858 PyCFuncPtr_call + 1172\n  [bt] (8) 9   python                              0x0000000104471bdc _PyObject_MakeTpCall + 640\n\n",
     "output_type": "error",
     "traceback": [
      "\u001b[0;31m---------------------------------------------------------------------------\u001b[0m",
      "\u001b[0;31mXGBoostError\u001b[0m                              Traceback (most recent call last)",
      "\u001b[0;32m/var/folders/8k/x8y5_vbn54lg70qxbm4bysm40000gn/T/ipykernel_29809/3371693990.py\u001b[0m in \u001b[0;36m<module>\u001b[0;34m\u001b[0m\n\u001b[1;32m      8\u001b[0m     \u001b[0;34m'n_gpus'\u001b[0m\u001b[0;34m:\u001b[0m \u001b[0;36m0\u001b[0m\u001b[0;34m\u001b[0m\u001b[0;34m\u001b[0m\u001b[0m\n\u001b[1;32m      9\u001b[0m }\n\u001b[0;32m---> 10\u001b[0;31m \u001b[0mbst\u001b[0m \u001b[0;34m=\u001b[0m \u001b[0mxgb\u001b[0m\u001b[0;34m.\u001b[0m\u001b[0mtrain\u001b[0m\u001b[0;34m(\u001b[0m\u001b[0mparams\u001b[0m\u001b[0;34m,\u001b[0m \u001b[0mdtrain\u001b[0m\u001b[0;34m)\u001b[0m\u001b[0;34m\u001b[0m\u001b[0;34m\u001b[0m\u001b[0m\n\u001b[0m\u001b[1;32m     11\u001b[0m \u001b[0mpred\u001b[0m \u001b[0;34m=\u001b[0m \u001b[0mbst\u001b[0m\u001b[0;34m.\u001b[0m\u001b[0mpredict\u001b[0m\u001b[0;34m(\u001b[0m\u001b[0mdtest\u001b[0m\u001b[0;34m)\u001b[0m\u001b[0;34m\u001b[0m\u001b[0;34m\u001b[0m\u001b[0m\n\u001b[1;32m     12\u001b[0m \u001b[0;31m# Confusion matrix and classification report\u001b[0m\u001b[0;34m\u001b[0m\u001b[0;34m\u001b[0m\u001b[0;34m\u001b[0m\u001b[0m\n",
      "\u001b[0;32m/opt/homebrew/Caskroom/miniforge/base/envs/condaenv/lib/python3.8/site-packages/xgboost/training.py\u001b[0m in \u001b[0;36mtrain\u001b[0;34m(params, dtrain, num_boost_round, evals, obj, feval, maximize, early_stopping_rounds, evals_result, verbose_eval, xgb_model, callbacks)\u001b[0m\n\u001b[1;32m    186\u001b[0m     \u001b[0mBooster\u001b[0m \u001b[0;34m:\u001b[0m \u001b[0ma\u001b[0m \u001b[0mtrained\u001b[0m \u001b[0mbooster\u001b[0m \u001b[0mmodel\u001b[0m\u001b[0;34m\u001b[0m\u001b[0;34m\u001b[0m\u001b[0m\n\u001b[1;32m    187\u001b[0m     \"\"\"\n\u001b[0;32m--> 188\u001b[0;31m     bst = _train_internal(params, dtrain,\n\u001b[0m\u001b[1;32m    189\u001b[0m                           \u001b[0mnum_boost_round\u001b[0m\u001b[0;34m=\u001b[0m\u001b[0mnum_boost_round\u001b[0m\u001b[0;34m,\u001b[0m\u001b[0;34m\u001b[0m\u001b[0;34m\u001b[0m\u001b[0m\n\u001b[1;32m    190\u001b[0m                           \u001b[0mevals\u001b[0m\u001b[0;34m=\u001b[0m\u001b[0mevals\u001b[0m\u001b[0;34m,\u001b[0m\u001b[0;34m\u001b[0m\u001b[0;34m\u001b[0m\u001b[0m\n",
      "\u001b[0;32m/opt/homebrew/Caskroom/miniforge/base/envs/condaenv/lib/python3.8/site-packages/xgboost/training.py\u001b[0m in \u001b[0;36m_train_internal\u001b[0;34m(params, dtrain, num_boost_round, evals, obj, feval, xgb_model, callbacks, evals_result, maximize, verbose_eval, early_stopping_rounds)\u001b[0m\n\u001b[1;32m     79\u001b[0m         \u001b[0;32mif\u001b[0m \u001b[0mcallbacks\u001b[0m\u001b[0;34m.\u001b[0m\u001b[0mbefore_iteration\u001b[0m\u001b[0;34m(\u001b[0m\u001b[0mbst\u001b[0m\u001b[0;34m,\u001b[0m \u001b[0mi\u001b[0m\u001b[0;34m,\u001b[0m \u001b[0mdtrain\u001b[0m\u001b[0;34m,\u001b[0m \u001b[0mevals\u001b[0m\u001b[0;34m)\u001b[0m\u001b[0;34m:\u001b[0m\u001b[0;34m\u001b[0m\u001b[0;34m\u001b[0m\u001b[0m\n\u001b[1;32m     80\u001b[0m             \u001b[0;32mbreak\u001b[0m\u001b[0;34m\u001b[0m\u001b[0;34m\u001b[0m\u001b[0m\n\u001b[0;32m---> 81\u001b[0;31m         \u001b[0mbst\u001b[0m\u001b[0;34m.\u001b[0m\u001b[0mupdate\u001b[0m\u001b[0;34m(\u001b[0m\u001b[0mdtrain\u001b[0m\u001b[0;34m,\u001b[0m \u001b[0mi\u001b[0m\u001b[0;34m,\u001b[0m \u001b[0mobj\u001b[0m\u001b[0;34m)\u001b[0m\u001b[0;34m\u001b[0m\u001b[0;34m\u001b[0m\u001b[0m\n\u001b[0m\u001b[1;32m     82\u001b[0m         \u001b[0;32mif\u001b[0m \u001b[0mcallbacks\u001b[0m\u001b[0;34m.\u001b[0m\u001b[0mafter_iteration\u001b[0m\u001b[0;34m(\u001b[0m\u001b[0mbst\u001b[0m\u001b[0;34m,\u001b[0m \u001b[0mi\u001b[0m\u001b[0;34m,\u001b[0m \u001b[0mdtrain\u001b[0m\u001b[0;34m,\u001b[0m \u001b[0mevals\u001b[0m\u001b[0;34m)\u001b[0m\u001b[0;34m:\u001b[0m\u001b[0;34m\u001b[0m\u001b[0;34m\u001b[0m\u001b[0m\n\u001b[1;32m     83\u001b[0m             \u001b[0;32mbreak\u001b[0m\u001b[0;34m\u001b[0m\u001b[0;34m\u001b[0m\u001b[0m\n",
      "\u001b[0;32m/opt/homebrew/Caskroom/miniforge/base/envs/condaenv/lib/python3.8/site-packages/xgboost/core.py\u001b[0m in \u001b[0;36mupdate\u001b[0;34m(self, dtrain, iteration, fobj)\u001b[0m\n\u001b[1;32m   1678\u001b[0m \u001b[0;34m\u001b[0m\u001b[0m\n\u001b[1;32m   1679\u001b[0m         \u001b[0;32mif\u001b[0m \u001b[0mfobj\u001b[0m \u001b[0;32mis\u001b[0m \u001b[0;32mNone\u001b[0m\u001b[0;34m:\u001b[0m\u001b[0;34m\u001b[0m\u001b[0;34m\u001b[0m\u001b[0m\n\u001b[0;32m-> 1680\u001b[0;31m             _check_call(_LIB.XGBoosterUpdateOneIter(self.handle,\n\u001b[0m\u001b[1;32m   1681\u001b[0m                                                     \u001b[0mctypes\u001b[0m\u001b[0;34m.\u001b[0m\u001b[0mc_int\u001b[0m\u001b[0;34m(\u001b[0m\u001b[0miteration\u001b[0m\u001b[0;34m)\u001b[0m\u001b[0;34m,\u001b[0m\u001b[0;34m\u001b[0m\u001b[0;34m\u001b[0m\u001b[0m\n\u001b[1;32m   1682\u001b[0m                                                     dtrain.handle))\n",
      "\u001b[0;32m/opt/homebrew/Caskroom/miniforge/base/envs/condaenv/lib/python3.8/site-packages/xgboost/core.py\u001b[0m in \u001b[0;36m_check_call\u001b[0;34m(ret)\u001b[0m\n\u001b[1;32m    216\u001b[0m     \"\"\"\n\u001b[1;32m    217\u001b[0m     \u001b[0;32mif\u001b[0m \u001b[0mret\u001b[0m \u001b[0;34m!=\u001b[0m \u001b[0;36m0\u001b[0m\u001b[0;34m:\u001b[0m\u001b[0;34m\u001b[0m\u001b[0;34m\u001b[0m\u001b[0m\n\u001b[0;32m--> 218\u001b[0;31m         \u001b[0;32mraise\u001b[0m \u001b[0mXGBoostError\u001b[0m\u001b[0;34m(\u001b[0m\u001b[0mpy_str\u001b[0m\u001b[0;34m(\u001b[0m\u001b[0m_LIB\u001b[0m\u001b[0;34m.\u001b[0m\u001b[0mXGBGetLastError\u001b[0m\u001b[0;34m(\u001b[0m\u001b[0;34m)\u001b[0m\u001b[0;34m)\u001b[0m\u001b[0;34m)\u001b[0m\u001b[0;34m\u001b[0m\u001b[0;34m\u001b[0m\u001b[0m\n\u001b[0m\u001b[1;32m    219\u001b[0m \u001b[0;34m\u001b[0m\u001b[0m\n\u001b[1;32m    220\u001b[0m \u001b[0;34m\u001b[0m\u001b[0m\n",
      "\u001b[0;31mXGBoostError\u001b[0m: [01:49:29] /Users/runner/miniforge3/conda-bld/xgboost-split_1637426411619/work/src/objective/multiclass_obj.cu:120: SoftmaxMultiClassObj: label must be in [0, num_class).\nStack trace:\n  [bt] (0) 1   libxgboost.dylib                    0x000000010f9e18b0 dmlc::LogMessageFatal::~LogMessageFatal() + 124\n  [bt] (1) 2   libxgboost.dylib                    0x000000010fabbb3c xgboost::obj::SoftmaxMultiClassObj::GetGradient(xgboost::HostDeviceVector<float> const&, xgboost::MetaInfo const&, int, xgboost::HostDeviceVector<xgboost::detail::GradientPairInternal<float> >*) + 844\n  [bt] (2) 3   libxgboost.dylib                    0x000000010fa79714 xgboost::LearnerImpl::UpdateOneIter(int, std::__1::shared_ptr<xgboost::DMatrix>) + 648\n  [bt] (3) 4   libxgboost.dylib                    0x000000010f9e5b58 XGBoosterUpdateOneIter + 164\n  [bt] (4) 5   libffi.7.dylib                      0x00000001053dc044 ffi_call_SYSV + 68\n  [bt] (5) 6   libffi.7.dylib                      0x00000001053d9598 ffi_call_int + 972\n  [bt] (6) 7   _ctypes.cpython-38-darwin.so        0x00000001053b0620 _ctypes_callproc + 1200\n  [bt] (7) 8   _ctypes.cpython-38-darwin.so        0x00000001053aa858 PyCFuncPtr_call + 1172\n  [bt] (8) 9   python                              0x0000000104471bdc _PyObject_MakeTpCall + 640\n\n"
     ]
    }
   ],
   "source": [
    "dtrain = xgb.DMatrix(data=X_train, label=y_train)\n",
    "dtest = xgb.DMatrix(data=X_test)\n",
    "params = {\n",
    "    'max_depth': 6,\n",
    "    'objective': 'multi:softprob',  # error evaluation for multiclass training\n",
    "    'num_class': 4,\n",
    "    # Set number of GPUs if available   \n",
    "    'n_gpus': 0\n",
    "}\n",
    "bst = xgb.train(params, dtrain)\n",
    "pred = bst.predict(dtest)\n",
    "# Confusion matrix and classification report\n",
    "print(confusion_matrix(y_test, pred))\n",
    "print(classification_report(y_test, pred))"
   ]
  },
  {
   "cell_type": "code",
   "execution_count": 126,
   "metadata": {},
   "outputs": [
    {
     "name": "stdout",
     "output_type": "stream",
     "text": [
      "[CV 1/5; 3/480] END learning_rate=0.1, max_depth=1, min_child_weight=1, n_estimators=50;, score=0.589 total time=   4.3s\n",
      "[CV 2/5; 3/480] END learning_rate=0.1, max_depth=1, min_child_weight=1, n_estimators=50;, score=0.589 total time=   4.3s\n",
      "[CV 3/5; 3/480] END learning_rate=0.1, max_depth=1, min_child_weight=1, n_estimators=50;, score=0.597 total time=   4.3s\n",
      "[CV 5/5; 4/480] START learning_rate=0.1, max_depth=1, min_child_weight=1, n_estimators=200\n",
      "[CV 4/5; 4/480] START learning_rate=0.1, max_depth=1, min_child_weight=1, n_estimators=200\n",
      "[CV 1/5; 5/480] START learning_rate=0.1, max_depth=1, min_child_weight=3, n_estimators=10\n",
      "[01:50:08] WARNING: /Users/runner/miniforge3/conda-bld/xgboost-split_1637426411619/work/src/learner.cc:1115: Starting in XGBoost 1.3.0, the default evaluation metric used with the objective 'multi:softprob' was changed from 'merror' to 'mlogloss'. Explicitly set eval_metric if you'd like to restore the old behavior.\n",
      "[01:50:08] WARNING: /Users/runner/miniforge3/conda-bld/xgboost-split_1637426411619/work/src/learner.cc:1115: Starting in XGBoost 1.3.0, the default evaluation metric used with the objective 'multi:softprob' was changed from 'merror' to 'mlogloss'. Explicitly set eval_metric if you'd like to restore the old behavior.\n",
      "[01:50:08] WARNING: /Users/runner/miniforge3/conda-bld/xgboost-split_1637426411619/work/src/learner.cc:1115: Starting in XGBoost 1.3.0, the default evaluation metric used with the objective 'multi:softprob' was changed from 'merror' to 'mlogloss'. Explicitly set eval_metric if you'd like to restore the old behavior.\n"
     ]
    },
    {
     "name": "stderr",
     "output_type": "stream",
     "text": [
      "/opt/homebrew/Caskroom/miniforge/base/envs/condaenv/lib/python3.8/site-packages/xgboost/sklearn.py:1224: UserWarning: The use of label encoder in XGBClassifier is deprecated and will be removed in a future release. To remove this warning, do the following: 1) Pass option use_label_encoder=False when constructing XGBClassifier object; and 2) Encode your labels (y) as integers starting with 0, i.e. 0, 1, 2, ..., [num_class - 1].\n",
      "  warnings.warn(label_encoder_deprecation_msg, UserWarning)\n",
      "/opt/homebrew/Caskroom/miniforge/base/envs/condaenv/lib/python3.8/site-packages/xgboost/sklearn.py:1224: UserWarning: The use of label encoder in XGBClassifier is deprecated and will be removed in a future release. To remove this warning, do the following: 1) Pass option use_label_encoder=False when constructing XGBClassifier object; and 2) Encode your labels (y) as integers starting with 0, i.e. 0, 1, 2, ..., [num_class - 1].\n",
      "  warnings.warn(label_encoder_deprecation_msg, UserWarning)\n",
      "/opt/homebrew/Caskroom/miniforge/base/envs/condaenv/lib/python3.8/site-packages/xgboost/sklearn.py:1224: UserWarning: The use of label encoder in XGBClassifier is deprecated and will be removed in a future release. To remove this warning, do the following: 1) Pass option use_label_encoder=False when constructing XGBClassifier object; and 2) Encode your labels (y) as integers starting with 0, i.e. 0, 1, 2, ..., [num_class - 1].\n",
      "  warnings.warn(label_encoder_deprecation_msg, UserWarning)\n"
     ]
    },
    {
     "name": "stdout",
     "output_type": "stream",
     "text": [
      "[CV 5/5; 3/480] END learning_rate=0.1, max_depth=1, min_child_weight=1, n_estimators=50;, score=0.597 total time=   4.3s\n",
      "[CV 4/5; 3/480] END learning_rate=0.1, max_depth=1, min_child_weight=1, n_estimators=50;, score=0.592 total time=   4.4s\n",
      "[CV 2/5; 5/480] START learning_rate=0.1, max_depth=1, min_child_weight=3, n_estimators=10\n",
      "[CV 3/5; 5/480] START learning_rate=0.1, max_depth=1, min_child_weight=3, n_estimators=10\n",
      "[CV 1/5; 5/480] END learning_rate=0.1, max_depth=1, min_child_weight=3, n_estimators=10;, score=0.550 total time=   0.9s\n",
      "[CV 4/5; 5/480] START learning_rate=0.1, max_depth=1, min_child_weight=3, n_estimators=10\n",
      "[01:50:09] WARNING: /Users/runner/miniforge3/conda-bld/xgboost-split_1637426411619/work/src/learner.cc:1115: Starting in XGBoost 1.3.0, the default evaluation metric used with the objective 'multi:softprob' was changed from 'merror' to 'mlogloss'. Explicitly set eval_metric if you'd like to restore the old behavior.\n",
      "[01:50:09] WARNING: /Users/runner/miniforge3/conda-bld/xgboost-split_1637426411619/work/src/learner.cc:1115: Starting in XGBoost 1.3.0, the default evaluation metric used with the objective 'multi:softprob' was changed from 'merror' to 'mlogloss'. Explicitly set eval_metric if you'd like to restore the old behavior.\n"
     ]
    },
    {
     "name": "stderr",
     "output_type": "stream",
     "text": [
      "/opt/homebrew/Caskroom/miniforge/base/envs/condaenv/lib/python3.8/site-packages/xgboost/sklearn.py:1224: UserWarning: The use of label encoder in XGBClassifier is deprecated and will be removed in a future release. To remove this warning, do the following: 1) Pass option use_label_encoder=False when constructing XGBClassifier object; and 2) Encode your labels (y) as integers starting with 0, i.e. 0, 1, 2, ..., [num_class - 1].\n",
      "  warnings.warn(label_encoder_deprecation_msg, UserWarning)\n",
      "/opt/homebrew/Caskroom/miniforge/base/envs/condaenv/lib/python3.8/site-packages/xgboost/sklearn.py:1224: UserWarning: The use of label encoder in XGBClassifier is deprecated and will be removed in a future release. To remove this warning, do the following: 1) Pass option use_label_encoder=False when constructing XGBClassifier object; and 2) Encode your labels (y) as integers starting with 0, i.e. 0, 1, 2, ..., [num_class - 1].\n",
      "  warnings.warn(label_encoder_deprecation_msg, UserWarning)\n",
      "/opt/homebrew/Caskroom/miniforge/base/envs/condaenv/lib/python3.8/site-packages/xgboost/sklearn.py:1224: UserWarning: The use of label encoder in XGBClassifier is deprecated and will be removed in a future release. To remove this warning, do the following: 1) Pass option use_label_encoder=False when constructing XGBClassifier object; and 2) Encode your labels (y) as integers starting with 0, i.e. 0, 1, 2, ..., [num_class - 1].\n",
      "  warnings.warn(label_encoder_deprecation_msg, UserWarning)\n"
     ]
    },
    {
     "name": "stdout",
     "output_type": "stream",
     "text": [
      "[01:50:09] WARNING: /Users/runner/miniforge3/conda-bld/xgboost-split_1637426411619/work/src/learner.cc:1115: Starting in XGBoost 1.3.0, the default evaluation metric used with the objective 'multi:softprob' was changed from 'merror' to 'mlogloss'. Explicitly set eval_metric if you'd like to restore the old behavior.\n",
      "[CV 3/5; 5/480] END learning_rate=0.1, max_depth=1, min_child_weight=3, n_estimators=10;, score=0.562 total time=   0.9s\n",
      "[CV 5/5; 5/480] START learning_rate=0.1, max_depth=1, min_child_weight=3, n_estimators=10\n",
      "[CV 2/5; 5/480] END learning_rate=0.1, max_depth=1, min_child_weight=3, n_estimators=10;, score=0.533 total time=   0.9s\n",
      "[CV 1/5; 6/480] START learning_rate=0.1, max_depth=1, min_child_weight=3, n_estimators=20\n",
      "[CV 4/5; 5/480] END learning_rate=0.1, max_depth=1, min_child_weight=3, n_estimators=10;, score=0.569 total time=   0.9s\n",
      "[CV 2/5; 6/480] START learning_rate=0.1, max_depth=1, min_child_weight=3, n_estimators=20\n",
      "[01:50:10] WARNING: /Users/runner/miniforge3/conda-bld/xgboost-split_1637426411619/work/src/learner.cc:1115: Starting in XGBoost 1.3.0, the default evaluation metric used with the objective 'multi:softprob' was changed from 'merror' to 'mlogloss'. Explicitly set eval_metric if you'd like to restore the old behavior.\n",
      "[01:50:10] WARNING: /Users/runner/miniforge3/conda-bld/xgboost-split_1637426411619/work/src/learner.cc:1115: Starting in XGBoost 1.3.0, the default evaluation metric used with the objective 'multi:softprob' was changed from 'merror' to 'mlogloss'. Explicitly set eval_metric if you'd like to restore the old behavior.\n",
      "[01:50:10] WARNING: /Users/runner/miniforge3/conda-bld/xgboost-split_1637426411619/work/src/learner.cc:1115: Starting in XGBoost 1.3.0, the default evaluation metric used with the objective 'multi:softprob' was changed from 'merror' to 'mlogloss'. Explicitly set eval_metric if you'd like to restore the old behavior.\n"
     ]
    },
    {
     "name": "stderr",
     "output_type": "stream",
     "text": [
      "/opt/homebrew/Caskroom/miniforge/base/envs/condaenv/lib/python3.8/site-packages/xgboost/sklearn.py:1224: UserWarning: The use of label encoder in XGBClassifier is deprecated and will be removed in a future release. To remove this warning, do the following: 1) Pass option use_label_encoder=False when constructing XGBClassifier object; and 2) Encode your labels (y) as integers starting with 0, i.e. 0, 1, 2, ..., [num_class - 1].\n",
      "  warnings.warn(label_encoder_deprecation_msg, UserWarning)\n",
      "/opt/homebrew/Caskroom/miniforge/base/envs/condaenv/lib/python3.8/site-packages/xgboost/sklearn.py:1224: UserWarning: The use of label encoder in XGBClassifier is deprecated and will be removed in a future release. To remove this warning, do the following: 1) Pass option use_label_encoder=False when constructing XGBClassifier object; and 2) Encode your labels (y) as integers starting with 0, i.e. 0, 1, 2, ..., [num_class - 1].\n",
      "  warnings.warn(label_encoder_deprecation_msg, UserWarning)\n",
      "/opt/homebrew/Caskroom/miniforge/base/envs/condaenv/lib/python3.8/site-packages/xgboost/sklearn.py:1224: UserWarning: The use of label encoder in XGBClassifier is deprecated and will be removed in a future release. To remove this warning, do the following: 1) Pass option use_label_encoder=False when constructing XGBClassifier object; and 2) Encode your labels (y) as integers starting with 0, i.e. 0, 1, 2, ..., [num_class - 1].\n",
      "  warnings.warn(label_encoder_deprecation_msg, UserWarning)\n"
     ]
    },
    {
     "name": "stdout",
     "output_type": "stream",
     "text": [
      "[CV 5/5; 5/480] END learning_rate=0.1, max_depth=1, min_child_weight=3, n_estimators=10;, score=0.546 total time=   1.1s\n",
      "[CV 3/5; 6/480] START learning_rate=0.1, max_depth=1, min_child_weight=3, n_estimators=20\n",
      "[01:50:11] WARNING: /Users/runner/miniforge3/conda-bld/xgboost-split_1637426411619/work/src/learner.cc:1115: Starting in XGBoost 1.3.0, the default evaluation metric used with the objective 'multi:softprob' was changed from 'merror' to 'mlogloss'. Explicitly set eval_metric if you'd like to restore the old behavior.\n"
     ]
    },
    {
     "name": "stderr",
     "output_type": "stream",
     "text": [
      "/opt/homebrew/Caskroom/miniforge/base/envs/condaenv/lib/python3.8/site-packages/xgboost/sklearn.py:1224: UserWarning: The use of label encoder in XGBClassifier is deprecated and will be removed in a future release. To remove this warning, do the following: 1) Pass option use_label_encoder=False when constructing XGBClassifier object; and 2) Encode your labels (y) as integers starting with 0, i.e. 0, 1, 2, ..., [num_class - 1].\n",
      "  warnings.warn(label_encoder_deprecation_msg, UserWarning)\n"
     ]
    },
    {
     "name": "stdout",
     "output_type": "stream",
     "text": [
      "[CV 1/5; 6/480] END learning_rate=0.1, max_depth=1, min_child_weight=3, n_estimators=20;, score=0.570 total time=   1.9s\n",
      "[CV 4/5; 6/480] START learning_rate=0.1, max_depth=1, min_child_weight=3, n_estimators=20\n",
      "[CV 2/5; 6/480] END learning_rate=0.1, max_depth=1, min_child_weight=3, n_estimators=20;, score=0.569 total time=   1.9s\n",
      "[CV 5/5; 6/480] START learning_rate=0.1, max_depth=1, min_child_weight=3, n_estimators=20\n",
      "[01:50:12] WARNING: /Users/runner/miniforge3/conda-bld/xgboost-split_1637426411619/work/src/learner.cc:1115: Starting in XGBoost 1.3.0, the default evaluation metric used with the objective 'multi:softprob' was changed from 'merror' to 'mlogloss'. Explicitly set eval_metric if you'd like to restore the old behavior.\n"
     ]
    },
    {
     "name": "stderr",
     "output_type": "stream",
     "text": [
      "/opt/homebrew/Caskroom/miniforge/base/envs/condaenv/lib/python3.8/site-packages/xgboost/sklearn.py:1224: UserWarning: The use of label encoder in XGBClassifier is deprecated and will be removed in a future release. To remove this warning, do the following: 1) Pass option use_label_encoder=False when constructing XGBClassifier object; and 2) Encode your labels (y) as integers starting with 0, i.e. 0, 1, 2, ..., [num_class - 1].\n",
      "  warnings.warn(label_encoder_deprecation_msg, UserWarning)\n",
      "/opt/homebrew/Caskroom/miniforge/base/envs/condaenv/lib/python3.8/site-packages/xgboost/sklearn.py:1224: UserWarning: The use of label encoder in XGBClassifier is deprecated and will be removed in a future release. To remove this warning, do the following: 1) Pass option use_label_encoder=False when constructing XGBClassifier object; and 2) Encode your labels (y) as integers starting with 0, i.e. 0, 1, 2, ..., [num_class - 1].\n",
      "  warnings.warn(label_encoder_deprecation_msg, UserWarning)\n"
     ]
    },
    {
     "name": "stdout",
     "output_type": "stream",
     "text": [
      "[01:50:12] WARNING: /Users/runner/miniforge3/conda-bld/xgboost-split_1637426411619/work/src/learner.cc:1115: Starting in XGBoost 1.3.0, the default evaluation metric used with the objective 'multi:softprob' was changed from 'merror' to 'mlogloss'. Explicitly set eval_metric if you'd like to restore the old behavior.\n",
      "[CV 3/5; 6/480] END learning_rate=0.1, max_depth=1, min_child_weight=3, n_estimators=20;, score=0.585 total time=   1.7s\n",
      "[CV 1/5; 7/480] START learning_rate=0.1, max_depth=1, min_child_weight=3, n_estimators=50\n",
      "[01:50:13] WARNING: /Users/runner/miniforge3/conda-bld/xgboost-split_1637426411619/work/src/learner.cc:1115: Starting in XGBoost 1.3.0, the default evaluation metric used with the objective 'multi:softprob' was changed from 'merror' to 'mlogloss'. Explicitly set eval_metric if you'd like to restore the old behavior.\n"
     ]
    },
    {
     "name": "stderr",
     "output_type": "stream",
     "text": [
      "/opt/homebrew/Caskroom/miniforge/base/envs/condaenv/lib/python3.8/site-packages/xgboost/sklearn.py:1224: UserWarning: The use of label encoder in XGBClassifier is deprecated and will be removed in a future release. To remove this warning, do the following: 1) Pass option use_label_encoder=False when constructing XGBClassifier object; and 2) Encode your labels (y) as integers starting with 0, i.e. 0, 1, 2, ..., [num_class - 1].\n",
      "  warnings.warn(label_encoder_deprecation_msg, UserWarning)\n"
     ]
    },
    {
     "name": "stdout",
     "output_type": "stream",
     "text": [
      "[CV 4/5; 6/480] END learning_rate=0.1, max_depth=1, min_child_weight=3, n_estimators=20;, score=0.575 total time=   1.7s\n",
      "[CV 2/5; 7/480] START learning_rate=0.1, max_depth=1, min_child_weight=3, n_estimators=50\n",
      "[CV 5/5; 6/480] END learning_rate=0.1, max_depth=1, min_child_weight=3, n_estimators=20;, score=0.579 total time=   1.7s\n",
      "[CV 3/5; 7/480] START learning_rate=0.1, max_depth=1, min_child_weight=3, n_estimators=50\n",
      "[01:50:13] WARNING: /Users/runner/miniforge3/conda-bld/xgboost-split_1637426411619/work/src/learner.cc:1115: Starting in XGBoost 1.3.0, the default evaluation metric used with the objective 'multi:softprob' was changed from 'merror' to 'mlogloss'. Explicitly set eval_metric if you'd like to restore the old behavior.\n"
     ]
    },
    {
     "name": "stderr",
     "output_type": "stream",
     "text": [
      "/opt/homebrew/Caskroom/miniforge/base/envs/condaenv/lib/python3.8/site-packages/xgboost/sklearn.py:1224: UserWarning: The use of label encoder in XGBClassifier is deprecated and will be removed in a future release. To remove this warning, do the following: 1) Pass option use_label_encoder=False when constructing XGBClassifier object; and 2) Encode your labels (y) as integers starting with 0, i.e. 0, 1, 2, ..., [num_class - 1].\n",
      "  warnings.warn(label_encoder_deprecation_msg, UserWarning)\n",
      "/opt/homebrew/Caskroom/miniforge/base/envs/condaenv/lib/python3.8/site-packages/xgboost/sklearn.py:1224: UserWarning: The use of label encoder in XGBClassifier is deprecated and will be removed in a future release. To remove this warning, do the following: 1) Pass option use_label_encoder=False when constructing XGBClassifier object; and 2) Encode your labels (y) as integers starting with 0, i.e. 0, 1, 2, ..., [num_class - 1].\n",
      "  warnings.warn(label_encoder_deprecation_msg, UserWarning)\n"
     ]
    },
    {
     "name": "stdout",
     "output_type": "stream",
     "text": [
      "[01:50:13] WARNING: /Users/runner/miniforge3/conda-bld/xgboost-split_1637426411619/work/src/learner.cc:1115: Starting in XGBoost 1.3.0, the default evaluation metric used with the objective 'multi:softprob' was changed from 'merror' to 'mlogloss'. Explicitly set eval_metric if you'd like to restore the old behavior.\n",
      "[CV 1/5; 7/480] END learning_rate=0.1, max_depth=1, min_child_weight=3, n_estimators=50;, score=0.589 total time=   4.5s\n",
      "[CV 4/5; 7/480] START learning_rate=0.1, max_depth=1, min_child_weight=3, n_estimators=50\n",
      "[01:50:17] WARNING: /Users/runner/miniforge3/conda-bld/xgboost-split_1637426411619/work/src/learner.cc:1115: Starting in XGBoost 1.3.0, the default evaluation metric used with the objective 'multi:softprob' was changed from 'merror' to 'mlogloss'. Explicitly set eval_metric if you'd like to restore the old behavior.\n"
     ]
    },
    {
     "name": "stderr",
     "output_type": "stream",
     "text": [
      "/opt/homebrew/Caskroom/miniforge/base/envs/condaenv/lib/python3.8/site-packages/xgboost/sklearn.py:1224: UserWarning: The use of label encoder in XGBClassifier is deprecated and will be removed in a future release. To remove this warning, do the following: 1) Pass option use_label_encoder=False when constructing XGBClassifier object; and 2) Encode your labels (y) as integers starting with 0, i.e. 0, 1, 2, ..., [num_class - 1].\n",
      "  warnings.warn(label_encoder_deprecation_msg, UserWarning)\n"
     ]
    },
    {
     "name": "stdout",
     "output_type": "stream",
     "text": [
      "[CV 2/5; 7/480] END learning_rate=0.1, max_depth=1, min_child_weight=3, n_estimators=50;, score=0.589 total time=   4.7s\n",
      "[CV 5/5; 7/480] START learning_rate=0.1, max_depth=1, min_child_weight=3, n_estimators=50\n",
      "[CV 3/5; 7/480] END learning_rate=0.1, max_depth=1, min_child_weight=3, n_estimators=50;, score=0.597 total time=   4.7s\n",
      "[CV 1/5; 8/480] START learning_rate=0.1, max_depth=1, min_child_weight=3, n_estimators=200\n",
      "[01:50:18] WARNING: /Users/runner/miniforge3/conda-bld/xgboost-split_1637426411619/work/src/learner.cc:1115: Starting in XGBoost 1.3.0, the default evaluation metric used with the objective 'multi:softprob' was changed from 'merror' to 'mlogloss'. Explicitly set eval_metric if you'd like to restore the old behavior.\n"
     ]
    },
    {
     "name": "stderr",
     "output_type": "stream",
     "text": [
      "/opt/homebrew/Caskroom/miniforge/base/envs/condaenv/lib/python3.8/site-packages/xgboost/sklearn.py:1224: UserWarning: The use of label encoder in XGBClassifier is deprecated and will be removed in a future release. To remove this warning, do the following: 1) Pass option use_label_encoder=False when constructing XGBClassifier object; and 2) Encode your labels (y) as integers starting with 0, i.e. 0, 1, 2, ..., [num_class - 1].\n",
      "  warnings.warn(label_encoder_deprecation_msg, UserWarning)\n",
      "/opt/homebrew/Caskroom/miniforge/base/envs/condaenv/lib/python3.8/site-packages/xgboost/sklearn.py:1224: UserWarning: The use of label encoder in XGBClassifier is deprecated and will be removed in a future release. To remove this warning, do the following: 1) Pass option use_label_encoder=False when constructing XGBClassifier object; and 2) Encode your labels (y) as integers starting with 0, i.e. 0, 1, 2, ..., [num_class - 1].\n",
      "  warnings.warn(label_encoder_deprecation_msg, UserWarning)\n"
     ]
    },
    {
     "name": "stdout",
     "output_type": "stream",
     "text": [
      "[01:50:18] WARNING: /Users/runner/miniforge3/conda-bld/xgboost-split_1637426411619/work/src/learner.cc:1115: Starting in XGBoost 1.3.0, the default evaluation metric used with the objective 'multi:softprob' was changed from 'merror' to 'mlogloss'. Explicitly set eval_metric if you'd like to restore the old behavior.\n",
      "[CV 4/5; 7/480] END learning_rate=0.1, max_depth=1, min_child_weight=3, n_estimators=50;, score=0.592 total time=   4.5s\n",
      "[CV 2/5; 8/480] START learning_rate=0.1, max_depth=1, min_child_weight=3, n_estimators=200\n",
      "[01:50:22] WARNING: /Users/runner/miniforge3/conda-bld/xgboost-split_1637426411619/work/src/learner.cc:1115: Starting in XGBoost 1.3.0, the default evaluation metric used with the objective 'multi:softprob' was changed from 'merror' to 'mlogloss'. Explicitly set eval_metric if you'd like to restore the old behavior.\n"
     ]
    },
    {
     "name": "stderr",
     "output_type": "stream",
     "text": [
      "/opt/homebrew/Caskroom/miniforge/base/envs/condaenv/lib/python3.8/site-packages/xgboost/sklearn.py:1224: UserWarning: The use of label encoder in XGBClassifier is deprecated and will be removed in a future release. To remove this warning, do the following: 1) Pass option use_label_encoder=False when constructing XGBClassifier object; and 2) Encode your labels (y) as integers starting with 0, i.e. 0, 1, 2, ..., [num_class - 1].\n",
      "  warnings.warn(label_encoder_deprecation_msg, UserWarning)\n"
     ]
    },
    {
     "name": "stdout",
     "output_type": "stream",
     "text": [
      "[CV 1/5; 4/480] END learning_rate=0.1, max_depth=1, min_child_weight=1, n_estimators=200;, score=0.620 total time=  17.8s\n",
      "[CV 3/5; 8/480] START learning_rate=0.1, max_depth=1, min_child_weight=3, n_estimators=200\n",
      "[01:50:22] WARNING: /Users/runner/miniforge3/conda-bld/xgboost-split_1637426411619/work/src/learner.cc:1115: Starting in XGBoost 1.3.0, the default evaluation metric used with the objective 'multi:softprob' was changed from 'merror' to 'mlogloss'. Explicitly set eval_metric if you'd like to restore the old behavior.\n"
     ]
    },
    {
     "name": "stderr",
     "output_type": "stream",
     "text": [
      "/opt/homebrew/Caskroom/miniforge/base/envs/condaenv/lib/python3.8/site-packages/xgboost/sklearn.py:1224: UserWarning: The use of label encoder in XGBClassifier is deprecated and will be removed in a future release. To remove this warning, do the following: 1) Pass option use_label_encoder=False when constructing XGBClassifier object; and 2) Encode your labels (y) as integers starting with 0, i.e. 0, 1, 2, ..., [num_class - 1].\n",
      "  warnings.warn(label_encoder_deprecation_msg, UserWarning)\n"
     ]
    },
    {
     "name": "stdout",
     "output_type": "stream",
     "text": [
      "[CV 5/5; 7/480] END learning_rate=0.1, max_depth=1, min_child_weight=3, n_estimators=50;, score=0.597 total time=   4.5s\n",
      "[CV 4/5; 8/480] START learning_rate=0.1, max_depth=1, min_child_weight=3, n_estimators=200\n",
      "[01:50:23] WARNING: /Users/runner/miniforge3/conda-bld/xgboost-split_1637426411619/work/src/learner.cc:1115: Starting in XGBoost 1.3.0, the default evaluation metric used with the objective 'multi:softprob' was changed from 'merror' to 'mlogloss'. Explicitly set eval_metric if you'd like to restore the old behavior.\n"
     ]
    },
    {
     "name": "stderr",
     "output_type": "stream",
     "text": [
      "/opt/homebrew/Caskroom/miniforge/base/envs/condaenv/lib/python3.8/site-packages/xgboost/sklearn.py:1224: UserWarning: The use of label encoder in XGBClassifier is deprecated and will be removed in a future release. To remove this warning, do the following: 1) Pass option use_label_encoder=False when constructing XGBClassifier object; and 2) Encode your labels (y) as integers starting with 0, i.e. 0, 1, 2, ..., [num_class - 1].\n",
      "  warnings.warn(label_encoder_deprecation_msg, UserWarning)\n"
     ]
    },
    {
     "name": "stdout",
     "output_type": "stream",
     "text": [
      "[CV 3/5; 4/480] END learning_rate=0.1, max_depth=1, min_child_weight=1, n_estimators=200;, score=0.635 total time=  17.9s\n",
      "[CV 2/5; 4/480] END learning_rate=0.1, max_depth=1, min_child_weight=1, n_estimators=200;, score=0.620 total time=  17.9s\n",
      "[CV 5/5; 8/480] START learning_rate=0.1, max_depth=1, min_child_weight=3, n_estimators=200\n",
      "[CV 1/5; 9/480] START learning_rate=0.1, max_depth=1, min_child_weight=6, n_estimators=10\n",
      "[01:50:23] WARNING: /Users/runner/miniforge3/conda-bld/xgboost-split_1637426411619/work/src/learner.cc:1115: Starting in XGBoost 1.3.0, the default evaluation metric used with the objective 'multi:softprob' was changed from 'merror' to 'mlogloss'. Explicitly set eval_metric if you'd like to restore the old behavior.\n",
      "[01:50:23] WARNING: /Users/runner/miniforge3/conda-bld/xgboost-split_1637426411619/work/src/learner.cc:1115: Starting in XGBoost 1.3.0, the default evaluation metric used with the objective 'multi:softprob' was changed from 'merror' to 'mlogloss'. Explicitly set eval_metric if you'd like to restore the old behavior.\n"
     ]
    },
    {
     "name": "stderr",
     "output_type": "stream",
     "text": [
      "/opt/homebrew/Caskroom/miniforge/base/envs/condaenv/lib/python3.8/site-packages/xgboost/sklearn.py:1224: UserWarning: The use of label encoder in XGBClassifier is deprecated and will be removed in a future release. To remove this warning, do the following: 1) Pass option use_label_encoder=False when constructing XGBClassifier object; and 2) Encode your labels (y) as integers starting with 0, i.e. 0, 1, 2, ..., [num_class - 1].\n",
      "  warnings.warn(label_encoder_deprecation_msg, UserWarning)\n",
      "/opt/homebrew/Caskroom/miniforge/base/envs/condaenv/lib/python3.8/site-packages/xgboost/sklearn.py:1224: UserWarning: The use of label encoder in XGBClassifier is deprecated and will be removed in a future release. To remove this warning, do the following: 1) Pass option use_label_encoder=False when constructing XGBClassifier object; and 2) Encode your labels (y) as integers starting with 0, i.e. 0, 1, 2, ..., [num_class - 1].\n",
      "  warnings.warn(label_encoder_deprecation_msg, UserWarning)\n"
     ]
    },
    {
     "name": "stdout",
     "output_type": "stream",
     "text": [
      "[CV 1/5; 9/480] END learning_rate=0.1, max_depth=1, min_child_weight=6, n_estimators=10;, score=0.550 total time=   0.9s\n",
      "[CV 2/5; 9/480] START learning_rate=0.1, max_depth=1, min_child_weight=6, n_estimators=10\n",
      "[01:50:24] WARNING: /Users/runner/miniforge3/conda-bld/xgboost-split_1637426411619/work/src/learner.cc:1115: Starting in XGBoost 1.3.0, the default evaluation metric used with the objective 'multi:softprob' was changed from 'merror' to 'mlogloss'. Explicitly set eval_metric if you'd like to restore the old behavior.\n"
     ]
    },
    {
     "name": "stderr",
     "output_type": "stream",
     "text": [
      "/opt/homebrew/Caskroom/miniforge/base/envs/condaenv/lib/python3.8/site-packages/xgboost/sklearn.py:1224: UserWarning: The use of label encoder in XGBClassifier is deprecated and will be removed in a future release. To remove this warning, do the following: 1) Pass option use_label_encoder=False when constructing XGBClassifier object; and 2) Encode your labels (y) as integers starting with 0, i.e. 0, 1, 2, ..., [num_class - 1].\n",
      "  warnings.warn(label_encoder_deprecation_msg, UserWarning)\n"
     ]
    },
    {
     "name": "stdout",
     "output_type": "stream",
     "text": [
      "[CV 2/5; 9/480] END learning_rate=0.1, max_depth=1, min_child_weight=6, n_estimators=10;, score=0.533 total time=   1.0s\n",
      "[CV 3/5; 9/480] START learning_rate=0.1, max_depth=1, min_child_weight=6, n_estimators=10\n",
      "[01:50:25] WARNING: /Users/runner/miniforge3/conda-bld/xgboost-split_1637426411619/work/src/learner.cc:1115: Starting in XGBoost 1.3.0, the default evaluation metric used with the objective 'multi:softprob' was changed from 'merror' to 'mlogloss'. Explicitly set eval_metric if you'd like to restore the old behavior.\n"
     ]
    },
    {
     "name": "stderr",
     "output_type": "stream",
     "text": [
      "/opt/homebrew/Caskroom/miniforge/base/envs/condaenv/lib/python3.8/site-packages/xgboost/sklearn.py:1224: UserWarning: The use of label encoder in XGBClassifier is deprecated and will be removed in a future release. To remove this warning, do the following: 1) Pass option use_label_encoder=False when constructing XGBClassifier object; and 2) Encode your labels (y) as integers starting with 0, i.e. 0, 1, 2, ..., [num_class - 1].\n",
      "  warnings.warn(label_encoder_deprecation_msg, UserWarning)\n"
     ]
    },
    {
     "name": "stdout",
     "output_type": "stream",
     "text": [
      "[CV 4/5; 4/480] END learning_rate=0.1, max_depth=1, min_child_weight=1, n_estimators=200;, score=0.618 total time=  17.9s\n",
      "[CV 5/5; 4/480] END learning_rate=0.1, max_depth=1, min_child_weight=1, n_estimators=200;, score=0.621 total time=  17.9s\n",
      "[CV 4/5; 9/480] START learning_rate=0.1, max_depth=1, min_child_weight=6, n_estimators=10\n",
      "[CV 5/5; 9/480] START learning_rate=0.1, max_depth=1, min_child_weight=6, n_estimators=10\n",
      "[01:50:26] WARNING: /Users/runner/miniforge3/conda-bld/xgboost-split_1637426411619/work/src/learner.cc:1115: Starting in XGBoost 1.3.0, the default evaluation metric used with the objective 'multi:softprob' was changed from 'merror' to 'mlogloss'. Explicitly set eval_metric if you'd like to restore the old behavior.\n",
      "[01:50:26] WARNING: /Users/runner/miniforge3/conda-bld/xgboost-split_1637426411619/work/src/learner.cc:1115: Starting in XGBoost 1.3.0, the default evaluation metric used with the objective 'multi:softprob' was changed from 'merror' to 'mlogloss'. Explicitly set eval_metric if you'd like to restore the old behavior.\n"
     ]
    },
    {
     "name": "stderr",
     "output_type": "stream",
     "text": [
      "/opt/homebrew/Caskroom/miniforge/base/envs/condaenv/lib/python3.8/site-packages/xgboost/sklearn.py:1224: UserWarning: The use of label encoder in XGBClassifier is deprecated and will be removed in a future release. To remove this warning, do the following: 1) Pass option use_label_encoder=False when constructing XGBClassifier object; and 2) Encode your labels (y) as integers starting with 0, i.e. 0, 1, 2, ..., [num_class - 1].\n",
      "  warnings.warn(label_encoder_deprecation_msg, UserWarning)\n",
      "/opt/homebrew/Caskroom/miniforge/base/envs/condaenv/lib/python3.8/site-packages/xgboost/sklearn.py:1224: UserWarning: The use of label encoder in XGBClassifier is deprecated and will be removed in a future release. To remove this warning, do the following: 1) Pass option use_label_encoder=False when constructing XGBClassifier object; and 2) Encode your labels (y) as integers starting with 0, i.e. 0, 1, 2, ..., [num_class - 1].\n",
      "  warnings.warn(label_encoder_deprecation_msg, UserWarning)\n"
     ]
    },
    {
     "name": "stdout",
     "output_type": "stream",
     "text": [
      "[CV 3/5; 9/480] END learning_rate=0.1, max_depth=1, min_child_weight=6, n_estimators=10;, score=0.562 total time=   0.9s\n",
      "[CV 1/5; 10/480] START learning_rate=0.1, max_depth=1, min_child_weight=6, n_estimators=20\n",
      "[01:50:26] WARNING: /Users/runner/miniforge3/conda-bld/xgboost-split_1637426411619/work/src/learner.cc:1115: Starting in XGBoost 1.3.0, the default evaluation metric used with the objective 'multi:softprob' was changed from 'merror' to 'mlogloss'. Explicitly set eval_metric if you'd like to restore the old behavior.\n"
     ]
    },
    {
     "name": "stderr",
     "output_type": "stream",
     "text": [
      "/opt/homebrew/Caskroom/miniforge/base/envs/condaenv/lib/python3.8/site-packages/xgboost/sklearn.py:1224: UserWarning: The use of label encoder in XGBClassifier is deprecated and will be removed in a future release. To remove this warning, do the following: 1) Pass option use_label_encoder=False when constructing XGBClassifier object; and 2) Encode your labels (y) as integers starting with 0, i.e. 0, 1, 2, ..., [num_class - 1].\n",
      "  warnings.warn(label_encoder_deprecation_msg, UserWarning)\n"
     ]
    },
    {
     "name": "stdout",
     "output_type": "stream",
     "text": [
      "[CV 4/5; 9/480] END learning_rate=0.1, max_depth=1, min_child_weight=6, n_estimators=10;, score=0.569 total time=   0.9s\n",
      "[CV 2/5; 10/480] START learning_rate=0.1, max_depth=1, min_child_weight=6, n_estimators=20\n",
      "[CV 5/5; 9/480] END learning_rate=0.1, max_depth=1, min_child_weight=6, n_estimators=10;, score=0.546 total time=   0.9s\n",
      "[CV 3/5; 10/480] START learning_rate=0.1, max_depth=1, min_child_weight=6, n_estimators=20\n",
      "[01:50:27] WARNING: /Users/runner/miniforge3/conda-bld/xgboost-split_1637426411619/work/src/learner.cc:1115: Starting in XGBoost 1.3.0, the default evaluation metric used with the objective 'multi:softprob' was changed from 'merror' to 'mlogloss'. Explicitly set eval_metric if you'd like to restore the old behavior.\n",
      "[01:50:27] WARNING: /Users/runner/miniforge3/conda-bld/xgboost-split_1637426411619/work/src/learner.cc:1115: Starting in XGBoost 1.3.0, the default evaluation metric used with the objective 'multi:softprob' was changed from 'merror' to 'mlogloss'. Explicitly set eval_metric if you'd like to restore the old behavior.\n"
     ]
    },
    {
     "name": "stderr",
     "output_type": "stream",
     "text": [
      "/opt/homebrew/Caskroom/miniforge/base/envs/condaenv/lib/python3.8/site-packages/xgboost/sklearn.py:1224: UserWarning: The use of label encoder in XGBClassifier is deprecated and will be removed in a future release. To remove this warning, do the following: 1) Pass option use_label_encoder=False when constructing XGBClassifier object; and 2) Encode your labels (y) as integers starting with 0, i.e. 0, 1, 2, ..., [num_class - 1].\n",
      "  warnings.warn(label_encoder_deprecation_msg, UserWarning)\n",
      "/opt/homebrew/Caskroom/miniforge/base/envs/condaenv/lib/python3.8/site-packages/xgboost/sklearn.py:1224: UserWarning: The use of label encoder in XGBClassifier is deprecated and will be removed in a future release. To remove this warning, do the following: 1) Pass option use_label_encoder=False when constructing XGBClassifier object; and 2) Encode your labels (y) as integers starting with 0, i.e. 0, 1, 2, ..., [num_class - 1].\n",
      "  warnings.warn(label_encoder_deprecation_msg, UserWarning)\n"
     ]
    },
    {
     "name": "stdout",
     "output_type": "stream",
     "text": [
      "[CV 1/5; 10/480] END learning_rate=0.1, max_depth=1, min_child_weight=6, n_estimators=20;, score=0.570 total time=   1.7s\n",
      "[CV 4/5; 10/480] START learning_rate=0.1, max_depth=1, min_child_weight=6, n_estimators=20\n",
      "[01:50:28] WARNING: /Users/runner/miniforge3/conda-bld/xgboost-split_1637426411619/work/src/learner.cc:1115: Starting in XGBoost 1.3.0, the default evaluation metric used with the objective 'multi:softprob' was changed from 'merror' to 'mlogloss'. Explicitly set eval_metric if you'd like to restore the old behavior.\n"
     ]
    },
    {
     "name": "stderr",
     "output_type": "stream",
     "text": [
      "/opt/homebrew/Caskroom/miniforge/base/envs/condaenv/lib/python3.8/site-packages/xgboost/sklearn.py:1224: UserWarning: The use of label encoder in XGBClassifier is deprecated and will be removed in a future release. To remove this warning, do the following: 1) Pass option use_label_encoder=False when constructing XGBClassifier object; and 2) Encode your labels (y) as integers starting with 0, i.e. 0, 1, 2, ..., [num_class - 1].\n",
      "  warnings.warn(label_encoder_deprecation_msg, UserWarning)\n"
     ]
    },
    {
     "name": "stdout",
     "output_type": "stream",
     "text": [
      "[CV 2/5; 10/480] END learning_rate=0.1, max_depth=1, min_child_weight=6, n_estimators=20;, score=0.569 total time=   1.7s\n",
      "[CV 3/5; 10/480] END learning_rate=0.1, max_depth=1, min_child_weight=6, n_estimators=20;, score=0.585 total time=   1.7s\n",
      "[CV 5/5; 10/480] START learning_rate=0.1, max_depth=1, min_child_weight=6, n_estimators=20\n",
      "[CV 1/5; 11/480] START learning_rate=0.1, max_depth=1, min_child_weight=6, n_estimators=50\n",
      "[01:50:28] WARNING: /Users/runner/miniforge3/conda-bld/xgboost-split_1637426411619/work/src/learner.cc:1115: Starting in XGBoost 1.3.0, the default evaluation metric used with the objective 'multi:softprob' was changed from 'merror' to 'mlogloss'. Explicitly set eval_metric if you'd like to restore the old behavior.\n",
      "[01:50:29] WARNING: /Users/runner/miniforge3/conda-bld/xgboost-split_1637426411619/work/src/learner.cc:1115: Starting in XGBoost 1.3.0, the default evaluation metric used with the objective 'multi:softprob' was changed from 'merror' to 'mlogloss'. Explicitly set eval_metric if you'd like to restore the old behavior.\n"
     ]
    },
    {
     "name": "stderr",
     "output_type": "stream",
     "text": [
      "/opt/homebrew/Caskroom/miniforge/base/envs/condaenv/lib/python3.8/site-packages/xgboost/sklearn.py:1224: UserWarning: The use of label encoder in XGBClassifier is deprecated and will be removed in a future release. To remove this warning, do the following: 1) Pass option use_label_encoder=False when constructing XGBClassifier object; and 2) Encode your labels (y) as integers starting with 0, i.e. 0, 1, 2, ..., [num_class - 1].\n",
      "  warnings.warn(label_encoder_deprecation_msg, UserWarning)\n",
      "/opt/homebrew/Caskroom/miniforge/base/envs/condaenv/lib/python3.8/site-packages/xgboost/sklearn.py:1224: UserWarning: The use of label encoder in XGBClassifier is deprecated and will be removed in a future release. To remove this warning, do the following: 1) Pass option use_label_encoder=False when constructing XGBClassifier object; and 2) Encode your labels (y) as integers starting with 0, i.e. 0, 1, 2, ..., [num_class - 1].\n",
      "  warnings.warn(label_encoder_deprecation_msg, UserWarning)\n"
     ]
    },
    {
     "name": "stdout",
     "output_type": "stream",
     "text": [
      "[CV 4/5; 10/480] END learning_rate=0.1, max_depth=1, min_child_weight=6, n_estimators=20;, score=0.575 total time=   1.7s\n",
      "[CV 2/5; 11/480] START learning_rate=0.1, max_depth=1, min_child_weight=6, n_estimators=50\n",
      "[01:50:30] WARNING: /Users/runner/miniforge3/conda-bld/xgboost-split_1637426411619/work/src/learner.cc:1115: Starting in XGBoost 1.3.0, the default evaluation metric used with the objective 'multi:softprob' was changed from 'merror' to 'mlogloss'. Explicitly set eval_metric if you'd like to restore the old behavior.\n"
     ]
    },
    {
     "name": "stderr",
     "output_type": "stream",
     "text": [
      "/opt/homebrew/Caskroom/miniforge/base/envs/condaenv/lib/python3.8/site-packages/xgboost/sklearn.py:1224: UserWarning: The use of label encoder in XGBClassifier is deprecated and will be removed in a future release. To remove this warning, do the following: 1) Pass option use_label_encoder=False when constructing XGBClassifier object; and 2) Encode your labels (y) as integers starting with 0, i.e. 0, 1, 2, ..., [num_class - 1].\n",
      "  warnings.warn(label_encoder_deprecation_msg, UserWarning)\n"
     ]
    },
    {
     "name": "stdout",
     "output_type": "stream",
     "text": [
      "[CV 5/5; 10/480] END learning_rate=0.1, max_depth=1, min_child_weight=6, n_estimators=20;, score=0.579 total time=   1.7s\n",
      "[CV 3/5; 11/480] START learning_rate=0.1, max_depth=1, min_child_weight=6, n_estimators=50\n",
      "[01:50:30] WARNING: /Users/runner/miniforge3/conda-bld/xgboost-split_1637426411619/work/src/learner.cc:1115: Starting in XGBoost 1.3.0, the default evaluation metric used with the objective 'multi:softprob' was changed from 'merror' to 'mlogloss'. Explicitly set eval_metric if you'd like to restore the old behavior.\n"
     ]
    },
    {
     "name": "stderr",
     "output_type": "stream",
     "text": [
      "/opt/homebrew/Caskroom/miniforge/base/envs/condaenv/lib/python3.8/site-packages/xgboost/sklearn.py:1224: UserWarning: The use of label encoder in XGBClassifier is deprecated and will be removed in a future release. To remove this warning, do the following: 1) Pass option use_label_encoder=False when constructing XGBClassifier object; and 2) Encode your labels (y) as integers starting with 0, i.e. 0, 1, 2, ..., [num_class - 1].\n",
      "  warnings.warn(label_encoder_deprecation_msg, UserWarning)\n"
     ]
    },
    {
     "name": "stdout",
     "output_type": "stream",
     "text": [
      "[CV 1/5; 11/480] END learning_rate=0.1, max_depth=1, min_child_weight=6, n_estimators=50;, score=0.589 total time=   4.2s\n",
      "[CV 4/5; 11/480] START learning_rate=0.1, max_depth=1, min_child_weight=6, n_estimators=50\n",
      "[01:50:33] WARNING: /Users/runner/miniforge3/conda-bld/xgboost-split_1637426411619/work/src/learner.cc:1115: Starting in XGBoost 1.3.0, the default evaluation metric used with the objective 'multi:softprob' was changed from 'merror' to 'mlogloss'. Explicitly set eval_metric if you'd like to restore the old behavior.\n"
     ]
    },
    {
     "name": "stderr",
     "output_type": "stream",
     "text": [
      "/opt/homebrew/Caskroom/miniforge/base/envs/condaenv/lib/python3.8/site-packages/xgboost/sklearn.py:1224: UserWarning: The use of label encoder in XGBClassifier is deprecated and will be removed in a future release. To remove this warning, do the following: 1) Pass option use_label_encoder=False when constructing XGBClassifier object; and 2) Encode your labels (y) as integers starting with 0, i.e. 0, 1, 2, ..., [num_class - 1].\n",
      "  warnings.warn(label_encoder_deprecation_msg, UserWarning)\n"
     ]
    },
    {
     "name": "stdout",
     "output_type": "stream",
     "text": [
      "[CV 2/5; 11/480] END learning_rate=0.1, max_depth=1, min_child_weight=6, n_estimators=50;, score=0.589 total time=   4.2s\n",
      "[CV 5/5; 11/480] START learning_rate=0.1, max_depth=1, min_child_weight=6, n_estimators=50\n",
      "[01:50:34] WARNING: /Users/runner/miniforge3/conda-bld/xgboost-split_1637426411619/work/src/learner.cc:1115: Starting in XGBoost 1.3.0, the default evaluation metric used with the objective 'multi:softprob' was changed from 'merror' to 'mlogloss'. Explicitly set eval_metric if you'd like to restore the old behavior.\n"
     ]
    },
    {
     "name": "stderr",
     "output_type": "stream",
     "text": [
      "/opt/homebrew/Caskroom/miniforge/base/envs/condaenv/lib/python3.8/site-packages/xgboost/sklearn.py:1224: UserWarning: The use of label encoder in XGBClassifier is deprecated and will be removed in a future release. To remove this warning, do the following: 1) Pass option use_label_encoder=False when constructing XGBClassifier object; and 2) Encode your labels (y) as integers starting with 0, i.e. 0, 1, 2, ..., [num_class - 1].\n",
      "  warnings.warn(label_encoder_deprecation_msg, UserWarning)\n"
     ]
    },
    {
     "name": "stdout",
     "output_type": "stream",
     "text": [
      "[CV 3/5; 11/480] END learning_rate=0.1, max_depth=1, min_child_weight=6, n_estimators=50;, score=0.597 total time=   4.2s\n",
      "[CV 1/5; 12/480] START learning_rate=0.1, max_depth=1, min_child_weight=6, n_estimators=200\n",
      "[01:50:34] WARNING: /Users/runner/miniforge3/conda-bld/xgboost-split_1637426411619/work/src/learner.cc:1115: Starting in XGBoost 1.3.0, the default evaluation metric used with the objective 'multi:softprob' was changed from 'merror' to 'mlogloss'. Explicitly set eval_metric if you'd like to restore the old behavior.\n"
     ]
    },
    {
     "name": "stderr",
     "output_type": "stream",
     "text": [
      "/opt/homebrew/Caskroom/miniforge/base/envs/condaenv/lib/python3.8/site-packages/xgboost/sklearn.py:1224: UserWarning: The use of label encoder in XGBClassifier is deprecated and will be removed in a future release. To remove this warning, do the following: 1) Pass option use_label_encoder=False when constructing XGBClassifier object; and 2) Encode your labels (y) as integers starting with 0, i.e. 0, 1, 2, ..., [num_class - 1].\n",
      "  warnings.warn(label_encoder_deprecation_msg, UserWarning)\n"
     ]
    },
    {
     "name": "stdout",
     "output_type": "stream",
     "text": [
      "[CV 2/5; 12/480] START learning_rate=0.1, max_depth=1, min_child_weight=6, n_estimators=200\n",
      "[CV 3/5; 12/480] START learning_rate=0.1, max_depth=1, min_child_weight=6, n_estimators=200\n",
      "[CV 4/5; 12/480] START learning_rate=0.1, max_depth=1, min_child_weight=6, n_estimators=200\n",
      "[CV 5/5; 12/480] START learning_rate=0.1, max_depth=1, min_child_weight=6, n_estimators=200\n",
      "[CV 1/5; 13/480] START learning_rate=0.1, max_depth=2, min_child_weight=1, n_estimators=10\n",
      "[CV 2/5; 13/480] START learning_rate=0.1, max_depth=2, min_child_weight=1, n_estimators=10\n",
      "[CV 3/5; 13/480] START learning_rate=0.1, max_depth=2, min_child_weight=1, n_estimators=10\n",
      "[01:50:35] WARNING: /Users/runner/miniforge3/conda-bld/xgboost-split_1637426411619/work/src/learner.cc:1115: Starting in XGBoost 1.3.0, the default evaluation metric used with the objective 'multi:softprob' was changed from 'merror' to 'mlogloss'. Explicitly set eval_metric if you'd like to restore the old behavior.\n"
     ]
    },
    {
     "name": "stderr",
     "output_type": "stream",
     "text": [
      "/opt/homebrew/Caskroom/miniforge/base/envs/condaenv/lib/python3.8/site-packages/xgboost/sklearn.py:1224: UserWarning: The use of label encoder in XGBClassifier is deprecated and will be removed in a future release. To remove this warning, do the following: 1) Pass option use_label_encoder=False when constructing XGBClassifier object; and 2) Encode your labels (y) as integers starting with 0, i.e. 0, 1, 2, ..., [num_class - 1].\n",
      "  warnings.warn(label_encoder_deprecation_msg, UserWarning)\n",
      "/opt/homebrew/Caskroom/miniforge/base/envs/condaenv/lib/python3.8/site-packages/xgboost/sklearn.py:1224: UserWarning: The use of label encoder in XGBClassifier is deprecated and will be removed in a future release. To remove this warning, do the following: 1) Pass option use_label_encoder=False when constructing XGBClassifier object; and 2) Encode your labels (y) as integers starting with 0, i.e. 0, 1, 2, ..., [num_class - 1].\n",
      "  warnings.warn(label_encoder_deprecation_msg, UserWarning)\n",
      "/opt/homebrew/Caskroom/miniforge/base/envs/condaenv/lib/python3.8/site-packages/xgboost/sklearn.py:1224: UserWarning: The use of label encoder in XGBClassifier is deprecated and will be removed in a future release. To remove this warning, do the following: 1) Pass option use_label_encoder=False when constructing XGBClassifier object; and 2) Encode your labels (y) as integers starting with 0, i.e. 0, 1, 2, ..., [num_class - 1].\n",
      "  warnings.warn(label_encoder_deprecation_msg, UserWarning)\n",
      "/opt/homebrew/Caskroom/miniforge/base/envs/condaenv/lib/python3.8/site-packages/xgboost/sklearn.py:1224: UserWarning: The use of label encoder in XGBClassifier is deprecated and will be removed in a future release. To remove this warning, do the following: 1) Pass option use_label_encoder=False when constructing XGBClassifier object; and 2) Encode your labels (y) as integers starting with 0, i.e. 0, 1, 2, ..., [num_class - 1].\n",
      "  warnings.warn(label_encoder_deprecation_msg, UserWarning)\n",
      "/opt/homebrew/Caskroom/miniforge/base/envs/condaenv/lib/python3.8/site-packages/xgboost/sklearn.py:1224: UserWarning: The use of label encoder in XGBClassifier is deprecated and will be removed in a future release. To remove this warning, do the following: 1) Pass option use_label_encoder=False when constructing XGBClassifier object; and 2) Encode your labels (y) as integers starting with 0, i.e. 0, 1, 2, ..., [num_class - 1].\n",
      "  warnings.warn(label_encoder_deprecation_msg, UserWarning)\n",
      "/opt/homebrew/Caskroom/miniforge/base/envs/condaenv/lib/python3.8/site-packages/xgboost/sklearn.py:1224: UserWarning: The use of label encoder in XGBClassifier is deprecated and will be removed in a future release. To remove this warning, do the following: 1) Pass option use_label_encoder=False when constructing XGBClassifier object; and 2) Encode your labels (y) as integers starting with 0, i.e. 0, 1, 2, ..., [num_class - 1].\n",
      "  warnings.warn(label_encoder_deprecation_msg, UserWarning)\n",
      "/opt/homebrew/Caskroom/miniforge/base/envs/condaenv/lib/python3.8/site-packages/xgboost/sklearn.py:1224: UserWarning: The use of label encoder in XGBClassifier is deprecated and will be removed in a future release. To remove this warning, do the following: 1) Pass option use_label_encoder=False when constructing XGBClassifier object; and 2) Encode your labels (y) as integers starting with 0, i.e. 0, 1, 2, ..., [num_class - 1].\n",
      "  warnings.warn(label_encoder_deprecation_msg, UserWarning)\n"
     ]
    },
    {
     "ename": "KeyboardInterrupt",
     "evalue": "",
     "output_type": "error",
     "traceback": [
      "\u001b[0;31m---------------------------------------------------------------------------\u001b[0m",
      "\u001b[0;31mKeyboardInterrupt\u001b[0m                         Traceback (most recent call last)",
      "\u001b[0;32m/var/folders/8k/x8y5_vbn54lg70qxbm4bysm40000gn/T/ipykernel_29809/3497987328.py\u001b[0m in \u001b[0;36m<module>\u001b[0;34m\u001b[0m\n\u001b[1;32m      7\u001b[0m grid_search = GridSearchCV(model, param_grid=param_dist, cv = 5, \n\u001b[1;32m      8\u001b[0m                                    verbose=10, n_jobs=-1)\n\u001b[0;32m----> 9\u001b[0;31m \u001b[0mgrid_search\u001b[0m\u001b[0;34m.\u001b[0m\u001b[0mfit\u001b[0m\u001b[0;34m(\u001b[0m\u001b[0mX_train\u001b[0m\u001b[0;34m,\u001b[0m \u001b[0my_train\u001b[0m\u001b[0;34m)\u001b[0m\u001b[0;34m\u001b[0m\u001b[0;34m\u001b[0m\u001b[0m\n\u001b[0m\u001b[1;32m     10\u001b[0m \u001b[0;34m\u001b[0m\u001b[0m\n\u001b[1;32m     11\u001b[0m \u001b[0mgrid_search\u001b[0m\u001b[0;34m.\u001b[0m\u001b[0mbest_estimator_\u001b[0m\u001b[0;34m\u001b[0m\u001b[0;34m\u001b[0m\u001b[0m\n",
      "\u001b[0;32m/opt/homebrew/Caskroom/miniforge/base/envs/condaenv/lib/python3.8/site-packages/sklearn/model_selection/_search.py\u001b[0m in \u001b[0;36mfit\u001b[0;34m(self, X, y, groups, **fit_params)\u001b[0m\n\u001b[1;32m    889\u001b[0m                 \u001b[0;32mreturn\u001b[0m \u001b[0mresults\u001b[0m\u001b[0;34m\u001b[0m\u001b[0;34m\u001b[0m\u001b[0m\n\u001b[1;32m    890\u001b[0m \u001b[0;34m\u001b[0m\u001b[0m\n\u001b[0;32m--> 891\u001b[0;31m             \u001b[0mself\u001b[0m\u001b[0;34m.\u001b[0m\u001b[0m_run_search\u001b[0m\u001b[0;34m(\u001b[0m\u001b[0mevaluate_candidates\u001b[0m\u001b[0;34m)\u001b[0m\u001b[0;34m\u001b[0m\u001b[0;34m\u001b[0m\u001b[0m\n\u001b[0m\u001b[1;32m    892\u001b[0m \u001b[0;34m\u001b[0m\u001b[0m\n\u001b[1;32m    893\u001b[0m             \u001b[0;31m# multimetric is determined here because in the case of a callable\u001b[0m\u001b[0;34m\u001b[0m\u001b[0;34m\u001b[0m\u001b[0;34m\u001b[0m\u001b[0m\n",
      "\u001b[0;32m/opt/homebrew/Caskroom/miniforge/base/envs/condaenv/lib/python3.8/site-packages/sklearn/model_selection/_search.py\u001b[0m in \u001b[0;36m_run_search\u001b[0;34m(self, evaluate_candidates)\u001b[0m\n\u001b[1;32m   1390\u001b[0m     \u001b[0;32mdef\u001b[0m \u001b[0m_run_search\u001b[0m\u001b[0;34m(\u001b[0m\u001b[0mself\u001b[0m\u001b[0;34m,\u001b[0m \u001b[0mevaluate_candidates\u001b[0m\u001b[0;34m)\u001b[0m\u001b[0;34m:\u001b[0m\u001b[0;34m\u001b[0m\u001b[0;34m\u001b[0m\u001b[0m\n\u001b[1;32m   1391\u001b[0m         \u001b[0;34m\"\"\"Search all candidates in param_grid\"\"\"\u001b[0m\u001b[0;34m\u001b[0m\u001b[0;34m\u001b[0m\u001b[0m\n\u001b[0;32m-> 1392\u001b[0;31m         \u001b[0mevaluate_candidates\u001b[0m\u001b[0;34m(\u001b[0m\u001b[0mParameterGrid\u001b[0m\u001b[0;34m(\u001b[0m\u001b[0mself\u001b[0m\u001b[0;34m.\u001b[0m\u001b[0mparam_grid\u001b[0m\u001b[0;34m)\u001b[0m\u001b[0;34m)\u001b[0m\u001b[0;34m\u001b[0m\u001b[0;34m\u001b[0m\u001b[0m\n\u001b[0m\u001b[1;32m   1393\u001b[0m \u001b[0;34m\u001b[0m\u001b[0m\n\u001b[1;32m   1394\u001b[0m \u001b[0;34m\u001b[0m\u001b[0m\n",
      "\u001b[0;32m/opt/homebrew/Caskroom/miniforge/base/envs/condaenv/lib/python3.8/site-packages/sklearn/model_selection/_search.py\u001b[0m in \u001b[0;36mevaluate_candidates\u001b[0;34m(candidate_params, cv, more_results)\u001b[0m\n\u001b[1;32m    836\u001b[0m                     )\n\u001b[1;32m    837\u001b[0m \u001b[0;34m\u001b[0m\u001b[0m\n\u001b[0;32m--> 838\u001b[0;31m                 out = parallel(\n\u001b[0m\u001b[1;32m    839\u001b[0m                     delayed(_fit_and_score)(\n\u001b[1;32m    840\u001b[0m                         \u001b[0mclone\u001b[0m\u001b[0;34m(\u001b[0m\u001b[0mbase_estimator\u001b[0m\u001b[0;34m)\u001b[0m\u001b[0;34m,\u001b[0m\u001b[0;34m\u001b[0m\u001b[0;34m\u001b[0m\u001b[0m\n",
      "\u001b[0;32m/opt/homebrew/Caskroom/miniforge/base/envs/condaenv/lib/python3.8/site-packages/joblib/parallel.py\u001b[0m in \u001b[0;36m__call__\u001b[0;34m(self, iterable)\u001b[0m\n\u001b[1;32m   1052\u001b[0m \u001b[0;34m\u001b[0m\u001b[0m\n\u001b[1;32m   1053\u001b[0m             \u001b[0;32mwith\u001b[0m \u001b[0mself\u001b[0m\u001b[0;34m.\u001b[0m\u001b[0m_backend\u001b[0m\u001b[0;34m.\u001b[0m\u001b[0mretrieval_context\u001b[0m\u001b[0;34m(\u001b[0m\u001b[0;34m)\u001b[0m\u001b[0;34m:\u001b[0m\u001b[0;34m\u001b[0m\u001b[0;34m\u001b[0m\u001b[0m\n\u001b[0;32m-> 1054\u001b[0;31m                 \u001b[0mself\u001b[0m\u001b[0;34m.\u001b[0m\u001b[0mretrieve\u001b[0m\u001b[0;34m(\u001b[0m\u001b[0;34m)\u001b[0m\u001b[0;34m\u001b[0m\u001b[0;34m\u001b[0m\u001b[0m\n\u001b[0m\u001b[1;32m   1055\u001b[0m             \u001b[0;31m# Make sure that we get a last message telling us we are done\u001b[0m\u001b[0;34m\u001b[0m\u001b[0;34m\u001b[0m\u001b[0;34m\u001b[0m\u001b[0m\n\u001b[1;32m   1056\u001b[0m             \u001b[0melapsed_time\u001b[0m \u001b[0;34m=\u001b[0m \u001b[0mtime\u001b[0m\u001b[0;34m.\u001b[0m\u001b[0mtime\u001b[0m\u001b[0;34m(\u001b[0m\u001b[0;34m)\u001b[0m \u001b[0;34m-\u001b[0m \u001b[0mself\u001b[0m\u001b[0;34m.\u001b[0m\u001b[0m_start_time\u001b[0m\u001b[0;34m\u001b[0m\u001b[0;34m\u001b[0m\u001b[0m\n",
      "\u001b[0;32m/opt/homebrew/Caskroom/miniforge/base/envs/condaenv/lib/python3.8/site-packages/joblib/parallel.py\u001b[0m in \u001b[0;36mretrieve\u001b[0;34m(self)\u001b[0m\n\u001b[1;32m    931\u001b[0m             \u001b[0;32mtry\u001b[0m\u001b[0;34m:\u001b[0m\u001b[0;34m\u001b[0m\u001b[0;34m\u001b[0m\u001b[0m\n\u001b[1;32m    932\u001b[0m                 \u001b[0;32mif\u001b[0m \u001b[0mgetattr\u001b[0m\u001b[0;34m(\u001b[0m\u001b[0mself\u001b[0m\u001b[0;34m.\u001b[0m\u001b[0m_backend\u001b[0m\u001b[0;34m,\u001b[0m \u001b[0;34m'supports_timeout'\u001b[0m\u001b[0;34m,\u001b[0m \u001b[0;32mFalse\u001b[0m\u001b[0;34m)\u001b[0m\u001b[0;34m:\u001b[0m\u001b[0;34m\u001b[0m\u001b[0;34m\u001b[0m\u001b[0m\n\u001b[0;32m--> 933\u001b[0;31m                     \u001b[0mself\u001b[0m\u001b[0;34m.\u001b[0m\u001b[0m_output\u001b[0m\u001b[0;34m.\u001b[0m\u001b[0mextend\u001b[0m\u001b[0;34m(\u001b[0m\u001b[0mjob\u001b[0m\u001b[0;34m.\u001b[0m\u001b[0mget\u001b[0m\u001b[0;34m(\u001b[0m\u001b[0mtimeout\u001b[0m\u001b[0;34m=\u001b[0m\u001b[0mself\u001b[0m\u001b[0;34m.\u001b[0m\u001b[0mtimeout\u001b[0m\u001b[0;34m)\u001b[0m\u001b[0;34m)\u001b[0m\u001b[0;34m\u001b[0m\u001b[0;34m\u001b[0m\u001b[0m\n\u001b[0m\u001b[1;32m    934\u001b[0m                 \u001b[0;32melse\u001b[0m\u001b[0;34m:\u001b[0m\u001b[0;34m\u001b[0m\u001b[0;34m\u001b[0m\u001b[0m\n\u001b[1;32m    935\u001b[0m                     \u001b[0mself\u001b[0m\u001b[0;34m.\u001b[0m\u001b[0m_output\u001b[0m\u001b[0;34m.\u001b[0m\u001b[0mextend\u001b[0m\u001b[0;34m(\u001b[0m\u001b[0mjob\u001b[0m\u001b[0;34m.\u001b[0m\u001b[0mget\u001b[0m\u001b[0;34m(\u001b[0m\u001b[0;34m)\u001b[0m\u001b[0;34m)\u001b[0m\u001b[0;34m\u001b[0m\u001b[0;34m\u001b[0m\u001b[0m\n",
      "\u001b[0;32m/opt/homebrew/Caskroom/miniforge/base/envs/condaenv/lib/python3.8/site-packages/joblib/_parallel_backends.py\u001b[0m in \u001b[0;36mwrap_future_result\u001b[0;34m(future, timeout)\u001b[0m\n\u001b[1;32m    540\u001b[0m         AsyncResults.get from multiprocessing.\"\"\"\n\u001b[1;32m    541\u001b[0m         \u001b[0;32mtry\u001b[0m\u001b[0;34m:\u001b[0m\u001b[0;34m\u001b[0m\u001b[0;34m\u001b[0m\u001b[0m\n\u001b[0;32m--> 542\u001b[0;31m             \u001b[0;32mreturn\u001b[0m \u001b[0mfuture\u001b[0m\u001b[0;34m.\u001b[0m\u001b[0mresult\u001b[0m\u001b[0;34m(\u001b[0m\u001b[0mtimeout\u001b[0m\u001b[0;34m=\u001b[0m\u001b[0mtimeout\u001b[0m\u001b[0;34m)\u001b[0m\u001b[0;34m\u001b[0m\u001b[0;34m\u001b[0m\u001b[0m\n\u001b[0m\u001b[1;32m    543\u001b[0m         \u001b[0;32mexcept\u001b[0m \u001b[0mCfTimeoutError\u001b[0m \u001b[0;32mas\u001b[0m \u001b[0me\u001b[0m\u001b[0;34m:\u001b[0m\u001b[0;34m\u001b[0m\u001b[0;34m\u001b[0m\u001b[0m\n\u001b[1;32m    544\u001b[0m             \u001b[0;32mraise\u001b[0m \u001b[0mTimeoutError\u001b[0m \u001b[0;32mfrom\u001b[0m \u001b[0me\u001b[0m\u001b[0;34m\u001b[0m\u001b[0;34m\u001b[0m\u001b[0m\n",
      "\u001b[0;32m/opt/homebrew/Caskroom/miniforge/base/envs/condaenv/lib/python3.8/concurrent/futures/_base.py\u001b[0m in \u001b[0;36mresult\u001b[0;34m(self, timeout)\u001b[0m\n\u001b[1;32m    432\u001b[0m                 \u001b[0;32mreturn\u001b[0m \u001b[0mself\u001b[0m\u001b[0;34m.\u001b[0m\u001b[0m__get_result\u001b[0m\u001b[0;34m(\u001b[0m\u001b[0;34m)\u001b[0m\u001b[0;34m\u001b[0m\u001b[0;34m\u001b[0m\u001b[0m\n\u001b[1;32m    433\u001b[0m \u001b[0;34m\u001b[0m\u001b[0m\n\u001b[0;32m--> 434\u001b[0;31m             \u001b[0mself\u001b[0m\u001b[0;34m.\u001b[0m\u001b[0m_condition\u001b[0m\u001b[0;34m.\u001b[0m\u001b[0mwait\u001b[0m\u001b[0;34m(\u001b[0m\u001b[0mtimeout\u001b[0m\u001b[0;34m)\u001b[0m\u001b[0;34m\u001b[0m\u001b[0;34m\u001b[0m\u001b[0m\n\u001b[0m\u001b[1;32m    435\u001b[0m \u001b[0;34m\u001b[0m\u001b[0m\n\u001b[1;32m    436\u001b[0m             \u001b[0;32mif\u001b[0m \u001b[0mself\u001b[0m\u001b[0;34m.\u001b[0m\u001b[0m_state\u001b[0m \u001b[0;32min\u001b[0m \u001b[0;34m[\u001b[0m\u001b[0mCANCELLED\u001b[0m\u001b[0;34m,\u001b[0m \u001b[0mCANCELLED_AND_NOTIFIED\u001b[0m\u001b[0;34m]\u001b[0m\u001b[0;34m:\u001b[0m\u001b[0;34m\u001b[0m\u001b[0;34m\u001b[0m\u001b[0m\n",
      "\u001b[0;32m/opt/homebrew/Caskroom/miniforge/base/envs/condaenv/lib/python3.8/threading.py\u001b[0m in \u001b[0;36mwait\u001b[0;34m(self, timeout)\u001b[0m\n\u001b[1;32m    300\u001b[0m         \u001b[0;32mtry\u001b[0m\u001b[0;34m:\u001b[0m    \u001b[0;31m# restore state no matter what (e.g., KeyboardInterrupt)\u001b[0m\u001b[0;34m\u001b[0m\u001b[0;34m\u001b[0m\u001b[0m\n\u001b[1;32m    301\u001b[0m             \u001b[0;32mif\u001b[0m \u001b[0mtimeout\u001b[0m \u001b[0;32mis\u001b[0m \u001b[0;32mNone\u001b[0m\u001b[0;34m:\u001b[0m\u001b[0;34m\u001b[0m\u001b[0;34m\u001b[0m\u001b[0m\n\u001b[0;32m--> 302\u001b[0;31m                 \u001b[0mwaiter\u001b[0m\u001b[0;34m.\u001b[0m\u001b[0macquire\u001b[0m\u001b[0;34m(\u001b[0m\u001b[0;34m)\u001b[0m\u001b[0;34m\u001b[0m\u001b[0;34m\u001b[0m\u001b[0m\n\u001b[0m\u001b[1;32m    303\u001b[0m                 \u001b[0mgotit\u001b[0m \u001b[0;34m=\u001b[0m \u001b[0;32mTrue\u001b[0m\u001b[0;34m\u001b[0m\u001b[0;34m\u001b[0m\u001b[0m\n\u001b[1;32m    304\u001b[0m             \u001b[0;32melse\u001b[0m\u001b[0;34m:\u001b[0m\u001b[0;34m\u001b[0m\u001b[0;34m\u001b[0m\u001b[0m\n",
      "\u001b[0;31mKeyboardInterrupt\u001b[0m: "
     ]
    }
   ],
   "source": [
    "model = xgb.XGBClassifier()\n",
    "param_dist = {\"max_depth\": [1,2,3,4,5,6,7,10,30,50],\n",
    "              \"min_child_weight\" : [1,3,6],\n",
    "              \"n_estimators\": [10,20,50,200],\n",
    "              \"learning_rate\": [#0.01,0.02,0.03,0.05 \n",
    "                  0.1,0.16,0.20,0.50],}\n",
    "grid_search = GridSearchCV(model, param_grid=param_dist, cv = 5, \n",
    "                                   verbose=10, n_jobs=-1)\n",
    "grid_search.fit(X_train, y_train)\n",
    "\n",
    "grid_search.best_estimator_\n",
    "\n",
    "model = xgb.XGBClassifier(max_depth=1, min_child_weight=1,  n_estimators=50,\\\n",
    "                          n_jobs=-1 , verbose=1,learning_rate=0.5)\n",
    "model.fit(X_train,y_train)"
   ]
  },
  {
   "cell_type": "code",
   "execution_count": 130,
   "metadata": {},
   "outputs": [
    {
     "data": {
      "text/plain": [
       "{'learning_rate': 0.1,\n",
       " 'max_depth': 5,\n",
       " 'min_child_weight': 6,\n",
       " 'n_estimators': 20}"
      ]
     },
     "execution_count": 130,
     "metadata": {},
     "output_type": "execute_result"
    }
   ],
   "source": [
    "grid_search.best_params_"
   ]
  },
  {
   "cell_type": "code",
   "execution_count": 131,
   "metadata": {},
   "outputs": [
    {
     "data": {
      "text/plain": [
       "XGBClassifier(base_score=0.5, booster='gbtree', colsample_bylevel=1,\n",
       "              colsample_bynode=1, colsample_bytree=1, enable_categorical=False,\n",
       "              gamma=0, gpu_id=-1, importance_type=None,\n",
       "              interaction_constraints='', learning_rate=0.1, max_delta_step=0,\n",
       "              max_depth=5, min_child_weight=6, missing=nan,\n",
       "              monotone_constraints='()', n_estimators=20, n_jobs=8,\n",
       "              num_parallel_tree=1, objective='multi:softprob', predictor='auto',\n",
       "              random_state=0, reg_alpha=0, reg_lambda=1, scale_pos_weight=None,\n",
       "              subsample=1, tree_method='exact', validate_parameters=1,\n",
       "              verbosity=None)"
      ]
     },
     "execution_count": 131,
     "metadata": {},
     "output_type": "execute_result"
    }
   ],
   "source": [
    "grid_search.best_estimator_"
   ]
  },
  {
   "cell_type": "code",
   "execution_count": 137,
   "metadata": {},
   "outputs": [
    {
     "name": "stdout",
     "output_type": "stream",
     "text": [
      "[23:08:03] WARNING: /Users/runner/miniforge3/conda-bld/xgboost-split_1637426411619/work/src/learner.cc:1115: Starting in XGBoost 1.3.0, the default evaluation metric used with the objective 'multi:softprob' was changed from 'merror' to 'mlogloss'. Explicitly set eval_metric if you'd like to restore the old behavior.\n",
      "[[583  55  10   0]\n",
      " [201 116  19   0]\n",
      " [ 13  21  72   0]\n",
      " [  1   6   6  12]]\n",
      "              precision    recall  f1-score   support\n",
      "\n",
      "           0       0.73      0.90      0.81       648\n",
      "           1       0.59      0.35      0.43       336\n",
      "           2       0.67      0.68      0.68       106\n",
      "           3       1.00      0.48      0.65        25\n",
      "\n",
      "    accuracy                           0.70      1115\n",
      "   macro avg       0.75      0.60      0.64      1115\n",
      "weighted avg       0.69      0.70      0.68      1115\n",
      "\n"
     ]
    }
   ],
   "source": [
    "dtrain = xgb.DMatrix(data=X_train, label=y_train)\n",
    "dtest = xgb.DMatrix(data=X_test)\n",
    "params = {\n",
    "    'max_depth': 5,\n",
    "    'objective': 'multi:softmax',  # error evaluation for multiclass training\n",
    "    'num_class': 4,\n",
    "    'learning_rate':0.1,\n",
    "}\n",
    "model=xgb.XGBClassifier(base_score=0.5, booster='gbtree', colsample_bylevel=1,\n",
    "              colsample_bynode=1, colsample_bytree=1, enable_categorical=False,\n",
    "              gamma=0, gpu_id=-1, importance_type=None,\n",
    "              interaction_constraints='', learning_rate=0.1, max_delta_step=0,\n",
    "              max_depth=5, min_child_weight=6,\n",
    "              monotone_constraints='()', n_estimators=20, n_jobs=8,\n",
    "              num_parallel_tree=1, objective='multi:softprob', predictor='auto',\n",
    "              random_state=0, reg_alpha=0, reg_lambda=1, scale_pos_weight=None,\n",
    "              subsample=1, tree_method='exact', validate_parameters=1,\n",
    "              verbosity=None)\n",
    "model.fit(X_train,y_train)\n",
    "pred=model.predict(X_test)\n",
    "# Confusion matrix and classification report\n",
    "print(confusion_matrix(y_test, pred))\n",
    "print(classification_report(y_test, pred))"
   ]
  }
 ],
 "metadata": {
  "interpreter": {
   "hash": "0226b76503bb80e73f0b2107715eb10b6ed0527b24ee5cb786cd257168a241ab"
  },
  "kernelspec": {
   "display_name": "Python 3.8.6 64-bit ('condaenv': conda)",
   "language": "python",
   "name": "python3"
  },
  "language_info": {
   "codemirror_mode": {
    "name": "ipython",
    "version": 3
   },
   "file_extension": ".py",
   "mimetype": "text/x-python",
   "name": "python",
   "nbconvert_exporter": "python",
   "pygments_lexer": "ipython3",
   "version": "3.8.6"
  },
  "orig_nbformat": 4
 },
 "nbformat": 4,
 "nbformat_minor": 2
}
